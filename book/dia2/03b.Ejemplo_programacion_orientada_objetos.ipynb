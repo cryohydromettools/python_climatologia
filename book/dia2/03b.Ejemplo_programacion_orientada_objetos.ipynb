{
 "cells": [
  {
   "cell_type": "markdown",
   "metadata": {},
   "source": [
    "# Programación orientada a objetos (POO) en Python\n",
    "\n",
    "La programación orientada a objetos (POO) es una forma de organizar el código. Así como un algoritmo suele estar asociado a una estructura de datos particular, la programación orientada a objetos \"empaqueta\" los datos junto con los métodos usados para tratarlos.\n",
    "\n",
    "Python también permite la POO, que es un paradigma de programación en la que los datos y las operaciones que pueden realizarse con esos datos se agrupan en unidades lógicas llamadas objetos.\n",
    "\n",
    "Cada uno de esos *objetos* consiste en:\n",
    "\n",
    "* Datos (atributos de los objetos).\n",
    "* Comportamiento (métodos de los objetos: son funciones que actúan sobre los atributos del objeto).\n",
    "\n",
    "Por ejemplo, al manipular una lista:"
   ]
  },
  {
   "cell_type": "code",
   "execution_count": 33,
   "metadata": {},
   "outputs": [
    {
     "data": {
      "text/plain": [
       "[1, 10, 2, 3, 4]"
      ]
     },
     "execution_count": 33,
     "metadata": {},
     "output_type": "execute_result"
    }
   ],
   "source": [
    "nums = [1, 2, 3]    # Lista\n",
    "nums.append(4)      # Esto es un método de la lista\n",
    "nums.insert(1,10)   # Otro método de la lista\n",
    "nums\n",
    "[1, 10, 2, 3, 4]    # Estos son los datos modificados por los métodos"
   ]
  },
  {
   "cell_type": "markdown",
   "metadata": {},
   "source": [
    "# Ejercicio de aplicación usando programación orientada a objetos"
   ]
  },
  {
   "cell_type": "markdown",
   "metadata": {},
   "source": [
    "Estimar el vapor del agua cada **10 m** entre las alturas de 2 a 10000 m. Sabiendo que la temperatura y humedad relativa a 2 m es **23 °C** y **95 %** respectivamente. La temperatura y la humedad relativa decrecen con tasas de **-0.008 °C**  y **-0.01 %** cada metro, respectivamente. \n",
    "\n",
    "<img src='./img/Air-pressure-water.png' width='500' height='400'>\n",
    "\n",
    "Use las siguientes ecuaciones: \n",
    "\n",
    "**El vapor de agua ($Ea$) a una altura z en m (hPa) esta dado por la siguiente ecuación:**\n",
    "\n",
    "$Ea = (rH * Ew) / 100.0$\n",
    "\n",
    "Donde:\n",
    "* $rH$ es la humedad relativa (%).\n",
    "* $Ew$ es la presión de vapor de saturación (hPa).\n",
    "\n",
    "**Usar las siguientes ecuaciones para calcular $Ew$:**\n",
    "```python\n",
    "# Si temperatura es mayor o igual a 273.16 K\n",
    "    Ew = 6.112 * np.exp((17.67*(T-273.16)) / ((T-29.66)))\n",
    "# Si temperatura es menor a 273.16 K\n",
    "    Ew = 6.112 * np.exp((22.46*(T-273.16)) / ((T-0.55)))\n",
    "\n",
    "```\n",
    "Donde:\n",
    "* $T$ es la temperatura (°K)."
   ]
  },
  {
   "cell_type": "code",
   "execution_count": 34,
   "metadata": {},
   "outputs": [],
   "source": [
    "import numpy as np\n",
    "\n",
    "class perfil_temp:\n",
    "    def __init__(self, T, RH, Zint, Ztop, intervalo):\n",
    "        self.T = T\n",
    "        self.RH = RH\n",
    "        self.z1 = Zint\n",
    "        self.z2 = Ztop\n",
    "        self.intervalo = intervalo\n",
    "\n",
    "    def temp_z(self):\n",
    "                \n",
    "        Z_z = np.arange(self.z1, self.z2, self.intervalo)\n",
    "        T_z = (self.T + (Z_z - 2) * -0.008) + 273.16\n",
    "        RH_z = self.RH + (Z_z - 2) * -0.01\n",
    "        RH_z[RH_z < 0] = 0\n",
    "        Ea_z = [] # hPa\n",
    "        for i in range(len(T_z)):\n",
    "            Ti  = T_z[i]\n",
    "            RHi = RH_z[i]\n",
    "            if Ti >= 273.16:\n",
    "            # over water\n",
    "                Ew = 6.112 * np.exp((17.67*(Ti-273.16)) / ((Ti-29.66)))\n",
    "            else:\n",
    "            # over ice\n",
    "                Ew = 6.112 * np.exp((22.46*(Ti-273.16)) / ((Ti-0.55)))\n",
    "\n",
    "            Ea  = (RHi * Ew) / 100.0\n",
    "            Ea_z.append(Ea)\n",
    "\n",
    "        return Ea_z, Z_z"
   ]
  },
  {
   "cell_type": "code",
   "execution_count": 35,
   "metadata": {},
   "outputs": [],
   "source": [
    "Ea_z, Z_z = perfil_temp(24, 95, 2, 10000, 10).temp_z()"
   ]
  },
  {
   "cell_type": "code",
   "execution_count": 36,
   "metadata": {},
   "outputs": [],
   "source": [
    "import matplotlib.pyplot as plt "
   ]
  },
  {
   "cell_type": "code",
   "execution_count": 37,
   "metadata": {},
   "outputs": [
    {
     "data": {
      "text/plain": [
       "[<matplotlib.lines.Line2D at 0x7f2cf6fe5670>]"
      ]
     },
     "execution_count": 37,
     "metadata": {},
     "output_type": "execute_result"
    },
    {
     "data": {
      "image/png": "[encoded data removed]",
      "text/plain": [
       "<Figure size 432x288 with 1 Axes>"
      ]
     },
     "metadata": {
      "needs_background": "light"
     },
     "output_type": "display_data"
    }
   ],
   "source": [
    "plt.plot(Ea_z, Z_z)"
   ]
  },
  {
   "cell_type": "markdown",
   "metadata": {},
   "source": [
    "## Retornar al [índice](./../indice.md)"
   ]
  }
 ],
 "metadata": {
  "kernelspec": {
   "display_name": "Python 3.8.10 64-bit",
   "language": "python",
   "name": "python3"
  },
  "language_info": {
   "codemirror_mode": {
    "name": "ipython",
    "version": 3
   },
   "file_extension": ".py",
   "mimetype": "text/x-python",
   "name": "python",
   "nbconvert_exporter": "python",
   "pygments_lexer": "ipython3",
   "version": "3.8.10"
  },
  "orig_nbformat": 4,
  "vscode": {
   "interpreter": {
    "hash": "916dbcbb3f70747c44a77c7bcd40155683ae19c65e1c03b4aa3499c5328201f1"
   }
  }
 },
 "nbformat": 4,
 "nbformat_minor": 2
}
