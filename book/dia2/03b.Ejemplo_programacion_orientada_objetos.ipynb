{
 "cells": [
  {
   "cell_type": "markdown",
   "metadata": {},
   "source": [
    "# Programación orientada a objetos (POO) en Python\n",
    "\n",
    "La programación orientada a objetos (POO) es una forma de organizar el código. Así como un algoritmo suele estar asociado a una estructura de datos particular, la programación orientada a objetos \"empaqueta\" los datos junto con los métodos usados para tratarlos.\n",
    "\n",
    "Python también permite la POO, que es un paradigma de programación en la que los datos y las operaciones que pueden realizarse con esos datos se agrupan en unidades lógicas llamadas objetos.\n",
    "\n",
    "Cada uno de esos *objetos* consiste en:\n",
    "\n",
    "* Datos (atributos de los objetos).\n",
    "* Comportamiento (métodos de los objetos: son funciones que actúan sobre los atributos del objeto).\n",
    "\n",
    "Por ejemplo, al manipular una lista:"
   ]
  },
  {
   "cell_type": "code",
   "execution_count": 33,
   "metadata": {},
   "outputs": [
    {
     "data": {
      "text/plain": [
       "[1, 10, 2, 3, 4]"
      ]
     },
     "execution_count": 33,
     "metadata": {},
     "output_type": "execute_result"
    }
   ],
   "source": [
    "nums = [1, 2, 3]    # Lista\n",
    "nums.append(4)      # Esto es un método de la lista\n",
    "nums.insert(1,10)   # Otro método de la lista\n",
    "nums\n",
    "[1, 10, 2, 3, 4]    # Estos son los datos modificados por los métodos"
   ]
  },
  {
   "cell_type": "markdown",
   "metadata": {},
   "source": [
    "> En Python todo es un objeto:\n",
    "\n"
   ]
  },
  {
   "cell_type": "code",
   "execution_count": 5,
   "metadata": {},
   "outputs": [
    {
     "name": "stdout",
     "output_type": "stream",
     "text": [
      "<class 'int'>\n",
      "\n",
      "['__abs__', '__add__', '__and__', '__bool__', '__ceil__', '__class__', '__delattr__', '__dir__', '__divmod__', '__doc__', '__eq__', '__float__', '__floor__', '__floordiv__', '__format__', '__ge__', '__getattribute__', '__getnewargs__', '__gt__', '__hash__', '__index__', '__init__', '__init_subclass__', '__int__', '__invert__', '__le__', '__lshift__', '__lt__', '__mod__', '__mul__', '__ne__', '__neg__', '__new__', '__or__', '__pos__', '__pow__', '__radd__', '__rand__', '__rdivmod__', '__reduce__', '__reduce_ex__', '__repr__', '__rfloordiv__', '__rlshift__', '__rmod__', '__rmul__', '__ror__', '__round__', '__rpow__', '__rrshift__', '__rshift__', '__rsub__', '__rtruediv__', '__rxor__', '__setattr__', '__sizeof__', '__str__', '__sub__', '__subclasshook__', '__truediv__', '__trunc__', '__xor__', 'as_integer_ratio', 'bit_count', 'bit_length', 'conjugate', 'denominator', 'from_bytes', 'imag', 'numerator', 'real', 'to_bytes']\n"
     ]
    }
   ],
   "source": [
    "# vamos a verificar que pasa con los números\n",
    "print(type(4))\n",
    "print()\n",
    "\n",
    "# pedimos para que imprima todos los atributos del número 4\n",
    "print(dir(4))"
   ]
  },
  {
   "cell_type": "markdown",
   "metadata": {},
   "source": [
    "# Ejercicio de aplicación usando programación orientada a objetos"
   ]
  },
  {
   "cell_type": "markdown",
   "metadata": {},
   "source": [
    "Estimar el vapor del agua cada **10 m** entre las alturas de 2 a 10000 m. Sabiendo que la temperatura y humedad relativa a 2 m es **23 °C** y **95 %** respectivamente. La temperatura y la humedad relativa decrecen con tasas de **-0.008 °C**  y **-0.01 %** cada metro, respectivamente. \n",
    "\n",
    "<img src='./img/Air-pressure-water.png' width='500' height='400'>\n",
    "\n",
    "Use las siguientes ecuaciones: \n",
    "\n",
    "**El vapor de agua ($Ea$) a una altura z en m (hPa) esta dado por la siguiente ecuación:**\n",
    "\n",
    "$Ea = (rH * Ew) / 100.0$\n",
    "\n",
    "Donde:\n",
    "* $rH$ es la humedad relativa (%).\n",
    "* $Ew$ es la presión de vapor de saturación (hPa).\n",
    "\n",
    "**Usar las siguientes ecuaciones para calcular $Ew$:**\n",
    "```python\n",
    "# Si temperatura es mayor o igual a 273.16 K\n",
    "    Ew = 6.112 * np.exp((17.67*(T-273.16)) / ((T-29.66)))\n",
    "# Si temperatura es menor a 273.16 K\n",
    "    Ew = 6.112 * np.exp((22.46*(T-273.16)) / ((T-0.55)))\n",
    "\n",
    "```\n",
    "Donde:\n",
    "* $T$ es la temperatura (°K)."
   ]
  },
  {
   "cell_type": "code",
   "execution_count": 8,
   "metadata": {},
   "outputs": [],
   "source": [
    "import numpy as np\n",
    "\n",
    "class perfil_temp:\n",
    "    def __init__(self, T, RH, Zint, Ztop, intervalo):\n",
    "        self.T = T\n",
    "        self.RH = RH\n",
    "        self.z1 = Zint\n",
    "        self.z2 = Ztop\n",
    "        self.intervalo = intervalo\n",
    "\n",
    "    def temp_z(self):\n",
    "                \n",
    "        Z_z = np.arange(self.z1, self.z2, self.intervalo)\n",
    "        T_z = (self.T + (Z_z - 2) * -0.008) + 273.16\n",
    "        RH_z = self.RH + (Z_z - 2) * -0.01\n",
    "        RH_z[RH_z < 0] = 0\n",
    "        Ea_z = [] # hPa\n",
    "        for i in range(len(T_z)):\n",
    "            Ti  = T_z[i]\n",
    "            RHi = RH_z[i]\n",
    "            if Ti >= 273.16:\n",
    "            # over water\n",
    "                Ew = self.pres_agua(Ti)        \n",
    "            else:\n",
    "            # over ice\n",
    "                Ew = self.pres_hielo(Ti)\n",
    "\n",
    "            Ea  = (RHi * Ew) / 100.0\n",
    "            Ea_z.append(Ea)\n",
    "\n",
    "        return Ea_z, Z_z\n",
    "\n",
    "    def pres_agua(self, Ti):\n",
    "        return 6.112 * np.exp((17.67*(Ti-273.16)) / ((Ti-29.66)))\n",
    "\n",
    "    def pres_hielo(self, Ti):\n",
    "        return 6.112 * np.exp((22.46*(Ti-273.16)) / ((Ti-0.55)))"
   ]
  },
  {
   "cell_type": "code",
   "execution_count": 9,
   "metadata": {},
   "outputs": [],
   "source": [
    "Ea_z, Z_z = perfil_temp(24, 95, 2, 10000, 10).temp_z()"
   ]
  },
  {
   "cell_type": "code",
   "execution_count": 10,
   "metadata": {},
   "outputs": [],
   "source": [
    "import matplotlib.pyplot as plt "
   ]
  },
  {
   "cell_type": "code",
   "execution_count": 11,
   "metadata": {},
   "outputs": [
    {
     "data": {
      "text/plain": [
       "[<matplotlib.lines.Line2D at 0x7f729a5fdde0>]"
      ]
     },
     "execution_count": 11,
     "metadata": {},
     "output_type": "execute_result"
    },
    {
     "data": {
      "image/png": "[encoded data removed]",
      "text/plain": [
       "<Figure size 640x480 with 1 Axes>"
      ]
     },
     "metadata": {},
     "output_type": "display_data"
    }
   ],
   "source": [
    "plt.plot(Ea_z, Z_z)"
   ]
  },
  {
   "cell_type": "markdown",
   "metadata": {},
   "source": [
    "## Retornar al [índice](./../indice.md)"
   ]
  }
 ],
 "metadata": {
  "kernelspec": {
   "display_name": "Python 3.10.6 64-bit",
   "language": "python",
   "name": "python3"
  },
  "language_info": {
   "codemirror_mode": {
    "name": "ipython",
    "version": 3
   },
   "file_extension": ".py",
   "mimetype": "text/x-python",
   "name": "python",
   "nbconvert_exporter": "python",
   "pygments_lexer": "ipython3",
   "version": "3.10.6"
  },
  "orig_nbformat": 4,
  "vscode": {
   "interpreter": {
    "hash": "e7370f93d1d0cde622a1f8e1c04877d8463912d04d973331ad4851f04de6915a"
   }
  }
 },
 "nbformat": 4,
 "nbformat_minor": 2
}
