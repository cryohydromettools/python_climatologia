{
 "cells": [
  {
   "cell_type": "markdown",
   "metadata": {},
   "source": [
    "# Ejercicio de aplicación usando programación estructurada"
   ]
  },
  {
   "cell_type": "markdown",
   "metadata": {},
   "source": [
    "Estimar el vapor del agua cada **10 m** entre las alturas de 2 a 10000 m. Sabiendo que la temperatura y humedad relativa a 2 m es **23 °C** y **95 %** respectivamente. La temperatura y la humedad relativa decrecen con tasas de **-0.008 °C**  y **-0.01 %** cada metro, respectivamente. \n",
    "\n",
    "<img src='./img/Air-pressure-water.png' width='500' height='400'>\n",
    "\n",
    "Use las siguientes ecuaciones: \n",
    "\n",
    "**El vapor de agua ($Ea$) a una altura z en m (hPa) esta dado por la siguiente ecuación:**\n",
    "\n",
    "$Ea = (rH * Ew) / 100.0$\n",
    "\n",
    "Donde:\n",
    "* $rH$ es la humedad relativa (%).\n",
    "* $Ew$ es la presión de vapor de saturación (hPa).\n",
    "\n",
    "**Usar las siguientes ecuaciones para calcular $Ew$:**\n",
    "```python\n",
    "# Si temperatura es mayor o igual a 273.16 K\n",
    "    Ew = 6.112 * np.exp((17.67*(T-273.16)) / ((T-29.66)))\n",
    "# Si temperatura es menor a 273.16 K\n",
    "    Ew = 6.112 * np.exp((22.46*(T-273.16)) / ((T-0.55)))\n",
    "\n",
    "```\n",
    "Donde:\n",
    "* $T$ es la temperatura (°K)."
   ]
  },
  {
   "cell_type": "code",
   "execution_count": 4,
   "metadata": {},
   "outputs": [],
   "source": [
    "# Importando la libreria NumPy y matplotlib\n",
    "import numpy as np"
   ]
  },
  {
   "cell_type": "code",
   "execution_count": 5,
   "metadata": {},
   "outputs": [
    {
     "data": {
      "text/plain": [
       "1000"
      ]
     },
     "execution_count": 5,
     "metadata": {},
     "output_type": "execute_result"
    }
   ],
   "source": [
    "Z_z = np.arange(2, 10000, 10)\n",
    "len(Z_z)"
   ]
  },
  {
   "cell_type": "code",
   "execution_count": 6,
   "metadata": {},
   "outputs": [
    {
     "data": {
      "text/plain": [
       "-4.900000000000006"
      ]
     },
     "execution_count": 6,
     "metadata": {},
     "output_type": "execute_result"
    }
   ],
   "source": [
    "# Calculado Temperatura y humedad relativa entre 2 y 10000 metros\n",
    "T_z  = 23 + (Z_z - 2) * -0.008\n",
    "rH_z = 95 + (Z_z - 2) * -0.01\n",
    "rH_z.min()"
   ]
  },
  {
   "cell_type": "code",
   "execution_count": 7,
   "metadata": {},
   "outputs": [
    {
     "name": "stdout",
     "output_type": "stream",
     "text": [
      "0.0\n"
     ]
    }
   ],
   "source": [
    "# Corregir humedad relativa menor que 0%\n",
    "rH_z[rH_z < 0] = 0\n",
    "print(rH_z.min())\n",
    "# Convertir a kelvin\n",
    "T_z = T_z + 273.16"
   ]
  },
  {
   "cell_type": "code",
   "execution_count": 8,
   "metadata": {},
   "outputs": [],
   "source": [
    "Ea_z = [] # hPa\n",
    "for i in range(len(T_z)):\n",
    "    T  = T_z[i]\n",
    "    rH = rH_z[i]\n",
    "    if T >= 273.16:\n",
    "    # over water\n",
    "        Ew = 6.112 * np.exp((17.67*(T-273.16)) / ((T-29.66)))\n",
    "    else:\n",
    "    # over ice\n",
    "        Ew = 6.112 * np.exp((22.46*(T-273.16)) / ((T-0.55)))\n",
    "\n",
    "    Ea  = (rH * Ew) / 100.0\n",
    "    Ea_z.append(Ea)\n"
   ]
  },
  {
   "cell_type": "code",
   "execution_count": 9,
   "metadata": {},
   "outputs": [],
   "source": [
    "import matplotlib.pyplot as plt "
   ]
  },
  {
   "cell_type": "code",
   "execution_count": 10,
   "metadata": {},
   "outputs": [
    {
     "data": {
      "text/plain": [
       "[<matplotlib.lines.Line2D at 0x7f379ea93b50>]"
      ]
     },
     "execution_count": 10,
     "metadata": {},
     "output_type": "execute_result"
    },
    {
     "data": {
      "image/png": "[encoded data removed]",
      "text/plain": [
       "<Figure size 432x288 with 1 Axes>"
      ]
     },
     "metadata": {
      "needs_background": "light"
     },
     "output_type": "display_data"
    }
   ],
   "source": [
    "plt.plot(Ea_z, Z_z)"
   ]
  },
  {
   "cell_type": "markdown",
   "metadata": {},
   "source": [
    "## Retornar al [índice](./../indice.md)"
   ]
  }
 ],
 "metadata": {
  "kernelspec": {
   "display_name": "Python 3.8.10 64-bit",
   "language": "python",
   "name": "python3"
  },
  "language_info": {
   "codemirror_mode": {
    "name": "ipython",
    "version": 3
   },
   "file_extension": ".py",
   "mimetype": "text/x-python",
   "name": "python",
   "nbconvert_exporter": "python",
   "pygments_lexer": "ipython3",
   "version": "3.8.10"
  },
  "orig_nbformat": 4,
  "vscode": {
   "interpreter": {
    "hash": "916dbcbb3f70747c44a77c7bcd40155683ae19c65e1c03b4aa3499c5328201f1"
   }
  }
 },
 "nbformat": 4,
 "nbformat_minor": 2
}
