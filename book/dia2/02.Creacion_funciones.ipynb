{
 "cells": [
  {
   "cell_type": "markdown",
   "metadata": {},
   "source": [
    "## Funciones en Python\n",
    "\n",
    "Una función te permite definir un bloque de código reutilizable que se puede ejecutar muchas veces dentro de tu script. \n",
    "\n",
    "Una de las grandes ventajas de usar funciones en tu script es que reduce el número total de líneas de código en tu proyecto principal.\n",
    "\n",
    "Existen dos formas de declarar funciones en Python usando **`def`** y **`lambda`**. Usamos **`def`** para definir funciones que pueden ser utilizadas mas de una vez. Mientras que usamos **`lambda`** para definir funciones que solo se utilizan al momento de ejecutar la linea donde fue definida. \n",
    "> Las funciones **`lambda`** son conocidas como \"funciones anónimas\" porque no necesita tener nombre.\n"
   ]
  },
  {
   "cell_type": "markdown",
   "metadata": {},
   "source": [
    "### Usando **`def`**\n",
    "\n",
    "En Python, para declarar una función con **`def`** debe tener las siguientes características:\n",
    "\n",
    "1. La palabra clave **`def`**\n",
    "2. Un nombre de la función\n",
    "3. Paréntesis ’()’, y dentro de los paréntesis los parámetros de entrada, aunque los parámetros de entrada sean opcionales.\n",
    "4. Dos puntos ’:’\n",
    "5. Algún bloque de código para ejecutar\n",
    "6. Una sentencia de retorno (opcional)\n",
    "\n",
    "**Sintaxis**\n",
    "\n",
    "```python\n",
    "    def suma(a, b):\n",
    "        return a + b    \n",
    "```"
   ]
  },
  {
   "cell_type": "markdown",
   "metadata": {},
   "source": [
    "**Ejemplo 1**"
   ]
  },
  {
   "cell_type": "code",
   "execution_count": 1,
   "metadata": {},
   "outputs": [],
   "source": [
    "def suma(a, b):\n",
    "    c = a + b\n",
    "    return c"
   ]
  },
  {
   "cell_type": "code",
   "execution_count": 2,
   "metadata": {},
   "outputs": [
    {
     "data": {
      "text/plain": [
       "6"
      ]
     },
     "execution_count": 2,
     "metadata": {},
     "output_type": "execute_result"
    }
   ],
   "source": [
    "suma(1,5)"
   ]
  },
  {
   "cell_type": "markdown",
   "metadata": {},
   "source": [
    "**Ejemplo 2**"
   ]
  },
  {
   "cell_type": "code",
   "execution_count": 2,
   "metadata": {},
   "outputs": [],
   "source": [
    "import numpy as np\n",
    "def vol_cilindro(h, r):\n",
    "    pi = np.pi\n",
    "    v  = pi * h * r**2\n",
    "    \n",
    "    return v"
   ]
  },
  {
   "cell_type": "code",
   "execution_count": 3,
   "metadata": {},
   "outputs": [
    {
     "name": "stdout",
     "output_type": "stream",
     "text": [
      "Volumen 1:  785.3981633974482\n",
      "Volumen 2:  282.7433388230814\n"
     ]
    }
   ],
   "source": [
    "vol1 = vol_cilindro(10, 5)\n",
    "vol2 = vol_cilindro(10, 3)\n",
    "\n",
    "\n",
    "print('Volumen 1: ', vol1)\n",
    "print('Volumen 2: ', vol2)"
   ]
  },
  {
   "cell_type": "markdown",
   "metadata": {},
   "source": [
    "### Usando de **`lambda`**\n",
    "\n",
    "En Python, para declarar una función con **`lambda`** debe tener las siguientes características:\n",
    "\n",
    "1. Declarar la funcion como una variable\n",
    "2. La palabra clave **`lambda`**\n",
    "2. Parámetros de entrada\n",
    "3. Dos puntos ’:’\n",
    "4. Expresión\n",
    "\n",
    "**Sintaxis**\n",
    "\n",
    "```python\n",
    "    variable = lambda parámetros: expresión\n",
    "\n",
    "```\n"
   ]
  },
  {
   "cell_type": "markdown",
   "metadata": {},
   "source": [
    "**Ejemplo 1**"
   ]
  },
  {
   "cell_type": "code",
   "execution_count": 7,
   "metadata": {},
   "outputs": [],
   "source": [
    "vol_cilindro_l = lambda h, r: np.pi * h * r**2"
   ]
  },
  {
   "cell_type": "code",
   "execution_count": 9,
   "metadata": {},
   "outputs": [
    {
     "data": {
      "text/plain": [
       "785.3981633974482"
      ]
     },
     "execution_count": 9,
     "metadata": {},
     "output_type": "execute_result"
    }
   ],
   "source": [
    "vol_cilindro_l(10, 5)"
   ]
  },
  {
   "cell_type": "markdown",
   "metadata": {},
   "source": [
    "## Retornar al [índice](./../indice.md)"
   ]
  }
 ],
 "metadata": {
  "kernelspec": {
   "display_name": "Python 3.9.12 ('geocat')",
   "language": "python",
   "name": "python3"
  },
  "language_info": {
   "codemirror_mode": {
    "name": "ipython",
    "version": 3
   },
   "file_extension": ".py",
   "mimetype": "text/x-python",
   "name": "python",
   "nbconvert_exporter": "python",
   "pygments_lexer": "ipython3",
   "version": "3.9.12"
  },
  "orig_nbformat": 4,
  "vscode": {
   "interpreter": {
    "hash": "fcf694b962e2583d33974cfd22fd61f91596a2a2cb35a874a7015b54a03d5ead"
   }
  }
 },
 "nbformat": 4,
 "nbformat_minor": 2
}
