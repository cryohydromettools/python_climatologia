{
 "cells": [
  {
   "cell_type": "markdown",
   "id": "6d45b8c7-08eb-4b71-88a3-545455542c0a",
   "metadata": {},
   "source": [
    "# Programación orientada a objetos (POO) en Python\n",
    "\n",
    "La programación orientada a objetos (POO) es una forma de organizar el código. Así como un algoritmo suele estar asociado a una estructura de datos particular, la programación orientada a objetos \"empaqueta\" los datos junto con los métodos usados para tratarlos.\n",
    "\n",
    "Python también permite la POO, que es un paradigma de programación en la que los datos y las operaciones que pueden realizarse con esos datos se agrupan en unidades lógicas llamadas objetos.\n",
    "\n",
    "Cada uno de esos *objetos* consiste en:\n",
    "\n",
    "* Datos (atributos de los objetos).\n",
    "* Comportamiento (métodos de los objetos: son funciones que actúan sobre los atributos del objeto).\n",
    "\n",
    "Por ejemplo, al manipular una lista:"
   ]
  },
  {
   "cell_type": "code",
   "execution_count": 37,
   "id": "0fa8d2e8-5461-4ed2-a478-5ba461e69aec",
   "metadata": {},
   "outputs": [
    {
     "data": {
      "text/plain": [
       "[1, 10, 2, 3, 4]"
      ]
     },
     "execution_count": 37,
     "metadata": {},
     "output_type": "execute_result"
    }
   ],
   "source": [
    "nums = [1, 2, 3]    # Lista\n",
    "nums.append(4)      # Esto es un método de la lista\n",
    "nums.insert(1,10)   # Otro método de la lista\n",
    "nums\n",
    "[1, 10, 2, 3, 4]    # Estos son los datos modificados por los métodos"
   ]
  },
  {
   "cell_type": "markdown",
   "id": "c020f40a-c5b5-40cb-ac3c-6ab155e610b4",
   "metadata": {},
   "source": [
    "Miremos un poco más en detalle este fragmento de código. Sabemos que `nums` es una variable de tipo lista. Equivalentemente, podemos decir que `nums` es una *instancia* de la clase *list*. Cada variable de tipo lista es una instancia de la misma clase.\n",
    "Al hablar de 'instancia' nos referimos a un 'objeto': un objeto es una instancia de una clase.\n",
    "\n",
    "Un objeto de tipo lista tiene atributos (datos) y métodos.\n",
    "Los métodos, como `append()` o `insert()`, se definen cuando se define la clase, pero se usan para manipular los datos de un objeto concreto (`nums` en este caso)."
   ]
  },
  {
   "cell_type": "markdown",
   "id": "72e7dcaa-97c5-44b9-b6c0-be46a80b5b63",
   "metadata": {},
   "source": [
    "## La instrucción `class`\n",
    "\n",
    "Para definir un nuevo tipo de objeto en Python, se usá la instrucción `class`.\n",
    "\n",
    "\n",
    "```python\n",
    "class Nombre_del_objeto:\n",
    "    def __init__(self, atributo1, atributo2, etc):\n",
    "        self.atributo1 = x\n",
    "        self.atributo1 = y\n",
    "        self.etc     = 100\n",
    "\n",
    "    def Metodo1(self, dx, dy):\n",
    "        self.atributo1 = self.atributo1 + dy\n",
    "        self.atributo2 = self.atributo2 + dy\n",
    "\n",
    "    def Metodo2(self, pts):\n",
    "        self.etc = self.etc - pts\n",
    "```\n",
    "\n",
    "Un objeto de tipo `Nombre_del_objeto` tiene como atributos `atributo1`, `atributo2`, `etc`. Sus métodos son `Metodo1` y `Metodo2`.\n",
    "\n",
    "Puede decirse que una clase es la definición formal de las relaciones entre los datos y los métodos que los manipulan. Un objeto es una instancia particular de la clase a la cual pertenece, con datos propios pero los mismos métodos que los demás objetos de esa clase. Este concepto te va a quedar más claro cuando lo veas funcionar y lo uses."
   ]
  },
  {
   "cell_type": "markdown",
   "id": "f5744527-292e-4497-8e2a-9f15c6eab9a3",
   "metadata": {},
   "source": [
    "## Instancias\n",
    "\n",
    "Los programas manipulan instancias individuales de las clases. Cada instancia es un objeto, y es en cada objeto que uno puede manipular los datos y llamar a sus métodos. \n",
    "\n",
    "Podemos crear un objeto mediante un llamado a la clase como si fuera una función.\n",
    "\n",
    "Primero creemos nuestra clase `Jugador`:"
   ]
  },
  {
   "cell_type": "code",
   "execution_count": 38,
   "id": "379c735d-6a5b-4e94-ae76-57a6c0c4fdcc",
   "metadata": {},
   "outputs": [],
   "source": [
    "class Jugador:\n",
    "    def __init__(self, x, y):\n",
    "        self.x = x\n",
    "        self.y = y\n",
    "        self.salud = 100\n",
    "\n",
    "    def mover(self, dx, dy):\n",
    "        self.x += dx\n",
    "        self.y += dy\n",
    "\n",
    "    def lastimar(self, pts):\n",
    "        self.salud -= pts"
   ]
  },
  {
   "cell_type": "markdown",
   "id": "6a6baa03-28f6-4ec3-b6f0-71729c9ccfb8",
   "metadata": {},
   "source": [
    "Ahora podemos defininir nuestras clases:"
   ]
  },
  {
   "cell_type": "code",
   "execution_count": 39,
   "id": "2217a3d4-030c-44c2-bd90-571755e6f83b",
   "metadata": {},
   "outputs": [],
   "source": [
    "a = Jugador(2, 3)\n",
    "b = Jugador(10, 20)"
   ]
  },
  {
   "cell_type": "markdown",
   "id": "5c6fcfd3-d9e3-44a6-84ce-5ac77f47ae7e",
   "metadata": {},
   "source": [
    "`a` y `b` son instancias de `Jugador` definida más arriba. Es decir, a y b son objetos de la clase `Jugador`."
   ]
  },
  {
   "cell_type": "markdown",
   "id": "b1cf0ff7-a02a-4668-82f9-c1abd3850120",
   "metadata": {},
   "source": [
    "## Datos de una instancia"
   ]
  },
  {
   "cell_type": "code",
   "execution_count": 40,
   "id": "8a52a2f0-f84b-4ff7-9dee-b2abd3318ac5",
   "metadata": {},
   "outputs": [
    {
     "name": "stdout",
     "output_type": "stream",
     "text": [
      "2\n",
      "3\n"
     ]
    }
   ],
   "source": [
    "print(a.x)\n",
    "print(a.y)"
   ]
  },
  {
   "cell_type": "markdown",
   "id": "d5d3bf13-6f25-4878-8e38-2e17771f3531",
   "metadata": {},
   "source": [
    "Estos datos locales se inicializan, para cada instancia, durante la ejecución del método `__init__()` de la clase.\n",
    "\n",
    "```python\n",
    "class Jugador:\n",
    "    def __init__(self, x, y):\n",
    "        # Todo dato guardado en `self` es propio de esa instancia\n",
    "        self.x = x\n",
    "        self.y = y\n",
    "        self.salud = 100\n",
    "```\n",
    "\n",
    "No hay restricciones en la cantidad o el tipo de atributos que puede tener una clase.\n"
   ]
  },
  {
   "cell_type": "markdown",
   "id": "58b64465-0e03-40e2-b733-03109dc60837",
   "metadata": {},
   "source": [
    "## Métodos de una instancia\n",
    "\n",
    "Los métodos de una instancia son los métodos y las funciones que actúan sobre los datos almacenados en esa instancia. \n",
    "\n",
    "```python\n",
    "class Jugador:\n",
    "    ...\n",
    "    # `mover` es un método\n",
    "    def mover(self, dx, dy):\n",
    "        self.x += dx\n",
    "        self.y += dy\n",
    "```\n",
    "\n",
    "Siempre se recibe la instancia misma como primer argumento:\n",
    "\"self\" significa \"mismo\" como en \"mi mismo\" ó \"en sí misma\". Es como decir \"yo\".\n"
   ]
  },
  {
   "cell_type": "code",
   "execution_count": 41,
   "id": "e4a9fcc6-3d6d-4e2b-b443-df78f04dfb35",
   "metadata": {},
   "outputs": [
    {
     "name": "stdout",
     "output_type": "stream",
     "text": [
      "3\n",
      "5\n"
     ]
    }
   ],
   "source": [
    "a.mover(1, 2)\n",
    "print(a.x)\n",
    "print(a.y)"
   ]
  },
  {
   "cell_type": "markdown",
   "id": "a230ef3b-5827-405b-b9b5-530253d5af1e",
   "metadata": {},
   "source": [
    "Por convención siempre llamamos `self` a la instancia actual, y ésta es siempre pasada como primer argumento a todos los métodos. En realidad el nombre real de la variable no importa, pero es una convención en Python llamar al primer argumento `self`.\n",
    "\n",
    "```python\n",
    ">>> a.mover(1, 2)\n",
    "\n",
    "# `self` refiere a `a`\n",
    "# `dx` refiere a `1`\n",
    "# `dy` refiere a `2`\n",
    "def mover(self, dx, dy):\n",
    "    ...\n",
    "```\n",
    "\n",
    "Podríamos usar `mismo`, por ejemplo, en lugar de `self` y todo va a funcionar igual, pero no respeta las convenciones de la comunidad:\n",
    "\n",
    "```python\n",
    "class Jugador:\n",
    "    ...\n",
    "    # `mover` es un método\n",
    "    def mover(mismo, dx, dy):\n",
    "        mismo.x += dx\n",
    "        mismo.y += dy\n",
    "```\n"
   ]
  },
  {
   "cell_type": "markdown",
   "id": "0fc0f326-a251-4a4e-86be-d5c01bae22b7",
   "metadata": {},
   "source": [
    "## Ejercicios: Objetos como estructura de datos.\n",
    "\n",
    "Durante las primeras clases trabajamos con datos en forma de tuplas y diccionarios. Un lote con cajones de frutas, por ejemplo, estaba representado por una tupla, como ésta:\n",
    "\n",
    "```python\n",
    "s = ('Pera', 100, 490.10)\n",
    "```\n",
    "\n",
    "```python\n",
    "s = { \n",
    "    'nombre'  : 'Pera',\n",
    "    'cajones' : 100,\n",
    "    'precio'  : 490.10\n",
    "     }\n",
    "```\n",
    "\n",
    "Incluso podemos escribir funciones para manipular datos almacenados de ese modo:\n",
    "\n",
    "```python\n",
    "def costo(registro):\n",
    "    return registro['cajones'] * registro['precio']\n",
    "```\n",
    "\n",
    "Otra forma de representar los datos con los que estás trabajando es definir una clase. Creá una clase llamada `Lote` que represente un lote de cajones de una misma fruta. Definila de modo que cada instancia de la clase `Lote` (es decir, cada objeto lote) tenga los atributos `nombre`, `cajones`, y `precio`. Éste es un ejemplo del comportamiento buscado:\n",
    "\n",
    "Vamos a crear más objetos de tipo `Lote` para manipularlos. Por ejemplo:\n",
    "\n",
    "```python\n",
    ">>> b = Lote('Manzana', 50, 122.34)\n",
    ">>> c = Lote('Naranja', 75, 91.75)\n",
    ">>> b.cajones * b.precio\n",
    "6117.0\n",
    ">>> c.cajones * c.precio\n",
    "6881.25\n",
    ">>> lotes = [a, b, c]\n",
    ">>> lotes\n",
    "[<lote.Lote object at 0x37d0b0>, <lote.Lote object at 0x37d110>, <lote.Lote object at 0x37d050>]\n",
    ">>> for c in lotes:\n",
    "     print(f'{c.nombre:>10s} {c.cajones:>10d} {c.precio:>10.2f}')\n",
    "\n",
    "... mirá el resultado ...\n",
    ">>>\n",
    "```\n",
    "\n",
    "Fijate que la clase `Lote` funciona como una \"fábrica\" para crear objetos que son instancias de esa clase. Nosotros la llamás como si fuera una función y te crea una nueva instancia de sí misma. Más aún, cada instancia es única y tiene sus propios datos que son independientes de las demás instancias de la misma clase.\n",
    "\n",
    "Una instancia definida por una clase puede tener cierta similitud con un diccionario, pero usa una sintaxis algo diferente. Por ejemplo, en lugar de escribir `c['nombre']` ó `c['precio']` en objetos escribís `c.nombre` o `c.precio`.\n"
   ]
  },
  {
   "cell_type": "code",
   "execution_count": 42,
   "id": "907351ae-9def-451d-b366-fd9b39a84b43",
   "metadata": {},
   "outputs": [],
   "source": [
    "class Lote:\n",
    "    def __init__(self, nombre, cajones, precio):\n",
    "        self.nombre  = nombre\n",
    "        self.cajones = cajones\n",
    "        self.precio  = precio"
   ]
  },
  {
   "cell_type": "code",
   "execution_count": 43,
   "id": "44e037c8-fc3e-4759-b02d-d7a4418dc7ff",
   "metadata": {},
   "outputs": [],
   "source": [
    "# Creamos un objeto\n",
    "\n",
    "a = Lote('Pera', 100, 490.10)"
   ]
  },
  {
   "cell_type": "code",
   "execution_count": 44,
   "id": "755f4901-c927-423a-8e0a-b88f0e8e2425",
   "metadata": {},
   "outputs": [
    {
     "data": {
      "text/plain": [
       "'Pera'"
      ]
     },
     "execution_count": 44,
     "metadata": {},
     "output_type": "execute_result"
    }
   ],
   "source": [
    "a.nombre"
   ]
  },
  {
   "cell_type": "code",
   "execution_count": 45,
   "id": "e52d63a3-2065-454e-a3ec-6e0a25d402a6",
   "metadata": {},
   "outputs": [
    {
     "data": {
      "text/plain": [
       "100"
      ]
     },
     "execution_count": 45,
     "metadata": {},
     "output_type": "execute_result"
    }
   ],
   "source": [
    "a.cajones"
   ]
  },
  {
   "cell_type": "code",
   "execution_count": 46,
   "id": "8272e6b4-386c-4bfc-b8b1-8bcb0f1a80ec",
   "metadata": {},
   "outputs": [
    {
     "data": {
      "text/plain": [
       "490.1"
      ]
     },
     "execution_count": 46,
     "metadata": {},
     "output_type": "execute_result"
    }
   ],
   "source": [
    "a.precio"
   ]
  },
  {
   "cell_type": "code",
   "execution_count": 47,
   "id": "7935c793-d6e2-434c-b878-d31cfcf22c99",
   "metadata": {},
   "outputs": [],
   "source": [
    "b = Lote('Manzana', 50, 122.34)\n",
    "c = Lote('Naranja', 75, 91.75)"
   ]
  },
  {
   "cell_type": "code",
   "execution_count": 48,
   "id": "e3f58686-f640-408c-826f-7267e4a5695f",
   "metadata": {},
   "outputs": [
    {
     "data": {
      "text/plain": [
       "[<__main__.Lote at 0x7ff2900798b0>,\n",
       " <__main__.Lote at 0x7ff29007e3d0>,\n",
       " <__main__.Lote at 0x7ff29007e1f0>]"
      ]
     },
     "execution_count": 48,
     "metadata": {},
     "output_type": "execute_result"
    }
   ],
   "source": [
    "lotes = [a, b, c]\n",
    "lotes"
   ]
  },
  {
   "cell_type": "code",
   "execution_count": 49,
   "id": "8f522818-7729-42da-a3de-07bbefc179d6",
   "metadata": {},
   "outputs": [
    {
     "name": "stdout",
     "output_type": "stream",
     "text": [
      "      Pera        100     490.10\n",
      "   Manzana         50     122.34\n",
      "   Naranja         75      91.75\n"
     ]
    }
   ],
   "source": [
    "for c in lotes:\n",
    "    print(f'{c.nombre:>10s} {c.cajones:>10d} {c.precio:>10.2f}')"
   ]
  },
  {
   "cell_type": "markdown",
   "id": "503d1a4f-d887-42df-b510-54883a4ca31a",
   "metadata": {},
   "source": [
    "## Agregámos algunos métodos a nuestra clase `Lote`"
   ]
  },
  {
   "cell_type": "code",
   "execution_count": 50,
   "id": "98c03c9e-a3ff-45a5-bfa2-1bb939fde770",
   "metadata": {},
   "outputs": [],
   "source": [
    "class Lote:\n",
    "    def __init__(self, nombre, cajones, precio):\n",
    "        self.nombre  = nombre\n",
    "        self.cajones = cajones\n",
    "        self.precio  = precio\n",
    "\n",
    "    def costo(self):\n",
    "        return self.cajones * self.precio\n",
    "\n",
    "    def vender(self, ncajones):\n",
    "        self.cajones -= ncajones"
   ]
  },
  {
   "cell_type": "code",
   "execution_count": 51,
   "id": "14d571b5-421a-42e2-8c19-d5400a06c92d",
   "metadata": {},
   "outputs": [],
   "source": [
    "s = Lote('Pera', 100, 490.10)"
   ]
  },
  {
   "cell_type": "code",
   "execution_count": 52,
   "id": "588f69d5-ff05-4d73-a466-2d376ad54deb",
   "metadata": {},
   "outputs": [
    {
     "data": {
      "text/plain": [
       "49010.0"
      ]
     },
     "execution_count": 52,
     "metadata": {},
     "output_type": "execute_result"
    }
   ],
   "source": [
    "s.costo()"
   ]
  },
  {
   "cell_type": "code",
   "execution_count": 53,
   "id": "004d667b-a787-4040-87c2-100878370a83",
   "metadata": {},
   "outputs": [],
   "source": [
    "s.vender(25)"
   ]
  },
  {
   "cell_type": "code",
   "execution_count": 54,
   "id": "90221748-40b6-4d66-bab1-7e142a337d0e",
   "metadata": {},
   "outputs": [
    {
     "data": {
      "text/plain": [
       "75"
      ]
     },
     "execution_count": 54,
     "metadata": {},
     "output_type": "execute_result"
    }
   ],
   "source": [
    "s.cajones"
   ]
  },
  {
   "cell_type": "code",
   "execution_count": 55,
   "id": "fd3ae56d-f529-4d1d-913f-ab2e74c84460",
   "metadata": {},
   "outputs": [
    {
     "data": {
      "text/plain": [
       "36757.5"
      ]
     },
     "execution_count": 55,
     "metadata": {},
     "output_type": "execute_result"
    }
   ],
   "source": [
    "s.costo()"
   ]
  },
  {
   "cell_type": "markdown",
   "id": "722be05a-356d-4c61-a943-7d418dc8188d",
   "metadata": {},
   "source": [
    "# Métodos especiales\n",
    "\n",
    "Podemos modificar muchos comportamientos de Python definiendo lo que se conoce como \"métodos especiales\". Acá vamos a ver cómo usar estos métodos y a discutir brevemente otras herramientas relacionadas.\n",
    "\n",
    "Una clase puede tener definidos métodos especiales. Estos métodos tienen un significado particular para el intérprete de Python. Sus nombres empiezan y terminan en `__` (doble guión bajo). Por ejemplo `__init__`.\n",
    "\n",
    "```python\n",
    "class Lote(object):\n",
    "    def __init__(self):\n",
    "        ...\n",
    "    def __repr__(self):\n",
    "        ...\n",
    "```\n",
    "\n",
    "Hay decenas de métodos especiales pero sólo vamos a tratar algunos ejemplos específicos acá."
   ]
  },
  {
   "cell_type": "markdown",
   "id": "6b0bec5e-1a16-4827-8ccc-6ee266998a0f",
   "metadata": {},
   "source": [
    "### Métodos especiales para convertir a strings\n",
    "\n",
    "Las funciones `str()` y `repr()` llaman a métodos especiales de la clase para generar la cadena de caracteres que se va a mostrar.\n",
    "\n",
    "**Ejemplo:**"
   ]
  },
  {
   "cell_type": "code",
   "execution_count": 56,
   "id": "35d340f4-d438-4db4-aa84-0e0e53e846ec",
   "metadata": {},
   "outputs": [],
   "source": [
    "class Punto():\n",
    "    def __init__(self, x, y):\n",
    "        self.x = x\n",
    "        self.y = y\n",
    "\n",
    "    def __str__(self):\n",
    "        return f'({self.x}, {self.y})'\n",
    "\n",
    "    # Used with `repr()`\n",
    "    def __repr__(self):\n",
    "        return f'Punto({self.x}, {self.y})'"
   ]
  },
  {
   "cell_type": "markdown",
   "id": "56389479-76fe-47a4-b1b6-3de8c04cd6cf",
   "metadata": {},
   "source": [
    "### Métodos matemáticos especiales\n",
    "\n",
    "Las operaciones matemáticas sobre los objetos involucran llamados a los siguientes métodos.\n",
    "\n",
    "```python\n",
    "a + b       a.__add__(b)\n",
    "a - b       a.__sub__(b)\n",
    "a * b       a.__mul__(b)\n",
    "a / b       a.__truediv__(b)\n",
    "a // b      a.__floordiv__(b)\n",
    "a % b       a.__mod__(b)\n",
    "a << b      a.__lshift__(b)\n",
    "a >> b      a.__rshift__(b)\n",
    "a & b       a.__and__(b)\n",
    "a | b       a.__or__(b)\n",
    "a ^ b       a.__xor__(b)\n",
    "a ** b      a.__pow__(b)\n",
    "-a          a.__neg__()\n",
    "~a          a.__invert__()\n",
    "abs(a)      a.__abs__()\n",
    "```\n",
    "\n",
    "Así, al definir un método `__add__(b)` en la clase `Punto`, por ejemplo, nos permitirá sumar dos instancias de esta clase usando el operador `+`.\n",
    "\n",
    "**Ejemplo:**"
   ]
  },
  {
   "cell_type": "code",
   "execution_count": 57,
   "id": "1aaa3745-df24-4643-a27d-e0db6149104c",
   "metadata": {},
   "outputs": [],
   "source": [
    "class Punto():\n",
    "    def __init__(self, x, y):\n",
    "        self.x = x\n",
    "        self.y = y\n",
    "    def __repr__(self):\n",
    "        return f'Punto({self.x}, {self.y})'\n",
    "    \n",
    "    def __add__(self, b):\n",
    "        return Punto(self.x + b.x, self.y + b.y)"
   ]
  },
  {
   "cell_type": "code",
   "execution_count": 58,
   "id": "be13fc33-adbc-4ca8-b3f5-179fb63dcc0e",
   "metadata": {},
   "outputs": [
    {
     "data": {
      "text/plain": [
       "'Punto(4, 6)'"
      ]
     },
     "execution_count": 58,
     "metadata": {},
     "output_type": "execute_result"
    }
   ],
   "source": [
    "a = Punto(1,2)  \n",
    "b = Punto(3,4)\n",
    "repr(a + b)"
   ]
  },
  {
   "cell_type": "markdown",
   "id": "d0036493-d206-4727-87f4-94d520e2544f",
   "metadata": {},
   "source": [
    "# Herencia\n",
    "\n",
    "La herencia entre clases es una herramienta muy usada para escribir programas extensibles.\n",
    "\n",
    "### Introducción\n",
    "\n",
    "Se usa herencia para crear objetos más especializados a partir de objetos existentes.\n",
    "\n",
    "```python\n",
    "class Padre:\n",
    "    ...\n",
    "\n",
    "class Hijo(Padre):\n",
    "    ...\n",
    "```\n",
    "Se dice que `Hijo` es una clase derivada o subclase. La clase `Padre` es conocida como la clase base, o superclase. La expresión `class Hijo(Padre):` significa que estamos creando una clase llamada `Hijo` que es derivada de la clase `Padre`. \n",
    "\n",
    "\n",
    "### Extensiones\n",
    "\n",
    "Al usar herencia podemos tomar una clase existente y ...\n",
    "\n",
    "* Agregarle métodos\n",
    "* Redifinir métodos existentes\n",
    "* Agregar nuevos atributos\n",
    "\n",
    "Podemos verlo como una forma de **extender** un codigo existente. Darle nuevos comportamientos, abarcar un abanico más amplio de posibilidades ó aumentar su compatibilidad. \n",
    "\n",
    "**Ejemplo:**"
   ]
  },
  {
   "cell_type": "code",
   "execution_count": 59,
   "id": "de74f6bb-69d2-4a17-a25c-2b754ef1ab4a",
   "metadata": {},
   "outputs": [],
   "source": [
    "class Lote:\n",
    "    def __init__(self, nombre, cajones, precio):\n",
    "        self.nombre = nombre\n",
    "        self.cajones = cajones\n",
    "        self.precio = precio\n",
    "\n",
    "    def costo(self):\n",
    "        return self.cajones * self.precio\n",
    "\n",
    "    def vender(self, ncajones):\n",
    "        self.cajones -= ncajones"
   ]
  },
  {
   "cell_type": "markdown",
   "id": "cdf7eae8-b145-487f-a8fe-16fc7e5f1535",
   "metadata": {},
   "source": [
    "Podemos modificar lo que necesites mediante herencia."
   ]
  },
  {
   "cell_type": "markdown",
   "id": "f3ec860e-d4d4-4ea7-a275-d64cb503978c",
   "metadata": {},
   "source": [
    "### Agregar un nuevo método"
   ]
  },
  {
   "cell_type": "code",
   "execution_count": 60,
   "id": "60122147-1c09-4bc9-b368-8e7adceae3a1",
   "metadata": {},
   "outputs": [],
   "source": [
    "class MiLote(Lote):\n",
    "    def rematar(self):\n",
    "        self.vender(self.cajones)"
   ]
  },
  {
   "cell_type": "code",
   "execution_count": 61,
   "id": "82a51ea4-0b12-4abc-8861-ef726cd0d69f",
   "metadata": {},
   "outputs": [],
   "source": [
    "c = MiLote('Pera', 100, 490.1)"
   ]
  },
  {
   "cell_type": "code",
   "execution_count": 62,
   "id": "fff48dcb-798c-4e03-bdc6-9787103080bf",
   "metadata": {},
   "outputs": [],
   "source": [
    "c.vender(25)"
   ]
  },
  {
   "cell_type": "code",
   "execution_count": 63,
   "id": "743e4f41-01d6-4d0a-b179-181e6007d252",
   "metadata": {},
   "outputs": [
    {
     "data": {
      "text/plain": [
       "75"
      ]
     },
     "execution_count": 63,
     "metadata": {},
     "output_type": "execute_result"
    }
   ],
   "source": [
    "c.cajones"
   ]
  },
  {
   "cell_type": "code",
   "execution_count": 64,
   "id": "a0a66404-2b11-40e1-8a58-62d358ac9546",
   "metadata": {},
   "outputs": [],
   "source": [
    "c.rematar()"
   ]
  },
  {
   "cell_type": "code",
   "execution_count": 65,
   "id": "74a61ca3-8d9a-4c90-b5f8-faf44ec19b65",
   "metadata": {},
   "outputs": [
    {
     "data": {
      "text/plain": [
       "0"
      ]
     },
     "execution_count": 65,
     "metadata": {},
     "output_type": "execute_result"
    }
   ],
   "source": [
    "c.cajones"
   ]
  },
  {
   "cell_type": "markdown",
   "id": "0b858c8d-7d2e-4222-a61e-f15e4a7d5d21",
   "metadata": {},
   "source": [
    "Esta clase heredó los atributos y métodos de `Lote` y la extendío con un nuevo método (`rematar()`)."
   ]
  },
  {
   "cell_type": "markdown",
   "id": "d5e126de-069a-4f96-b714-51c982649653",
   "metadata": {},
   "source": [
    "### Redefinir un método existente"
   ]
  },
  {
   "cell_type": "code",
   "execution_count": 66,
   "id": "1473b3d7-9caa-4d96-8be7-9d7634541b88",
   "metadata": {},
   "outputs": [],
   "source": [
    "class MiLote(Lote):\n",
    "    def costo(self):\n",
    "        return 1.25 * self.cajones * self.precio"
   ]
  },
  {
   "cell_type": "code",
   "execution_count": 67,
   "id": "171bf03f-90ba-423b-8360-52dd2895cb37",
   "metadata": {},
   "outputs": [],
   "source": [
    "c = MiLote('Pera', 100, 490.1)"
   ]
  },
  {
   "cell_type": "code",
   "execution_count": 68,
   "id": "849d2b3a-cce5-4f6b-8993-fabf21169161",
   "metadata": {},
   "outputs": [
    {
     "data": {
      "text/plain": [
       "61262.5"
      ]
     },
     "execution_count": 68,
     "metadata": {},
     "output_type": "execute_result"
    }
   ],
   "source": [
    "c.costo()"
   ]
  },
  {
   "cell_type": "markdown",
   "id": "1bcd812b-64ac-471d-8ed9-30dc5e8f1062",
   "metadata": {},
   "source": [
    "El método nuevo simplemente reemplaza al definido en la clase base. Los demás métodos y atributos no son afectados. ¿No es buenísimo?"
   ]
  },
  {
   "cell_type": "markdown",
   "id": "fa1facd9-6fc5-418b-adbc-722033f2df2f",
   "metadata": {},
   "source": [
    "### Utilizar un método prevalente\n",
    "\n",
    "Hay veces en que una clase extiende el método de la superclase a la que pertenece, pero necesita ejecutar el método original como parte de la redefinición del método nuevo. Para referirte a la superclase, usamos `super()`:\n",
    "\n",
    "**Ejemplo:**"
   ]
  },
  {
   "cell_type": "code",
   "execution_count": 69,
   "id": "f377a9a6-522c-40d5-9417-7fd241802a0e",
   "metadata": {},
   "outputs": [],
   "source": [
    "class Lote:\n",
    "    ...\n",
    "    def costo(self):\n",
    "        return self.cajones * self.precio\n",
    "    ...\n",
    "\n",
    "class MiLote(Lote):\n",
    "    def costo(self):\n",
    "        # Fijate cómo usamos `super`\n",
    "        costo_orig = super().costo()\n",
    "        return 1.25 * costo_orig"
   ]
  },
  {
   "cell_type": "markdown",
   "id": "5ec5228a-8c79-4d84-acee-9319a2044d2f",
   "metadata": {},
   "source": [
    "Usamos `super()` para llamar al método de la clase base (del la cual ésta es heredera)."
   ]
  },
  {
   "cell_type": "markdown",
   "id": "d93dfa8b-4294-4dc9-b725-facf2f3d6d11",
   "metadata": {},
   "source": [
    "### El método `__init__` y herencia.\n",
    "\n",
    "Al crear cada instancia se ejecuta `__init__`. Ahí reside el código importante para la creación de una instancia nueva. Si redefinimos `__init__` siempre incluimos un llamado al método `__init__` de la clase base para inicializarla también.\n",
    "\n",
    "**Ejemplo:**"
   ]
  },
  {
   "cell_type": "code",
   "execution_count": 70,
   "id": "c9ca592b-98e5-4125-8388-a0526389033e",
   "metadata": {},
   "outputs": [],
   "source": [
    "class Lote:\n",
    "    def __init__(self, nombre, cajones, precio):\n",
    "        self.nombre = nombre\n",
    "        self.cajones = cajones\n",
    "        self.precio = precio\n",
    "    ...\n",
    "\n",
    "\n",
    "class MiLote(Lote):\n",
    "    def __init__(self, nombre, cajones, precio, factor):\n",
    "        # Fijate como es el llamado a `super().__init__()`\n",
    "        super().__init__(nombre, cajones, precio)\n",
    "        self.factor = factor\n",
    "\n",
    "    def costo(self):\n",
    "        return self.factor * super().costo()"
   ]
  },
  {
   "cell_type": "markdown",
   "id": "13c3184b-5152-48f6-a102-a9909d004761",
   "metadata": {},
   "source": [
    "Es necesario llamar al método `__init__()` en la clase base. Es una forma de ejecutar la versión previa del método que estamos redefiniendo."
   ]
  },
  {
   "cell_type": "markdown",
   "id": "01cc5736-f1cf-47c8-b0a4-f3a022267cb4",
   "metadata": {},
   "source": [
    "### Usos de herencia\n",
    "\n",
    "Uno de los usos de definir una clase como heredera de otra es organizar jerárquicamente objetos que están relacionados.\n",
    "\n",
    "Un ejemplo: Las figuras geométricas pueden tener ciertos métodos y atributos que luego son refinados en casos concretos como círculos o rectángulos.\n",
    "\n",
    "**Ejemplo:**"
   ]
  },
  {
   "cell_type": "code",
   "execution_count": 71,
   "id": "c7857d10-d196-4e8b-afda-92b3f846c9e7",
   "metadata": {},
   "outputs": [],
   "source": [
    "import numpy as np\n",
    "class Punto():\n",
    "    def __init__(self, x, y):\n",
    "        self.x = x\n",
    "        self.y = y\n",
    "        \n",
    "    def dist_origen(self):\n",
    "        return np.sqrt(self.x**2 + self.y**2)\n",
    "    \n",
    "    def mover(self, dx, dy):\n",
    "        self.x += dx\n",
    "        self.y += dy\n",
    "\n",
    "    def __str__(self):\n",
    "        return f'({self.x}, {self.y})'\n",
    "    \n",
    "    def __repr__(self):\n",
    "        return f'Punto({self.x}, {self.y})'\n",
    "\n",
    "    def __add__(self, b):\n",
    "        return Punto(self.x + b.x, self.y + b.y)\n",
    "    \n",
    "class Circulo(Punto):\n",
    "    \n",
    "    def __init__(self, x, y, r):\n",
    "        self.x = x\n",
    "        self.y = y\n",
    "        self.r = r\n",
    "    \n",
    "    def radio(self):\n",
    "        return self.r\n",
    "    \n",
    "    def area(self):\n",
    "        return np.pi * self.r * self.r"
   ]
  },
  {
   "cell_type": "code",
   "execution_count": 72,
   "id": "97f601b4-9aeb-40df-b864-259027b235f7",
   "metadata": {},
   "outputs": [
    {
     "name": "stdout",
     "output_type": "stream",
     "text": [
      "(1, 2)\n",
      "28.274333882308138\n",
      "(2, 3)\n"
     ]
    }
   ],
   "source": [
    "c = Circulo(1,2,3)\n",
    "print(c)\n",
    "print(c.area())\n",
    "c.mover(1,1)\n",
    "print(c)"
   ]
  },
  {
   "cell_type": "markdown",
   "id": "803e2102",
   "metadata": {},
   "source": [
    "## Retornar al [índice](./../indice.md)"
   ]
  }
 ],
 "metadata": {
  "kernelspec": {
   "display_name": "Python 3.8.10 64-bit",
   "language": "python",
   "name": "python3"
  },
  "language_info": {
   "codemirror_mode": {
    "name": "ipython",
    "version": 3
   },
   "file_extension": ".py",
   "mimetype": "text/x-python",
   "name": "python",
   "nbconvert_exporter": "python",
   "pygments_lexer": "ipython3",
   "version": "3.8.10"
  },
  "vscode": {
   "interpreter": {
    "hash": "916dbcbb3f70747c44a77c7bcd40155683ae19c65e1c03b4aa3499c5328201f1"
   }
  }
 },
 "nbformat": 4,
 "nbformat_minor": 5
}
