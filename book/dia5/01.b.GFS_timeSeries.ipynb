{
 "cells": [
  {
   "cell_type": "markdown",
   "metadata": {},
   "source": [
    "# Time series\n"
   ]
  },
  {
   "cell_type": "markdown",
   "metadata": {},
   "source": [
    "La libreria `siphon` viene con un servicio de consulta especializado para series temporales."
   ]
  },
  {
   "cell_type": "code",
   "execution_count": 1,
   "metadata": {},
   "outputs": [],
   "source": [
    "from datetime import datetime, timedelta\n",
    "\n",
    "import matplotlib.pyplot as plt\n",
    "from netCDF4 import num2date\n",
    "\n",
    "from siphon.catalog import TDSCatalog"
   ]
  },
  {
   "cell_type": "markdown",
   "metadata": {},
   "source": []
  },
  {
   "cell_type": "code",
   "execution_count": 2,
   "metadata": {},
   "outputs": [
    {
     "ename": "TypeError",
     "evalue": "__init__() missing 1 required positional argument: 'service_node'",
     "output_type": "error",
     "traceback": [
      "\u001b[0;31m---------------------------------------------------------------------------\u001b[0m",
      "\u001b[0;31mTypeError\u001b[0m                                 Traceback (most recent call last)",
      "\u001b[1;32m/home/georgynio/Envs/python_climatologia/book/dia5/01.b.GFS_timeSeries.ipynb Cell 5\u001b[0m in \u001b[0;36m<cell line: 4>\u001b[0;34m()\u001b[0m\n\u001b[1;32m      <a href='vscode-notebook-cell:/home/georgynio/Envs/python_climatologia/book/dia5/01.b.GFS_timeSeries.ipynb#W4sZmlsZQ%3D%3D?line=0'>1</a>\u001b[0m \u001b[39mfrom\u001b[39;00m \u001b[39mgrpc\u001b[39;00m \u001b[39mimport\u001b[39;00m services\n\u001b[1;32m      <a href='vscode-notebook-cell:/home/georgynio/Envs/python_climatologia/book/dia5/01.b.GFS_timeSeries.ipynb#W4sZmlsZQ%3D%3D?line=1'>2</a>\u001b[0m \u001b[39mfrom\u001b[39;00m \u001b[39msiphon\u001b[39;00m \u001b[39mimport\u001b[39;00m catalog\n\u001b[0;32m----> <a href='vscode-notebook-cell:/home/georgynio/Envs/python_climatologia/book/dia5/01.b.GFS_timeSeries.ipynb#W4sZmlsZQ%3D%3D?line=3'>4</a>\u001b[0m catalog\u001b[39m.\u001b[39;49mCompoundService()\n",
      "\u001b[0;31mTypeError\u001b[0m: __init__() missing 1 required positional argument: 'service_node'"
     ]
    }
   ],
   "source": [
    "from grpc import services\n",
    "from siphon import catalog\n",
    "\n",
    "catalog.CompoundService()"
   ]
  },
  {
   "cell_type": "code",
   "execution_count": 3,
   "metadata": {},
   "outputs": [
    {
     "name": "stdout",
     "output_type": "stream",
     "text": [
      "['Best GFS Half Degree Forecast Time Series']\n"
     ]
    }
   ],
   "source": [
    "best_gfs = TDSCatalog('http://thredds.ucar.edu/thredds/catalog/grib/NCEP/GFS/'\n",
    "                      'Global_0p5deg/catalog.xml?dataset=grib/NCEP/GFS/Global_0p5deg/Best')\n",
    "print(best_gfs.datasets)"
   ]
  },
  {
   "cell_type": "code",
   "execution_count": 4,
   "metadata": {},
   "outputs": [],
   "source": [
    "best_ds = best_gfs.datasets[0]\n",
    "ncss =best_ds.subset()"
   ]
  },
  {
   "cell_type": "code",
   "execution_count": 5,
   "metadata": {},
   "outputs": [],
   "source": [
    "query = ncss.query()"
   ]
  },
  {
   "cell_type": "markdown",
   "metadata": {},
   "source": []
  },
  {
   "cell_type": "code",
   "execution_count": 6,
   "metadata": {},
   "outputs": [
    {
     "data": {
      "text/plain": [
       "var=Temperature_isobaric&time_start=2022-10-22T20%3A03%3A52.641557&time_end=2022-10-29T20%3A03%3A52.641557&longitude=-20&latitude=-40&vertCoord=100000&accept=netcdf"
      ]
     },
     "execution_count": 6,
     "metadata": {},
     "output_type": "execute_result"
    }
   ],
   "source": [
    "now = datetime.utcnow()\n",
    "query.lonlat_point(-20,-40).vertical_level(100000).time_range(now, now+timedelta(days=7))\n",
    "query.variables('Temperature_isobaric').accept('netcdf')"
   ]
  },
  {
   "cell_type": "code",
   "execution_count": 7,
   "metadata": {},
   "outputs": [
    {
     "data": {
      "text/plain": [
       "['latitude',\n",
       " 'longitude',\n",
       " 'stationAltitude',\n",
       " 'station_id',\n",
       " 'station_description',\n",
       " 'time',\n",
       " 'stationIndex',\n",
       " 'Temperature_isobaric']"
      ]
     },
     "execution_count": 7,
     "metadata": {},
     "output_type": "execute_result"
    }
   ],
   "source": [
    "data = ncss.get_data(query)\n",
    "list(data.variables)"
   ]
  },
  {
   "cell_type": "code",
   "execution_count": 8,
   "metadata": {},
   "outputs": [],
   "source": [
    "temp = data.variables['Temperature_isobaric']\n",
    "time = data.variables['time']"
   ]
  },
  {
   "cell_type": "code",
   "execution_count": 9,
   "metadata": {},
   "outputs": [
    {
     "name": "stdout",
     "output_type": "stream",
     "text": [
      "[real_datetime(2022, 10, 22, 21, 0) real_datetime(2022, 10, 23, 0, 0)\n",
      " real_datetime(2022, 10, 23, 3, 0) real_datetime(2022, 10, 23, 6, 0)\n",
      " real_datetime(2022, 10, 23, 9, 0)]\n"
     ]
    }
   ],
   "source": [
    "time_vals = num2date(time[:].squeeze(), time.units, only_use_cftime_datetimes=False)\n",
    "print(time_vals[:5])"
   ]
  },
  {
   "cell_type": "code",
   "execution_count": 10,
   "metadata": {},
   "outputs": [
    {
     "name": "stdout",
     "output_type": "stream",
     "text": [
      "Help on built-in function num2date in module cftime._cftime:\n",
      "\n",
      "num2date(...)\n",
      "    num2date(times, units, calendar=u'standard', only_use_cftime_datetimes=True, only_use_python_datetimes=False, has_year_zero=None)\n",
      "    \n",
      "    Return datetime objects given numeric time values. The units\n",
      "    of the numeric time values are described by the **units** argument\n",
      "    and the **calendar** keyword. The returned datetime objects represent\n",
      "    UTC with no time-zone offset, even if the specified\n",
      "    **units** contain a time-zone offset.\n",
      "    \n",
      "    **times**: numeric time values.\n",
      "    \n",
      "    **units**: a string of the form **<time units> since <reference time>**\n",
      "    describing the time units. **<time units>** can be days, hours, minutes,\n",
      "    seconds, milliseconds or microseconds. **<reference time>** is the time\n",
      "    origin. **months since** is allowed *only* for the **360_day** calendar\n",
      "    and **common_years since** is allowed *only* for the **365_day** calendar.\n",
      "    \n",
      "    **calendar**: describes the calendar used in the time calculations.\n",
      "    All the values currently defined in the\n",
      "    `CF metadata convention <http://cfconventions.org/cf-conventions/cf-conventions#calendar>`__ are supported.\n",
      "    Valid calendars **'standard', 'gregorian', 'proleptic_gregorian'\n",
      "    'noleap', '365_day', '360_day', 'julian', 'all_leap', '366_day'**.\n",
      "    Default is **'standard'**, which is a mixed Julian/Gregorian calendar.\n",
      "    \n",
      "    **only_use_cftime_datetimes**: if False, python datetime.datetime\n",
      "    objects are returned from num2date where possible; if True dates which\n",
      "    subclass cftime.datetime are returned for all calendars. Default **True**.\n",
      "    \n",
      "    **only_use_python_datetimes**: always return python datetime.datetime\n",
      "    objects and raise an error if this is not possible. Ignored unless\n",
      "    **only_use_cftime_datetimes=False**. Default **False**.\n",
      "    \n",
      "    **has_year_zero**: if set to True, astronomical year numbering\n",
      "    is used and the year zero exists.  If set to False for real-world\n",
      "    calendars, then historical year numbering is used and the year 1 is\n",
      "    preceded by year -1 and no year zero exists.\n",
      "    The defaults are set to conform with\n",
      "    CF version 1.9 conventions (False for 'julian', 'gregorian'/'standard', True\n",
      "    for 'proleptic_gregorian' (ISO 8601) and True for the idealized\n",
      "    calendars 'noleap'/'365_day', '360_day', 366_day'/'all_leap')\n",
      "    The defaults can only be over-ridden for the real-world calendars,\n",
      "    for the the idealized calendars the year zero \n",
      "    always exists and the has_year_zero kwarg is ignored.\n",
      "    This kwarg is not needed to define calendar systems allowed by CF\n",
      "    (the calendar-specific defaults do this).\n",
      "    \n",
      "    returns a datetime instance, or an array of datetime instances with\n",
      "    microsecond accuracy, if possible.\n",
      "    \n",
      "    ***Note***: If only_use_cftime_datetimes=False and\n",
      "    use_only_python_datetimes=False, the datetime instances\n",
      "    returned are 'real' python datetime\n",
      "    objects if **calendar='proleptic_gregorian'**, or\n",
      "    **calendar='standard'** or **'gregorian'**\n",
      "    and the date is after the breakpoint between the Julian and\n",
      "    Gregorian calendars (1582-10-15). Otherwise, they are ctime.datetime\n",
      "    objects which support some but not all the methods of native python\n",
      "    datetime objects. The datetime instances\n",
      "    do not contain a time-zone offset, even if the specified **units**\n",
      "    contains one.\n",
      "\n"
     ]
    },
    {
     "data": {
      "text/plain": [
       "'Temperature_isobaric'"
      ]
     },
     "execution_count": 10,
     "metadata": {},
     "output_type": "execute_result"
    }
   ],
   "source": [
    "help(num2date)\n",
    "temp.units\n",
    "temp.name"
   ]
  },
  {
   "cell_type": "code",
   "execution_count": 11,
   "metadata": {},
   "outputs": [
    {
     "data": {
      "image/png": "[encoded data removed]",
      "text/plain": [
       "<Figure size 648x576 with 1 Axes>"
      ]
     },
     "metadata": {
      "needs_background": "light"
     },
     "output_type": "display_data"
    }
   ],
   "source": [
    "fig, ax = plt.subplots(1, 1, figsize=(9, 8))\n",
    "ax.plot(time_vals, temp[:].squeeze(), 'r', linewidth=2)\n",
    "ax.set_ylabel(f'{temp.name} ({temp.units})')\n",
    "ax.set_xlabel('Forecast Time (UTC)')\n",
    "ax.grid(True)"
   ]
  },
  {
   "cell_type": "code",
   "execution_count": null,
   "metadata": {},
   "outputs": [],
   "source": []
  }
 ],
 "metadata": {
  "kernelspec": {
   "display_name": "Python 3.9.12 ('geocat')",
   "language": "python",
   "name": "python3"
  },
  "language_info": {
   "codemirror_mode": {
    "name": "ipython",
    "version": 3
   },
   "file_extension": ".py",
   "mimetype": "text/x-python",
   "name": "python",
   "nbconvert_exporter": "python",
   "pygments_lexer": "ipython3",
   "version": "3.9.12"
  },
  "orig_nbformat": 4,
  "vscode": {
   "interpreter": {
    "hash": "fcf694b962e2583d33974cfd22fd61f91596a2a2cb35a874a7015b54a03d5ead"
   }
  }
 },
 "nbformat": 4,
 "nbformat_minor": 2
}
