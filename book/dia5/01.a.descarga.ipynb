{
 "cells": [
  {
   "cell_type": "markdown",
   "metadata": {},
   "source": [
    "# Descarga de Dados GFS\n",
    "\n",
    "\n",
    "\n",
    "## Instalación de librerias necesarias\n",
    "\n",
    "- Librería siphon\n",
    "\n",
    "\n",
    "```bash\n",
    "conda install -c conda-forge geemap eemont siphon xarray[complete] netCDF4\n",
    "```\n"
   ]
  },
  {
   "cell_type": "code",
   "execution_count": 76,
   "metadata": {},
   "outputs": [
    {
     "data": {
      "text/plain": [
       "['Full Collection (Reference / Forecast Time) Dataset', 'Best GFS Quarter Degree Forecast Time Series', 'Latest Collection for GFS Quarter Degree Forecast']"
      ]
     },
     "execution_count": 76,
     "metadata": {},
     "output_type": "execute_result"
    }
   ],
   "source": [
    "from siphon.catalog import TDSCatalog\n",
    "\n",
    "# si el catalogo que se desea es de 0.5 grados\n",
    "# best_gfs = TDSCatalog('http://thredds.ucar.edu/thredds/catalog/grib/NCEP/GFS/Global_0p25deg/catalog.xml')\n",
    "\n",
    "# si el catalogo que se desea es de 0.25 grados\n",
    "best_gfs = TDSCatalog('http://thredds.ucar.edu/thredds/catalog/grib/NCEP/GFS/Global_0p25deg/catalog.xml')\n",
    "\n",
    "# lista de colecciones\n",
    "best_gfs.datasets"
   ]
  },
  {
   "cell_type": "code",
   "execution_count": 77,
   "metadata": {},
   "outputs": [
    {
     "data": {
      "text/plain": [
       "{'OPENDAP': 'https://thredds.ucar.edu/thredds/dodsC/grib/NCEP/GFS/Global_0p25deg/Best',\n",
       " 'CdmRemote': 'https://thredds.ucar.edu/thredds/cdmremote/grib/NCEP/GFS/Global_0p25deg/Best',\n",
       " 'JupyterNotebook': 'https://thredds.ucar.edu/thredds/notebook/grib/NCEP/GFS/Global_0p25deg/Best',\n",
       " 'NetcdfSubset': 'https://thredds.ucar.edu/thredds/ncss/grid/grib/NCEP/GFS/Global_0p25deg/Best',\n",
       " 'WMS': 'https://thredds.ucar.edu/thredds/wms/grib/NCEP/GFS/Global_0p25deg/Best',\n",
       " 'WCS': 'https://thredds.ucar.edu/thredds/wcs/grib/NCEP/GFS/Global_0p25deg/Best',\n",
       " 'ISO': 'https://thredds.ucar.edu/thredds/iso/grib/NCEP/GFS/Global_0p25deg/Best',\n",
       " 'NCML': 'https://thredds.ucar.edu/thredds/ncml/grib/NCEP/GFS/Global_0p25deg/Best',\n",
       " 'UDDC': 'https://thredds.ucar.edu/thredds/uddc/grib/NCEP/GFS/Global_0p25deg/Best'}"
      ]
     },
     "execution_count": 77,
     "metadata": {},
     "output_type": "execute_result"
    }
   ],
   "source": [
    "best_ds = list(best_gfs.datasets.values())[1]\n",
    "\n",
    "# diccionario de urls disponibles con la información\n",
    "best_ds.access_urls"
   ]
  },
  {
   "cell_type": "code",
   "execution_count": 78,
   "metadata": {},
   "outputs": [],
   "source": [
    "# utilizando el servicio de netcdf-subset\n",
    "\n",
    "from siphon.ncss import NCSS\n",
    "ncss = NCSS(best_ds.access_urls['NetcdfSubset'])"
   ]
  },
  {
   "cell_type": "code",
   "execution_count": 79,
   "metadata": {},
   "outputs": [],
   "source": [
    "# generando un sistema de consulta en el netcdf-subset\n",
    "query = ncss.query()"
   ]
  },
  {
   "cell_type": "code",
   "execution_count": null,
   "metadata": {},
   "outputs": [],
   "source": []
  },
  {
   "cell_type": "code",
   "execution_count": 1,
   "metadata": {},
   "outputs": [],
   "source": [
    "from siphon.catalog import TDSCatalog\n",
    "import xarray as xr\n",
    "import datetime"
   ]
  },
  {
   "cell_type": "code",
   "execution_count": 2,
   "metadata": {},
   "outputs": [
    {
     "name": "stdout",
     "output_type": "stream",
     "text": [
      "['GFS_Global_0p25deg_20221022_1200.grib2']\n"
     ]
    }
   ],
   "source": [
    "# Latest GFS TDSCatalog\n",
    "url = 'https://thredds-jumbo.unidata.ucar.edu/thredds/catalog/grib/NCEP/GFS/Global_0p25deg/latest.xml'\n",
    "catalog = TDSCatalog(url)\n",
    "print(catalog.datasets)"
   ]
  },
  {
   "cell_type": "code",
   "execution_count": 3,
   "metadata": {},
   "outputs": [
    {
     "data": {
      "text/plain": [
       "datetime.datetime(2022, 10, 23, 6, 0)"
      ]
     },
     "execution_count": 3,
     "metadata": {},
     "output_type": "execute_result"
    }
   ],
   "source": [
    "# Time of interest\n",
    "obs = datetime.date.today() + datetime.timedelta(days = 1)\n",
    "obs_time = datetime.datetime(obs.year, obs.month, obs.day,\n",
    "                             hour = 6, minute = 0)\n",
    "obs_time"
   ]
  },
  {
   "cell_type": "code",
   "execution_count": 4,
   "metadata": {},
   "outputs": [],
   "source": [
    "def get_netcdf_subset(catalog, variable, obs_time):\n",
    "    # Boundaries\n",
    "    south = -15.0\n",
    "    north = 15.0\n",
    "    west = 90\n",
    "    east = 150\n",
    "    \n",
    "    # NetCDF Subset Service Query\n",
    "    ncss = catalog.datasets[0].subset()\n",
    "    query = ncss.query()\n",
    "    \n",
    "    query.lonlat_box(west = west, east = east, south = south, north = north)\n",
    "    query.variables(variable)\n",
    "    query.time(obs_time)\n",
    "\n",
    "    return xr.open_dataset(xr.backends.NetCDF4DataStore(ncss.get_data(query)))\n"
   ]
  },
  {
   "cell_type": "code",
   "execution_count": 67,
   "metadata": {},
   "outputs": [
    {
     "data": {
      "text/plain": [
       "var=Air_temperature&west=-83&east=-67&south=-20&north=0&accept=netcdf4"
      ]
     },
     "execution_count": 67,
     "metadata": {},
     "output_type": "execute_result"
    }
   ],
   "source": [
    "subss = catalog.datasets[0].subset()\n",
    "\n",
    "query = subss.query()\n",
    "\n",
    "query.lonlat_box(west=-83, east=-67, north=0, south=-20)\n",
    "\n",
    "query.accept('netcdf4')\n",
    "\n",
    "query.variables('Air_temperature')"
   ]
  },
  {
   "cell_type": "code",
   "execution_count": 68,
   "metadata": {},
   "outputs": [
    {
     "ename": "HTTPError",
     "evalue": "Error accessing https://thredds-jumbo.unidata.ucar.edu/thredds/ncss/grid/grib/NCEP/GFS/Global_0p25deg/GFS_Global_0p25deg_20221022_1200.grib2?var=Air_temperature&west=-83&east=-67&south=-20&north=0&accept=netcdf4\nServer Error (400: Variable: Air_temperature is not contained in the requested dataset)",
     "output_type": "error",
     "traceback": [
      "\u001b[0;31m---------------------------------------------------------------------------\u001b[0m",
      "\u001b[0;31mHTTPError\u001b[0m                                 Traceback (most recent call last)",
      "\u001b[1;32m/home/georgynio/Envs/python_climatologia/book/dia5/01.a.descarga.ipynb Cell 7\u001b[0m in \u001b[0;36m<cell line: 1>\u001b[0;34m()\u001b[0m\n\u001b[0;32m----> <a href='vscode-notebook-cell:/home/georgynio/Envs/python_climatologia/book/dia5/01.a.descarga.ipynb#X16sZmlsZQ%3D%3D?line=0'>1</a>\u001b[0m data \u001b[39m=\u001b[39m subss\u001b[39m.\u001b[39;49mget_data(query)\n\u001b[1;32m      <a href='vscode-notebook-cell:/home/georgynio/Envs/python_climatologia/book/dia5/01.a.descarga.ipynb#X16sZmlsZQ%3D%3D?line=1'>2</a>\u001b[0m \u001b[39mlist\u001b[39m(data\u001b[39m.\u001b[39mvariables)\n",
      "File \u001b[0;32m~/miniconda3/envs/geocat/lib/python3.9/site-packages/siphon/ncss.py:114\u001b[0m, in \u001b[0;36mNCSS.get_data\u001b[0;34m(self, query)\u001b[0m\n\u001b[1;32m     93\u001b[0m \u001b[39mdef\u001b[39;00m \u001b[39mget_data\u001b[39m(\u001b[39mself\u001b[39m, query):\n\u001b[1;32m     94\u001b[0m     \u001b[39m\"\"\"Fetch parsed data from a THREDDS server using NCSS.\u001b[39;00m\n\u001b[1;32m     95\u001b[0m \n\u001b[1;32m     96\u001b[0m \u001b[39m    Requests data from the NCSS endpoint given the parameters in `query` and\u001b[39;00m\n\u001b[0;32m   (...)\u001b[0m\n\u001b[1;32m    112\u001b[0m \n\u001b[1;32m    113\u001b[0m \u001b[39m    \"\"\"\u001b[39;00m\n\u001b[0;32m--> 114\u001b[0m     resp \u001b[39m=\u001b[39m \u001b[39mself\u001b[39;49m\u001b[39m.\u001b[39;49mget_query(query)\n\u001b[1;32m    115\u001b[0m     \u001b[39mreturn\u001b[39;00m response_handlers(resp, \u001b[39mself\u001b[39m\u001b[39m.\u001b[39munit_handler)\n",
      "File \u001b[0;32m~/miniconda3/envs/geocat/lib/python3.9/site-packages/siphon/http_util.py:410\u001b[0m, in \u001b[0;36mHTTPEndPoint.get_query\u001b[0;34m(self, query)\u001b[0m\n\u001b[1;32m    390\u001b[0m \u001b[39m\"\"\"Make a GET request, including a query, to the endpoint.\u001b[39;00m\n\u001b[1;32m    391\u001b[0m \n\u001b[1;32m    392\u001b[0m \u001b[39mThe path of the request is to the base URL assigned to the endpoint.\u001b[39;00m\n\u001b[0;32m   (...)\u001b[0m\n\u001b[1;32m    407\u001b[0m \n\u001b[1;32m    408\u001b[0m \u001b[39m\"\"\"\u001b[39;00m\n\u001b[1;32m    409\u001b[0m url \u001b[39m=\u001b[39m \u001b[39mself\u001b[39m\u001b[39m.\u001b[39m_base[:\u001b[39m-\u001b[39m\u001b[39m1\u001b[39m] \u001b[39mif\u001b[39;00m \u001b[39mself\u001b[39m\u001b[39m.\u001b[39m_base[\u001b[39m-\u001b[39m\u001b[39m1\u001b[39m] \u001b[39m==\u001b[39m \u001b[39m'\u001b[39m\u001b[39m/\u001b[39m\u001b[39m'\u001b[39m \u001b[39melse\u001b[39;00m \u001b[39mself\u001b[39m\u001b[39m.\u001b[39m_base\n\u001b[0;32m--> 410\u001b[0m \u001b[39mreturn\u001b[39;00m \u001b[39mself\u001b[39;49m\u001b[39m.\u001b[39;49mget(url, query)\n",
      "File \u001b[0;32m~/miniconda3/envs/geocat/lib/python3.9/site-packages/siphon/http_util.py:492\u001b[0m, in \u001b[0;36mHTTPEndPoint.get\u001b[0;34m(self, path, params)\u001b[0m\n\u001b[1;32m    490\u001b[0m     \u001b[39melse\u001b[39;00m:\n\u001b[1;32m    491\u001b[0m         text \u001b[39m=\u001b[39m resp\u001b[39m.\u001b[39mtext\n\u001b[0;32m--> 492\u001b[0m     \u001b[39mraise\u001b[39;00m requests\u001b[39m.\u001b[39mHTTPError(\u001b[39m'\u001b[39m\u001b[39mError accessing \u001b[39m\u001b[39m{0}\u001b[39;00m\u001b[39m\\n\u001b[39;00m\u001b[39m'\u001b[39m\n\u001b[1;32m    493\u001b[0m                              \u001b[39m'\u001b[39m\u001b[39mServer Error (\u001b[39m\u001b[39m{1:d}\u001b[39;00m\u001b[39m: \u001b[39m\u001b[39m{2}\u001b[39;00m\u001b[39m)\u001b[39m\u001b[39m'\u001b[39m\u001b[39m.\u001b[39mformat(resp\u001b[39m.\u001b[39mrequest\u001b[39m.\u001b[39murl,\n\u001b[1;32m    494\u001b[0m                                                                 resp\u001b[39m.\u001b[39mstatus_code,\n\u001b[1;32m    495\u001b[0m                                                                 text))\n\u001b[1;32m    496\u001b[0m \u001b[39mreturn\u001b[39;00m resp\n",
      "\u001b[0;31mHTTPError\u001b[0m: Error accessing https://thredds-jumbo.unidata.ucar.edu/thredds/ncss/grid/grib/NCEP/GFS/Global_0p25deg/GFS_Global_0p25deg_20221022_1200.grib2?var=Air_temperature&west=-83&east=-67&south=-20&north=0&accept=netcdf4\nServer Error (400: Variable: Air_temperature is not contained in the requested dataset)"
     ]
    }
   ],
   "source": [
    "data = subss.get_data(query)\n",
    "list(data.variables)"
   ]
  },
  {
   "cell_type": "code",
   "execution_count": null,
   "metadata": {},
   "outputs": [],
   "source": []
  },
  {
   "cell_type": "code",
   "execution_count": 27,
   "metadata": {},
   "outputs": [
    {
     "name": "stdout",
     "output_type": "stream",
     "text": [
      "<class 'xarray.core.dataset.Dataset'>\n",
      "KeysView(Frozen({'time2_bounds': <xarray.Variable (time2: 173, bounds_dim: 2)>\n",
      "array([['2022-10-23T00:00:00.000000000', '2022-10-23T06:00:00.000000000'],\n",
      "       ['2022-10-22T12:00:00.000000000', '2022-10-23T09:00:00.000000000'],\n",
      "       ['2022-10-23T06:00:00.000000000', '2022-10-23T09:00:00.000000000'],\n",
      "       ...,\n",
      "       ['2022-11-06T18:00:00.000000000', '2022-11-07T00:00:00.000000000'],\n",
      "       ['2022-10-22T12:00:00.000000000', '2022-11-07T12:00:00.000000000'],\n",
      "       ['2022-11-07T06:00:00.000000000', '2022-11-07T12:00:00.000000000']],\n",
      "      dtype='datetime64[ns]'), 'time2': <xarray.IndexVariable 'time2' (time2: 173)>\n",
      "array(['2022-10-23T03:00:00.000000000', '2022-10-22T22:30:00.000000000',\n",
      "       '2022-10-23T07:30:00.000000000', '2022-10-23T00:00:00.000000000',\n",
      "       '2022-10-23T09:00:00.000000000', '2022-10-23T01:30:00.000000000',\n",
      "       '2022-10-23T13:30:00.000000000', '2022-10-23T03:00:00.000000000',\n",
      "       '2022-10-23T15:00:00.000000000', '2022-10-23T04:30:00.000000000',\n",
      "       '2022-10-23T19:30:00.000000000', '2022-10-23T06:00:00.000000000',\n",
      "       '2022-10-23T21:00:00.000000000', '2022-10-23T07:30:00.000000000',\n",
      "       '2022-10-24T01:30:00.000000000', '2022-10-23T09:00:00.000000000',\n",
      "       '2022-10-24T03:00:00.000000000', '2022-10-23T10:30:00.000000000',\n",
      "       '2022-10-24T07:30:00.000000000', '2022-10-23T12:00:00.000000000',\n",
      "       '2022-10-24T09:00:00.000000000', '2022-10-23T13:30:00.000000000',\n",
      "       '2022-10-24T13:30:00.000000000', '2022-10-23T15:00:00.000000000',\n",
      "       '2022-10-24T15:00:00.000000000', '2022-10-23T16:30:00.000000000',\n",
      "       '2022-10-24T19:30:00.000000000', '2022-10-23T18:00:00.000000000',\n",
      "       '2022-10-24T21:00:00.000000000', '2022-10-23T19:30:00.000000000',\n",
      "       '2022-10-25T01:30:00.000000000', '2022-10-23T21:00:00.000000000',\n",
      "       '2022-10-25T03:00:00.000000000', '2022-10-23T22:30:00.000000000',\n",
      "       '2022-10-25T07:30:00.000000000', '2022-10-24T00:00:00.000000000',\n",
      "       '2022-10-25T09:00:00.000000000', '2022-10-24T01:30:00.000000000',\n",
      "       '2022-10-25T13:30:00.000000000', '2022-10-24T03:00:00.000000000',\n",
      "       '2022-10-25T15:00:00.000000000', '2022-10-24T04:30:00.000000000',\n",
      "       '2022-10-25T19:30:00.000000000', '2022-10-24T06:00:00.000000000',\n",
      "       '2022-10-25T21:00:00.000000000', '2022-10-24T07:30:00.000000000',\n",
      "       '2022-10-26T01:30:00.000000000', '2022-10-24T09:00:00.000000000',\n",
      "       '2022-10-26T03:00:00.000000000', '2022-10-24T10:30:00.000000000',\n",
      "       '2022-10-26T07:30:00.000000000', '2022-10-24T12:00:00.000000000',\n",
      "       '2022-10-26T09:00:00.000000000', '2022-10-24T13:30:00.000000000',\n",
      "       '2022-10-26T13:30:00.000000000', '2022-10-24T15:00:00.000000000',\n",
      "       '2022-10-26T15:00:00.000000000', '2022-10-24T16:30:00.000000000',\n",
      "       '2022-10-26T19:30:00.000000000', '2022-10-24T18:00:00.000000000',\n",
      "       '2022-10-26T21:00:00.000000000', '2022-10-24T19:30:00.000000000',\n",
      "       '2022-10-27T01:30:00.000000000', '2022-10-24T21:00:00.000000000',\n",
      "       '2022-10-27T03:00:00.000000000', '2022-10-24T22:30:00.000000000',\n",
      "       '2022-10-27T07:30:00.000000000', '2022-10-25T00:00:00.000000000',\n",
      "       '2022-10-27T09:00:00.000000000', '2022-10-25T01:30:00.000000000',\n",
      "       '2022-10-27T13:30:00.000000000', '2022-10-25T03:00:00.000000000',\n",
      "       '2022-10-27T15:00:00.000000000', '2022-10-25T04:30:00.000000000',\n",
      "       '2022-10-27T19:30:00.000000000', '2022-10-25T06:00:00.000000000',\n",
      "       '2022-10-27T21:00:00.000000000', '2022-10-25T07:30:00.000000000',\n",
      "       '2022-10-28T01:30:00.000000000', '2022-10-25T09:00:00.000000000',\n",
      "       '2022-10-28T03:00:00.000000000', '2022-10-25T10:30:00.000000000',\n",
      "       '2022-10-28T07:30:00.000000000', '2022-10-25T12:00:00.000000000',\n",
      "       '2022-10-28T09:00:00.000000000', '2022-10-25T13:30:00.000000000',\n",
      "       '2022-10-28T13:30:00.000000000', '2022-10-25T15:00:00.000000000',\n",
      "       '2022-10-28T15:00:00.000000000', '2022-10-25T16:30:00.000000000',\n",
      "       '2022-10-28T19:30:00.000000000', '2022-10-25T18:00:00.000000000',\n",
      "       '2022-10-28T21:00:00.000000000', '2022-10-25T19:30:00.000000000',\n",
      "       '2022-10-29T01:30:00.000000000', '2022-10-25T21:00:00.000000000',\n",
      "       '2022-10-29T03:00:00.000000000', '2022-10-25T22:30:00.000000000',\n",
      "       '2022-10-29T07:30:00.000000000', '2022-10-26T00:00:00.000000000',\n",
      "       '2022-10-29T09:00:00.000000000', '2022-10-26T01:30:00.000000000',\n",
      "       '2022-10-29T13:30:00.000000000', '2022-10-26T03:00:00.000000000',\n",
      "       '2022-10-29T15:00:00.000000000', '2022-10-26T04:30:00.000000000',\n",
      "       '2022-10-29T19:30:00.000000000', '2022-10-26T06:00:00.000000000',\n",
      "       '2022-10-29T21:00:00.000000000', '2022-10-26T07:30:00.000000000',\n",
      "       '2022-10-30T01:30:00.000000000', '2022-10-26T09:00:00.000000000',\n",
      "       '2022-10-30T03:00:00.000000000', '2022-10-26T10:30:00.000000000',\n",
      "       '2022-10-30T07:30:00.000000000', '2022-10-26T12:00:00.000000000',\n",
      "       '2022-10-30T09:00:00.000000000', '2022-10-26T13:30:00.000000000',\n",
      "       '2022-10-30T13:30:00.000000000', '2022-10-26T15:00:00.000000000',\n",
      "       '2022-10-30T15:00:00.000000000', '2022-10-26T16:30:00.000000000',\n",
      "       '2022-10-30T19:30:00.000000000', '2022-10-26T18:00:00.000000000',\n",
      "       '2022-10-30T21:00:00.000000000', '2022-10-26T19:30:00.000000000',\n",
      "       '2022-10-31T01:30:00.000000000', '2022-10-26T21:00:00.000000000',\n",
      "       '2022-10-31T03:00:00.000000000', '2022-10-26T22:30:00.000000000',\n",
      "       '2022-10-31T07:30:00.000000000', '2022-10-27T00:00:00.000000000',\n",
      "       '2022-10-31T09:00:00.000000000', '2022-10-27T01:30:00.000000000',\n",
      "       '2022-10-31T13:30:00.000000000', '2022-10-27T03:00:00.000000000',\n",
      "       '2022-10-31T15:00:00.000000000', '2022-10-27T04:30:00.000000000',\n",
      "       '2022-10-31T19:30:00.000000000', '2022-10-27T06:00:00.000000000',\n",
      "       '2022-10-31T21:00:00.000000000', '2022-10-27T07:30:00.000000000',\n",
      "       '2022-11-01T01:30:00.000000000', '2022-10-27T09:00:00.000000000',\n",
      "       '2022-11-01T03:00:00.000000000', '2022-10-27T10:30:00.000000000',\n",
      "       '2022-11-01T07:30:00.000000000', '2022-10-27T12:00:00.000000000',\n",
      "       '2022-11-01T09:00:00.000000000', '2022-10-27T18:00:00.000000000',\n",
      "       '2022-11-01T21:00:00.000000000', '2022-10-28T00:00:00.000000000',\n",
      "       '2022-11-02T09:00:00.000000000', '2022-10-28T06:00:00.000000000',\n",
      "       '2022-11-02T21:00:00.000000000', '2022-10-28T12:00:00.000000000',\n",
      "       '2022-11-03T09:00:00.000000000', '2022-10-28T18:00:00.000000000',\n",
      "       '2022-11-03T21:00:00.000000000', '2022-10-29T00:00:00.000000000',\n",
      "       '2022-11-04T09:00:00.000000000', '2022-10-29T06:00:00.000000000',\n",
      "       '2022-11-04T21:00:00.000000000', '2022-10-29T12:00:00.000000000',\n",
      "       '2022-11-05T09:00:00.000000000', '2022-10-29T18:00:00.000000000',\n",
      "       '2022-11-05T21:00:00.000000000', '2022-10-30T00:00:00.000000000',\n",
      "       '2022-11-06T09:00:00.000000000', '2022-10-30T06:00:00.000000000',\n",
      "       '2022-11-06T21:00:00.000000000', '2022-10-30T12:00:00.000000000',\n",
      "       '2022-11-07T09:00:00.000000000'], dtype='datetime64[ns]')\n",
      "Attributes:\n",
      "    standard_name:  time\n",
      "    long_name:      time\n",
      "    udunits:        Hour since 2022-10-22T12:00:00Z\n",
      "    bounds:         time2_bounds, 'reftime': <xarray.Variable ()>\n",
      "array('2022-10-22T12:00:00.000000000', dtype='datetime64[ns]')\n",
      "Attributes:\n",
      "    standard_name:  forecast_reference_time\n",
      "    long_name:      GRIB reference time, 'latitude': <xarray.IndexVariable 'latitude' (latitude: 121)>\n",
      "array([ 15.  ,  14.75,  14.5 ,  14.25,  14.  ,  13.75,  13.5 ,  13.25,  13.  ,\n",
      "        12.75,  12.5 ,  12.25,  12.  ,  11.75,  11.5 ,  11.25,  11.  ,  10.75,\n",
      "        10.5 ,  10.25,  10.  ,   9.75,   9.5 ,   9.25,   9.  ,   8.75,   8.5 ,\n",
      "         8.25,   8.  ,   7.75,   7.5 ,   7.25,   7.  ,   6.75,   6.5 ,   6.25,\n",
      "         6.  ,   5.75,   5.5 ,   5.25,   5.  ,   4.75,   4.5 ,   4.25,   4.  ,\n",
      "         3.75,   3.5 ,   3.25,   3.  ,   2.75,   2.5 ,   2.25,   2.  ,   1.75,\n",
      "         1.5 ,   1.25,   1.  ,   0.75,   0.5 ,   0.25,   0.  ,  -0.25,  -0.5 ,\n",
      "        -0.75,  -1.  ,  -1.25,  -1.5 ,  -1.75,  -2.  ,  -2.25,  -2.5 ,  -2.75,\n",
      "        -3.  ,  -3.25,  -3.5 ,  -3.75,  -4.  ,  -4.25,  -4.5 ,  -4.75,  -5.  ,\n",
      "        -5.25,  -5.5 ,  -5.75,  -6.  ,  -6.25,  -6.5 ,  -6.75,  -7.  ,  -7.25,\n",
      "        -7.5 ,  -7.75,  -8.  ,  -8.25,  -8.5 ,  -8.75,  -9.  ,  -9.25,  -9.5 ,\n",
      "        -9.75, -10.  , -10.25, -10.5 , -10.75, -11.  , -11.25, -11.5 , -11.75,\n",
      "       -12.  , -12.25, -12.5 , -12.75, -13.  , -13.25, -13.5 , -13.75, -14.  ,\n",
      "       -14.25, -14.5 , -14.75, -15.  ], dtype=float32)\n",
      "Attributes:\n",
      "    units:          degrees_north\n",
      "    standard_name:  latitude, 'longitude': <xarray.IndexVariable 'longitude' (longitude: 241)>\n",
      "array([ 90.  ,  90.25,  90.5 , ..., 149.5 , 149.75, 150.  ], dtype=float32)\n",
      "Attributes:\n",
      "    units:          degrees_east\n",
      "    standard_name:  longitude, 'Total_precipitation_surface_Mixed_intervals_Accumulation': <xarray.Variable (time2: 173, latitude: 121, longitude: 241)>\n",
      "[5044853 values with dtype=float32]\n",
      "Attributes:\n",
      "    long_name:                       Total precipitation (Mixed_intervals Acc...\n",
      "    units:                           kg.m-2\n",
      "    Grib_Variable_Id:                VAR_0-1-8_L1_Imixed_S1\n",
      "    Grib2_Parameter:                 [0 1 8]\n",
      "    Grib2_Parameter_Discipline:      Meteorological products\n",
      "    Grib2_Parameter_Category:        Moisture\n",
      "    Grib2_Parameter_Name:            Total precipitation\n",
      "    Grib2_Level_Type:                1\n",
      "    Grib2_Level_Desc:                Ground or water surface\n",
      "    Grib2_Generating_Process_Type:   Forecast\n",
      "    Grib2_Statistical_Process_Type:  Accumulation\n",
      "    grid_mapping:                    LatLon_721X1440-0p13S-180p00E, 'LatLon_721X1440-0p13S-180p00E': <xarray.Variable ()>\n",
      "array(-2147483647, dtype=int32)\n",
      "Attributes:\n",
      "    grid_mapping_name:  latitude_longitude\n",
      "    earth_radius:       6371229.0}))\n"
     ]
    }
   ],
   "source": [
    "rain = 'Total_precipitation_surface_Mixed_intervals_Accumulation'\n",
    "\n",
    "ds_rain = get_netcdf_subset(catalog, rain, obs_time)\n",
    "print(type(ds_rain))\n",
    "\n",
    "# verificar los nombres de las variables y dimensiones\n",
    "print(ds_rain.keys())\n",
    "\n",
    "# buscar el nombre con el que se guarda la variable tiempo\n",
    "ds_rain = get_netcdf_subset(catalog, rain, obs_time).sel(time2 = obs_time)\n",
    "\n",
    "# ds_rain"
   ]
  },
  {
   "cell_type": "code",
   "execution_count": 21,
   "metadata": {},
   "outputs": [],
   "source": [
    "temp = 'Temperature_surface'\n",
    "ds_temp = get_netcdf_subset(catalog, temp, obs_time).sel(time3 = obs_time)"
   ]
  },
  {
   "cell_type": "code",
   "execution_count": 23,
   "metadata": {},
   "outputs": [],
   "source": [
    "wind = 'Wind_speed_gust_surface'\n",
    "ds_wind = get_netcdf_subset(catalog, wind, obs_time).sel(time3 = obs_time)"
   ]
  },
  {
   "cell_type": "code",
   "execution_count": 26,
   "metadata": {},
   "outputs": [
    {
     "ename": "HTTPError",
     "evalue": "Error accessing https://thredds-jumbo.unidata.ucar.edu/thredds/ncss/grid/grib/NCEP/GFS/Global_0p25deg/GFS_Global_0p25deg_20221022_1200.grib2?var=Relative_humidity_isaboric&time=2022-10-23T06%3A00%3A00&west=90&east=150&south=-15.0&north=15.0\nServer Error (400: Variable: Relative_humidity_isaboric is not contained in the requested dataset)",
     "output_type": "error",
     "traceback": [
      "\u001b[0;31m---------------------------------------------------------------------------\u001b[0m",
      "\u001b[0;31mHTTPError\u001b[0m                                 Traceback (most recent call last)",
      "\u001b[1;32m/home/georgynio/Envs/python_climatologia/book/dia5/01.a.descarga.ipynb Cell 10\u001b[0m in \u001b[0;36m<cell line: 2>\u001b[0;34m()\u001b[0m\n\u001b[1;32m      <a href='vscode-notebook-cell:/home/georgynio/Envs/python_climatologia/book/dia5/01.a.descarga.ipynb#X12sZmlsZQ%3D%3D?line=0'>1</a>\u001b[0m rhum \u001b[39m=\u001b[39m \u001b[39m'\u001b[39m\u001b[39mRelative_humidity_isaboric\u001b[39m\u001b[39m'\u001b[39m\n\u001b[0;32m----> <a href='vscode-notebook-cell:/home/georgynio/Envs/python_climatologia/book/dia5/01.a.descarga.ipynb#X12sZmlsZQ%3D%3D?line=1'>2</a>\u001b[0m ds_rhum \u001b[39m=\u001b[39m get_netcdf_subset(catalog, rhum, obs_time) \\\n\u001b[1;32m      <a href='vscode-notebook-cell:/home/georgynio/Envs/python_climatologia/book/dia5/01.a.descarga.ipynb#X12sZmlsZQ%3D%3D?line=2'>3</a>\u001b[0m     \u001b[39m.\u001b[39msel(height_above_ground \u001b[39m=\u001b[39m \u001b[39m2.0\u001b[39m) \\\n\u001b[1;32m      <a href='vscode-notebook-cell:/home/georgynio/Envs/python_climatologia/book/dia5/01.a.descarga.ipynb#X12sZmlsZQ%3D%3D?line=3'>4</a>\u001b[0m     \u001b[39m.\u001b[39msel(time3 \u001b[39m=\u001b[39m obs_time)\n",
      "\u001b[1;32m/home/georgynio/Envs/python_climatologia/book/dia5/01.a.descarga.ipynb Cell 10\u001b[0m in \u001b[0;36mget_netcdf_subset\u001b[0;34m(catalog, variable, obs_time)\u001b[0m\n\u001b[1;32m     <a href='vscode-notebook-cell:/home/georgynio/Envs/python_climatologia/book/dia5/01.a.descarga.ipynb#X12sZmlsZQ%3D%3D?line=12'>13</a>\u001b[0m query\u001b[39m.\u001b[39mvariables(variable)\n\u001b[1;32m     <a href='vscode-notebook-cell:/home/georgynio/Envs/python_climatologia/book/dia5/01.a.descarga.ipynb#X12sZmlsZQ%3D%3D?line=13'>14</a>\u001b[0m query\u001b[39m.\u001b[39mtime(obs_time)\n\u001b[0;32m---> <a href='vscode-notebook-cell:/home/georgynio/Envs/python_climatologia/book/dia5/01.a.descarga.ipynb#X12sZmlsZQ%3D%3D?line=15'>16</a>\u001b[0m \u001b[39mreturn\u001b[39;00m xr\u001b[39m.\u001b[39mopen_dataset(xr\u001b[39m.\u001b[39mbackends\u001b[39m.\u001b[39mNetCDF4DataStore(ncss\u001b[39m.\u001b[39;49mget_data(query)))\n",
      "File \u001b[0;32m~/miniconda3/envs/geocat/lib/python3.9/site-packages/siphon/ncss.py:114\u001b[0m, in \u001b[0;36mNCSS.get_data\u001b[0;34m(self, query)\u001b[0m\n\u001b[1;32m     93\u001b[0m \u001b[39mdef\u001b[39;00m \u001b[39mget_data\u001b[39m(\u001b[39mself\u001b[39m, query):\n\u001b[1;32m     94\u001b[0m     \u001b[39m\"\"\"Fetch parsed data from a THREDDS server using NCSS.\u001b[39;00m\n\u001b[1;32m     95\u001b[0m \n\u001b[1;32m     96\u001b[0m \u001b[39m    Requests data from the NCSS endpoint given the parameters in `query` and\u001b[39;00m\n\u001b[0;32m   (...)\u001b[0m\n\u001b[1;32m    112\u001b[0m \n\u001b[1;32m    113\u001b[0m \u001b[39m    \"\"\"\u001b[39;00m\n\u001b[0;32m--> 114\u001b[0m     resp \u001b[39m=\u001b[39m \u001b[39mself\u001b[39;49m\u001b[39m.\u001b[39;49mget_query(query)\n\u001b[1;32m    115\u001b[0m     \u001b[39mreturn\u001b[39;00m response_handlers(resp, \u001b[39mself\u001b[39m\u001b[39m.\u001b[39munit_handler)\n",
      "File \u001b[0;32m~/miniconda3/envs/geocat/lib/python3.9/site-packages/siphon/http_util.py:410\u001b[0m, in \u001b[0;36mHTTPEndPoint.get_query\u001b[0;34m(self, query)\u001b[0m\n\u001b[1;32m    390\u001b[0m \u001b[39m\"\"\"Make a GET request, including a query, to the endpoint.\u001b[39;00m\n\u001b[1;32m    391\u001b[0m \n\u001b[1;32m    392\u001b[0m \u001b[39mThe path of the request is to the base URL assigned to the endpoint.\u001b[39;00m\n\u001b[0;32m   (...)\u001b[0m\n\u001b[1;32m    407\u001b[0m \n\u001b[1;32m    408\u001b[0m \u001b[39m\"\"\"\u001b[39;00m\n\u001b[1;32m    409\u001b[0m url \u001b[39m=\u001b[39m \u001b[39mself\u001b[39m\u001b[39m.\u001b[39m_base[:\u001b[39m-\u001b[39m\u001b[39m1\u001b[39m] \u001b[39mif\u001b[39;00m \u001b[39mself\u001b[39m\u001b[39m.\u001b[39m_base[\u001b[39m-\u001b[39m\u001b[39m1\u001b[39m] \u001b[39m==\u001b[39m \u001b[39m'\u001b[39m\u001b[39m/\u001b[39m\u001b[39m'\u001b[39m \u001b[39melse\u001b[39;00m \u001b[39mself\u001b[39m\u001b[39m.\u001b[39m_base\n\u001b[0;32m--> 410\u001b[0m \u001b[39mreturn\u001b[39;00m \u001b[39mself\u001b[39;49m\u001b[39m.\u001b[39;49mget(url, query)\n",
      "File \u001b[0;32m~/miniconda3/envs/geocat/lib/python3.9/site-packages/siphon/http_util.py:492\u001b[0m, in \u001b[0;36mHTTPEndPoint.get\u001b[0;34m(self, path, params)\u001b[0m\n\u001b[1;32m    490\u001b[0m     \u001b[39melse\u001b[39;00m:\n\u001b[1;32m    491\u001b[0m         text \u001b[39m=\u001b[39m resp\u001b[39m.\u001b[39mtext\n\u001b[0;32m--> 492\u001b[0m     \u001b[39mraise\u001b[39;00m requests\u001b[39m.\u001b[39mHTTPError(\u001b[39m'\u001b[39m\u001b[39mError accessing \u001b[39m\u001b[39m{0}\u001b[39;00m\u001b[39m\\n\u001b[39;00m\u001b[39m'\u001b[39m\n\u001b[1;32m    493\u001b[0m                              \u001b[39m'\u001b[39m\u001b[39mServer Error (\u001b[39m\u001b[39m{1:d}\u001b[39;00m\u001b[39m: \u001b[39m\u001b[39m{2}\u001b[39;00m\u001b[39m)\u001b[39m\u001b[39m'\u001b[39m\u001b[39m.\u001b[39mformat(resp\u001b[39m.\u001b[39mrequest\u001b[39m.\u001b[39murl,\n\u001b[1;32m    494\u001b[0m                                                                 resp\u001b[39m.\u001b[39mstatus_code,\n\u001b[1;32m    495\u001b[0m                                                                 text))\n\u001b[1;32m    496\u001b[0m \u001b[39mreturn\u001b[39;00m resp\n",
      "\u001b[0;31mHTTPError\u001b[0m: Error accessing https://thredds-jumbo.unidata.ucar.edu/thredds/ncss/grid/grib/NCEP/GFS/Global_0p25deg/GFS_Global_0p25deg_20221022_1200.grib2?var=Relative_humidity_isaboric&time=2022-10-23T06%3A00%3A00&west=90&east=150&south=-15.0&north=15.0\nServer Error (400: Variable: Relative_humidity_isaboric is not contained in the requested dataset)"
     ]
    }
   ],
   "source": [
    "rhum = 'Relative_humidity_isaboric'\n",
    "ds_rhum = get_netcdf_subset(catalog, rhum, obs_time) \\\n",
    "    .sel(height_above_ground = 2.0) \\\n",
    "    .sel(time3 = obs_time)"
   ]
  },
  {
   "cell_type": "code",
   "execution_count": null,
   "metadata": {},
   "outputs": [],
   "source": [
    "# print(ds_rain.keys)\n",
    "ds_rain.Total_precipitation_surface_Mixed_intervals_Accumulation.plot(x='longitude', y='latitude')\n"
   ]
  },
  {
   "cell_type": "code",
   "execution_count": null,
   "metadata": {},
   "outputs": [],
   "source": []
  }
 ],
 "metadata": {
  "kernelspec": {
   "display_name": "Python 3.10.6 ('geocat')",
   "language": "python",
   "name": "python3"
  },
  "language_info": {
   "codemirror_mode": {
    "name": "ipython",
    "version": 3
   },
   "file_extension": ".py",
   "mimetype": "text/x-python",
   "name": "python",
   "nbconvert_exporter": "python",
   "pygments_lexer": "ipython3",
   "version": "3.9.12"
  },
  "orig_nbformat": 4,
  "vscode": {
   "interpreter": {
    "hash": "fcf694b962e2583d33974cfd22fd61f91596a2a2cb35a874a7015b54a03d5ead"
   }
  }
 },
 "nbformat": 4,
 "nbformat_minor": 2
}
