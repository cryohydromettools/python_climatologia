{
 "cells": [
  {
   "cell_type": "markdown",
   "metadata": {},
   "source": [
    "# Descarga de Dados GFS\n",
    "\n",
    "\n",
    "Trabajaremos con el utilitario [siphon](https://unidata.github.io/siphon/latest/index.html), que fue diseñado para tener acceso directo a al servidor [THREDDS](https://www.unidata.ucar.edu/software/tds/current/)\n",
    "\n",
    "Para utilizar el `siphon` debemos tener en consideración lo siguiente:\n",
    "- Python >= 3.5\n",
    "- numpy >= 1.8\n",
    "- pandas\n",
    "\n",
    "Y otras informaciones que podemos encontrar en el manual de instalación de la herramienta.\n",
    "\n",
    "\n",
    "## Instalación de librerias necesarias\n",
    "\n",
    "- Librería siphon\n",
    "\n",
    "\n",
    "```bash\n",
    "conda install -c conda-forge siphon xarray[complete] netCDF4\n",
    "```\n",
    "\n",
    ">El `netCDF4` será instalado para ser utilizado como background del siphon a la hora de hacer los requerimientos \\\n",
    "En este caso iremos a instalar el `xarray` para tener un control facilitado de los archivos `netcdf`\n",
    "\n"
   ]
  },
  {
   "cell_type": "markdown",
   "metadata": {},
   "source": [
    "La lista completa de datos como medio grado entra en este [link](https://thredds.ucar.edu/thredds/catalog/catalog.html)"
   ]
  },
  {
   "cell_type": "code",
   "execution_count": 1,
   "metadata": {},
   "outputs": [
    {
     "data": {
      "text/plain": [
       "['Full Collection (Reference / Forecast Time) Dataset', 'Best GFS Quarter Degree Forecast Time Series', 'Latest Collection for GFS Quarter Degree Forecast']"
      ]
     },
     "execution_count": 1,
     "metadata": {},
     "output_type": "execute_result"
    }
   ],
   "source": [
    "from siphon.catalog import TDSCatalog\n",
    "\n",
    "# si el catalogo que se desea es de 0.5 grados\n",
    "# best_gfs = TDSCatalog('http://thredds.ucar.edu/thredds/catalog/grib/NCEP/GFS/Global_0p25deg/catalog.xml')\n",
    "\n",
    "# si el catalogo que se desea es de 0.25 grados\n",
    "best_gfs = TDSCatalog('http://thredds.ucar.edu/thredds/catalog/grib/NCEP/GFS/Global_0p25deg/catalog.xml')\n",
    "\n",
    "# lista de colecciones\n",
    "best_gfs.datasets"
   ]
  },
  {
   "cell_type": "markdown",
   "metadata": {},
   "source": [
    "## Verificando datos disponibles"
   ]
  },
  {
   "cell_type": "code",
   "execution_count": 2,
   "metadata": {},
   "outputs": [
    {
     "name": "stdout",
     "output_type": "stream",
     "text": [
      "Total_precipitation_surface_Mixed_intervals_Accumulation\n",
      "Cloud_water_entire_atmosphere_single_layer\n",
      "Precipitable_water_entire_atmosphere_single_layer\n",
      "u-component_of_wind_planetary_boundary\n",
      "u-component_of_wind_tropopause\n",
      "v-component_of_wind_isobaric\n",
      "Upward_Long-Wave_Radp_Flux_atmosphere_top_Mixed_intervals_Average\n",
      "Temperature_maximum_wind\n",
      "Cloud_Work_Function_entire_atmosphere_single_layer_Mixed_intervals_Average\n",
      "Medium_cloud_cover_middle_cloud_Mixed_intervals_Average\n",
      "v-component_of_wind_tropopause\n",
      "Ice_cover_surface\n",
      "Ground_Heat_Flux_surface_Mixed_intervals_Average\n",
      "Soil_temperature_depth_below_surface_layer\n",
      "v-component_of_wind_planetary_boundary\n",
      "Geopotential_height_potential_vorticity_surface\n",
      "Ice_growth_rate_altitude_above_msl\n",
      "Upward_Short-Wave_Radiation_Flux_atmosphere_top_Mixed_intervals_Average\n",
      "Categorical_Ice_Pellets_surface\n",
      "Geopotential_height_cloud_ceiling\n",
      "Wind_speed_gust_surface\n",
      "Cloud_mixing_ratio_hybrid\n",
      "Maximum_temperature_height_above_ground_Mixed_intervals_Maximum\n",
      "Pressure_reduced_to_MSL_msl\n",
      "Temperature_potential_vorticity_surface\n",
      "High_cloud_cover_high_cloud_Mixed_intervals_Average\n",
      "v-component_of_wind_height_above_ground\n",
      "Rain_mixing_ratio_hybrid\n",
      "Momentum_flux_v-component_surface_Mixed_intervals_Average\n",
      "u-component_of_wind_sigma\n",
      "Per_cent_frozen_precipitation_surface\n",
      "Convective_inhibition_surface\n",
      "Pressure_of_level_from_which_parcel_was_lifted_pressure_difference_layer\n",
      "Relative_humidity_highest_tropospheric_freezing\n",
      "Total_cloud_cover_entire_atmosphere\n",
      "Temperature_middle_cloud_top_Mixed_intervals_Average\n",
      "Vegetation_surface\n",
      "Pressure_high_cloud_top_Mixed_intervals_Average\n",
      "Apparent_temperature_height_above_ground\n",
      "Pressure_low_cloud_top_Mixed_intervals_Average\n",
      "Pressure_low_cloud_bottom_Mixed_intervals_Average\n",
      "Ventilation_Rate_planetary_boundary\n",
      "Storm_relative_helicity_height_above_ground_layer\n",
      "ICAO_Standard_Atmosphere_Reference_Height_tropopause\n",
      "Temperature_altitude_above_msl\n",
      "Snow_mixing_ratio_hybrid\n",
      "Relative_humidity_zeroDegC_isotherm\n",
      "Vertical_velocity_pressure_sigma\n",
      "Categorical_Ice_Pellets_surface_Mixed_intervals_Average\n",
      "Pressure_middle_cloud_top_Mixed_intervals_Average\n",
      "Categorical_Snow_surface\n",
      "Haines_index_surface\n",
      "Potential_Evaporation_Rate_surface\n",
      "Vertical_velocity_geometric_isobaric\n",
      "Best_4_layer_Lifted_Index_surface\n",
      "Total_cloud_cover_entire_atmosphere_Mixed_intervals_Average\n",
      "Pressure_tropopause\n",
      "Temperature_high_cloud_top_Mixed_intervals_Average\n",
      "Snow_depth_surface\n",
      "U-Component_Storm_Motion_height_above_ground_layer\n",
      "Reflectivity_height_above_ground\n",
      "Relative_humidity_entire_atmosphere_single_layer\n",
      "Pressure_height_above_ground\n",
      "Categorical_Rain_surface\n",
      "u-component_of_wind_maximum_wind\n",
      "Geopotential_height_maximum_wind\n",
      "Graupel_snow_pellets_hybrid\n",
      "Relative_humidity_isobaric\n",
      "Temperature_low_cloud_top_Mixed_intervals_Average\n",
      "v-component_of_wind_maximum_wind\n",
      "Geopotential_height_surface\n",
      "u-component_of_wind_isobaric\n",
      "Pressure_middle_cloud_bottom_Mixed_intervals_Average\n",
      "Precipitation_rate_surface\n",
      "Total_cloud_cover_convective_cloud\n",
      "High_cloud_cover_high_cloud\n",
      "v-component_of_wind_sigma\n",
      "Snow_mixing_ratio_isobaric\n",
      "Momentum_flux_u-component_surface_Mixed_intervals_Average\n",
      "Pressure_maximum_wind\n",
      "Low_cloud_cover_low_cloud_Mixed_intervals_Average\n",
      "Water_runoff_surface_Mixed_intervals_Accumulation\n",
      "Low_cloud_cover_low_cloud\n",
      "Field_Capacity_surface\n",
      "Pressure_convective_cloud_bottom\n",
      "Relative_humidity_sigma_layer\n",
      "Total_cloud_cover_isobaric\n",
      "Temperature_height_above_ground\n",
      "Categorical_Freezing_Rain_surface\n",
      "Total_ozone_entire_atmosphere_single_layer\n",
      "Sensible_heat_net_flux_surface_Mixed_intervals_Average\n",
      "Pressure_convective_cloud_top\n",
      "V-Component_Storm_Motion_height_above_ground_layer\n",
      "Surface_Lifted_Index_surface\n",
      "Composite_reflectivity_entire_atmosphere\n",
      "Ice_water_mixing_ratio_isobaric\n",
      "Relative_humidity_sigma\n",
      "Convective_available_potential_energy_pressure_difference_layer\n",
      "Water_equivalent_of_accumulated_snow_depth_surface\n",
      "Temperature_sigma\n",
      "Geopotential_height_highest_tropospheric_freezing\n",
      "Zonal_Flux_of_Gravity_Wave_Stress_surface_Mixed_intervals_Average\n",
      "u-component_of_wind_altitude_above_msl\n",
      "Specific_humidity_height_above_ground\n",
      "Pressure_surface\n",
      "Relative_humidity_pressure_difference_layer\n",
      "Cloud_mixing_ratio_isobaric\n",
      "Rain_mixing_ratio_isobaric\n",
      "Temperature_isobaric\n",
      "Ice_thickness_surface\n",
      "Soil_type_surface\n",
      "Pressure_high_cloud_bottom_Mixed_intervals_Average\n",
      "Frictional_Velocity_surface\n",
      "v-component_of_wind_potential_vorticity_surface\n",
      "u-component_of_wind_height_above_ground\n",
      "Visibility_surface\n",
      "Sunshine_Duration_surface\n",
      "Geopotential_height_tropopause\n",
      "Dewpoint_temperature_height_above_ground\n",
      "Temperature_pressure_difference_layer\n",
      "Temperature_tropopause\n",
      "Upward_Long-Wave_Radp_Flux_surface_Mixed_intervals_Average\n",
      "Categorical_Freezing_Rain_surface_Mixed_intervals_Average\n",
      "v-component_of_wind_pressure_difference_layer\n",
      "Temperature_surface\n",
      "Graupel_snow_pellets_isobaric\n",
      "Medium_cloud_cover_middle_cloud\n",
      "Total_cloud_cover_boundary_layer_cloud_Mixed_intervals_Average\n",
      "Geopotential_height_isobaric\n",
      "Relative_humidity_height_above_ground\n",
      "Liquid_Volumetric_Soil_Moisture_non_Frozen_depth_below_surface_layer\n",
      "Absolute_vorticity_isobaric\n",
      "Land_cover_0__sea_1__land_surface\n",
      "Vertical_Speed_Shear_tropopause\n",
      "Convective_inhibition_pressure_difference_layer\n",
      "Specific_humidity_isobaric\n",
      "v-component_of_wind_altitude_above_msl\n",
      "Categorical_Rain_surface_Mixed_intervals_Average\n",
      "Latent_heat_net_flux_surface_Mixed_intervals_Average\n",
      "u-component_of_wind_potential_vorticity_surface\n",
      "Convective_available_potential_energy_surface\n",
      "Convective_precipitation_surface_Mixed_intervals_Accumulation\n",
      "Specific_humidity_pressure_difference_layer\n",
      "Precipitation_rate_surface_Mixed_intervals_Average\n",
      "Wilting_Point_surface\n",
      "Albedo_surface_Mixed_intervals_Average\n",
      "Surface_roughness_surface\n",
      "MSLP_Eta_model_reduction_msl\n",
      "Vertical_Speed_Shear_potential_vorticity_surface\n",
      "Downward_Short-Wave_Radiation_Flux_surface_Mixed_intervals_Average\n",
      "Ozone_Mixing_Ratio_isobaric\n",
      "Plant_Canopy_Surface_Water_surface\n",
      "Geopotential_height_zeroDegC_isotherm\n",
      "Convective_Precipitation_Rate_surface_Mixed_intervals_Average\n",
      "Meridional_Flux_of_Gravity_Wave_Stress_surface_Mixed_intervals_Average\n",
      "Ice_temperature_surface\n",
      "Upward_Short-Wave_Radiation_Flux_surface_Mixed_intervals_Average\n",
      "Pressure_potential_vorticity_surface\n",
      "ICAO_Standard_Atmosphere_Reference_Height_maximum_wind\n",
      "Downward_Long-Wave_Radp_Flux_surface_Mixed_intervals_Average\n",
      "Convective_precipitation_rate_surface\n",
      "u-component_of_wind_pressure_difference_layer\n",
      "Potential_temperature_sigma\n",
      "Ice_water_mixing_ratio_hybrid\n",
      "Minimum_temperature_height_above_ground_Mixed_intervals_Minimum\n",
      "Categorical_Snow_surface_Mixed_intervals_Average\n",
      "Vertical_velocity_pressure_isobaric\n",
      "Volumetric_Soil_Moisture_Content_depth_below_surface_layer\n",
      "Reflectivity_hybrid\n",
      "Planetary_Boundary_Layer_Height_surface\n"
     ]
    }
   ],
   "source": [
    "best_disp = list(best_gfs.datasets.values())[0]\n",
    "ncss = best_disp.subset()\n",
    "query = ncss.query()\n",
    "for lista in ncss.variables:\n",
    "    print(lista)"
   ]
  },
  {
   "cell_type": "code",
   "execution_count": 3,
   "metadata": {},
   "outputs": [
    {
     "data": {
      "text/plain": [
       "{'OPENDAP': 'https://thredds.ucar.edu/thredds/dodsC/grib/NCEP/GFS/Global_0p25deg/Best',\n",
       " 'CdmRemote': 'https://thredds.ucar.edu/thredds/cdmremote/grib/NCEP/GFS/Global_0p25deg/Best',\n",
       " 'JupyterNotebook': 'https://thredds.ucar.edu/thredds/notebook/grib/NCEP/GFS/Global_0p25deg/Best',\n",
       " 'NetcdfSubset': 'https://thredds.ucar.edu/thredds/ncss/grid/grib/NCEP/GFS/Global_0p25deg/Best',\n",
       " 'WMS': 'https://thredds.ucar.edu/thredds/wms/grib/NCEP/GFS/Global_0p25deg/Best',\n",
       " 'WCS': 'https://thredds.ucar.edu/thredds/wcs/grib/NCEP/GFS/Global_0p25deg/Best',\n",
       " 'ISO': 'https://thredds.ucar.edu/thredds/iso/grib/NCEP/GFS/Global_0p25deg/Best',\n",
       " 'NCML': 'https://thredds.ucar.edu/thredds/ncml/grib/NCEP/GFS/Global_0p25deg/Best',\n",
       " 'UDDC': 'https://thredds.ucar.edu/thredds/uddc/grib/NCEP/GFS/Global_0p25deg/Best'}"
      ]
     },
     "execution_count": 3,
     "metadata": {},
     "output_type": "execute_result"
    }
   ],
   "source": [
    "best_ds = list(best_gfs.datasets.values())[1]\n",
    "\n",
    "# diccionario de urls disponibles con la información\n",
    "best_ds.access_urls"
   ]
  },
  {
   "cell_type": "code",
   "execution_count": 4,
   "metadata": {},
   "outputs": [],
   "source": [
    "# utilizando el servicio de netcdf-subset\n",
    "\n",
    "from siphon.ncss import NCSS\n",
    "ncss = NCSS(best_ds.access_urls['NetcdfSubset'])"
   ]
  },
  {
   "cell_type": "code",
   "execution_count": 5,
   "metadata": {},
   "outputs": [],
   "source": [
    "# generando un sistema de consulta en el netcdf-subset\n",
    "query = ncss.query()"
   ]
  },
  {
   "cell_type": "markdown",
   "metadata": {},
   "source": [
    "Localización de coordenadas geográficas normal         |   Como es interpretado por el `siphon`\n",
    ":----------------------------------------------:|:---------------------------------------:\n",
    "<img src=\"./figs/globo.png\" width=\"550\"/>      | <img src=\"./figs/globo_m.png\" width=\"550\"/>\n"
   ]
  },
  {
   "cell_type": "code",
   "execution_count": 6,
   "metadata": {},
   "outputs": [
    {
     "data": {
      "text/plain": [
       "var=Relative_humidity_isobaric&var=Temperature_isobaric&time=2022-10-25T22%3A28%3A09.885262&west=270&east=300&south=-20&north=0&vertCoord=100000&accept=netcdf4"
      ]
     },
     "execution_count": 6,
     "metadata": {},
     "output_type": "execute_result"
    }
   ],
   "source": [
    "from datetime import datetime\n",
    "\n",
    "now = datetime.utcnow()\n",
    "# buscando la posición de lima\n",
    "query.lonlat_box(west=270, north=0, east=300, south=-20).vertical_level(100000).time(now)\n",
    "\n",
    "\n",
    "query.accept('netcdf4')\n",
    "query.variables('Temperature_isobaric', 'Relative_humidity_isobaric')"
   ]
  },
  {
   "cell_type": "code",
   "execution_count": 7,
   "metadata": {},
   "outputs": [
    {
     "data": {
      "text/plain": [
       "['time1',\n",
       " 'latitude',\n",
       " 'reftime1',\n",
       " 'isobaric',\n",
       " 'longitude',\n",
       " 'Relative_humidity_isobaric',\n",
       " 'Temperature_isobaric',\n",
       " 'LatLon_721X1440-0p13S-180p00E-2']"
      ]
     },
     "execution_count": 7,
     "metadata": {},
     "output_type": "execute_result"
    }
   ],
   "source": [
    "data = ncss.get_data(query)\n",
    "list(data.variables.keys())"
   ]
  },
  {
   "cell_type": "code",
   "execution_count": null,
   "metadata": {},
   "outputs": [],
   "source": []
  }
 ],
 "metadata": {
  "kernelspec": {
   "display_name": "Python 3.9.12 ('geocat')",
   "language": "python",
   "name": "python3"
  },
  "language_info": {
   "codemirror_mode": {
    "name": "ipython",
    "version": 3
   },
   "file_extension": ".py",
   "mimetype": "text/x-python",
   "name": "python",
   "nbconvert_exporter": "python",
   "pygments_lexer": "ipython3",
   "version": "3.9.12"
  },
  "orig_nbformat": 4,
  "vscode": {
   "interpreter": {
    "hash": "fcf694b962e2583d33974cfd22fd61f91596a2a2cb35a874a7015b54a03d5ead"
   }
  }
 },
 "nbformat": 4,
 "nbformat_minor": 2
}
