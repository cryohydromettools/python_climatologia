{
 "cells": [
  {
   "cell_type": "markdown",
   "metadata": {},
   "source": [
    "# Descarga de Dados GFS\n",
    "\n",
    "\n",
    "\n",
    "## Instalación de librerias necesarias\n",
    "\n",
    "- Librería siphon\n",
    "\n",
    "\n",
    "```bash\n",
    "conda install -c conda-forge geemap eemont siphon xarray[complete] netCDF4\n",
    "```\n"
   ]
  },
  {
   "cell_type": "code",
   "execution_count": 1,
   "metadata": {},
   "outputs": [],
   "source": [
    "from siphon.catalog import TDSCatalog\n",
    "import xarray as xr\n",
    "import datetime"
   ]
  },
  {
   "cell_type": "code",
   "execution_count": 2,
   "metadata": {},
   "outputs": [
    {
     "name": "stdout",
     "output_type": "stream",
     "text": [
      "['GFS_Global_0p25deg_20221022_1200.grib2']\n"
     ]
    }
   ],
   "source": [
    "# Latest GFS TDSCatalog\n",
    "url = 'https://thredds-jumbo.unidata.ucar.edu/thredds/catalog/grib/NCEP/GFS/Global_0p25deg/latest.xml'\n",
    "catalog = TDSCatalog(url)\n",
    "print(catalog.datasets)"
   ]
  },
  {
   "cell_type": "code",
   "execution_count": 3,
   "metadata": {},
   "outputs": [
    {
     "data": {
      "text/plain": [
       "datetime.datetime(2022, 10, 23, 6, 0)"
      ]
     },
     "execution_count": 3,
     "metadata": {},
     "output_type": "execute_result"
    }
   ],
   "source": [
    "# Time of interest\n",
    "obs = datetime.date.today() + datetime.timedelta(days = 1)\n",
    "obs_time = datetime.datetime(obs.year, obs.month, obs.day,\n",
    "                             hour = 6, minute = 0)\n",
    "obs_time"
   ]
  },
  {
   "cell_type": "code",
   "execution_count": 4,
   "metadata": {},
   "outputs": [],
   "source": [
    "def get_netcdf_subset(catalog, variable, obs_time):\n",
    "    # Boundaries\n",
    "    south = -15.0\n",
    "    north = 15.0\n",
    "    west = 90\n",
    "    east = 150\n",
    "    \n",
    "    # NetCDF Subset Service Query\n",
    "    ncss = catalog.datasets[0].subset()\n",
    "    query = ncss.query()\n",
    "    \n",
    "    query.lonlat_box(west = west, east = east, south = south, north = north)\n",
    "    query.variables(variable)\n",
    "    query.time(obs_time)\n",
    "\n",
    "    return xr.open_dataset(xr.backends.NetCDF4DataStore(ncss.get_data(query)))\n"
   ]
  },
  {
   "cell_type": "code",
   "execution_count": 5,
   "metadata": {},
   "outputs": [
    {
     "name": "stdout",
     "output_type": "stream",
     "text": [
      "<bound method DataQuery.variables of >\n"
     ]
    }
   ],
   "source": [
    "print(catalog.datasets[0].subset().query().variables)"
   ]
  },
  {
   "cell_type": "code",
   "execution_count": 6,
   "metadata": {},
   "outputs": [
    {
     "ename": "KeyError",
     "evalue": "\"'time1' is not a valid dimension or coordinate\"",
     "output_type": "error",
     "traceback": [
      "\u001b[0;31m---------------------------------------------------------------------------\u001b[0m",
      "\u001b[0;31mKeyError\u001b[0m                                  Traceback (most recent call last)",
      "\u001b[1;32m/home/georgynio/Envs/python_climatologia/book/dia5/01.a.descarga.ipynb Cell 7\u001b[0m in \u001b[0;36m<cell line: 6>\u001b[0;34m()\u001b[0m\n\u001b[1;32m      <a href='vscode-notebook-cell:/home/georgynio/Envs/python_climatologia/book/dia5/01.a.descarga.ipynb#W6sZmlsZQ%3D%3D?line=2'>3</a>\u001b[0m ds_rain \u001b[39m=\u001b[39m get_netcdf_subset(catalog, rain, obs_time)\n\u001b[1;32m      <a href='vscode-notebook-cell:/home/georgynio/Envs/python_climatologia/book/dia5/01.a.descarga.ipynb#W6sZmlsZQ%3D%3D?line=3'>4</a>\u001b[0m \u001b[39m# print(dir(ds_rain))\u001b[39;00m\n\u001b[0;32m----> <a href='vscode-notebook-cell:/home/georgynio/Envs/python_climatologia/book/dia5/01.a.descarga.ipynb#W6sZmlsZQ%3D%3D?line=5'>6</a>\u001b[0m ds_rain \u001b[39m=\u001b[39m get_netcdf_subset(catalog, rain, obs_time)\u001b[39m.\u001b[39;49msel(time1 \u001b[39m=\u001b[39;49m obs_time)\n\u001b[1;32m      <a href='vscode-notebook-cell:/home/georgynio/Envs/python_climatologia/book/dia5/01.a.descarga.ipynb#W6sZmlsZQ%3D%3D?line=7'>8</a>\u001b[0m ds_rain\n",
      "File \u001b[0;32m~/miniconda3/envs/geocat/lib/python3.9/site-packages/xarray/core/dataset.py:2550\u001b[0m, in \u001b[0;36mDataset.sel\u001b[0;34m(self, indexers, method, tolerance, drop, **indexers_kwargs)\u001b[0m\n\u001b[1;32m   2489\u001b[0m \u001b[39m\"\"\"Returns a new dataset with each array indexed by tick labels\u001b[39;00m\n\u001b[1;32m   2490\u001b[0m \u001b[39malong the specified dimension(s).\u001b[39;00m\n\u001b[1;32m   2491\u001b[0m \n\u001b[0;32m   (...)\u001b[0m\n\u001b[1;32m   2547\u001b[0m \u001b[39mDataArray.sel\u001b[39;00m\n\u001b[1;32m   2548\u001b[0m \u001b[39m\"\"\"\u001b[39;00m\n\u001b[1;32m   2549\u001b[0m indexers \u001b[39m=\u001b[39m either_dict_or_kwargs(indexers, indexers_kwargs, \u001b[39m\"\u001b[39m\u001b[39msel\u001b[39m\u001b[39m\"\u001b[39m)\n\u001b[0;32m-> 2550\u001b[0m query_results \u001b[39m=\u001b[39m map_index_queries(\n\u001b[1;32m   2551\u001b[0m     \u001b[39mself\u001b[39;49m, indexers\u001b[39m=\u001b[39;49mindexers, method\u001b[39m=\u001b[39;49mmethod, tolerance\u001b[39m=\u001b[39;49mtolerance\n\u001b[1;32m   2552\u001b[0m )\n\u001b[1;32m   2554\u001b[0m \u001b[39mif\u001b[39;00m drop:\n\u001b[1;32m   2555\u001b[0m     no_scalar_variables \u001b[39m=\u001b[39m {}\n",
      "File \u001b[0;32m~/miniconda3/envs/geocat/lib/python3.9/site-packages/xarray/core/indexing.py:175\u001b[0m, in \u001b[0;36mmap_index_queries\u001b[0;34m(obj, indexers, method, tolerance, **indexers_kwargs)\u001b[0m\n\u001b[1;32m    172\u001b[0m     options \u001b[39m=\u001b[39m {\u001b[39m\"\u001b[39m\u001b[39mmethod\u001b[39m\u001b[39m\"\u001b[39m: method, \u001b[39m\"\u001b[39m\u001b[39mtolerance\u001b[39m\u001b[39m\"\u001b[39m: tolerance}\n\u001b[1;32m    174\u001b[0m indexers \u001b[39m=\u001b[39m either_dict_or_kwargs(indexers, indexers_kwargs, \u001b[39m\"\u001b[39m\u001b[39mmap_index_queries\u001b[39m\u001b[39m\"\u001b[39m)\n\u001b[0;32m--> 175\u001b[0m grouped_indexers \u001b[39m=\u001b[39m group_indexers_by_index(obj, indexers, options)\n\u001b[1;32m    177\u001b[0m results \u001b[39m=\u001b[39m []\n\u001b[1;32m    178\u001b[0m \u001b[39mfor\u001b[39;00m index, labels \u001b[39min\u001b[39;00m grouped_indexers:\n",
      "File \u001b[0;32m~/miniconda3/envs/geocat/lib/python3.9/site-packages/xarray/core/indexing.py:139\u001b[0m, in \u001b[0;36mgroup_indexers_by_index\u001b[0;34m(obj, indexers, options)\u001b[0m\n\u001b[1;32m    137\u001b[0m     \u001b[39mraise\u001b[39;00m \u001b[39mKeyError\u001b[39;00m(\u001b[39mf\u001b[39m\u001b[39m\"\u001b[39m\u001b[39mno index found for coordinate \u001b[39m\u001b[39m{\u001b[39;00mkey\u001b[39m!r}\u001b[39;00m\u001b[39m\"\u001b[39m)\n\u001b[1;32m    138\u001b[0m \u001b[39melif\u001b[39;00m key \u001b[39mnot\u001b[39;00m \u001b[39min\u001b[39;00m obj\u001b[39m.\u001b[39mdims:\n\u001b[0;32m--> 139\u001b[0m     \u001b[39mraise\u001b[39;00m \u001b[39mKeyError\u001b[39;00m(\u001b[39mf\u001b[39m\u001b[39m\"\u001b[39m\u001b[39m{\u001b[39;00mkey\u001b[39m!r}\u001b[39;00m\u001b[39m is not a valid dimension or coordinate\u001b[39m\u001b[39m\"\u001b[39m)\n\u001b[1;32m    140\u001b[0m \u001b[39melif\u001b[39;00m \u001b[39mlen\u001b[39m(options):\n\u001b[1;32m    141\u001b[0m     \u001b[39mraise\u001b[39;00m \u001b[39mValueError\u001b[39;00m(\n\u001b[1;32m    142\u001b[0m         \u001b[39mf\u001b[39m\u001b[39m\"\u001b[39m\u001b[39mcannot supply selection options \u001b[39m\u001b[39m{\u001b[39;00moptions\u001b[39m!r}\u001b[39;00m\u001b[39m for dimension \u001b[39m\u001b[39m{\u001b[39;00mkey\u001b[39m!r}\u001b[39;00m\u001b[39m\"\u001b[39m\n\u001b[1;32m    143\u001b[0m         \u001b[39m\"\u001b[39m\u001b[39mthat has no associated coordinate or index\u001b[39m\u001b[39m\"\u001b[39m\n\u001b[1;32m    144\u001b[0m     )\n",
      "\u001b[0;31mKeyError\u001b[0m: \"'time1' is not a valid dimension or coordinate\""
     ]
    }
   ],
   "source": [
    "rain = 'Total_precipitation_surface_Mixed_intervals_Accumulation'\n",
    "\n",
    "ds_rain = get_netcdf_subset(catalog, rain, obs_time)\n",
    "# print(dir(ds_rain))\n",
    "\n",
    "ds_rain = get_netcdf_subset(catalog, rain, obs_time).sel(time1 = obs_time)\n",
    "\n",
    "ds_rain"
   ]
  },
  {
   "cell_type": "code",
   "execution_count": null,
   "metadata": {},
   "outputs": [],
   "source": [
    "temp = 'Temperature_surface'\n",
    "ds_temp = get_netcdf_subset(catalog, temp, obs_time).sel(time1 = obs_time)"
   ]
  },
  {
   "cell_type": "code",
   "execution_count": null,
   "metadata": {},
   "outputs": [],
   "source": [
    "wind = 'Wind_speed_gust_surface'\n",
    "ds_wind = get_netcdf_subset(catalog, wind, obs_time).sel(time3 = obs_time)"
   ]
  },
  {
   "cell_type": "code",
   "execution_count": null,
   "metadata": {},
   "outputs": [],
   "source": [
    "rhum = 'Relative_humidity_height_above_ground'\n",
    "ds_rhum = get_netcdf_subset(catalog, rhum, obs_time) \\\n",
    "    .sel(height_above_ground = 2.0) \\\n",
    "    .sel(time3 = obs_time)"
   ]
  },
  {
   "cell_type": "code",
   "execution_count": null,
   "metadata": {},
   "outputs": [],
   "source": [
    "# print(ds_rain.keys)\n",
    "ds_rain.Total_precipitation_surface_Mixed_intervals_Accumulation.plot(x='longitude', y='latitude')\n"
   ]
  },
  {
   "cell_type": "code",
   "execution_count": null,
   "metadata": {},
   "outputs": [],
   "source": []
  }
 ],
 "metadata": {
  "kernelspec": {
   "display_name": "Python 3.10.6 ('geocat')",
   "language": "python",
   "name": "python3"
  },
  "language_info": {
   "codemirror_mode": {
    "name": "ipython",
    "version": 3
   },
   "file_extension": ".py",
   "mimetype": "text/x-python",
   "name": "python",
   "nbconvert_exporter": "python",
   "pygments_lexer": "ipython3",
   "version": "3.9.12"
  },
  "orig_nbformat": 4,
  "vscode": {
   "interpreter": {
    "hash": "fcf694b962e2583d33974cfd22fd61f91596a2a2cb35a874a7015b54a03d5ead"
   }
  }
 },
 "nbformat": 4,
 "nbformat_minor": 2
}
