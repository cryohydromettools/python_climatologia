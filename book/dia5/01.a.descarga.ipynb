{
 "cells": [
  {
   "cell_type": "markdown",
   "metadata": {},
   "source": [
    "# Descarga de Dados GFS\n",
    "\n",
    "\n",
    "Trabajaremos con el utilitario [siphon](https://unidata.github.io/siphon/latest/index.html), que fue diseñado para tener acceso directo a al servidor [THREDDS](https://www.unidata.ucar.edu/software/tds/current/)\n",
    "\n",
    "Para utilizar el `siphon` debemos tener en consideración lo siguiente:\n",
    "- Python >= 3.5\n",
    "- numpy >= 1.8\n",
    "- pandas\n",
    "\n",
    "Y otras informaciones que podemos encontrar en el manual de instalación de la herramienta.\n",
    "\n",
    "\n",
    "## Instalación de librerias necesarias\n",
    "\n",
    "- Librería siphon\n",
    "\n",
    "\n",
    "```bash\n",
    "conda install -c conda-forge siphon xarray[complete] netCDF4\n",
    "```\n",
    "\n",
    ">El `netCDF4` será instalado para ser utilizado como background del siphon a la hora de hacer los requerimientos \\\n",
    "En este caso iremos a instalar el `xarray` para tener un control facilitado de los archivos `netcdf`\n",
    "\n"
   ]
  },
  {
   "cell_type": "markdown",
   "metadata": {},
   "source": [
    "La lista completa de datos como medio grado entra en este [link](https://thredds.ucar.edu/thredds/catalog/catalog.html)"
   ]
  },
  {
   "cell_type": "code",
   "execution_count": 2,
   "metadata": {},
   "outputs": [
    {
     "data": {
      "text/plain": [
       "['Full Collection (Reference / Forecast Time) Dataset', 'Best GFS Quarter Degree Forecast Time Series', 'Latest Collection for GFS Quarter Degree Forecast']"
      ]
     },
     "execution_count": 2,
     "metadata": {},
     "output_type": "execute_result"
    }
   ],
   "source": [
    "from siphon.catalog import TDSCatalog\n",
    "\n",
    "# si el catalogo que se desea es de 0.5 grados\n",
    "# best_gfs = TDSCatalog('http://thredds.ucar.edu/thredds/catalog/grib/NCEP/GFS/Global_0p25deg/catalog.xml')\n",
    "\n",
    "# si el catalogo que se desea es de 0.25 grados\n",
    "best_gfs = TDSCatalog('http://thredds.ucar.edu/thredds/catalog/grib/NCEP/GFS/Global_0p25deg/catalog.xml')\n",
    "\n",
    "# lista de colecciones\n",
    "best_gfs.datasets"
   ]
  },
  {
   "cell_type": "markdown",
   "metadata": {},
   "source": [
    "## Verificando datos disponibles"
   ]
  },
  {
   "cell_type": "code",
   "execution_count": 9,
   "metadata": {},
   "outputs": [
    {
     "name": "stdout",
     "output_type": "stream",
     "text": [
      "{'Water_runoff_surface_Mixed_intervals_Accumulation', 'Total_ozone_entire_atmosphere_single_layer', 'Total_cloud_cover_convective_cloud', 'Snow_mixing_ratio_hybrid', 'Vertical_velocity_geometric_isobaric', 'Total_cloud_cover_isobaric', 'Convective_precipitation_surface_Mixed_intervals_Accumulation', 'v-component_of_wind_planetary_boundary', 'u-component_of_wind_pressure_difference_layer', 'Field_Capacity_surface', 'u-component_of_wind_isobaric', 'u-component_of_wind_altitude_above_msl', 'Pressure_surface', 'Ice_water_mixing_ratio_hybrid', 'Graupel_snow_pellets_isobaric', 'Rain_mixing_ratio_hybrid', 'Reflectivity_hybrid', 'Haines_index_surface', 'u-component_of_wind_tropopause', 'Specific_humidity_isobaric', 'Upward_Short-Wave_Radiation_Flux_surface_Mixed_intervals_Average', 'ICAO_Standard_Atmosphere_Reference_Height_tropopause', 'Categorical_Ice_Pellets_surface', 'Relative_humidity_entire_atmosphere_single_layer', 'Vertical_Speed_Shear_potential_vorticity_surface', 'u-component_of_wind_height_above_ground', 'Absolute_vorticity_isobaric', 'Zonal_Flux_of_Gravity_Wave_Stress_surface_Mixed_intervals_Average', 'v-component_of_wind_potential_vorticity_surface', 'Categorical_Rain_surface', 'Snow_depth_surface', 'Snow_mixing_ratio_isobaric', 'Volumetric_Soil_Moisture_Content_depth_below_surface_layer', 'Convective_Precipitation_Rate_surface_Mixed_intervals_Average', 'Vertical_velocity_pressure_isobaric', 'Convective_precipitation_rate_surface', 'Precipitation_rate_surface', 'Pressure_of_level_from_which_parcel_was_lifted_pressure_difference_layer', 'Medium_cloud_cover_middle_cloud_Mixed_intervals_Average', 'v-component_of_wind_tropopause', 'Land_cover_0__sea_1__land_surface', 'Low_cloud_cover_low_cloud', 'Planetary_Boundary_Layer_Height_surface', 'Pressure_high_cloud_bottom_Mixed_intervals_Average', 'Cloud_water_entire_atmosphere_single_layer', 'v-component_of_wind_maximum_wind', 'v-component_of_wind_altitude_above_msl', 'Upward_Short-Wave_Radiation_Flux_atmosphere_top_Mixed_intervals_Average', 'Categorical_Snow_surface', 'Geopotential_height_surface', 'Categorical_Rain_surface_Mixed_intervals_Average', 'Sunshine_Duration_surface', 'Relative_humidity_sigma', 'Categorical_Freezing_Rain_surface_Mixed_intervals_Average', 'Rain_mixing_ratio_isobaric', 'Best_4_layer_Lifted_Index_surface', 'Convective_available_potential_energy_pressure_difference_layer', 'Temperature_middle_cloud_top_Mixed_intervals_Average', 'Visibility_surface', 'Temperature_tropopause', 'Temperature_sigma', 'u-component_of_wind_planetary_boundary', 'Vegetation_surface', 'Relative_humidity_isobaric', 'Soil_temperature_depth_below_surface_layer', 'Dewpoint_temperature_height_above_ground', 'Convective_inhibition_pressure_difference_layer', 'Frictional_Velocity_surface', 'V-Component_Storm_Motion_height_above_ground_layer', 'Surface_roughness_surface', 'Momentum_flux_v-component_surface_Mixed_intervals_Average', 'Pressure_reduced_to_MSL_msl', 'Pressure_middle_cloud_top_Mixed_intervals_Average', 'Meridional_Flux_of_Gravity_Wave_Stress_surface_Mixed_intervals_Average', 'Composite_reflectivity_entire_atmosphere', 'Cloud_mixing_ratio_isobaric', 'v-component_of_wind_isobaric', 'v-component_of_wind_pressure_difference_layer', 'u-component_of_wind_sigma', 'Temperature_altitude_above_msl', 'Temperature_low_cloud_top_Mixed_intervals_Average', 'High_cloud_cover_high_cloud_Mixed_intervals_Average', 'Pressure_tropopause', 'Apparent_temperature_height_above_ground', 'Soil_type_surface', 'Geopotential_height_tropopause', 'Categorical_Ice_Pellets_surface_Mixed_intervals_Average', 'Ice_growth_rate_altitude_above_msl', 'Convective_inhibition_surface', 'Specific_humidity_height_above_ground', 'Categorical_Snow_surface_Mixed_intervals_Average', 'High_cloud_cover_high_cloud', 'Ice_cover_surface', 'Ventilation_Rate_planetary_boundary', 'Pressure_convective_cloud_bottom', 'Temperature_maximum_wind', 'Upward_Long-Wave_Radp_Flux_surface_Mixed_intervals_Average', 'Temperature_surface', 'Water_equivalent_of_accumulated_snow_depth_surface', 'Albedo_surface_Mixed_intervals_Average', 'Temperature_isobaric', 'Temperature_high_cloud_top_Mixed_intervals_Average', 'Geopotential_height_isobaric', 'Temperature_potential_vorticity_surface', 'u-component_of_wind_potential_vorticity_surface', 'Wilting_Point_surface', 'MSLP_Eta_model_reduction_msl', 'Downward_Short-Wave_Radiation_Flux_surface_Mixed_intervals_Average', 'Specific_humidity_pressure_difference_layer', 'Geopotential_height_maximum_wind', 'Ice_water_mixing_ratio_isobaric', 'Total_cloud_cover_boundary_layer_cloud_Mixed_intervals_Average', 'Momentum_flux_u-component_surface_Mixed_intervals_Average', 'Convective_available_potential_energy_surface', 'Ground_Heat_Flux_surface_Mixed_intervals_Average', 'Pressure_low_cloud_bottom_Mixed_intervals_Average', 'Relative_humidity_highest_tropospheric_freezing', 'Categorical_Freezing_Rain_surface', 'Reflectivity_height_above_ground', 'Liquid_Volumetric_Soil_Moisture_non_Frozen_depth_below_surface_layer', 'Cloud_Work_Function_entire_atmosphere_single_layer_Mixed_intervals_Average', 'Temperature_height_above_ground', 'Geopotential_height_potential_vorticity_surface', 'Upward_Long-Wave_Radp_Flux_atmosphere_top_Mixed_intervals_Average', 'Ice_temperature_surface', 'ICAO_Standard_Atmosphere_Reference_Height_maximum_wind', 'Medium_cloud_cover_middle_cloud', 'Vertical_Speed_Shear_tropopause', 'Relative_humidity_pressure_difference_layer', 'v-component_of_wind_sigma', 'Surface_Lifted_Index_surface', 'Potential_Evaporation_Rate_surface', 'Ozone_Mixing_Ratio_isobaric', 'Ice_thickness_surface', 'Potential_temperature_sigma', 'Pressure_convective_cloud_top', 'Pressure_maximum_wind', 'Maximum_temperature_height_above_ground_Mixed_intervals_Maximum', 'Total_cloud_cover_entire_atmosphere', 'Geopotential_height_highest_tropospheric_freezing', 'Total_precipitation_surface_Mixed_intervals_Accumulation', 'Pressure_low_cloud_top_Mixed_intervals_Average', 'Cloud_mixing_ratio_hybrid', 'Vertical_velocity_pressure_sigma', 'Plant_Canopy_Surface_Water_surface', 'Low_cloud_cover_low_cloud_Mixed_intervals_Average', 'Latent_heat_net_flux_surface_Mixed_intervals_Average', 'Relative_humidity_zeroDegC_isotherm', 'u-component_of_wind_maximum_wind', 'v-component_of_wind_height_above_ground', 'Precipitation_rate_surface_Mixed_intervals_Average', 'Wind_speed_gust_surface', 'Minimum_temperature_height_above_ground_Mixed_intervals_Minimum', 'Precipitable_water_entire_atmosphere_single_layer', 'Downward_Long-Wave_Radp_Flux_surface_Mixed_intervals_Average', 'Pressure_high_cloud_top_Mixed_intervals_Average', 'Temperature_pressure_difference_layer', 'Total_cloud_cover_entire_atmosphere_Mixed_intervals_Average', 'Geopotential_height_zeroDegC_isotherm', 'Geopotential_height_cloud_ceiling', 'Relative_humidity_height_above_ground', 'Sensible_heat_net_flux_surface_Mixed_intervals_Average', 'U-Component_Storm_Motion_height_above_ground_layer', 'Relative_humidity_sigma_layer', 'Pressure_height_above_ground', 'Pressure_middle_cloud_bottom_Mixed_intervals_Average', 'Per_cent_frozen_precipitation_surface', 'Pressure_potential_vorticity_surface', 'Storm_relative_helicity_height_above_ground_layer', 'Graupel_snow_pellets_hybrid'}\n"
     ]
    }
   ],
   "source": [
    "best_disp = list(best_gfs.datasets.values())[0]\n",
    "ncss = best_disp.subset()\n",
    "query = ncss.query()\n",
    "print(ncss.variables)"
   ]
  },
  {
   "cell_type": "code",
   "execution_count": 4,
   "metadata": {},
   "outputs": [
    {
     "data": {
      "text/plain": [
       "{'OPENDAP': 'https://thredds.ucar.edu/thredds/dodsC/grib/NCEP/GFS/Global_0p25deg/Best',\n",
       " 'CdmRemote': 'https://thredds.ucar.edu/thredds/cdmremote/grib/NCEP/GFS/Global_0p25deg/Best',\n",
       " 'JupyterNotebook': 'https://thredds.ucar.edu/thredds/notebook/grib/NCEP/GFS/Global_0p25deg/Best',\n",
       " 'NetcdfSubset': 'https://thredds.ucar.edu/thredds/ncss/grid/grib/NCEP/GFS/Global_0p25deg/Best',\n",
       " 'WMS': 'https://thredds.ucar.edu/thredds/wms/grib/NCEP/GFS/Global_0p25deg/Best',\n",
       " 'WCS': 'https://thredds.ucar.edu/thredds/wcs/grib/NCEP/GFS/Global_0p25deg/Best',\n",
       " 'ISO': 'https://thredds.ucar.edu/thredds/iso/grib/NCEP/GFS/Global_0p25deg/Best',\n",
       " 'NCML': 'https://thredds.ucar.edu/thredds/ncml/grib/NCEP/GFS/Global_0p25deg/Best',\n",
       " 'UDDC': 'https://thredds.ucar.edu/thredds/uddc/grib/NCEP/GFS/Global_0p25deg/Best'}"
      ]
     },
     "execution_count": 4,
     "metadata": {},
     "output_type": "execute_result"
    }
   ],
   "source": [
    "best_ds = list(best_gfs.datasets.values())[1]\n",
    "\n",
    "# diccionario de urls disponibles con la información\n",
    "best_ds.access_urls"
   ]
  },
  {
   "cell_type": "code",
   "execution_count": 5,
   "metadata": {},
   "outputs": [],
   "source": [
    "# utilizando el servicio de netcdf-subset\n",
    "\n",
    "from siphon.ncss import NCSS\n",
    "ncss = NCSS(best_ds.access_urls['NetcdfSubset'])"
   ]
  },
  {
   "cell_type": "code",
   "execution_count": 6,
   "metadata": {},
   "outputs": [],
   "source": [
    "# generando un sistema de consulta en el netcdf-subset\n",
    "query = ncss.query()"
   ]
  },
  {
   "cell_type": "code",
   "execution_count": 7,
   "metadata": {},
   "outputs": [
    {
     "data": {
      "text/plain": [
       "var=Relative_humidity_isobaric&var=Temperature_isobaric&time=2022-10-24T21%3A30%3A26.675720&west=-80&east=-65&south=-20&north=0&vertCoord=100000&accept=netcdf4"
      ]
     },
     "execution_count": 7,
     "metadata": {},
     "output_type": "execute_result"
    }
   ],
   "source": [
    "from datetime import datetime\n",
    "\n",
    "now = datetime.utcnow()\n",
    "# buscando la posición de lima\n",
    "query.lonlat_box(west=-80, north=0, east=-65, south=-20).vertical_level(100000).time(now)\n",
    "query.accept('netcdf4')\n",
    "query.variables('Temperature_isobaric', 'Relative_humidity_isobaric')"
   ]
  },
  {
   "cell_type": "code",
   "execution_count": 8,
   "metadata": {},
   "outputs": [
    {
     "data": {
      "text/plain": [
       "['reftime',\n",
       " 'latitude',\n",
       " 'time',\n",
       " 'isobaric',\n",
       " 'longitude',\n",
       " 'Relative_humidity_isobaric',\n",
       " 'Temperature_isobaric',\n",
       " 'LatLon_721X1440-0p13S-180p00E-2']"
      ]
     },
     "execution_count": 8,
     "metadata": {},
     "output_type": "execute_result"
    }
   ],
   "source": [
    "data = ncss.get_data(query)\n",
    "list(data.variables.keys())"
   ]
  },
  {
   "cell_type": "code",
   "execution_count": null,
   "metadata": {},
   "outputs": [],
   "source": []
  }
 ],
 "metadata": {
  "kernelspec": {
   "display_name": "Python 3.9.12 ('geocat')",
   "language": "python",
   "name": "python3"
  },
  "language_info": {
   "codemirror_mode": {
    "name": "ipython",
    "version": 3
   },
   "file_extension": ".py",
   "mimetype": "text/x-python",
   "name": "python",
   "nbconvert_exporter": "python",
   "pygments_lexer": "ipython3",
   "version": "3.9.12"
  },
  "orig_nbformat": 4,
  "vscode": {
   "interpreter": {
    "hash": "fcf694b962e2583d33974cfd22fd61f91596a2a2cb35a874a7015b54a03d5ead"
   }
  }
 },
 "nbformat": 4,
 "nbformat_minor": 2
}
