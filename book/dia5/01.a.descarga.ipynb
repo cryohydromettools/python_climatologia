{
 "cells": [
  {
   "cell_type": "markdown",
   "metadata": {},
   "source": [
    "# Descarga de Dados GFS\n",
    "\n",
    "\n",
    "\n",
    "## Instalación de librerias necesarias\n",
    "\n",
    "- Librería siphon\n",
    "\n",
    "\n",
    "```bash\n",
    "conda install -c conda-forge geemap eemont siphon xarray[complete] netCDF4\n",
    "```\n"
   ]
  },
  {
   "cell_type": "markdown",
   "metadata": {},
   "source": [
    "La lista completa de datos como medio grado entra en este [link](https://thredds.ucar.edu/thredds/catalog/catalog.html)"
   ]
  },
  {
   "cell_type": "code",
   "execution_count": 1,
   "metadata": {},
   "outputs": [
    {
     "data": {
      "text/plain": [
       "['Full Collection (Reference / Forecast Time) Dataset', 'Best GFS Quarter Degree Forecast Time Series', 'Latest Collection for GFS Quarter Degree Forecast']"
      ]
     },
     "execution_count": 1,
     "metadata": {},
     "output_type": "execute_result"
    }
   ],
   "source": [
    "from siphon.catalog import TDSCatalog\n",
    "\n",
    "# si el catalogo que se desea es de 0.5 grados\n",
    "# best_gfs = TDSCatalog('http://thredds.ucar.edu/thredds/catalog/grib/NCEP/GFS/Global_0p25deg/catalog.xml')\n",
    "\n",
    "# si el catalogo que se desea es de 0.25 grados\n",
    "best_gfs = TDSCatalog('http://thredds.ucar.edu/thredds/catalog/grib/NCEP/GFS/Global_0p25deg/catalog.xml')\n",
    "\n",
    "# lista de colecciones\n",
    "best_gfs.datasets"
   ]
  },
  {
   "cell_type": "code",
   "execution_count": 2,
   "metadata": {},
   "outputs": [
    {
     "data": {
      "text/plain": [
       "{'OPENDAP': 'https://thredds.ucar.edu/thredds/dodsC/grib/NCEP/GFS/Global_0p25deg/Best',\n",
       " 'CdmRemote': 'https://thredds.ucar.edu/thredds/cdmremote/grib/NCEP/GFS/Global_0p25deg/Best',\n",
       " 'JupyterNotebook': 'https://thredds.ucar.edu/thredds/notebook/grib/NCEP/GFS/Global_0p25deg/Best',\n",
       " 'NetcdfSubset': 'https://thredds.ucar.edu/thredds/ncss/grid/grib/NCEP/GFS/Global_0p25deg/Best',\n",
       " 'WMS': 'https://thredds.ucar.edu/thredds/wms/grib/NCEP/GFS/Global_0p25deg/Best',\n",
       " 'WCS': 'https://thredds.ucar.edu/thredds/wcs/grib/NCEP/GFS/Global_0p25deg/Best',\n",
       " 'ISO': 'https://thredds.ucar.edu/thredds/iso/grib/NCEP/GFS/Global_0p25deg/Best',\n",
       " 'NCML': 'https://thredds.ucar.edu/thredds/ncml/grib/NCEP/GFS/Global_0p25deg/Best',\n",
       " 'UDDC': 'https://thredds.ucar.edu/thredds/uddc/grib/NCEP/GFS/Global_0p25deg/Best'}"
      ]
     },
     "execution_count": 2,
     "metadata": {},
     "output_type": "execute_result"
    }
   ],
   "source": [
    "best_ds = list(best_gfs.datasets.values())[1]\n",
    "\n",
    "# diccionario de urls disponibles con la información\n",
    "best_ds.access_urls"
   ]
  },
  {
   "cell_type": "code",
   "execution_count": 3,
   "metadata": {},
   "outputs": [],
   "source": [
    "# utilizando el servicio de netcdf-subset\n",
    "\n",
    "from siphon.ncss import NCSS\n",
    "ncss = NCSS(best_ds.access_urls['NetcdfSubset'])"
   ]
  },
  {
   "cell_type": "code",
   "execution_count": 4,
   "metadata": {},
   "outputs": [],
   "source": [
    "# generando un sistema de consulta en el netcdf-subset\n",
    "query = ncss.query()"
   ]
  },
  {
   "cell_type": "code",
   "execution_count": 5,
   "metadata": {},
   "outputs": [
    {
     "data": {
      "text/plain": [
       "var=Relative_humidity_isobaric&var=Temperature_isobaric&time=2022-10-24T17%3A41%3A26.061686&west=-80&east=-65&south=-20&north=0&vertCoord=100000&accept=netcdf4"
      ]
     },
     "execution_count": 5,
     "metadata": {},
     "output_type": "execute_result"
    }
   ],
   "source": [
    "from datetime import datetime\n",
    "\n",
    "now = datetime.utcnow()\n",
    "# buscando la posición de lima\n",
    "query.lonlat_box(west=-80, north=0, east=-65, south=-20).vertical_level(100000).time(now)\n",
    "query.accept('netcdf4')\n",
    "query.variables('Temperature_isobaric', 'Relative_humidity_isobaric')"
   ]
  },
  {
   "cell_type": "code",
   "execution_count": 6,
   "metadata": {},
   "outputs": [
    {
     "data": {
      "text/plain": [
       "['reftime',\n",
       " 'latitude',\n",
       " 'time',\n",
       " 'isobaric',\n",
       " 'longitude',\n",
       " 'Relative_humidity_isobaric',\n",
       " 'Temperature_isobaric',\n",
       " 'LatLon_721X1440-0p13S-180p00E-2']"
      ]
     },
     "execution_count": 6,
     "metadata": {},
     "output_type": "execute_result"
    }
   ],
   "source": [
    "data = ncss.get_data(query)\n",
    "list(data.variables.keys())"
   ]
  },
  {
   "cell_type": "code",
   "execution_count": null,
   "metadata": {},
   "outputs": [],
   "source": []
  }
 ],
 "metadata": {
  "kernelspec": {
   "display_name": "Python 3.9.12 ('geocat')",
   "language": "python",
   "name": "python3"
  },
  "language_info": {
   "codemirror_mode": {
    "name": "ipython",
    "version": 3
   },
   "file_extension": ".py",
   "mimetype": "text/x-python",
   "name": "python",
   "nbconvert_exporter": "python",
   "pygments_lexer": "ipython3",
   "version": "3.9.12"
  },
  "orig_nbformat": 4,
  "vscode": {
   "interpreter": {
    "hash": "fcf694b962e2583d33974cfd22fd61f91596a2a2cb35a874a7015b54a03d5ead"
   }
  }
 },
 "nbformat": 4,
 "nbformat_minor": 2
}
