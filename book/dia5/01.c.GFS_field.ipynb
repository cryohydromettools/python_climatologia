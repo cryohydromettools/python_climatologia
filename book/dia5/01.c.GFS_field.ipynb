{
 "cells": [
  {
   "cell_type": "markdown",
   "metadata": {},
   "source": [
    "# Graficos de campos de vento/temperatura"
   ]
  },
  {
   "cell_type": "code",
   "execution_count": null,
   "metadata": {},
   "outputs": [],
   "source": []
  }
 ],
 "metadata": {
  "kernelspec": {
   "display_name": "Python 3.9.12 ('geocat')",
   "language": "python",
   "name": "python3"
  },
  "language_info": {
   "name": "python",
   "version": "3.9.12"
  },
  "orig_nbformat": 4,
  "vscode": {
   "interpreter": {
    "hash": "fcf694b962e2583d33974cfd22fd61f91596a2a2cb35a874a7015b54a03d5ead"
   }
  }
 },
 "nbformat": 4,
 "nbformat_minor": 2
}
