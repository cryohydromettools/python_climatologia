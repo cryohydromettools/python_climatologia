{
 "cells": [
  {
   "cell_type": "markdown",
   "metadata": {},
   "source": [
    "# Descargar datos de reanálisis **ERA5**"
   ]
  },
  {
   "cell_type": "markdown",
   "metadata": {},
   "source": [
    "Los datos de reanálisis proporcionan la imagen más completa posible actualmente del tiempo y el clima pasados.\n",
    "\n",
    "Son una combinación de observaciones con predicciones meteorológicas pasadas a corto plazo que se repiten con modelos modernos de predicción meteorológica. Son globalmente completos y coherentes en el tiempo y, a veces, se denominan \"mapas sin espacios\".\n",
    "\n",
    "Existen varias fuentes de datos de reanálisis disponibles (e.g., NCEP/NCAR, ERA5, ERA5-Land, etc). [Aquí](https://climatedataguide.ucar.edu/climate-data/atmospheric-reanalysis-overview-comparison-tables) podemos encontrar un resumen de los datos de reanálisis disponibles. \n",
    "\n",
    "**¿Cómo se generan estos datos?**\n",
    "\n",
    "El reanálisis combina predicciones meteorológicas pasadas a corto plazo con observaciones a través de la asimilación de datos. El proceso imita la producción de pronósticos meteorológicos diarios, que utilizan un análisis del estado actual del sistema terrestre como punto de partida. El análisis es una combinación de observaciones físicamente coherentes con un pronóstico a corto plazo basado en el análisis anterior.\n",
    "\n",
    "<img src='./img/era5_reanalisis.jpg' width='500'>"
   ]
  },
  {
   "cell_type": "markdown",
   "metadata": {},
   "source": [
    "## Reanálisis **ERA5**"
   ]
  },
  {
   "cell_type": "markdown",
   "metadata": {},
   "source": [
    "ERA5 es el reanálisis del ECMWF de quinta generación para el clima y el tiempo global durante las últimas 4 a 7 décadas. Actualmente, los datos están disponibles desde 1950, divididos en entradas de [Climate Data Store](https://cds.climate.copernicus.eu/cdsapp#!/dataset/reanalysis-era5-single-levels?tab=overview) para 1950-1978 (extensión posterior preliminar) y desde 1979 en adelante (versión final más actualizaciones oportunas, esta página). ERA5 reemplaza el reanálisis ERA-Interim.\n",
    "\n",
    "<img src='./img/er5_reanalisis_data.jpg' width='500'>"
   ]
  },
  {
   "cell_type": "markdown",
   "metadata": {},
   "source": [
    "## Registrarse en CDS\n",
    "\n",
    "Si aún no estás registrado en el CDS, entrá [aquí](https://cds.climate.copernicus.eu/cdsapp#!/home) para registrarte. Es importante hacer este paso para descargar datos desde CDS!!!"
   ]
  },
  {
   "cell_type": "markdown",
   "metadata": {},
   "source": [
    "## Descargar ERA5 a través de la API de CDS"
   ]
  },
  {
   "cell_type": "markdown",
   "metadata": {},
   "source": [
    "### Instalar `cdsapi`\n",
    "\n",
    "Si aún no tiene instalado el módulo `cdsapi`, instale usando el siguiente comando en **anaconda prompt**:\n",
    "\n",
    "``` python\n",
    "\n",
    "conda install -c conda-forge cdsapi \n",
    "\n",
    "```\n",
    "Luego configure tu computadora con tu usuario y clave proporcionados por el **CDS**.\n",
    "> Deberás crear un archivo **.cdsapirc** en tu home y copiar tu usuario y clave. Sigue los pasos [aquí](https://cds.climate.copernicus.eu/api-how-to) para hacer esto."
   ]
  },
  {
   "cell_type": "code",
   "execution_count": 1,
   "metadata": {},
   "outputs": [
    {
     "name": "stdout",
     "output_type": "stream",
     "text": [
      "Collecting package metadata (current_repodata.json): done\n",
      "Solving environment: done\n",
      "\n",
      "\n",
      "==> WARNING: A newer version of conda exists. <==\n",
      "  current version: 4.12.0\n",
      "  latest version: 22.9.0\n",
      "\n",
      "Please update conda by running\n",
      "\n",
      "    $ conda update -n base -c defaults conda\n",
      "\n",
      "\n",
      "\n",
      "# All requested packages already installed.\n",
      "\n"
     ]
    }
   ],
   "source": [
    "# para instalar directamente las librerias podemos utilizar el siguiente comando\n",
    "# cuidado, no olvide en colocar el --yes porque sino veras un mensaje de instalacion que no podras responder\n",
    "#!conda install -c conda-forge cdsapi\n",
    "\n",
    "!conda install --yes -c conda-forge cdsapi"
   ]
  },
  {
   "cell_type": "code",
   "execution_count": 2,
   "metadata": {},
   "outputs": [
    {
     "name": "stdout",
     "output_type": "stream",
     "text": [
      "/home/georgynio/Documentos/geocat_aulas/python_climatologia/book/dia6\n"
     ]
    }
   ],
   "source": [
    "!pwd"
   ]
  },
  {
   "cell_type": "markdown",
   "metadata": {},
   "source": [
    "### Importar el modulo cdsapi"
   ]
  },
  {
   "cell_type": "code",
   "execution_count": 3,
   "metadata": {},
   "outputs": [
    {
     "name": "stderr",
     "output_type": "stream",
     "text": [
      "2022-10-31 13:55:37,489 INFO Welcome to the CDS\n",
      "2022-10-31 13:55:37,491 INFO Sending request to https://cds.climate.copernicus.eu/api/v2/resources/reanalysis-era5-single-levels-monthly-means\n",
      "2022-10-31 13:55:37,719 INFO Request is completed\n",
      "2022-10-31 13:55:37,721 INFO Downloading https://download-0020.copernicus-climate.eu/cache-compute-0020/cache/data2/adaptor.mars.internal-1666984288.006447-11904-7-77059a1f-702f-4b10-b6b7-0b12bf86c05f.nc to ../../data/test/era5_2020.nc (847.6K)\n",
      "2022-10-31 13:55:39,758 INFO Download rate 416.2K/s\n"
     ]
    },
    {
     "data": {
      "text/plain": [
       "Result(content_length=867904,content_type=application/x-netcdf,location=https://download-0020.copernicus-climate.eu/cache-compute-0020/cache/data2/adaptor.mars.internal-1666984288.006447-11904-7-77059a1f-702f-4b10-b6b7-0b12bf86c05f.nc)"
      ]
     },
     "execution_count": 3,
     "metadata": {},
     "output_type": "execute_result"
    }
   ],
   "source": [
    "import cdsapi\n",
    "\n",
    "c = cdsapi.Client()\n",
    "\n",
    "c.retrieve(\n",
    "    'reanalysis-era5-single-levels-monthly-means',\n",
    "    {\n",
    "        'format': 'netcdf',\n",
    "        'product_type': 'monthly_averaged_reanalysis',\n",
    "        'variable': ['geopotential', '10m_u_component_of_wind', '10m_v_component_of_wind',\n",
    "         '2m_temperature', 'total_precipitation',\n",
    "        ],\n",
    "        'year': '2020',\n",
    "        'month': [\n",
    "            '01', '02', '03',\n",
    "            '04', '05', '06',\n",
    "            '07', '08', '09',\n",
    "            '10', '11', '12',\n",
    "        ],\n",
    "        'time': '00:00',\n",
    "        'area': [ 2, -85, -20, -65,],\n",
    "    },\n",
    "    '../../data/test/era5_2020.nc')"
   ]
  },
  {
   "cell_type": "code",
   "execution_count": 4,
   "metadata": {},
   "outputs": [],
   "source": [
    "import numpy as np"
   ]
  },
  {
   "cell_type": "code",
   "execution_count": 5,
   "metadata": {},
   "outputs": [],
   "source": [
    "years = np.arange(1960, 2021, 1)"
   ]
  },
  {
   "cell_type": "code",
   "execution_count": 6,
   "metadata": {},
   "outputs": [
    {
     "name": "stdout",
     "output_type": "stream",
     "text": [
      "1960\n",
      "era5_1960.nc\n",
      "1961\n",
      "era5_1961.nc\n",
      "1962\n",
      "era5_1962.nc\n",
      "más años\n",
      "más años\n"
     ]
    }
   ],
   "source": [
    "for i in years[0:3]:\n",
    "    print(str(i))\n",
    "    print(f'era5_{str(i)}.nc')\n",
    "print('más años')\n",
    "print('más años')\n"
   ]
  },
  {
   "cell_type": "code",
   "execution_count": 7,
   "metadata": {},
   "outputs": [
    {
     "name": "stderr",
     "output_type": "stream",
     "text": [
      "2022-10-31 13:55:42,514 INFO Welcome to the CDS\n",
      "2022-10-31 13:55:42,515 INFO Sending request to https://cds.climate.copernicus.eu/api/v2/resources/reanalysis-era5-single-levels-monthly-means\n",
      "2022-10-31 13:55:42,762 INFO Downloading https://download-0007-clone.copernicus-climate.eu/cache-compute-0007/cache/data5/adaptor.mars.internal-1667225044.8523903-29575-17-f84d6684-2e02-4ca6-8e0f-3589b2024003.nc to ../../data/test/era5_1960.nc (847.6K)\n",
      "2022-10-31 13:55:45,030 INFO Download rate 373.8K/s\n",
      "2022-10-31 13:55:45,434 INFO Welcome to the CDS\n",
      "2022-10-31 13:55:45,435 INFO Sending request to https://cds.climate.copernicus.eu/api/v2/resources/reanalysis-era5-single-levels-monthly-means\n",
      "2022-10-31 13:55:45,674 INFO Downloading https://download-0000-clone.copernicus-climate.eu/cache-compute-0000/cache/data2/adaptor.mars.internal-1667225100.4910977-11305-10-a19d16a3-519c-475a-87e5-777d142cf997.nc to ../../data/test/era5_1961.nc (847.6K)\n",
      "2022-10-31 13:55:47,866 INFO Download rate 386.9K/s\n",
      "2022-10-31 13:55:48,269 INFO Welcome to the CDS\n",
      "2022-10-31 13:55:48,271 INFO Sending request to https://cds.climate.copernicus.eu/api/v2/resources/reanalysis-era5-single-levels-monthly-means\n",
      "2022-10-31 13:55:48,575 INFO Downloading https://download-0011-clone.copernicus-climate.eu/cache-compute-0011/cache/data7/adaptor.mars.internal-1667225136.948814-29408-17-6c29c916-3d06-4d38-8281-41eb9b7fe932.nc to ../../data/test/era5_1962.nc (847.6K)\n",
      "2022-10-31 13:55:50,815 INFO Download rate 378.6K/s\n",
      "2022-10-31 13:55:51,221 INFO Welcome to the CDS\n",
      "2022-10-31 13:55:51,222 INFO Sending request to https://cds.climate.copernicus.eu/api/v2/resources/reanalysis-era5-single-levels-monthly-means\n",
      "2022-10-31 13:55:51,515 INFO Downloading https://download-0012-clone.copernicus-climate.eu/cache-compute-0012/cache/data8/adaptor.mars.internal-1667225156.355973-25642-8-d57abcb1-3cdb-45cf-bddc-c8420682055c.nc to ../../data/test/era5_1963.nc (847.6K)\n",
      "2022-10-31 13:55:53,749 INFO Download rate 379.6K/s\n",
      "2022-10-31 13:55:54,154 INFO Welcome to the CDS\n",
      "2022-10-31 13:55:54,155 INFO Sending request to https://cds.climate.copernicus.eu/api/v2/resources/reanalysis-era5-single-levels-monthly-means\n",
      "2022-10-31 13:55:54,452 INFO Downloading https://download-0001-clone.copernicus-climate.eu/cache-compute-0001/cache/data3/adaptor.mars.internal-1667225177.2786932-25902-18-2392caef-f9dd-413a-97fa-3728d8569560.nc to ../../data/test/era5_1964.nc (847.6K)\n",
      "2022-10-31 13:55:56,691 INFO Download rate 378.7K/s\n",
      "2022-10-31 13:55:57,098 INFO Welcome to the CDS\n",
      "2022-10-31 13:55:57,099 INFO Sending request to https://cds.climate.copernicus.eu/api/v2/resources/reanalysis-era5-single-levels-monthly-means\n",
      "2022-10-31 13:55:57,338 INFO Downloading https://download-0014-clone.copernicus-climate.eu/cache-compute-0014/cache/data1/adaptor.mars.internal-1667225391.7901568-25294-16-2761cdd5-ff35-4e94-9d5a-e1a229fc9ce4.nc to ../../data/test/era5_1965.nc (847.6K)\n",
      "2022-10-31 13:55:59,586 INFO Download rate 377.1K/s\n",
      "2022-10-31 13:55:59,992 INFO Welcome to the CDS\n",
      "2022-10-31 13:55:59,993 INFO Sending request to https://cds.climate.copernicus.eu/api/v2/resources/reanalysis-era5-single-levels-monthly-means\n",
      "2022-10-31 13:56:00,240 INFO Downloading https://download-0004-clone.copernicus-climate.eu/cache-compute-0004/cache/data1/adaptor.mars.internal-1667225504.3772311-9533-11-0098c32e-2019-4c34-b9be-776e486c52ad.nc to ../../data/test/era5_1966.nc (847.6K)\n",
      "2022-10-31 13:56:02,461 INFO Download rate 381.7K/s\n",
      "2022-10-31 13:56:02,869 INFO Welcome to the CDS\n",
      "2022-10-31 13:56:02,869 INFO Sending request to https://cds.climate.copernicus.eu/api/v2/resources/reanalysis-era5-single-levels-monthly-means\n",
      "2022-10-31 13:56:03,120 INFO Downloading https://download-0002-clone.copernicus-climate.eu/cache-compute-0002/cache/data3/adaptor.mars.internal-1667225711.4947731-1153-4-64bd0414-9d03-4acb-8611-813f9d145451.nc to ../../data/test/era5_1967.nc (847.6K)\n",
      "2022-10-31 13:56:05,337 INFO Download rate 382.5K/s\n",
      "2022-10-31 13:56:05,743 INFO Welcome to the CDS\n",
      "2022-10-31 13:56:05,744 INFO Sending request to https://cds.climate.copernicus.eu/api/v2/resources/reanalysis-era5-single-levels-monthly-means\n",
      "2022-10-31 13:56:06,017 INFO Downloading https://download-0014-clone.copernicus-climate.eu/cache-compute-0014/cache/data8/adaptor.mars.internal-1667225809.5716407-10866-11-e681bf7f-d17d-41fe-94e9-52352d128327.nc to ../../data/test/era5_1968.nc (847.6K)\n",
      "2022-10-31 13:56:07,419 INFO Download rate 605.4K/s\n",
      "2022-10-31 13:56:07,827 INFO Welcome to the CDS\n",
      "2022-10-31 13:56:07,828 INFO Sending request to https://cds.climate.copernicus.eu/api/v2/resources/reanalysis-era5-single-levels-monthly-means\n",
      "2022-10-31 13:56:08,067 INFO Downloading https://download-0017.copernicus-climate.eu/cache-compute-0017/cache/data3/adaptor.mars.internal-1667226045.8725994-23371-1-3cfd14fb-fb30-49c5-92af-e0f48d00f1eb.nc to ../../data/test/era5_1969.nc (847.6K)\n",
      "2022-10-31 13:56:10,284 INFO Download rate 382.5K/s\n",
      "2022-10-31 13:56:10,688 INFO Welcome to the CDS\n",
      "2022-10-31 13:56:10,689 INFO Sending request to https://cds.climate.copernicus.eu/api/v2/resources/reanalysis-era5-single-levels-monthly-means\n",
      "2022-10-31 13:56:10,972 INFO Downloading https://download-0006-clone.copernicus-climate.eu/cache-compute-0006/cache/data7/adaptor.mars.internal-1667226842.486585-24832-7-4f59e237-0af8-4d6c-ae49-1a81a792d381.nc to ../../data/test/era5_1970.nc (847.6K)\n",
      "2022-10-31 13:56:13,171 INFO Download rate 385.5K/s\n",
      "2022-10-31 13:56:13,577 INFO Welcome to the CDS\n",
      "2022-10-31 13:56:13,578 INFO Sending request to https://cds.climate.copernicus.eu/api/v2/resources/reanalysis-era5-single-levels-monthly-means\n",
      "2022-10-31 13:56:13,948 INFO Downloading https://download-0009-clone.copernicus-climate.eu/cache-compute-0009/cache/data6/adaptor.mars.internal-1667228683.454569-3006-1-bd6da5b7-c3d4-41bd-b6aa-c4190b2e22a9.nc to ../../data/test/era5_1971.nc (847.6K)\n",
      "2022-10-31 13:56:16,184 INFO Download rate 379.1K/s\n",
      "2022-10-31 13:56:16,591 INFO Welcome to the CDS\n",
      "2022-10-31 13:56:16,592 INFO Sending request to https://cds.climate.copernicus.eu/api/v2/resources/reanalysis-era5-single-levels-monthly-means\n",
      "2022-10-31 13:56:16,825 INFO Downloading https://download-0003-clone.copernicus-climate.eu/cache-compute-0003/cache/data7/adaptor.mars.internal-1667230203.8078568-10794-3-a95aaee8-df8b-4e3c-be0a-fbd5c8cd939c.nc to ../../data/test/era5_1972.nc (847.6K)\n",
      "2022-10-31 13:56:19,037 INFO Download rate 383.3K/s\n",
      "2022-10-31 13:56:19,443 INFO Welcome to the CDS\n",
      "2022-10-31 13:56:19,444 INFO Sending request to https://cds.climate.copernicus.eu/api/v2/resources/reanalysis-era5-single-levels-monthly-means\n",
      "2022-10-31 13:56:19,709 INFO Downloading https://download-0014-clone.copernicus-climate.eu/cache-compute-0014/cache/data3/adaptor.mars.internal-1667230529.5118802-5942-3-f28f430d-aa2c-4b2d-ba6d-4cf570472584.nc to ../../data/test/era5_1973.nc (847.6K)\n",
      "2022-10-31 13:56:21,100 INFO Download rate 609.8K/s\n",
      "2022-10-31 13:56:21,505 INFO Welcome to the CDS\n",
      "2022-10-31 13:56:21,506 INFO Sending request to https://cds.climate.copernicus.eu/api/v2/resources/reanalysis-era5-single-levels-monthly-means\n",
      "2022-10-31 13:56:21,784 INFO Downloading https://download-0015-clone.copernicus-climate.eu/cache-compute-0015/cache/data3/adaptor.mars.internal-1667230960.1696656-27230-4-fe8350e0-7b6e-4f5e-a9e0-66de8c1e7d10.nc to ../../data/test/era5_1974.nc (847.6K)\n",
      "2022-10-31 13:56:24,008 INFO Download rate 381.3K/s\n",
      "2022-10-31 13:56:24,413 INFO Welcome to the CDS\n",
      "2022-10-31 13:56:24,414 INFO Sending request to https://cds.climate.copernicus.eu/api/v2/resources/reanalysis-era5-single-levels-monthly-means\n",
      "2022-10-31 13:56:24,676 INFO Downloading https://download-0016.copernicus-climate.eu/cache-compute-0016/cache/data8/adaptor.mars.internal-1667231007.1555343-15274-3-052cf88b-f24d-4bd5-9d05-4f70cad5b026.nc to ../../data/test/era5_1975.nc (847.6K)\n",
      "2022-10-31 13:56:26,964 INFO Download rate 370.6K/s\n",
      "2022-10-31 13:56:27,371 INFO Welcome to the CDS\n",
      "2022-10-31 13:56:27,372 INFO Sending request to https://cds.climate.copernicus.eu/api/v2/resources/reanalysis-era5-single-levels-monthly-means\n",
      "2022-10-31 13:56:27,616 INFO Downloading https://download-0005-clone.copernicus-climate.eu/cache-compute-0005/cache/data6/adaptor.mars.internal-1667231161.0022361-17614-2-a31ac632-39d6-4078-ab33-84ed6e9d971c.nc to ../../data/test/era5_1976.nc (847.6K)\n",
      "2022-10-31 13:56:29,857 INFO Download rate 378.4K/s\n",
      "2022-10-31 13:56:30,262 INFO Welcome to the CDS\n",
      "2022-10-31 13:56:30,263 INFO Sending request to https://cds.climate.copernicus.eu/api/v2/resources/reanalysis-era5-single-levels-monthly-means\n",
      "2022-10-31 13:56:30,558 INFO Downloading https://download-0018.copernicus-climate.eu/cache-compute-0018/cache/data9/adaptor.mars.internal-1667231203.5543697-26153-4-10d7efda-50aa-438b-8241-1730b2c10bab.nc to ../../data/test/era5_1977.nc (847.6K)\n",
      "2022-10-31 13:56:32,767 INFO Download rate 383.9K/s\n",
      "2022-10-31 13:56:33,173 INFO Welcome to the CDS\n",
      "2022-10-31 13:56:33,174 INFO Sending request to https://cds.climate.copernicus.eu/api/v2/resources/reanalysis-era5-single-levels-monthly-means\n",
      "2022-10-31 13:56:33,463 INFO Downloading https://download-0012-clone.copernicus-climate.eu/cache-compute-0012/cache/data2/adaptor.mars.internal-1667231221.2532773-4139-18-a3aa127b-970b-4e2d-b279-58d5e7f828fc.nc to ../../data/test/era5_1978.nc (847.6K)\n",
      "2022-10-31 13:56:35,501 INFO Download rate 416K/s  \n",
      "2022-10-31 13:56:35,907 INFO Welcome to the CDS\n",
      "2022-10-31 13:56:35,908 INFO Sending request to https://cds.climate.copernicus.eu/api/v2/resources/reanalysis-era5-single-levels-monthly-means\n",
      "2022-10-31 13:56:36,235 INFO Downloading https://download-0014-clone.copernicus-climate.eu/cache-compute-0014/cache/data4/adaptor.mars.internal-1667231240.9853346-29215-3-c3554f36-df74-420f-b748-ce449b216801.nc to ../../data/test/era5_1979.nc (847.6K)\n",
      "2022-10-31 13:56:37,655 INFO Download rate 597.3K/s\n",
      "2022-10-31 13:56:38,060 INFO Welcome to the CDS\n",
      "2022-10-31 13:56:38,061 INFO Sending request to https://cds.climate.copernicus.eu/api/v2/resources/reanalysis-era5-single-levels-monthly-means\n",
      "2022-10-31 13:56:38,333 INFO Downloading https://download-0001-clone.copernicus-climate.eu/cache-compute-0001/cache/data3/adaptor.mars.internal-1667231533.8062003-10722-1-9c5571eb-8b9c-43a7-9bc8-c47f62c331ed.nc to ../../data/test/era5_1980.nc (847.6K)\n",
      "2022-10-31 13:56:40,412 INFO Download rate 407.9K/s\n",
      "2022-10-31 13:56:40,817 INFO Welcome to the CDS\n",
      "2022-10-31 13:56:40,819 INFO Sending request to https://cds.climate.copernicus.eu/api/v2/resources/reanalysis-era5-single-levels-monthly-means\n",
      "2022-10-31 13:56:41,076 INFO Downloading https://download-0005-clone.copernicus-climate.eu/cache-compute-0005/cache/data6/adaptor.mars.internal-1667231976.75338-4999-2-d5118370-f2b6-4b94-98de-32296da575d4.nc to ../../data/test/era5_1981.nc (847.6K)\n",
      "2022-10-31 13:56:42,459 INFO Download rate 613K/s  \n",
      "2022-10-31 13:56:42,865 INFO Welcome to the CDS\n",
      "2022-10-31 13:56:42,866 INFO Sending request to https://cds.climate.copernicus.eu/api/v2/resources/reanalysis-era5-single-levels-monthly-means\n",
      "2022-10-31 13:56:43,160 INFO Downloading https://download-0011-clone.copernicus-climate.eu/cache-compute-0011/cache/data1/adaptor.mars.internal-1667232153.6672049-21340-18-e01a1ca1-061a-451e-a687-9a66adaa1970.nc to ../../data/test/era5_1982.nc (847.6K)\n",
      "2022-10-31 13:56:45,190 INFO Download rate 417.8K/s\n",
      "2022-10-31 13:56:45,596 INFO Welcome to the CDS\n",
      "2022-10-31 13:56:45,597 INFO Sending request to https://cds.climate.copernicus.eu/api/v2/resources/reanalysis-era5-single-levels-monthly-means\n",
      "2022-10-31 13:56:45,835 INFO Downloading https://download-0001-clone.copernicus-climate.eu/cache-compute-0001/cache/data6/adaptor.mars.internal-1667232374.282543-10722-3-65841351-e10e-4107-aeb6-4b657165856d.nc to ../../data/test/era5_1983.nc (847.6K)\n",
      "2022-10-31 13:56:47,284 INFO Download rate 585.4K/s\n",
      "2022-10-31 13:56:47,688 INFO Welcome to the CDS\n",
      "2022-10-31 13:56:47,689 INFO Sending request to https://cds.climate.copernicus.eu/api/v2/resources/reanalysis-era5-single-levels-monthly-means\n",
      "2022-10-31 13:56:47,952 INFO Downloading https://download-0002-clone.copernicus-climate.eu/cache-compute-0002/cache/data0/adaptor.mars.internal-1667232768.9562995-4196-1-fcaabab6-2a59-4cb0-a987-f56dd0def742.nc to ../../data/test/era5_1984.nc (847.6K)\n",
      "2022-10-31 13:56:50,002 INFO Download rate 413.6K/s\n",
      "2022-10-31 13:56:50,407 INFO Welcome to the CDS\n",
      "2022-10-31 13:56:50,408 INFO Sending request to https://cds.climate.copernicus.eu/api/v2/resources/reanalysis-era5-single-levels-monthly-means\n",
      "2022-10-31 13:56:50,647 INFO Downloading https://download-0015-clone.copernicus-climate.eu/cache-compute-0015/cache/data6/adaptor.mars.internal-1667232947.306964-17254-3-da5e0fb3-a0d1-454e-a298-3c6207524e5b.nc to ../../data/test/era5_1985.nc (847.6K)\n",
      "2022-10-31 13:56:52,055 INFO Download rate 602.5K/s\n",
      "2022-10-31 13:56:52,458 INFO Welcome to the CDS\n",
      "2022-10-31 13:56:52,460 INFO Sending request to https://cds.climate.copernicus.eu/api/v2/resources/reanalysis-era5-single-levels-monthly-means\n",
      "2022-10-31 13:56:52,749 INFO Downloading https://download-0013-clone.copernicus-climate.eu/cache-compute-0013/cache/data2/adaptor.mars.internal-1667232961.6972735-3846-18-7e44e3fc-0c8d-4ea2-beab-b981fe33a2c8.nc to ../../data/test/era5_1986.nc (847.6K)\n",
      "2022-10-31 13:56:54,964 INFO Download rate 383K/s  \n",
      "2022-10-31 13:56:55,368 INFO Welcome to the CDS\n",
      "2022-10-31 13:56:55,369 INFO Sending request to https://cds.climate.copernicus.eu/api/v2/resources/reanalysis-era5-single-levels-monthly-means\n",
      "2022-10-31 13:56:55,628 INFO Downloading https://download-0002-clone.copernicus-climate.eu/cache-compute-0002/cache/data1/adaptor.mars.internal-1666985373.5171037-28458-1-23d1b2bd-2bad-4829-b7a6-413b2ab24cc2.nc to ../../data/test/era5_1987.nc (847.6K)\n",
      "2022-10-31 13:56:57,024 INFO Download rate 607.7K/s\n",
      "2022-10-31 13:56:57,429 INFO Welcome to the CDS\n",
      "2022-10-31 13:56:57,430 INFO Sending request to https://cds.climate.copernicus.eu/api/v2/resources/reanalysis-era5-single-levels-monthly-means\n",
      "2022-10-31 13:56:57,739 INFO Downloading https://download-0020.copernicus-climate.eu/cache-compute-0020/cache/data0/adaptor.mars.internal-1667232984.9307194-18936-10-f3cce6ce-401f-49b9-8033-be88a31aca5e.nc to ../../data/test/era5_1988.nc (847.6K)\n",
      "2022-10-31 13:56:59,786 INFO Download rate 414.3K/s\n",
      "2022-10-31 13:57:00,198 INFO Welcome to the CDS\n",
      "2022-10-31 13:57:00,200 INFO Sending request to https://cds.climate.copernicus.eu/api/v2/resources/reanalysis-era5-single-levels-monthly-means\n",
      "2022-10-31 13:57:00,438 INFO Downloading https://download-0013-clone.copernicus-climate.eu/cache-compute-0013/cache/data3/adaptor.mars.internal-1667233011.7676399-23876-13-6a125e59-ed7a-4f39-8526-e48751813c99.nc to ../../data/test/era5_1989.nc (847.6K)\n",
      "2022-10-31 13:57:01,841 INFO Download rate 604.7K/s\n",
      "2022-10-31 13:57:02,248 INFO Welcome to the CDS\n",
      "2022-10-31 13:57:02,250 INFO Sending request to https://cds.climate.copernicus.eu/api/v2/resources/reanalysis-era5-single-levels-monthly-means\n",
      "2022-10-31 13:57:02,534 INFO Downloading https://download-0004-clone.copernicus-climate.eu/cache-compute-0004/cache/data6/adaptor.mars.internal-1667233415.9985542-2400-5-0a0b50d3-5f4b-40ab-81d4-8925d4a67827.nc to ../../data/test/era5_1990.nc (847.6K)\n",
      "2022-10-31 13:57:04,562 INFO Download rate 418.1K/s\n",
      "2022-10-31 13:57:04,968 INFO Welcome to the CDS\n",
      "2022-10-31 13:57:04,969 INFO Sending request to https://cds.climate.copernicus.eu/api/v2/resources/reanalysis-era5-single-levels-monthly-means\n",
      "2022-10-31 13:57:05,252 INFO Downloading https://download-0014-clone.copernicus-climate.eu/cache-compute-0014/cache/data9/adaptor.mars.internal-1667233534.848443-17159-11-35eea7c7-1471-42d2-a57a-9c57538d16e2.nc to ../../data/test/era5_1991.nc (847.6K)\n",
      "2022-10-31 13:57:06,659 INFO Download rate 603K/s  \n",
      "2022-10-31 13:57:07,065 INFO Welcome to the CDS\n",
      "2022-10-31 13:57:07,066 INFO Sending request to https://cds.climate.copernicus.eu/api/v2/resources/reanalysis-era5-single-levels-monthly-means\n",
      "2022-10-31 13:57:07,338 INFO Downloading https://download-0018.copernicus-climate.eu/cache-compute-0018/cache/data8/adaptor.mars.internal-1667233761.2879055-29231-2-acbafc70-3690-41d2-9730-dc05a9a70a3a.nc to ../../data/test/era5_1992.nc (847.6K)\n",
      "2022-10-31 13:57:09,419 INFO Download rate 407.4K/s\n",
      "2022-10-31 13:57:10,491 INFO Welcome to the CDS\n",
      "2022-10-31 13:57:10,493 INFO Sending request to https://cds.climate.copernicus.eu/api/v2/resources/reanalysis-era5-single-levels-monthly-means\n",
      "2022-10-31 13:57:10,761 INFO Downloading https://download-0004-clone.copernicus-climate.eu/cache-compute-0004/cache/data1/adaptor.mars.internal-1667234315.5924454-25813-9-dbb7ceab-da78-4246-a5c5-57c7b8b2f547.nc to ../../data/test/era5_1993.nc (847.6K)\n",
      "2022-10-31 13:57:12,164 INFO Download rate 604.3K/s\n",
      "2022-10-31 13:57:12,576 INFO Welcome to the CDS\n",
      "2022-10-31 13:57:12,577 INFO Sending request to https://cds.climate.copernicus.eu/api/v2/resources/reanalysis-era5-single-levels-monthly-means\n",
      "2022-10-31 13:57:12,821 INFO Downloading https://download-0004-clone.copernicus-climate.eu/cache-compute-0004/cache/data7/adaptor.mars.internal-1667234346.2132807-11191-3-8c79a444-5906-4984-8cd8-46fa0b132985.nc to ../../data/test/era5_1994.nc (847.6K)\n",
      "2022-10-31 13:57:13,462 INFO Download rate 1.3M/s \n",
      "2022-10-31 13:57:13,876 INFO Welcome to the CDS\n",
      "2022-10-31 13:57:13,877 INFO Sending request to https://cds.climate.copernicus.eu/api/v2/resources/reanalysis-era5-single-levels-monthly-means\n",
      "2022-10-31 13:57:14,152 INFO Downloading https://download-0001-clone.copernicus-climate.eu/cache-compute-0001/cache/data0/adaptor.mars.internal-1667234363.956414-28807-10-4498fa30-5776-42b4-95c3-f313d75fafbc.nc to ../../data/test/era5_1995.nc (847.6K)\n",
      "2022-10-31 13:57:15,569 INFO Download rate 598.7K/s\n",
      "2022-10-31 13:57:15,981 INFO Welcome to the CDS\n",
      "2022-10-31 13:57:15,982 INFO Sending request to https://cds.climate.copernicus.eu/api/v2/resources/reanalysis-era5-single-levels-monthly-means\n",
      "2022-10-31 13:57:16,244 INFO Downloading https://download-0019.copernicus-climate.eu/cache-compute-0019/cache/data2/adaptor.mars.internal-1667234390.915887-14370-13-0073ab24-7fc9-42e9-a7c6-288ba680a877.nc to ../../data/test/era5_1996.nc (847.6K)\n",
      "2022-10-31 13:57:18,489 INFO Download rate 377.6K/s\n",
      "2022-10-31 13:57:18,901 INFO Welcome to the CDS\n",
      "2022-10-31 13:57:18,902 INFO Sending request to https://cds.climate.copernicus.eu/api/v2/resources/reanalysis-era5-single-levels-monthly-means\n",
      "2022-10-31 13:57:19,296 INFO Downloading https://download-0021.copernicus-climate.eu/cache-compute-0021/cache/data2/adaptor.mars.internal-1667234414.292656-20379-2-fbb8886e-aa13-4eda-8217-adc41c984e30.nc to ../../data/test/era5_1997.nc (847.6K)\n",
      "2022-10-31 13:57:21,515 INFO Download rate 382.2K/s\n",
      "2022-10-31 13:57:21,927 INFO Welcome to the CDS\n",
      "2022-10-31 13:57:21,929 INFO Sending request to https://cds.climate.copernicus.eu/api/v2/resources/reanalysis-era5-single-levels-monthly-means\n",
      "2022-10-31 13:57:22,202 INFO Downloading https://download-0019.copernicus-climate.eu/cache-compute-0019/cache/data7/adaptor.mars.internal-1666714454.1589751-6414-13-b88731d2-0bde-41ad-9dc6-0d1cad8feeec.nc to ../../data/test/era5_1998.nc (847.6K)\n",
      "2022-10-31 13:57:23,600 INFO Download rate 606.9K/s\n",
      "2022-10-31 13:57:24,014 INFO Welcome to the CDS\n",
      "2022-10-31 13:57:24,015 INFO Sending request to https://cds.climate.copernicus.eu/api/v2/resources/reanalysis-era5-single-levels-monthly-means\n",
      "2022-10-31 13:57:24,287 INFO Downloading https://download-0005-clone.copernicus-climate.eu/cache-compute-0005/cache/data8/adaptor.mars.internal-1667234645.7453613-4637-6-2d8601fe-4515-4668-aa88-2bf605098cb1.nc to ../../data/test/era5_1999.nc (847.6K)\n",
      "2022-10-31 13:57:26,290 INFO Download rate 423.4K/s\n",
      "2022-10-31 13:57:26,703 INFO Welcome to the CDS\n",
      "2022-10-31 13:57:26,704 INFO Sending request to https://cds.climate.copernicus.eu/api/v2/resources/reanalysis-era5-single-levels-monthly-means\n",
      "2022-10-31 13:57:26,956 INFO Downloading https://download-0020.copernicus-climate.eu/cache-compute-0020/cache/data1/adaptor.mars.internal-1667234824.798229-31935-9-fb2d1217-e212-4575-a682-80b77102b455.nc to ../../data/test/era5_2000.nc (847.6K)\n",
      "2022-10-31 13:57:28,351 INFO Download rate 608K/s  \n",
      "2022-10-31 13:57:28,766 INFO Welcome to the CDS\n",
      "2022-10-31 13:57:28,767 INFO Sending request to https://cds.climate.copernicus.eu/api/v2/resources/reanalysis-era5-single-levels-monthly-means\n",
      "2022-10-31 13:57:29,041 INFO Downloading https://download-0007-clone.copernicus-climate.eu/cache-compute-0007/cache/data0/adaptor.mars.internal-1667234839.987984-7523-17-3e3a7f26-1fc7-4404-882e-8e3e34621b1e.nc to ../../data/test/era5_2001.nc (847.6K)\n",
      "2022-10-31 13:57:31,129 INFO Download rate 406.2K/s\n",
      "2022-10-31 13:57:31,543 INFO Welcome to the CDS\n",
      "2022-10-31 13:57:31,544 INFO Sending request to https://cds.climate.copernicus.eu/api/v2/resources/reanalysis-era5-single-levels-monthly-means\n",
      "2022-10-31 13:57:31,793 INFO Downloading https://download-0012-clone.copernicus-climate.eu/cache-compute-0012/cache/data8/adaptor.mars.internal-1667235067.6439342-1328-8-3df832c9-b2a3-438f-9da1-aac28d0d749b.nc to ../../data/test/era5_2002.nc (847.6K)\n",
      "2022-10-31 13:57:33,828 INFO Download rate 416.7K/s\n",
      "2022-10-31 13:57:34,239 INFO Welcome to the CDS\n",
      "2022-10-31 13:57:34,241 INFO Sending request to https://cds.climate.copernicus.eu/api/v2/resources/reanalysis-era5-single-levels-monthly-means\n",
      "2022-10-31 13:57:34,504 INFO Downloading https://download-0005-clone.copernicus-climate.eu/cache-compute-0005/cache/data2/adaptor.mars.internal-1666987453.0379398-3258-18-2e414334-1b9e-48c3-b4b2-919fbabcfd08.nc to ../../data/test/era5_2003.nc (847.6K)\n",
      "2022-10-31 13:57:35,910 INFO Download rate 603.4K/s\n",
      "2022-10-31 13:57:36,323 INFO Welcome to the CDS\n",
      "2022-10-31 13:57:36,324 INFO Sending request to https://cds.climate.copernicus.eu/api/v2/resources/reanalysis-era5-single-levels-monthly-means\n",
      "2022-10-31 13:57:36,557 INFO Downloading https://download-0020.copernicus-climate.eu/cache-compute-0020/cache/data3/adaptor.mars.internal-1667235253.6411338-2798-6-7e3e2fd6-f983-4305-a9db-2908d56d7037.nc to ../../data/test/era5_2004.nc (847.6K)\n",
      "2022-10-31 13:57:37,935 INFO Download rate 615.5K/s\n",
      "2022-10-31 13:57:38,348 INFO Welcome to the CDS\n",
      "2022-10-31 13:57:38,349 INFO Sending request to https://cds.climate.copernicus.eu/api/v2/resources/reanalysis-era5-single-levels-monthly-means\n",
      "2022-10-31 13:57:38,575 INFO Downloading https://download-0012-clone.copernicus-climate.eu/cache-compute-0012/cache/data1/adaptor.mars.internal-1667235269.3838625-24072-9-485ae3e5-abc0-4887-b091-25243984a54f.nc to ../../data/test/era5_2005.nc (847.6K)\n",
      "2022-10-31 13:57:39,953 INFO Download rate 615.5K/s\n",
      "2022-10-31 13:57:40,366 INFO Welcome to the CDS\n",
      "2022-10-31 13:57:40,367 INFO Sending request to https://cds.climate.copernicus.eu/api/v2/resources/reanalysis-era5-single-levels-monthly-means\n",
      "2022-10-31 13:57:40,632 INFO Downloading https://download-0010-clone.copernicus-climate.eu/cache-compute-0010/cache/data7/adaptor.mars.internal-1667235282.3911693-15485-14-a53e4706-e72d-47f8-a2ce-c3d4625c9db7.nc to ../../data/test/era5_2006.nc (847.6K)\n",
      "2022-10-31 13:57:42,826 INFO Download rate 386.5K/s\n",
      "2022-10-31 13:57:43,239 INFO Welcome to the CDS\n",
      "2022-10-31 13:57:43,240 INFO Sending request to https://cds.climate.copernicus.eu/api/v2/resources/reanalysis-era5-single-levels-monthly-means\n",
      "2022-10-31 13:57:43,476 INFO Downloading https://download-0006-clone.copernicus-climate.eu/cache-compute-0006/cache/data4/adaptor.mars.internal-1667235298.1593723-17845-6-6f0af6f0-a086-4496-9f60-e81b4c96b101.nc to ../../data/test/era5_2007.nc (847.6K)\n",
      "2022-10-31 13:57:45,478 INFO Download rate 423.7K/s\n",
      "2022-10-31 13:57:45,889 INFO Welcome to the CDS\n",
      "2022-10-31 13:57:45,890 INFO Sending request to https://cds.climate.copernicus.eu/api/v2/resources/reanalysis-era5-single-levels-monthly-means\n",
      "2022-10-31 13:57:46,149 INFO Downloading https://download-0019.copernicus-climate.eu/cache-compute-0019/cache/data5/adaptor.mars.internal-1667235318.8582354-14370-16-c53e0d4a-1012-4b32-b393-1b2e2148835b.nc to ../../data/test/era5_2008.nc (847.6K)\n",
      "2022-10-31 13:57:47,530 INFO Download rate 614.4K/s\n",
      "2022-10-31 13:57:47,941 INFO Welcome to the CDS\n",
      "2022-10-31 13:57:47,942 INFO Sending request to https://cds.climate.copernicus.eu/api/v2/resources/reanalysis-era5-single-levels-monthly-means\n",
      "2022-10-31 13:57:48,169 INFO Downloading https://download-0002-clone.copernicus-climate.eu/cache-compute-0002/cache/data1/adaptor.mars.internal-1666987527.644163-1113-2-cd3ad239-da17-4e2d-ae59-5ebe4bbba08b.nc to ../../data/test/era5_2009.nc (847.6K)\n",
      "2022-10-31 13:57:50,204 INFO Download rate 416.7K/s\n",
      "2022-10-31 13:57:50,615 INFO Welcome to the CDS\n",
      "2022-10-31 13:57:50,616 INFO Sending request to https://cds.climate.copernicus.eu/api/v2/resources/reanalysis-era5-single-levels-monthly-means\n",
      "2022-10-31 13:57:50,849 INFO Downloading https://download-0005-clone.copernicus-climate.eu/cache-compute-0005/cache/data7/adaptor.mars.internal-1667235349.0460587-19791-1-b1bc40be-6133-4a20-8365-2db4cb1cbf8e.nc to ../../data/test/era5_2010.nc (847.6K)\n",
      "2022-10-31 13:57:52,205 INFO Download rate 625.4K/s\n",
      "2022-10-31 13:57:52,618 INFO Welcome to the CDS\n",
      "2022-10-31 13:57:52,619 INFO Sending request to https://cds.climate.copernicus.eu/api/v2/resources/reanalysis-era5-single-levels-monthly-means\n",
      "2022-10-31 13:57:52,861 INFO Request is queued\n",
      "2022-10-31 14:02:14,007 INFO Request is completed\n",
      "2022-10-31 14:02:14,008 INFO Downloading https://download-0002-clone.copernicus-climate.eu/cache-compute-0002/cache/data0/adaptor.mars.internal-1667235574.2889454-24512-1-c2d2cb41-a706-460a-a1b7-7bbe4d8fdecd.nc to ../../data/test/era5_2011.nc (847.6K)\n",
      "2022-10-31 14:02:16,234 INFO Download rate 380.9K/s\n",
      "2022-10-31 14:02:16,644 INFO Welcome to the CDS\n",
      "2022-10-31 14:02:16,645 INFO Sending request to https://cds.climate.copernicus.eu/api/v2/resources/reanalysis-era5-single-levels-monthly-means\n",
      "2022-10-31 14:02:16,985 INFO Downloading https://download-0000-clone.copernicus-climate.eu/cache-compute-0000/cache/data7/adaptor.mars.internal-1666987565.569351-1893-18-b4f9a4f8-8ef2-4f8f-8baa-d5c320c635a6.nc to ../../data/test/era5_2012.nc (847.6K)\n",
      "2022-10-31 14:02:19,231 INFO Download rate 377.5K/s\n",
      "2022-10-31 14:02:19,642 INFO Welcome to the CDS\n",
      "2022-10-31 14:02:19,643 INFO Sending request to https://cds.climate.copernicus.eu/api/v2/resources/reanalysis-era5-single-levels-monthly-means\n",
      "2022-10-31 14:02:19,879 INFO Request is queued\n",
      "2022-10-31 14:02:21,088 INFO Request is running\n",
      "2022-10-31 14:02:28,836 INFO Request is completed\n",
      "2022-10-31 14:02:28,837 INFO Downloading https://download-0016.copernicus-climate.eu/cache-compute-0016/cache/data4/adaptor.mars.internal-1667235745.69812-19692-11-738ff2f4-736a-4ea6-a4bc-7bcd032d42ab.nc to ../../data/test/era5_2013.nc (847.6K)\n",
      "2022-10-31 14:02:31,070 INFO Download rate 379.9K/s\n",
      "2022-10-31 14:02:31,480 INFO Welcome to the CDS\n",
      "2022-10-31 14:02:31,481 INFO Sending request to https://cds.climate.copernicus.eu/api/v2/resources/reanalysis-era5-single-levels-monthly-means\n",
      "2022-10-31 14:02:31,757 INFO Request is queued\n",
      "2022-10-31 14:02:32,964 INFO Request is running\n",
      "2022-10-31 14:02:40,706 INFO Request is completed\n",
      "2022-10-31 14:02:40,707 INFO Downloading https://download-0021.copernicus-climate.eu/cache-compute-0021/cache/data3/adaptor.mars.internal-1667235757.3790538-14013-12-f05e31e7-edd8-47c5-a63e-b8dd5debfffa.nc to ../../data/test/era5_2014.nc (847.6K)\n",
      "2022-10-31 14:02:42,865 INFO Download rate 392.8K/s\n",
      "2022-10-31 14:02:43,275 INFO Welcome to the CDS\n",
      "2022-10-31 14:02:43,276 INFO Sending request to https://cds.climate.copernicus.eu/api/v2/resources/reanalysis-era5-single-levels-monthly-means\n",
      "2022-10-31 14:02:43,485 INFO Request is queued\n",
      "2022-10-31 14:02:44,691 INFO Request is running\n",
      "2022-10-31 14:09:05,258 INFO Request is completed\n",
      "2022-10-31 14:09:05,259 INFO Downloading https://download-0019.copernicus-climate.eu/cache-compute-0019/cache/data0/adaptor.mars.internal-1667235978.427902-28893-3-8f6911be-bef1-4d00-894c-dcfd617f2dce.nc to ../../data/test/era5_2015.nc (847.6K)\n",
      "2022-10-31 14:09:07,472 INFO Download rate 383.1K/s\n",
      "2022-10-31 14:09:07,876 INFO Welcome to the CDS\n",
      "2022-10-31 14:09:07,877 INFO Sending request to https://cds.climate.copernicus.eu/api/v2/resources/reanalysis-era5-single-levels-monthly-means\n",
      "2022-10-31 14:09:08,134 INFO Request is queued\n",
      "2022-10-31 14:09:09,337 INFO Request is running\n",
      "2022-10-31 14:09:22,351 INFO Request is completed\n",
      "2022-10-31 14:09:22,351 INFO Downloading https://download-0018.copernicus-climate.eu/cache-compute-0018/cache/data0/adaptor.mars.internal-1667236159.1288106-15318-5-12c2d110-f364-4ce0-b5f4-36d19e90676c.nc to ../../data/test/era5_2016.nc (847.6K)\n",
      "2022-10-31 14:09:24,570 INFO Download rate 382.2K/s\n",
      "2022-10-31 14:09:24,997 INFO Welcome to the CDS\n",
      "2022-10-31 14:09:24,998 INFO Sending request to https://cds.climate.copernicus.eu/api/v2/resources/reanalysis-era5-single-levels-monthly-means\n",
      "2022-10-31 14:09:25,299 INFO Downloading https://download-0009-clone.copernicus-climate.eu/cache-compute-0009/cache/data4/adaptor.mars.internal-1666987629.8245945-17756-10-ab45fbb4-2cbf-4d8b-ac33-f8ee45da0e81.nc to ../../data/test/era5_2017.nc (847.6K)\n",
      "2022-10-31 14:09:27,568 INFO Download rate 373.7K/s\n",
      "2022-10-31 14:09:27,972 INFO Welcome to the CDS\n",
      "2022-10-31 14:09:27,973 INFO Sending request to https://cds.climate.copernicus.eu/api/v2/resources/reanalysis-era5-single-levels-monthly-means\n",
      "2022-10-31 14:09:28,208 INFO Request is queued\n",
      "2022-10-31 14:09:31,116 INFO Request is running\n",
      "2022-10-31 14:09:37,155 INFO Request is completed\n",
      "2022-10-31 14:09:37,156 INFO Downloading https://download-0014-clone.copernicus-climate.eu/cache-compute-0014/cache/data0/adaptor.mars.internal-1667236176.014287-7564-14-63fe238e-3fdd-48fd-9514-3537277f7378.nc to ../../data/test/era5_2018.nc (847.6K)\n",
      "2022-10-31 14:09:39,332 INFO Download rate 389.6K/s\n",
      "2022-10-31 14:09:39,738 INFO Welcome to the CDS\n",
      "2022-10-31 14:09:39,739 INFO Sending request to https://cds.climate.copernicus.eu/api/v2/resources/reanalysis-era5-single-levels-monthly-means\n",
      "2022-10-31 14:09:39,994 INFO Request is queued\n",
      "2022-10-31 14:09:42,903 INFO Request is running\n",
      "2022-10-31 14:09:54,207 INFO Request is completed\n",
      "2022-10-31 14:09:54,208 INFO Downloading https://download-0003-clone.copernicus-climate.eu/cache-compute-0003/cache/data7/adaptor.mars.internal-1667236192.616571-19827-18-99a974d1-7961-4fda-8313-befa20be51b1.nc to ../../data/test/era5_2019.nc (847.6K)\n",
      "2022-10-31 14:09:56,406 INFO Download rate 385.8K/s\n"
     ]
    }
   ],
   "source": [
    "for i in years:\n",
    "    c.retrieve(\n",
    "        'reanalysis-era5-single-levels-monthly-means',\n",
    "        {\n",
    "            'format': 'netcdf',\n",
    "            'product_type': 'monthly_averaged_reanalysis',\n",
    "            'variable': ['geopotential', '10m_u_component_of_wind', '10m_v_component_of_wind',\n",
    "            '2m_temperature', 'total_precipitation',\n",
    "            ],\n",
    "            'year': str(i),\n",
    "            'month': [\n",
    "                '01', '02', '03',\n",
    "                '04', '05', '06',\n",
    "                '07', '08', '09',\n",
    "                '10', '11', '12',\n",
    "            ],\n",
    "            'time': '00:00',\n",
    "            'area': [ 2, -85, -20, -65,],\n",
    "        },\n",
    "        f'../../data/era5_{str(i)}.nc')"
   ]
  },
  {
   "cell_type": "markdown",
   "metadata": {},
   "source": [
    "## Retornar al [indice](./../indice.md)"
   ]
  }
 ],
 "metadata": {
  "kernelspec": {
   "display_name": "Python 3.8.10 64-bit",
   "language": "python",
   "name": "python3"
  },
  "language_info": {
   "codemirror_mode": {
    "name": "ipython",
    "version": 3
   },
   "file_extension": ".py",
   "mimetype": "text/x-python",
   "name": "python",
   "nbconvert_exporter": "python",
   "pygments_lexer": "ipython3",
   "version": "3.8.10"
  },
  "orig_nbformat": 4,
  "vscode": {
   "interpreter": {
    "hash": "916dbcbb3f70747c44a77c7bcd40155683ae19c65e1c03b4aa3499c5328201f1"
   }
  }
 },
 "nbformat": 4,
 "nbformat_minor": 2
}
