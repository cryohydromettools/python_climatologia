{
 "cells": [
  {
   "cell_type": "markdown",
   "metadata": {},
   "source": [
    "# Descargar datos de reanálisis **ERA5**"
   ]
  },
  {
   "cell_type": "markdown",
   "metadata": {},
   "source": [
    "Los datos de reanálisis proporcionan la imagen más completa posible actualmente del tiempo y el clima pasados.\n",
    "\n",
    "Son una combinación de observaciones con predicciones meteorológicas pasadas a corto plazo que se repiten con modelos modernos de predicción meteorológica. Son globalmente completos y coherentes en el tiempo y, a veces, se denominan \"mapas sin espacios\".\n",
    "\n",
    "Existen varias fuentes de datos de reanálisis disponibles (e.g., NCEP/NCAR, ERA5, ERA5-Land, etc). [Aquí](https://climatedataguide.ucar.edu/climate-data/atmospheric-reanalysis-overview-comparison-tables) podemos encontrar un resumen de los datos de reanálisis disponibles. \n",
    "\n",
    "**¿Cómo se generan estos datos?**\n",
    "\n",
    "El reanálisis combina predicciones meteorológicas pasadas a corto plazo con observaciones a través de la asimilación de datos. El proceso imita la producción de pronósticos meteorológicos diarios, que utilizan un análisis del estado actual del sistema terrestre como punto de partida. El análisis es una combinación de observaciones físicamente coherentes con un pronóstico a corto plazo basado en el análisis anterior.\n",
    "\n",
    "<img src='./img/era5_reanalisis.jpg' width='500'>"
   ]
  },
  {
   "cell_type": "markdown",
   "metadata": {},
   "source": [
    "## Reanálisis **ERA5**"
   ]
  },
  {
   "cell_type": "markdown",
   "metadata": {},
   "source": [
    "ERA5 es el reanálisis del ECMWF de quinta generación para el clima y el tiempo global durante las últimas 4 a 7 décadas. Actualmente, los datos están disponibles desde 1950, divididos en entradas de [Climate Data Store](https://cds.climate.copernicus.eu/cdsapp#!/dataset/reanalysis-era5-single-levels?tab=overview) para 1950-1978 (extensión posterior preliminar) y desde 1979 en adelante (versión final más actualizaciones oportunas, esta página). ERA5 reemplaza el reanálisis ERA-Interim.\n",
    "\n",
    "<img src='./img/er5_reanalisis_data.jpg' width='500'>"
   ]
  },
  {
   "cell_type": "markdown",
   "metadata": {},
   "source": [
    "## Registrarse en CDS\n",
    "\n",
    "Si aún no estás registrado en el CDS, entrá [aquí](https://cds.climate.copernicus.eu/cdsapp#!/home) para registrarte. Es importante hacer este paso para descargar datos desde CDS!!!"
   ]
  },
  {
   "cell_type": "markdown",
   "metadata": {},
   "source": [
    "## Descargar ERA5 a través de la API de CDS"
   ]
  },
  {
   "cell_type": "markdown",
   "metadata": {},
   "source": [
    "### Instalar `cdsapi`\n",
    "\n",
    "Si aún no tiene instalado el módulo `cdsapi`, instale usando el siguiente comando en **anaconda prompt**:\n",
    "\n",
    "``` python\n",
    "\n",
    "conda install -c conda-forge cdsapi \n",
    "\n",
    "```\n",
    "Luego configure tu computadora con tu usuario y clave proporcionados por el **CDS**.\n",
    "> Deberás crear un archivo **.cdsapirc** en tu home y copiar tu usuario y clave. Sigue los pasos [aquí](https://cds.climate.copernicus.eu/api-how-to) para hacer esto."
   ]
  },
  {
   "cell_type": "code",
   "execution_count": 2,
   "metadata": {},
   "outputs": [
    {
     "name": "stdout",
     "output_type": "stream",
     "text": [
      "Collecting package metadata (current_repodata.json): done\n",
      "Solving environment: done\n",
      "\n",
      "## Package Plan ##\n",
      "\n",
      "  environment location: /home/georgynio/miniconda3/envs/geocat\n",
      "\n",
      "  added / updated specs:\n",
      "    - cdsapi\n",
      "\n",
      "\n",
      "The following packages will be downloaded:\n",
      "\n",
      "    package                    |            build\n",
      "    ---------------------------|-----------------\n",
      "    cdsapi-0.5.1               |     pyhd8ed1ab_0          15 KB  conda-forge\n",
      "    openssl-1.1.1q             |       h166bdaf_1         2.1 MB  conda-forge\n",
      "    ------------------------------------------------------------\n",
      "                                           Total:         2.1 MB\n",
      "\n",
      "The following NEW packages will be INSTALLED:\n",
      "\n",
      "  cdsapi             conda-forge/noarch::cdsapi-0.5.1-pyhd8ed1ab_0 None\n",
      "\n",
      "The following packages will be UPDATED:\n",
      "\n",
      "  openssl                                 1.1.1q-h166bdaf_0 --> 1.1.1q-h166bdaf_1 None\n",
      "\n",
      "\n",
      "\n",
      "Downloading and Extracting Packages\n",
      "cdsapi-0.5.1         | 15 KB     | ##################################### | 100% \n",
      "openssl-1.1.1q       | 2.1 MB    | ##################################### | 100% \n",
      "Preparing transaction: done\n",
      "Verifying transaction: done\n",
      "Executing transaction: done\n",
      "Retrieving notices: ...working... done\n"
     ]
    }
   ],
   "source": [
    "# para instalar directamente las librerias podemos utilizar el siguiente comando\n",
    "# cuidado, no olvide en colocar el --yes porque sino veras un mensaje de instalacion que no podras responder\n",
    "\n",
    "!conda install --yes -c conda-forge cdsapi"
   ]
  },
  {
   "cell_type": "markdown",
   "metadata": {},
   "source": [
    "### Importar el modulo cdsapi"
   ]
  },
  {
   "cell_type": "code",
   "execution_count": 5,
   "metadata": {},
   "outputs": [
    {
     "name": "stderr",
     "output_type": "stream",
     "text": [
      "2022-10-28 16:11:22,065 INFO Welcome to the CDS\n",
      "2022-10-28 16:11:22,067 INFO Sending request to https://cds.climate.copernicus.eu/api/v2/resources/reanalysis-era5-single-levels-monthly-means\n",
      "2022-10-28 16:11:22,408 INFO Request is queued\n",
      "2022-10-28 16:11:23,753 INFO Request is running\n",
      "2022-10-28 16:11:31,842 INFO Request is completed\n",
      "2022-10-28 16:11:31,843 INFO Downloading https://download-0020.copernicus-climate.eu/cache-compute-0020/cache/data2/adaptor.mars.internal-1666984288.006447-11904-7-77059a1f-702f-4b10-b6b7-0b12bf86c05f.nc to ../../data/test/era5_2020.nc (847.6K)\n",
      "2022-10-28 16:11:36,083 INFO Download rate 200.1K/s\n"
     ]
    },
    {
     "data": {
      "text/plain": [
       "Result(content_length=867904,content_type=application/x-netcdf,location=https://download-0020.copernicus-climate.eu/cache-compute-0020/cache/data2/adaptor.mars.internal-1666984288.006447-11904-7-77059a1f-702f-4b10-b6b7-0b12bf86c05f.nc)"
      ]
     },
     "execution_count": 5,
     "metadata": {},
     "output_type": "execute_result"
    }
   ],
   "source": [
    "import cdsapi\n",
    "\n",
    "c = cdsapi.Client()\n",
    "\n",
    "c.retrieve(\n",
    "    'reanalysis-era5-single-levels-monthly-means',\n",
    "    {\n",
    "        'format': 'netcdf',\n",
    "        'product_type': 'monthly_averaged_reanalysis',\n",
    "        'variable': ['geopotential', '10m_u_component_of_wind', '10m_v_component_of_wind',\n",
    "         '2m_temperature', 'total_precipitation',\n",
    "        ],\n",
    "        'year': '2020',\n",
    "        'month': [\n",
    "            '01', '02', '03',\n",
    "            '04', '05', '06',\n",
    "            '07', '08', '09',\n",
    "            '10', '11', '12',\n",
    "        ],\n",
    "        'time': '00:00',\n",
    "        'area': [ 2, -85, -20, -65,],\n",
    "    },\n",
    "    '../../data/test/era5_2020.nc')"
   ]
  },
  {
   "cell_type": "code",
   "execution_count": 6,
   "metadata": {},
   "outputs": [],
   "source": [
    "import numpy as np"
   ]
  },
  {
   "cell_type": "code",
   "execution_count": 7,
   "metadata": {},
   "outputs": [],
   "source": [
    "years = np.arange(1960, 2020, 1)"
   ]
  },
  {
   "cell_type": "code",
   "execution_count": 8,
   "metadata": {},
   "outputs": [
    {
     "name": "stdout",
     "output_type": "stream",
     "text": [
      "1960\n",
      "era5_1960.nc\n",
      "1961\n",
      "era5_1961.nc\n",
      "1962\n",
      "era5_1962.nc\n",
      "más años\n",
      "más años\n"
     ]
    }
   ],
   "source": [
    "for i in years[0:3]:\n",
    "    print(str(i))\n",
    "    print('era5_'+ str(i) +'.nc')\n",
    "print('más años')\n",
    "print('más años')\n"
   ]
  },
  {
   "cell_type": "code",
   "execution_count": 9,
   "metadata": {},
   "outputs": [
    {
     "name": "stderr",
     "output_type": "stream",
     "text": [
      "2022-10-28 16:11:49,660 INFO Welcome to the CDS\n",
      "2022-10-28 16:11:49,663 INFO Sending request to https://cds.climate.copernicus.eu/api/v2/resources/reanalysis-era5-single-levels-monthly-means\n",
      "2022-10-28 16:11:49,991 INFO Request is queued\n",
      "2022-10-28 16:11:51,273 INFO Request is running\n",
      "2022-10-28 16:11:59,286 INFO Request is completed\n",
      "2022-10-28 16:11:59,287 INFO Downloading https://download-0015-clone.copernicus-climate.eu/cache-compute-0015/cache/data3/adaptor.mars.internal-1666984316.057586-1101-2-aec7b1ad-5d27-42de-86ec-6bf98c57ff69.nc to ../../data/test/era5_1960.nc (847.6K)\n",
      "2022-10-28 16:12:03,106 INFO Download rate 222K/s  \n",
      "2022-10-28 16:12:03,689 INFO Welcome to the CDS\n",
      "2022-10-28 16:12:03,692 INFO Sending request to https://cds.climate.copernicus.eu/api/v2/resources/reanalysis-era5-single-levels-monthly-means\n",
      "2022-10-28 16:12:04,009 INFO Request is queued\n",
      "2022-10-28 16:12:05,244 INFO Request is running\n",
      "2022-10-28 16:12:13,317 INFO Request is completed\n",
      "2022-10-28 16:12:13,320 INFO Downloading https://download-0019.copernicus-climate.eu/cache-compute-0019/cache/data4/adaptor.mars.internal-1666984329.3809774-5899-2-5fee5d9a-9afa-4136-b0c8-63d828719287.nc to ../../data/test/era5_1961.nc (847.6K)\n",
      "2022-10-28 16:12:17,018 INFO Download rate 229.6K/s\n",
      "2022-10-28 16:12:17,616 INFO Welcome to the CDS\n",
      "2022-10-28 16:12:17,616 INFO Sending request to https://cds.climate.copernicus.eu/api/v2/resources/reanalysis-era5-single-levels-monthly-means\n",
      "2022-10-28 16:12:17,932 INFO Request is queued\n",
      "2022-10-28 16:12:19,292 INFO Request is running\n",
      "2022-10-28 16:12:27,344 INFO Request is completed\n",
      "2022-10-28 16:12:27,347 INFO Downloading https://download-0018.copernicus-climate.eu/cache-compute-0018/cache/data7/adaptor.mars.internal-1666984343.3644974-31891-11-0bd34b88-8c78-4c94-9901-3bb69c765446.nc to ../../data/test/era5_1962.nc (847.6K)\n",
      "2022-10-28 16:12:30,773 INFO Download rate 247.6K/s\n",
      "2022-10-28 16:12:31,338 INFO Welcome to the CDS\n",
      "2022-10-28 16:12:31,340 INFO Sending request to https://cds.climate.copernicus.eu/api/v2/resources/reanalysis-era5-single-levels-monthly-means\n",
      "2022-10-28 16:12:31,644 INFO Request is queued\n",
      "2022-10-28 16:12:32,976 INFO Request is running\n",
      "2022-10-28 16:16:53,693 INFO Request is queued\n",
      "2022-10-28 16:18:55,040 INFO Request is running\n",
      "2022-10-28 16:20:56,486 INFO Request is completed\n",
      "2022-10-28 16:20:56,489 INFO Downloading https://download-0007-clone.copernicus-climate.eu/cache-compute-0007/cache/data1/adaptor.mars.internal-1666984736.899539-3900-3-85ab3e04-a2b7-4148-bcb8-6272a349bde9.nc to ../../data/test/era5_1963.nc (847.6K)\n",
      "2022-10-28 16:20:59,420 INFO Download rate 289.6K/s\n",
      "2022-10-28 16:20:59,929 INFO Welcome to the CDS\n",
      "2022-10-28 16:20:59,929 INFO Sending request to https://cds.climate.copernicus.eu/api/v2/resources/reanalysis-era5-single-levels-monthly-means\n",
      "2022-10-28 16:21:00,212 INFO Request is queued\n",
      "2022-10-28 16:21:01,503 INFO Request is running\n",
      "2022-10-28 16:21:09,491 INFO Request is completed\n",
      "2022-10-28 16:21:09,493 INFO Downloading https://download-0005-clone.copernicus-climate.eu/cache-compute-0005/cache/data5/adaptor.mars.internal-1666984865.9309266-13504-14-db12a984-ac23-46de-aa4d-8d44bc95ba02.nc to ../../data/test/era5_1964.nc (847.6K)\n",
      "2022-10-28 16:21:13,201 INFO Download rate 228.7K/s\n",
      "2022-10-28 16:21:13,792 INFO Welcome to the CDS\n",
      "2022-10-28 16:21:13,793 INFO Sending request to https://cds.climate.copernicus.eu/api/v2/resources/reanalysis-era5-single-levels-monthly-means\n",
      "2022-10-28 16:21:14,127 INFO Request is queued\n",
      "2022-10-28 16:21:15,431 INFO Request is running\n",
      "2022-10-28 16:21:23,418 INFO Request is completed\n",
      "2022-10-28 16:21:23,421 INFO Downloading https://download-0019.copernicus-climate.eu/cache-compute-0019/cache/data1/adaptor.mars.internal-1666984879.7170079-5899-6-7955f824-3117-47ba-8975-44a306b38b08.nc to ../../data/test/era5_1965.nc (847.6K)\n",
      "2022-10-28 16:21:26,821 INFO Download rate 249.5K/s\n",
      "2022-10-28 16:21:27,418 INFO Welcome to the CDS\n",
      "2022-10-28 16:21:27,422 INFO Sending request to https://cds.climate.copernicus.eu/api/v2/resources/reanalysis-era5-single-levels-monthly-means\n",
      "2022-10-28 16:21:27,719 INFO Request is queued\n",
      "2022-10-28 16:21:29,050 INFO Request is running\n",
      "2022-10-28 16:21:37,142 INFO Request is completed\n",
      "2022-10-28 16:21:37,143 INFO Downloading https://download-0018.copernicus-climate.eu/cache-compute-0018/cache/data0/adaptor.mars.internal-1666984893.6784875-31891-13-88f220b9-c265-4e2a-b974-bb2d30937a83.nc to ../../data/test/era5_1966.nc (847.6K)\n",
      "2022-10-28 16:21:40,189 INFO Download rate 278.4K/s\n",
      "2022-10-28 16:21:40,829 INFO Welcome to the CDS\n",
      "2022-10-28 16:21:40,831 INFO Sending request to https://cds.climate.copernicus.eu/api/v2/resources/reanalysis-era5-single-levels-monthly-means\n",
      "2022-10-28 16:21:41,198 INFO Request is queued\n",
      "2022-10-28 16:21:42,449 INFO Request is running\n",
      "2022-10-28 16:21:50,393 INFO Request is completed\n",
      "2022-10-28 16:21:50,395 INFO Downloading https://download-0015-clone.copernicus-climate.eu/cache-compute-0015/cache/data5/adaptor.mars.internal-1666984906.8878853-30600-6-a9bc4e22-c565-4896-938f-b13d5ede0d4b.nc to ../../data/test/era5_1967.nc (847.6K)\n",
      "2022-10-28 16:21:53,671 INFO Download rate 258.9K/s\n",
      "2022-10-28 16:21:54,345 INFO Welcome to the CDS\n",
      "2022-10-28 16:21:54,348 INFO Sending request to https://cds.climate.copernicus.eu/api/v2/resources/reanalysis-era5-single-levels-monthly-means\n",
      "2022-10-28 16:21:54,667 INFO Request is queued\n",
      "2022-10-28 16:21:55,981 INFO Request is running\n",
      "2022-10-28 16:22:03,969 INFO Request is completed\n",
      "2022-10-28 16:22:03,972 INFO Downloading https://download-0017.copernicus-climate.eu/cache-compute-0017/cache/data9/adaptor.mars.internal-1666984920.452777-28588-15-7e64e602-25d4-4f4a-b2c9-39387f42c222.nc to ../../data/test/era5_1968.nc (847.6K)\n",
      "2022-10-28 16:22:07,797 INFO Download rate 221.7K/s\n",
      "2022-10-28 16:22:08,477 INFO Welcome to the CDS\n",
      "2022-10-28 16:22:08,480 INFO Sending request to https://cds.climate.copernicus.eu/api/v2/resources/reanalysis-era5-single-levels-monthly-means\n",
      "2022-10-28 16:22:08,784 INFO Request is queued\n",
      "2022-10-28 16:22:10,116 INFO Request is running\n",
      "2022-10-28 16:22:18,202 INFO Request is completed\n",
      "2022-10-28 16:22:18,204 INFO Downloading https://download-0016.copernicus-climate.eu/cache-compute-0016/cache/data7/adaptor.mars.internal-1666984934.4414816-16391-9-0ea07594-3f87-46a9-998d-8a08677465a5.nc to ../../data/test/era5_1969.nc (847.6K)\n",
      "2022-10-28 16:22:21,719 INFO Download rate 241.3K/s\n",
      "2022-10-28 16:22:22,298 INFO Welcome to the CDS\n",
      "2022-10-28 16:22:22,300 INFO Sending request to https://cds.climate.copernicus.eu/api/v2/resources/reanalysis-era5-single-levels-monthly-means\n",
      "2022-10-28 16:22:22,608 INFO Request is queued\n",
      "2022-10-28 16:22:23,874 INFO Request is running\n",
      "2022-10-28 16:22:31,924 INFO Request is completed\n",
      "2022-10-28 16:22:31,928 INFO Downloading https://download-0015-clone.copernicus-climate.eu/cache-compute-0015/cache/data5/adaptor.mars.internal-1666984948.5507476-31344-6-c14c2e90-af42-4762-b2bc-d79c11f2e4d0.nc to ../../data/test/era5_1970.nc (847.6K)\n",
      "2022-10-28 16:22:34,035 INFO Download rate 402.8K/s\n",
      "2022-10-28 16:22:34,689 INFO Welcome to the CDS\n",
      "2022-10-28 16:22:34,691 INFO Sending request to https://cds.climate.copernicus.eu/api/v2/resources/reanalysis-era5-single-levels-monthly-means\n",
      "2022-10-28 16:22:35,004 INFO Request is queued\n",
      "2022-10-28 16:22:36,328 INFO Request is running\n",
      "2022-10-28 16:22:44,417 INFO Request is completed\n",
      "2022-10-28 16:22:44,419 INFO Downloading https://download-0020.copernicus-climate.eu/cache-compute-0020/cache/data9/adaptor.mars.internal-1666984960.7441187-12761-10-e633e310-30bc-41af-ba2f-07282e970c70.nc to ../../data/test/era5_1971.nc (847.6K)\n",
      "2022-10-28 16:22:47,912 INFO Download rate 242.8K/s\n",
      "2022-10-28 16:22:48,457 INFO Welcome to the CDS\n",
      "2022-10-28 16:22:48,459 INFO Sending request to https://cds.climate.copernicus.eu/api/v2/resources/reanalysis-era5-single-levels-monthly-means\n",
      "2022-10-28 16:22:48,840 INFO Request is queued\n",
      "2022-10-28 16:22:50,091 INFO Request is running\n",
      "2022-10-28 16:22:58,144 INFO Request is completed\n",
      "2022-10-28 16:22:58,146 INFO Downloading https://download-0018.copernicus-climate.eu/cache-compute-0018/cache/data7/adaptor.mars.internal-1666984974.889538-7710-12-fac0b080-9308-4120-ae5d-4359105eb29a.nc to ../../data/test/era5_1972.nc (847.6K)\n",
      "2022-10-28 16:23:01,340 INFO Download rate 265.6K/s\n",
      "2022-10-28 16:23:02,030 INFO Welcome to the CDS\n",
      "2022-10-28 16:23:02,032 INFO Sending request to https://cds.climate.copernicus.eu/api/v2/resources/reanalysis-era5-single-levels-monthly-means\n",
      "2022-10-28 16:23:02,344 INFO Request is queued\n",
      "2022-10-28 16:23:03,673 INFO Request is running\n",
      "2022-10-28 16:23:11,761 INFO Request is completed\n",
      "2022-10-28 16:23:11,761 INFO Downloading https://download-0019.copernicus-climate.eu/cache-compute-0019/cache/data2/adaptor.mars.internal-1666984988.9697561-8650-3-2de55a17-47fd-46ce-9f13-e848e6da4a86.nc to ../../data/test/era5_1973.nc (847.6K)\n",
      "2022-10-28 16:23:14,947 INFO Download rate 266.1K/s\n",
      "2022-10-28 16:23:15,549 INFO Welcome to the CDS\n",
      "2022-10-28 16:23:15,550 INFO Sending request to https://cds.climate.copernicus.eu/api/v2/resources/reanalysis-era5-single-levels-monthly-means\n",
      "2022-10-28 16:23:15,869 INFO Request is queued\n",
      "2022-10-28 16:23:17,189 INFO Request is running\n"
     ]
    }
   ],
   "source": [
    "for i in years:\n",
    "    c.retrieve(\n",
    "        'reanalysis-era5-single-levels-monthly-means',\n",
    "        {\n",
    "            'format': 'netcdf',\n",
    "            'product_type': 'monthly_averaged_reanalysis',\n",
    "            'variable': ['geopotential', '10m_u_component_of_wind', '10m_v_component_of_wind',\n",
    "            '2m_temperature', 'total_precipitation',\n",
    "            ],\n",
    "            'year': str(i),\n",
    "            'month': [\n",
    "                '01', '02', '03',\n",
    "                '04', '05', '06',\n",
    "                '07', '08', '09',\n",
    "                '10', '11', '12',\n",
    "            ],\n",
    "            'time': '00:00',\n",
    "            'area': [ 2, -85, -20, -65,],\n",
    "        },\n",
    "        '../../data/test/era5_'+ str(i) +'.nc')"
   ]
  }
 ],
 "metadata": {
  "kernelspec": {
   "display_name": "Python 3.9.12 ('geocat')",
   "language": "python",
   "name": "python3"
  },
  "language_info": {
   "codemirror_mode": {
    "name": "ipython",
    "version": 3
   },
   "file_extension": ".py",
   "mimetype": "text/x-python",
   "name": "python",
   "nbconvert_exporter": "python",
   "pygments_lexer": "ipython3",
   "version": "3.9.12"
  },
  "orig_nbformat": 4,
  "vscode": {
   "interpreter": {
    "hash": "fcf694b962e2583d33974cfd22fd61f91596a2a2cb35a874a7015b54a03d5ead"
   }
  }
 },
 "nbformat": 4,
 "nbformat_minor": 2
}
