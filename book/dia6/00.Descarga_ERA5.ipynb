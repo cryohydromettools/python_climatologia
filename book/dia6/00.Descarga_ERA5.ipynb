{
 "cells": [
  {
   "cell_type": "markdown",
   "metadata": {},
   "source": [
    "# Descargar datos de reanálisis **ERA5**"
   ]
  },
  {
   "cell_type": "markdown",
   "metadata": {},
   "source": [
    "Los datos de reanálisis proporcionan la imagen más completa posible actualmente del tiempo y el clima pasados.\n",
    "\n",
    "Son una combinación de observaciones con predicciones meteorológicas pasadas a corto plazo que se repiten con modelos modernos de predicción meteorológica. Son globalmente completos y coherentes en el tiempo y, a veces, se denominan \"mapas sin espacios\".\n",
    "\n",
    "Existen varias fuentes de datos de reanálisis disponibles (e.g., NCEP/NCAR, ERA5, ERA5-Land, etc). [Aquí](https://climatedataguide.ucar.edu/climate-data/atmospheric-reanalysis-overview-comparison-tables) podemos encontrar un resumen de los datos de reanálisis disponibles. \n",
    "\n",
    "**¿Cómo se generan estos datos?**\n",
    "\n",
    "El reanálisis combina predicciones meteorológicas pasadas a corto plazo con observaciones a través de la asimilación de datos. El proceso imita la producción de pronósticos meteorológicos diarios, que utilizan un análisis del estado actual del sistema terrestre como punto de partida. El análisis es una combinación de observaciones físicamente coherentes con un pronóstico a corto plazo basado en el análisis anterior.\n",
    "\n",
    "<img src='./img/era5_reanalisis.jpg' width='500'>"
   ]
  },
  {
   "cell_type": "markdown",
   "metadata": {},
   "source": [
    "## Reanálisis **ERA5**"
   ]
  },
  {
   "cell_type": "markdown",
   "metadata": {},
   "source": [
    "ERA5 es el reanálisis del ECMWF de quinta generación para el clima y el tiempo global durante las últimas 4 a 7 décadas. Actualmente, los datos están disponibles desde 1950, divididos en entradas de [Climate Data Store](https://cds.climate.copernicus.eu/cdsapp#!/dataset/reanalysis-era5-single-levels?tab=overview) para 1950-1978 (extensión posterior preliminar) y desde 1979 en adelante (versión final más actualizaciones oportunas, esta página). ERA5 reemplaza el reanálisis ERA-Interim.\n",
    "\n",
    "<img src='./img/er5_reanalisis_data.jpg' width='500'>"
   ]
  },
  {
   "cell_type": "markdown",
   "metadata": {},
   "source": [
    "## Registrarse en CDS\n",
    "\n",
    "Si aún no estás registrado en el CDS, entrá [aquí](https://cds.climate.copernicus.eu/cdsapp#!/home) para registrarte. Es importante hacer este paso para descargar datos desde CDS!!!"
   ]
  },
  {
   "cell_type": "markdown",
   "metadata": {},
   "source": [
    "## Descargar ERA5 a través de la API de CDS"
   ]
  },
  {
   "cell_type": "markdown",
   "metadata": {},
   "source": [
    "### Instalar `cdsapi`\n",
    "\n",
    "Si aún no tiene instalado el módulo `cdsapi`, instale usando el siguiente comando en **anaconda prompt**:\n",
    "\n",
    "``` python\n",
    "\n",
    "conda install -c conda-forge cdsapi \n",
    "\n",
    "```\n",
    "Luego configure tu computadora con tu usuario y clave proporcionados por el **CDS**.\n",
    "> Deberás crear un archivo **.cdsapirc** en tu home y copiar tu usuario y clave. Sigue los pasos [aquí](https://cds.climate.copernicus.eu/api-how-to) para hacer esto."
   ]
  },
  {
   "cell_type": "code",
   "execution_count": 12,
   "metadata": {},
   "outputs": [
    {
     "name": "stdout",
     "output_type": "stream",
     "text": [
      "Collecting package metadata (current_repodata.json): done\n",
      "Solving environment: done\n",
      "\n",
      "## Package Plan ##\n",
      "\n",
      "  environment location: /home/georgynio/miniconda3/envs/geocat\n",
      "\n",
      "  added / updated specs:\n",
      "    - cdsapi\n",
      "\n",
      "\n",
      "The following NEW packages will be INSTALLED:\n",
      "\n",
      "  cdsapi             conda-forge/noarch::cdsapi-0.5.1-pyhd8ed1ab_0 None\n",
      "\n",
      "The following packages will be UPDATED:\n",
      "\n",
      "  openssl              pkgs/main::openssl-1.1.1q-h7f8727e_0 --> conda-forge::openssl-1.1.1q-h166bdaf_1 None\n",
      "\n",
      "The following packages will be SUPERSEDED by a higher-priority channel:\n",
      "\n",
      "  ca-certificates    pkgs/main::ca-certificates-2022.10.11~ --> conda-forge::ca-certificates-2022.9.24-ha878542_0 None\n",
      "  certifi            pkgs/main/linux-64::certifi-2022.9.24~ --> conda-forge/noarch::certifi-2022.9.24-pyhd8ed1ab_0 None\n",
      "\n",
      "\n",
      "Preparing transaction: done\n",
      "Verifying transaction: done\n",
      "Executing transaction: done\n",
      "Retrieving notices: ...working... done\n"
     ]
    }
   ],
   "source": [
    "# para instalar directamente las librerias podemos utilizar el siguiente comando\n",
    "# cuidado, no olvide en colocar el --yes porque sino veras un mensaje de instalacion que no podras responder\n",
    "#!conda install -c conda-forge cdsapi\n",
    "\n",
    "!conda install --yes -c conda-forge cdsapi"
   ]
  },
  {
   "cell_type": "code",
   "execution_count": 14,
   "metadata": {},
   "outputs": [
    {
     "name": "stdout",
     "output_type": "stream",
     "text": [
      "/home/georgynio/Envs/python_climatologia/book/dia6\n"
     ]
    }
   ],
   "source": [
    "!pwd"
   ]
  },
  {
   "cell_type": "markdown",
   "metadata": {},
   "source": [
    "### Importar el modulo cdsapi"
   ]
  },
  {
   "cell_type": "code",
   "execution_count": 16,
   "metadata": {},
   "outputs": [
    {
     "name": "stderr",
     "output_type": "stream",
     "text": [
      "2022-10-28 18:26:50,018 INFO Welcome to the CDS\n",
      "2022-10-28 18:26:50,019 INFO Sending request to https://cds.climate.copernicus.eu/api/v2/resources/reanalysis-era5-single-levels-monthly-means\n",
      "2022-10-28 18:26:50,478 INFO Request is completed\n",
      "2022-10-28 18:26:50,485 INFO Downloading https://download-0020.copernicus-climate.eu/cache-compute-0020/cache/data2/adaptor.mars.internal-1666984288.006447-11904-7-77059a1f-702f-4b10-b6b7-0b12bf86c05f.nc to ../../data/test/era5_2020.nc (847.6K)\n",
      "2022-10-28 18:26:53,227 INFO Download rate 309.6K/s\n"
     ]
    },
    {
     "data": {
      "text/plain": [
       "Result(content_length=867904,content_type=application/x-netcdf,location=https://download-0020.copernicus-climate.eu/cache-compute-0020/cache/data2/adaptor.mars.internal-1666984288.006447-11904-7-77059a1f-702f-4b10-b6b7-0b12bf86c05f.nc)"
      ]
     },
     "execution_count": 16,
     "metadata": {},
     "output_type": "execute_result"
    }
   ],
   "source": [
    "import cdsapi\n",
    "\n",
    "c = cdsapi.Client()\n",
    "\n",
    "c.retrieve(\n",
    "    'reanalysis-era5-single-levels-monthly-means',\n",
    "    {\n",
    "        'format': 'netcdf',\n",
    "        'product_type': 'monthly_averaged_reanalysis',\n",
    "        'variable': ['geopotential', '10m_u_component_of_wind', '10m_v_component_of_wind',\n",
    "         '2m_temperature', 'total_precipitation',\n",
    "        ],\n",
    "        'year': '2020',\n",
    "        'month': [\n",
    "            '01', '02', '03',\n",
    "            '04', '05', '06',\n",
    "            '07', '08', '09',\n",
    "            '10', '11', '12',\n",
    "        ],\n",
    "        'time': '00:00',\n",
    "        'area': [ 2, -85, -20, -65,],\n",
    "    },\n",
    "    '../../data/test/era5_2020.nc')"
   ]
  },
  {
   "cell_type": "code",
   "execution_count": 17,
   "metadata": {},
   "outputs": [],
   "source": [
    "import numpy as np"
   ]
  },
  {
   "cell_type": "code",
   "execution_count": 19,
   "metadata": {},
   "outputs": [],
   "source": [
    "years = np.arange(1960, 2020, 1)"
   ]
  },
  {
   "cell_type": "code",
   "execution_count": 20,
   "metadata": {},
   "outputs": [
    {
     "name": "stdout",
     "output_type": "stream",
     "text": [
      "1960\n",
      "era5_1960.nc\n",
      "1961\n",
      "era5_1961.nc\n",
      "1962\n",
      "era5_1962.nc\n",
      "más años\n",
      "más años\n"
     ]
    }
   ],
   "source": [
    "for i in years[0:3]:\n",
    "    print(str(i))\n",
    "    print(f'era5_{str(i)}.nc')\n",
    "print('más años')\n",
    "print('más años')\n"
   ]
  },
  {
   "cell_type": "code",
   "execution_count": 21,
   "metadata": {},
   "outputs": [
    {
     "name": "stderr",
     "output_type": "stream",
     "text": [
      "2022-10-28 18:33:12,696 INFO Welcome to the CDS\n",
      "2022-10-28 18:33:12,705 INFO Sending request to https://cds.climate.copernicus.eu/api/v2/resources/reanalysis-era5-single-levels-monthly-means\n",
      "2022-10-28 18:33:13,008 INFO Downloading https://download-0015-clone.copernicus-climate.eu/cache-compute-0015/cache/data3/adaptor.mars.internal-1666984316.057586-1101-2-aec7b1ad-5d27-42de-86ec-6bf98c57ff69.nc to ../../data/test/era5_1960.nc (847.6K)\n",
      "2022-10-28 18:33:15,627 INFO Download rate 323.7K/s\n",
      "2022-10-28 18:33:16,112 INFO Welcome to the CDS\n",
      "2022-10-28 18:33:16,116 INFO Sending request to https://cds.climate.copernicus.eu/api/v2/resources/reanalysis-era5-single-levels-monthly-means\n",
      "2022-10-28 18:33:16,500 INFO Downloading https://download-0019.copernicus-climate.eu/cache-compute-0019/cache/data4/adaptor.mars.internal-1666984329.3809774-5899-2-5fee5d9a-9afa-4136-b0c8-63d828719287.nc to ../../data/test/era5_1961.nc (847.6K)\n",
      "2022-10-28 18:33:19,490 INFO Download rate 283.7K/s\n",
      "2022-10-28 18:33:19,999 INFO Welcome to the CDS\n",
      "2022-10-28 18:33:20,001 INFO Sending request to https://cds.climate.copernicus.eu/api/v2/resources/reanalysis-era5-single-levels-monthly-means\n",
      "2022-10-28 18:33:20,272 INFO Downloading https://download-0018.copernicus-climate.eu/cache-compute-0018/cache/data7/adaptor.mars.internal-1666984343.3644974-31891-11-0bd34b88-8c78-4c94-9901-3bb69c765446.nc to ../../data/test/era5_1962.nc (847.6K)\n",
      "2022-10-28 18:33:23,170 INFO Download rate 292.6K/s\n",
      "2022-10-28 18:33:23,692 INFO Welcome to the CDS\n",
      "2022-10-28 18:33:23,693 INFO Sending request to https://cds.climate.copernicus.eu/api/v2/resources/reanalysis-era5-single-levels-monthly-means\n",
      "2022-10-28 18:33:24,008 INFO Downloading https://download-0007-clone.copernicus-climate.eu/cache-compute-0007/cache/data1/adaptor.mars.internal-1666984736.899539-3900-3-85ab3e04-a2b7-4148-bcb8-6272a349bde9.nc to ../../data/test/era5_1963.nc (847.6K)\n",
      "2022-10-28 18:33:27,506 INFO Download rate 242.4K/s\n",
      "2022-10-28 18:33:27,982 INFO Welcome to the CDS\n",
      "2022-10-28 18:33:27,984 INFO Sending request to https://cds.climate.copernicus.eu/api/v2/resources/reanalysis-era5-single-levels-monthly-means\n",
      "2022-10-28 18:33:28,291 INFO Downloading https://download-0005-clone.copernicus-climate.eu/cache-compute-0005/cache/data5/adaptor.mars.internal-1666984865.9309266-13504-14-db12a984-ac23-46de-aa4d-8d44bc95ba02.nc to ../../data/test/era5_1964.nc (847.6K)\n",
      "2022-10-28 18:33:33,253 INFO Download rate 170.8K/s\n",
      "2022-10-28 18:33:34,055 INFO Welcome to the CDS\n",
      "2022-10-28 18:33:34,056 INFO Sending request to https://cds.climate.copernicus.eu/api/v2/resources/reanalysis-era5-single-levels-monthly-means\n",
      "2022-10-28 18:33:34,330 INFO Downloading https://download-0019.copernicus-climate.eu/cache-compute-0019/cache/data1/adaptor.mars.internal-1666984879.7170079-5899-6-7955f824-3117-47ba-8975-44a306b38b08.nc to ../../data/test/era5_1965.nc (847.6K)\n",
      "2022-10-28 18:33:39,516 INFO Download rate 163.5K/s\n",
      "2022-10-28 18:33:40,096 INFO Welcome to the CDS\n",
      "2022-10-28 18:33:40,097 INFO Sending request to https://cds.climate.copernicus.eu/api/v2/resources/reanalysis-era5-single-levels-monthly-means\n",
      "2022-10-28 18:33:40,445 INFO Downloading https://download-0018.copernicus-climate.eu/cache-compute-0018/cache/data0/adaptor.mars.internal-1666984893.6784875-31891-13-88f220b9-c265-4e2a-b974-bb2d30937a83.nc to ../../data/test/era5_1966.nc (847.6K)\n",
      "2022-10-28 18:33:44,210 INFO Download rate 226.9K/s\n",
      "2022-10-28 18:33:45,604 INFO Welcome to the CDS\n",
      "2022-10-28 18:33:45,605 INFO Sending request to https://cds.climate.copernicus.eu/api/v2/resources/reanalysis-era5-single-levels-monthly-means\n",
      "2022-10-28 18:33:45,946 INFO Downloading https://download-0015-clone.copernicus-climate.eu/cache-compute-0015/cache/data5/adaptor.mars.internal-1666984906.8878853-30600-6-a9bc4e22-c565-4896-938f-b13d5ede0d4b.nc to ../../data/test/era5_1967.nc (847.6K)\n",
      "2022-10-28 18:33:50,178 INFO Download rate 200.3K/s\n",
      "2022-10-28 18:33:50,790 INFO Welcome to the CDS\n",
      "2022-10-28 18:33:50,791 INFO Sending request to https://cds.climate.copernicus.eu/api/v2/resources/reanalysis-era5-single-levels-monthly-means\n",
      "2022-10-28 18:33:51,076 INFO Downloading https://download-0017.copernicus-climate.eu/cache-compute-0017/cache/data9/adaptor.mars.internal-1666984920.452777-28588-15-7e64e602-25d4-4f4a-b2c9-39387f42c222.nc to ../../data/test/era5_1968.nc (847.6K)\n",
      "2022-10-28 18:33:53,802 INFO Download rate 311.2K/s\n",
      "2022-10-28 18:33:54,330 INFO Welcome to the CDS\n",
      "2022-10-28 18:33:54,334 INFO Sending request to https://cds.climate.copernicus.eu/api/v2/resources/reanalysis-era5-single-levels-monthly-means\n",
      "2022-10-28 18:33:54,675 INFO Downloading https://download-0016.copernicus-climate.eu/cache-compute-0016/cache/data7/adaptor.mars.internal-1666984934.4414816-16391-9-0ea07594-3f87-46a9-998d-8a08677465a5.nc to ../../data/test/era5_1969.nc (847.6K)\n",
      "2022-10-28 18:33:57,367 INFO Download rate 314.9K/s\n",
      "2022-10-28 18:33:57,888 INFO Welcome to the CDS\n",
      "2022-10-28 18:33:57,889 INFO Sending request to https://cds.climate.copernicus.eu/api/v2/resources/reanalysis-era5-single-levels-monthly-means\n",
      "2022-10-28 18:33:58,188 INFO Downloading https://download-0015-clone.copernicus-climate.eu/cache-compute-0015/cache/data5/adaptor.mars.internal-1666984948.5507476-31344-6-c14c2e90-af42-4762-b2bc-d79c11f2e4d0.nc to ../../data/test/era5_1970.nc (847.6K)\n",
      "2022-10-28 18:33:59,962 INFO Download rate 478K/s  \n",
      "2022-10-28 18:34:00,440 INFO Welcome to the CDS\n",
      "2022-10-28 18:34:00,441 INFO Sending request to https://cds.climate.copernicus.eu/api/v2/resources/reanalysis-era5-single-levels-monthly-means\n",
      "2022-10-28 18:34:00,747 INFO Downloading https://download-0020.copernicus-climate.eu/cache-compute-0020/cache/data9/adaptor.mars.internal-1666984960.7441187-12761-10-e633e310-30bc-41af-ba2f-07282e970c70.nc to ../../data/test/era5_1971.nc (847.6K)\n",
      "2022-10-28 18:34:03,439 INFO Download rate 315K/s  \n",
      "2022-10-28 18:34:03,927 INFO Welcome to the CDS\n",
      "2022-10-28 18:34:03,928 INFO Sending request to https://cds.climate.copernicus.eu/api/v2/resources/reanalysis-era5-single-levels-monthly-means\n",
      "2022-10-28 18:34:04,200 INFO Downloading https://download-0018.copernicus-climate.eu/cache-compute-0018/cache/data7/adaptor.mars.internal-1666984974.889538-7710-12-fac0b080-9308-4120-ae5d-4359105eb29a.nc to ../../data/test/era5_1972.nc (847.6K)\n",
      "2022-10-28 18:34:06,085 INFO Download rate 454.2K/s\n",
      "2022-10-28 18:34:06,559 INFO Welcome to the CDS\n",
      "2022-10-28 18:34:06,560 INFO Sending request to https://cds.climate.copernicus.eu/api/v2/resources/reanalysis-era5-single-levels-monthly-means\n",
      "2022-10-28 18:34:06,893 INFO Downloading https://download-0019.copernicus-climate.eu/cache-compute-0019/cache/data2/adaptor.mars.internal-1666984988.9697561-8650-3-2de55a17-47fd-46ce-9f13-e848e6da4a86.nc to ../../data/test/era5_1973.nc (847.6K)\n",
      "2022-10-28 18:34:09,420 INFO Download rate 335.8K/s\n",
      "2022-10-28 18:34:09,895 INFO Welcome to the CDS\n",
      "2022-10-28 18:34:09,896 INFO Sending request to https://cds.climate.copernicus.eu/api/v2/resources/reanalysis-era5-single-levels-monthly-means\n",
      "2022-10-28 18:34:10,166 INFO Downloading https://download-0012-clone.copernicus-climate.eu/cache-compute-0012/cache/data3/adaptor.mars.internal-1666985001.602196-20390-7-d6bf470f-f45b-44b2-8db3-3ca39ace2ee2.nc to ../../data/test/era5_1974.nc (847.6K)\n",
      "2022-10-28 18:34:12,802 INFO Download rate 321.6K/s\n",
      "2022-10-28 18:34:13,303 INFO Welcome to the CDS\n",
      "2022-10-28 18:34:13,306 INFO Sending request to https://cds.climate.copernicus.eu/api/v2/resources/reanalysis-era5-single-levels-monthly-means\n",
      "2022-10-28 18:34:13,592 INFO Downloading https://download-0015-clone.copernicus-climate.eu/cache-compute-0015/cache/data7/adaptor.mars.internal-1666985015.5354438-31521-7-0a00c5f6-2533-41c1-966c-afd8dbef92bb.nc to ../../data/test/era5_1975.nc (847.6K)\n",
      "2022-10-28 18:34:15,326 INFO Download rate 489K/s  \n",
      "2022-10-28 18:34:15,810 INFO Welcome to the CDS\n",
      "2022-10-28 18:34:15,812 INFO Sending request to https://cds.climate.copernicus.eu/api/v2/resources/reanalysis-era5-single-levels-monthly-means\n",
      "2022-10-28 18:34:16,182 INFO Downloading https://download-0018.copernicus-climate.eu/cache-compute-0018/cache/data5/adaptor.mars.internal-1666985028.8301163-30419-20-2cdf7118-d3b7-476b-b2df-62aad02e25b3.nc to ../../data/test/era5_1976.nc (847.6K)\n",
      "2022-10-28 18:34:18,007 INFO Download rate 464.8K/s\n",
      "2022-10-28 18:34:18,493 INFO Welcome to the CDS\n",
      "2022-10-28 18:34:18,501 INFO Sending request to https://cds.climate.copernicus.eu/api/v2/resources/reanalysis-era5-single-levels-monthly-means\n",
      "2022-10-28 18:34:18,796 INFO Downloading https://download-0019.copernicus-climate.eu/cache-compute-0019/cache/data4/adaptor.mars.internal-1666985041.017466-4571-7-cbc67306-8080-4185-9209-888121be2725.nc to ../../data/test/era5_1977.nc (847.6K)\n",
      "2022-10-28 18:34:21,336 INFO Download rate 333.9K/s\n",
      "2022-10-28 18:34:21,924 INFO Welcome to the CDS\n",
      "2022-10-28 18:34:21,926 INFO Sending request to https://cds.climate.copernicus.eu/api/v2/resources/reanalysis-era5-single-levels-monthly-means\n",
      "2022-10-28 18:34:22,239 INFO Downloading https://download-0008-clone.copernicus-climate.eu/cache-compute-0008/cache/data3/adaptor.mars.internal-1666985054.9547539-29239-2-a8f8949d-38d6-4bf3-83ad-9f974bf19bc1.nc to ../../data/test/era5_1978.nc (847.6K)\n",
      "2022-10-28 18:34:26,685 INFO Download rate 190.7K/s\n",
      "2022-10-28 18:34:27,186 INFO Welcome to the CDS\n",
      "2022-10-28 18:34:27,193 INFO Sending request to https://cds.climate.copernicus.eu/api/v2/resources/reanalysis-era5-single-levels-monthly-means\n",
      "2022-10-28 18:34:27,543 INFO Downloading https://download-0007-clone.copernicus-climate.eu/cache-compute-0007/cache/data4/adaptor.mars.internal-1666714173.3361368-20430-1-8ae74e5d-7572-4374-be2f-80787dbd6ec6.nc to ../../data/test/era5_1979.nc (847.6K)\n",
      "2022-10-28 18:34:30,547 INFO Download rate 283.3K/s\n",
      "2022-10-28 18:34:31,050 INFO Welcome to the CDS\n",
      "2022-10-28 18:34:31,051 INFO Sending request to https://cds.climate.copernicus.eu/api/v2/resources/reanalysis-era5-single-levels-monthly-means\n",
      "2022-10-28 18:34:31,352 INFO Downloading https://download-0013-clone.copernicus-climate.eu/cache-compute-0013/cache/data5/adaptor.mars.internal-1666985073.008301-32201-13-8a2993e6-c08f-460d-88dd-e1fa562e3c75.nc to ../../data/test/era5_1980.nc (847.6K)\n",
      "2022-10-28 18:34:36,935 INFO Download rate 151.8K/s\n",
      "2022-10-28 18:34:37,419 INFO Welcome to the CDS\n",
      "2022-10-28 18:34:37,425 INFO Sending request to https://cds.climate.copernicus.eu/api/v2/resources/reanalysis-era5-single-levels-monthly-means\n",
      "2022-10-28 18:34:37,738 INFO Downloading https://download-0004-clone.copernicus-climate.eu/cache-compute-0004/cache/data7/adaptor.mars.internal-1666985086.705175-16927-15-0d0da230-64e9-48ea-b29d-22f9b122724e.nc to ../../data/test/era5_1981.nc (847.6K)\n",
      "2022-10-28 18:34:40,364 INFO Download rate 322.8K/s\n",
      "2022-10-28 18:34:40,838 INFO Welcome to the CDS\n",
      "2022-10-28 18:34:40,840 INFO Sending request to https://cds.climate.copernicus.eu/api/v2/resources/reanalysis-era5-single-levels-monthly-means\n",
      "2022-10-28 18:34:41,111 INFO Downloading https://download-0008-clone.copernicus-climate.eu/cache-compute-0008/cache/data6/adaptor.mars.internal-1666985099.4848049-26096-9-20fcb88e-5baf-490f-8f14-f156526be64f.nc to ../../data/test/era5_1982.nc (847.6K)\n",
      "2022-10-28 18:34:42,643 INFO Download rate 553.6K/s\n",
      "2022-10-28 18:34:43,165 INFO Welcome to the CDS\n",
      "2022-10-28 18:34:43,166 INFO Sending request to https://cds.climate.copernicus.eu/api/v2/resources/reanalysis-era5-single-levels-monthly-means\n",
      "2022-10-28 18:34:43,513 INFO Downloading https://download-0020.copernicus-climate.eu/cache-compute-0020/cache/data9/adaptor.mars.internal-1666985111.5072749-11988-9-869d752b-58cc-4ef2-ac92-0be65eaaf56a.nc to ../../data/test/era5_1983.nc (847.6K)\n",
      "2022-10-28 18:34:45,065 INFO Download rate 547.5K/s\n",
      "2022-10-28 18:34:45,534 INFO Welcome to the CDS\n",
      "2022-10-28 18:34:45,536 INFO Sending request to https://cds.climate.copernicus.eu/api/v2/resources/reanalysis-era5-single-levels-monthly-means\n",
      "2022-10-28 18:34:45,886 INFO Downloading https://download-0006-clone.copernicus-climate.eu/cache-compute-0006/cache/data1/adaptor.mars.internal-1666985125.4081395-29966-8-ca33d430-7bc0-4941-9175-64ce902f61ea.nc to ../../data/test/era5_1984.nc (847.6K)\n",
      "2022-10-28 18:34:48,565 INFO Download rate 317.4K/s\n",
      "2022-10-28 18:34:49,080 INFO Welcome to the CDS\n",
      "2022-10-28 18:34:49,082 INFO Sending request to https://cds.climate.copernicus.eu/api/v2/resources/reanalysis-era5-single-levels-monthly-means\n",
      "2022-10-28 18:34:49,378 INFO Downloading https://download-0009-clone.copernicus-climate.eu/cache-compute-0009/cache/data2/adaptor.mars.internal-1666985138.6337223-12373-3-aab7bf3d-71c5-4609-b488-bf2a9a70c1d4.nc to ../../data/test/era5_1985.nc (847.6K)\n",
      "2022-10-28 18:34:52,005 INFO Download rate 322.9K/s\n",
      "2022-10-28 18:34:52,476 INFO Welcome to the CDS\n",
      "2022-10-28 18:34:52,481 INFO Sending request to https://cds.climate.copernicus.eu/api/v2/resources/reanalysis-era5-single-levels-monthly-means\n",
      "2022-10-28 18:34:52,752 INFO Downloading https://download-0007-clone.copernicus-climate.eu/cache-compute-0007/cache/data6/adaptor.mars.internal-1666985153.1939733-3900-6-abe27ed4-2ea8-4110-99b1-fb2a7974c83a.nc to ../../data/test/era5_1986.nc (847.6K)\n",
      "2022-10-28 18:34:54,328 INFO Download rate 543.2K/s\n",
      "2022-10-28 18:34:54,796 INFO Welcome to the CDS\n",
      "2022-10-28 18:34:54,797 INFO Sending request to https://cds.climate.copernicus.eu/api/v2/resources/reanalysis-era5-single-levels-monthly-means\n",
      "2022-10-28 18:34:55,085 INFO Downloading https://download-0002-clone.copernicus-climate.eu/cache-compute-0002/cache/data1/adaptor.mars.internal-1666985373.5171037-28458-1-23d1b2bd-2bad-4829-b7a6-413b2ab24cc2.nc to ../../data/test/era5_1987.nc (847.6K)\n",
      "2022-10-28 18:34:58,216 INFO Download rate 270.8K/s\n",
      "2022-10-28 18:34:58,691 INFO Welcome to the CDS\n",
      "2022-10-28 18:34:58,693 INFO Sending request to https://cds.climate.copernicus.eu/api/v2/resources/reanalysis-era5-single-levels-monthly-means\n",
      "2022-10-28 18:34:59,012 INFO Downloading https://download-0015-clone.copernicus-climate.eu/cache-compute-0015/cache/data0/adaptor.mars.internal-1666985797.0970378-32369-9-243cd620-ac8c-45bd-ab8b-6fa16f10f2f3.nc to ../../data/test/era5_1988.nc (847.6K)\n",
      "2022-10-28 18:35:01,506 INFO Download rate 340.1K/s\n",
      "2022-10-28 18:35:02,000 INFO Welcome to the CDS\n",
      "2022-10-28 18:35:02,016 INFO Sending request to https://cds.climate.copernicus.eu/api/v2/resources/reanalysis-era5-single-levels-monthly-means\n",
      "2022-10-28 18:35:02,331 INFO Downloading https://download-0020.copernicus-climate.eu/cache-compute-0020/cache/data7/adaptor.mars.internal-1666985810.5039196-10846-17-04e37ea8-01a3-43a8-81dd-260e81f4b23c.nc to ../../data/test/era5_1989.nc (847.6K)\n",
      "2022-10-28 18:35:03,850 INFO Download rate 560K/s  \n",
      "2022-10-28 18:35:04,326 INFO Welcome to the CDS\n",
      "2022-10-28 18:35:04,327 INFO Sending request to https://cds.climate.copernicus.eu/api/v2/resources/reanalysis-era5-single-levels-monthly-means\n",
      "2022-10-28 18:35:04,610 INFO Downloading https://download-0016.copernicus-climate.eu/cache-compute-0016/cache/data2/adaptor.mars.internal-1666985823.7567852-21765-5-cbb7a008-e341-4826-b517-539bb044e8e1.nc to ../../data/test/era5_1990.nc (847.6K)\n",
      "2022-10-28 18:35:07,204 INFO Download rate 326.8K/s\n",
      "2022-10-28 18:35:07,677 INFO Welcome to the CDS\n",
      "2022-10-28 18:35:07,679 INFO Sending request to https://cds.climate.copernicus.eu/api/v2/resources/reanalysis-era5-single-levels-monthly-means\n",
      "2022-10-28 18:35:07,947 INFO Downloading https://download-0005-clone.copernicus-climate.eu/cache-compute-0005/cache/data5/adaptor.mars.internal-1666985838.578561-17148-14-d114d541-db1c-4a07-bbec-9b51c0a5587a.nc to ../../data/test/era5_1991.nc (847.6K)\n",
      "2022-10-28 18:35:10,411 INFO Download rate 344K/s  \n",
      "2022-10-28 18:35:10,885 INFO Welcome to the CDS\n",
      "2022-10-28 18:35:10,886 INFO Sending request to https://cds.climate.copernicus.eu/api/v2/resources/reanalysis-era5-single-levels-monthly-means\n",
      "2022-10-28 18:35:11,205 INFO Downloading https://download-0007-clone.copernicus-climate.eu/cache-compute-0007/cache/data8/adaptor.mars.internal-1666986237.4027987-3174-9-c5b48327-4c87-4d0d-9d89-cdafd0a22e59.nc to ../../data/test/era5_1992.nc (847.6K)\n",
      "2022-10-28 18:35:12,765 INFO Download rate 543.5K/s\n",
      "2022-10-28 18:35:13,466 INFO Welcome to the CDS\n",
      "2022-10-28 18:35:13,467 INFO Sending request to https://cds.climate.copernicus.eu/api/v2/resources/reanalysis-era5-single-levels-monthly-means\n",
      "2022-10-28 18:35:14,624 INFO Downloading https://download-0000-clone.copernicus-climate.eu/cache-compute-0000/cache/data6/adaptor.mars.internal-1666986361.8484933-7371-10-a3f06035-b934-4954-b16c-4e889c6d5ece.nc to ../../data/test/era5_1993.nc (847.6K)\n",
      "2022-10-28 18:35:17,392 INFO Download rate 306.3K/s\n",
      "2022-10-28 18:35:17,923 INFO Welcome to the CDS\n",
      "2022-10-28 18:35:17,925 INFO Sending request to https://cds.climate.copernicus.eu/api/v2/resources/reanalysis-era5-single-levels-monthly-means\n",
      "2022-10-28 18:35:18,216 INFO Downloading https://download-0000-clone.copernicus-climate.eu/cache-compute-0000/cache/data1/adaptor.mars.internal-1666986374.8748965-1893-13-b5e8dd27-ec1f-436f-b216-faefd2fa39bf.nc to ../../data/test/era5_1994.nc (847.6K)\n",
      "2022-10-28 18:35:20,628 INFO Download rate 351.4K/s\n",
      "2022-10-28 18:35:21,360 INFO Welcome to the CDS\n",
      "2022-10-28 18:35:21,367 INFO Sending request to https://cds.climate.copernicus.eu/api/v2/resources/reanalysis-era5-single-levels-monthly-means\n",
      "2022-10-28 18:35:21,756 INFO Downloading https://download-0019.copernicus-climate.eu/cache-compute-0019/cache/data4/adaptor.mars.internal-1666986387.0527723-29211-16-72cb5887-9af5-4eda-ab22-a83994886056.nc to ../../data/test/era5_1995.nc (847.6K)\n",
      "2022-10-28 18:35:27,552 INFO Download rate 146.3K/s\n",
      "2022-10-28 18:35:28,190 INFO Welcome to the CDS\n",
      "2022-10-28 18:35:28,192 INFO Sending request to https://cds.climate.copernicus.eu/api/v2/resources/reanalysis-era5-single-levels-monthly-means\n",
      "2022-10-28 18:35:28,572 INFO Downloading https://download-0015-clone.copernicus-climate.eu/cache-compute-0015/cache/data2/adaptor.mars.internal-1666986400.9845583-1227-11-fb6481c0-ccdb-451b-bbde-60add91707e0.nc to ../../data/test/era5_1996.nc (847.6K)\n",
      "2022-10-28 18:35:32,028 INFO Download rate 245.6K/s\n",
      "2022-10-28 18:35:32,562 INFO Welcome to the CDS\n",
      "2022-10-28 18:35:32,563 INFO Sending request to https://cds.climate.copernicus.eu/api/v2/resources/reanalysis-era5-single-levels-monthly-means\n",
      "2022-10-28 18:35:32,895 INFO Downloading https://download-0005-clone.copernicus-climate.eu/cache-compute-0005/cache/data9/adaptor.mars.internal-1666986413.9698038-14756-4-c14fbf96-fb01-4501-891d-0507de3df7cb.nc to ../../data/test/era5_1997.nc (847.6K)\n",
      "2022-10-28 18:35:37,188 INFO Download rate 197.6K/s\n",
      "2022-10-28 18:35:37,975 INFO Welcome to the CDS\n",
      "2022-10-28 18:35:37,986 INFO Sending request to https://cds.climate.copernicus.eu/api/v2/resources/reanalysis-era5-single-levels-monthly-means\n",
      "2022-10-28 18:35:38,291 INFO Downloading https://download-0019.copernicus-climate.eu/cache-compute-0019/cache/data7/adaptor.mars.internal-1666714454.1589751-6414-13-b88731d2-0bde-41ad-9dc6-0d1cad8feeec.nc to ../../data/test/era5_1998.nc (847.6K)\n",
      "2022-10-28 18:35:41,861 INFO Download rate 237.5K/s\n",
      "2022-10-28 18:35:42,470 INFO Welcome to the CDS\n",
      "2022-10-28 18:35:42,471 INFO Sending request to https://cds.climate.copernicus.eu/api/v2/resources/reanalysis-era5-single-levels-monthly-means\n",
      "2022-10-28 18:35:42,821 INFO Downloading https://download-0015-clone.copernicus-climate.eu/cache-compute-0015/cache/data3/adaptor.mars.internal-1666714470.045293-18762-17-d19110dd-f0e1-4424-a767-af35d835252e.nc to ../../data/test/era5_1999.nc (847.6K)\n",
      "2022-10-28 18:35:46,299 INFO Download rate 244K/s  \n",
      "2022-10-28 18:35:46,849 INFO Welcome to the CDS\n",
      "2022-10-28 18:35:46,849 INFO Sending request to https://cds.climate.copernicus.eu/api/v2/resources/reanalysis-era5-single-levels-monthly-means\n",
      "2022-10-28 18:35:47,311 INFO Downloading https://download-0001-clone.copernicus-climate.eu/cache-compute-0001/cache/data5/adaptor.mars.internal-1666986433.9709122-4324-6-7e459287-5d5c-43c6-b4b1-95710710356d.nc to ../../data/test/era5_2000.nc (847.6K)\n",
      "2022-10-28 18:35:52,356 INFO Download rate 168K/s  \n",
      "2022-10-28 18:35:53,059 INFO Welcome to the CDS\n",
      "2022-10-28 18:35:53,060 INFO Sending request to https://cds.climate.copernicus.eu/api/v2/resources/reanalysis-era5-single-levels-monthly-means\n",
      "2022-10-28 18:35:53,367 INFO Downloading https://download-0000-clone.copernicus-climate.eu/cache-compute-0000/cache/data3/adaptor.mars.internal-1666987397.9959946-2373-1-1da428bc-ea0d-42b2-878d-72d425f5f1d2.nc to ../../data/test/era5_2001.nc (847.6K)\n",
      "2022-10-28 18:35:57,162 INFO Download rate 223.4K/s\n",
      "2022-10-28 18:35:57,799 INFO Welcome to the CDS\n",
      "2022-10-28 18:35:57,800 INFO Sending request to https://cds.climate.copernicus.eu/api/v2/resources/reanalysis-era5-single-levels-monthly-means\n",
      "2022-10-28 18:35:58,166 INFO Downloading https://download-0008-clone.copernicus-climate.eu/cache-compute-0008/cache/data6/adaptor.mars.internal-1666987441.665576-7090-4-25b5e0d1-8e8c-4ce2-9579-5ea19104442b.nc to ../../data/test/era5_2002.nc (847.6K)\n",
      "2022-10-28 18:36:01,317 INFO Download rate 269.1K/s\n",
      "2022-10-28 18:36:01,906 INFO Welcome to the CDS\n",
      "2022-10-28 18:36:01,909 INFO Sending request to https://cds.climate.copernicus.eu/api/v2/resources/reanalysis-era5-single-levels-monthly-means\n",
      "2022-10-28 18:36:02,351 INFO Downloading https://download-0005-clone.copernicus-climate.eu/cache-compute-0005/cache/data2/adaptor.mars.internal-1666987453.0379398-3258-18-2e414334-1b9e-48c3-b4b2-919fbabcfd08.nc to ../../data/test/era5_2003.nc (847.6K)\n",
      "2022-10-28 18:36:04,530 INFO Download rate 389.1K/s\n",
      "2022-10-28 18:36:05,061 INFO Welcome to the CDS\n",
      "2022-10-28 18:36:05,085 INFO Sending request to https://cds.climate.copernicus.eu/api/v2/resources/reanalysis-era5-single-levels-monthly-means\n",
      "2022-10-28 18:36:05,432 INFO Downloading https://download-0006-clone.copernicus-climate.eu/cache-compute-0006/cache/data8/adaptor.mars.internal-1666987466.3194182-7321-18-c41a46f0-00ab-43df-92a0-bdcd3f442586.nc to ../../data/test/era5_2004.nc (847.6K)\n",
      "2022-10-28 18:36:08,376 INFO Download rate 287.9K/s\n",
      "2022-10-28 18:36:08,879 INFO Welcome to the CDS\n",
      "2022-10-28 18:36:08,880 INFO Sending request to https://cds.climate.copernicus.eu/api/v2/resources/reanalysis-era5-single-levels-monthly-means\n",
      "2022-10-28 18:36:09,213 INFO Downloading https://download-0015-clone.copernicus-climate.eu/cache-compute-0015/cache/data5/adaptor.mars.internal-1666987478.5881464-31570-18-074a2b6b-da47-4a31-8d8b-0dbaf3dea2b3.nc to ../../data/test/era5_2005.nc (847.6K)\n",
      "2022-10-28 18:36:11,501 INFO Download rate 370.6K/s\n",
      "2022-10-28 18:36:12,023 INFO Welcome to the CDS\n",
      "2022-10-28 18:36:12,024 INFO Sending request to https://cds.climate.copernicus.eu/api/v2/resources/reanalysis-era5-single-levels-monthly-means\n",
      "2022-10-28 18:36:12,431 INFO Downloading https://download-0015-clone.copernicus-climate.eu/cache-compute-0015/cache/data6/adaptor.mars.internal-1666987490.7715998-1504-14-6263237f-e562-4cb3-88b0-2c662efcf8fc.nc to ../../data/test/era5_2006.nc (847.6K)\n",
      "2022-10-28 18:36:14,102 INFO Download rate 507.3K/s\n",
      "2022-10-28 18:36:14,695 INFO Welcome to the CDS\n",
      "2022-10-28 18:36:14,696 INFO Sending request to https://cds.climate.copernicus.eu/api/v2/resources/reanalysis-era5-single-levels-monthly-means\n",
      "2022-10-28 18:36:15,078 INFO Downloading https://download-0013-clone.copernicus-climate.eu/cache-compute-0013/cache/data8/adaptor.mars.internal-1666987503.922299-22029-14-06e3bbc8-5ed8-44ef-aabf-445e7ceb7886.nc to ../../data/test/era5_2007.nc (847.6K)\n",
      "2022-10-28 18:36:18,382 INFO Download rate 256.6K/s\n",
      "2022-10-28 18:36:18,943 INFO Welcome to the CDS\n",
      "2022-10-28 18:36:18,944 INFO Sending request to https://cds.climate.copernicus.eu/api/v2/resources/reanalysis-era5-single-levels-monthly-means\n",
      "2022-10-28 18:36:19,235 INFO Downloading https://download-0000-clone.copernicus-climate.eu/cache-compute-0000/cache/data5/adaptor.mars.internal-1666987515.4861798-26585-7-3b3cd922-9391-4f45-b7c4-e82b6fc875c7.nc to ../../data/test/era5_2008.nc (847.6K)\n",
      "2022-10-28 18:36:21,038 INFO Download rate 470.4K/s\n",
      "2022-10-28 18:36:21,548 INFO Welcome to the CDS\n",
      "2022-10-28 18:36:21,549 INFO Sending request to https://cds.climate.copernicus.eu/api/v2/resources/reanalysis-era5-single-levels-monthly-means\n",
      "2022-10-28 18:36:21,844 INFO Downloading https://download-0002-clone.copernicus-climate.eu/cache-compute-0002/cache/data1/adaptor.mars.internal-1666987527.644163-1113-2-cd3ad239-da17-4e2d-ae59-5ebe4bbba08b.nc to ../../data/test/era5_2009.nc (847.6K)\n",
      "2022-10-28 18:36:24,521 INFO Download rate 316.9K/s\n",
      "2022-10-28 18:36:25,281 INFO Welcome to the CDS\n",
      "2022-10-28 18:36:25,283 INFO Sending request to https://cds.climate.copernicus.eu/api/v2/resources/reanalysis-era5-single-levels-monthly-means\n",
      "2022-10-28 18:36:26,185 INFO Downloading https://download-0004-clone.copernicus-climate.eu/cache-compute-0004/cache/data9/adaptor.mars.internal-1666987540.6035075-18416-8-2446a6f6-52b2-43a0-9281-2b14eeb6b9a2.nc to ../../data/test/era5_2010.nc (847.6K)\n",
      "2022-10-28 18:36:29,447 INFO Download rate 260.2K/s\n",
      "2022-10-28 18:36:30,077 INFO Welcome to the CDS\n",
      "2022-10-28 18:36:30,082 INFO Sending request to https://cds.climate.copernicus.eu/api/v2/resources/reanalysis-era5-single-levels-monthly-means\n",
      "2022-10-28 18:36:30,446 INFO Downloading https://download-0018.copernicus-climate.eu/cache-compute-0018/cache/data2/adaptor.mars.internal-1666987552.794667-25041-7-baf7e30d-eb62-4db2-ae84-130ffb531368.nc to ../../data/test/era5_2011.nc (847.6K)\n",
      "2022-10-28 18:36:33,940 INFO Download rate 242.8K/s\n",
      "2022-10-28 18:36:34,580 INFO Welcome to the CDS\n",
      "2022-10-28 18:36:34,582 INFO Sending request to https://cds.climate.copernicus.eu/api/v2/resources/reanalysis-era5-single-levels-monthly-means\n",
      "2022-10-28 18:36:34,888 INFO Downloading https://download-0000-clone.copernicus-climate.eu/cache-compute-0000/cache/data7/adaptor.mars.internal-1666987565.569351-1893-18-b4f9a4f8-8ef2-4f8f-8baa-d5c320c635a6.nc to ../../data/test/era5_2012.nc (847.6K)\n",
      "2022-10-28 18:36:36,826 INFO Download rate 438K/s  \n",
      "2022-10-28 18:36:37,394 INFO Welcome to the CDS\n",
      "2022-10-28 18:36:37,397 INFO Sending request to https://cds.climate.copernicus.eu/api/v2/resources/reanalysis-era5-single-levels-monthly-means\n",
      "2022-10-28 18:36:37,761 INFO Downloading https://download-0003-clone.copernicus-climate.eu/cache-compute-0003/cache/data2/adaptor.mars.internal-1666987576.93008-10636-16-c042b161-5e9a-4d2a-9730-14a362355615.nc to ../../data/test/era5_2013.nc (847.6K)\n",
      "2022-10-28 18:36:40,883 INFO Download rate 272.9K/s\n",
      "2022-10-28 18:36:41,470 INFO Welcome to the CDS\n",
      "2022-10-28 18:36:41,475 INFO Sending request to https://cds.climate.copernicus.eu/api/v2/resources/reanalysis-era5-single-levels-monthly-means\n",
      "2022-10-28 18:36:41,851 INFO Downloading https://download-0006-clone.copernicus-climate.eu/cache-compute-0006/cache/data4/adaptor.mars.internal-1666987589.8794413-11252-5-442fc7da-2ecc-4254-a172-bd09471f821c.nc to ../../data/test/era5_2014.nc (847.6K)\n",
      "2022-10-28 18:36:43,667 INFO Download rate 467.2K/s\n",
      "2022-10-28 18:36:44,254 INFO Welcome to the CDS\n",
      "2022-10-28 18:36:44,257 INFO Sending request to https://cds.climate.copernicus.eu/api/v2/resources/reanalysis-era5-single-levels-monthly-means\n",
      "2022-10-28 18:36:44,616 INFO Downloading https://download-0009-clone.copernicus-climate.eu/cache-compute-0009/cache/data0/adaptor.mars.internal-1666987602.707167-14272-11-c4b09bc1-d24d-4371-8dd5-cab936b26048.nc to ../../data/test/era5_2015.nc (847.6K)\n",
      "2022-10-28 18:36:47,568 INFO Download rate 287.3K/s\n",
      "2022-10-28 18:36:48,138 INFO Welcome to the CDS\n",
      "2022-10-28 18:36:48,152 INFO Sending request to https://cds.climate.copernicus.eu/api/v2/resources/reanalysis-era5-single-levels-monthly-means\n",
      "2022-10-28 18:36:48,524 INFO Downloading https://download-0019.copernicus-climate.eu/cache-compute-0019/cache/data5/adaptor.mars.internal-1666987616.65278-16006-9-70783ce8-d3bb-4867-b91d-4c3e8f25896d.nc to ../../data/test/era5_2016.nc (847.6K)\n",
      "2022-10-28 18:36:51,739 INFO Download rate 263.9K/s\n",
      "2022-10-28 18:36:52,338 INFO Welcome to the CDS\n",
      "2022-10-28 18:36:52,343 INFO Sending request to https://cds.climate.copernicus.eu/api/v2/resources/reanalysis-era5-single-levels-monthly-means\n",
      "2022-10-28 18:36:52,708 INFO Downloading https://download-0009-clone.copernicus-climate.eu/cache-compute-0009/cache/data4/adaptor.mars.internal-1666987629.8245945-17756-10-ab45fbb4-2cbf-4d8b-ac33-f8ee45da0e81.nc to ../../data/test/era5_2017.nc (847.6K)\n",
      "2022-10-28 18:36:54,360 INFO Download rate 514.2K/s\n",
      "2022-10-28 18:36:54,888 INFO Welcome to the CDS\n",
      "2022-10-28 18:36:54,892 INFO Sending request to https://cds.climate.copernicus.eu/api/v2/resources/reanalysis-era5-single-levels-monthly-means\n",
      "2022-10-28 18:36:55,268 INFO Downloading https://download-0018.copernicus-climate.eu/cache-compute-0018/cache/data5/adaptor.mars.internal-1666987641.5683537-23062-5-a0a68316-7343-475c-830e-1eb934152cdd.nc to ../../data/test/era5_2018.nc (847.6K)\n",
      "2022-10-28 18:36:57,558 INFO Download rate 370.8K/s\n",
      "2022-10-28 18:36:58,344 INFO Welcome to the CDS\n",
      "2022-10-28 18:36:58,348 INFO Sending request to https://cds.climate.copernicus.eu/api/v2/resources/reanalysis-era5-single-levels-monthly-means\n",
      "2022-10-28 18:36:58,657 INFO Downloading https://download-0009-clone.copernicus-climate.eu/cache-compute-0009/cache/data0/adaptor.mars.internal-1666987654.2372217-25267-11-0d50e99c-3708-4b35-92ee-bb881260077e.nc to ../../data/test/era5_2019.nc (847.6K)\n",
      "2022-10-28 18:37:00,582 INFO Download rate 441K/s  \n"
     ]
    }
   ],
   "source": [
    "for i in years:\n",
    "    c.retrieve(\n",
    "        'reanalysis-era5-single-levels-monthly-means',\n",
    "        {\n",
    "            'format': 'netcdf',\n",
    "            'product_type': 'monthly_averaged_reanalysis',\n",
    "            'variable': ['geopotential', '10m_u_component_of_wind', '10m_v_component_of_wind',\n",
    "            '2m_temperature', 'total_precipitation',\n",
    "            ],\n",
    "            'year': str(i),\n",
    "            'month': [\n",
    "                '01', '02', '03',\n",
    "                '04', '05', '06',\n",
    "                '07', '08', '09',\n",
    "                '10', '11', '12',\n",
    "            ],\n",
    "            'time': '00:00',\n",
    "            'area': [ 2, -85, -20, -65,],\n",
    "        },\n",
    "        f'../../data/test/era5_{str(i)}.nc')"
   ]
  }
 ],
 "metadata": {
  "kernelspec": {
   "display_name": "Python 3.9.12 ('geocat')",
   "language": "python",
   "name": "python3"
  },
  "language_info": {
   "codemirror_mode": {
    "name": "ipython",
    "version": 3
   },
   "file_extension": ".py",
   "mimetype": "text/x-python",
   "name": "python",
   "nbconvert_exporter": "python",
   "pygments_lexer": "ipython3",
   "version": "3.9.12"
  },
  "orig_nbformat": 4,
  "vscode": {
   "interpreter": {
    "hash": "fcf694b962e2583d33974cfd22fd61f91596a2a2cb35a874a7015b54a03d5ead"
   }
  }
 },
 "nbformat": 4,
 "nbformat_minor": 2
}
