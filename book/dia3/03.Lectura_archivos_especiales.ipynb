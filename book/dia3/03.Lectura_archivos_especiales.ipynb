{
 "cells": [
  {
   "cell_type": "markdown",
   "metadata": {},
   "source": [
    "# Lectura de datos"
   ]
  },
  {
   "cell_type": "code",
<<<<<<< HEAD
   "execution_count": 1,
=======
   "execution_count": 2,
>>>>>>> 9e444d5 (ragy)
   "metadata": {},
   "outputs": [],
   "source": [
    "import pandas as pd"
   ]
  },
  {
   "cell_type": "markdown",
   "metadata": {},
   "source": [
    "Abriendo el archivo de la forma mas simple posible"
   ]
  },
  {
   "cell_type": "code",
<<<<<<< HEAD
   "execution_count": 2,
=======
   "execution_count": 3,
>>>>>>> 9e444d5 (ragy)
   "metadata": {},
   "outputs": [],
   "source": [
    "f = open('../../data/3116406.txt', 'r')\n"
   ]
  },
  {
   "cell_type": "markdown",
   "metadata": {},
   "source": [
    "Antes de continuar vamos a quitarle el encabezado y guardarlo para despues "
   ]
  },
  {
   "cell_type": "code",
<<<<<<< HEAD
   "execution_count": 3,
=======
   "execution_count": 4,
>>>>>>> 9e444d5 (ragy)
   "metadata": {},
   "outputs": [
    {
     "name": "stdout",
     "output_type": "stream",
     "text": [
      "['STATION', 'STATION_NAME', 'DATE', 'PRCP', 'TAVG', 'TMAX', 'TMIN']\n"
     ]
    }
   ],
   "source": [
    "encabezado = next(f).split()\n",
    "next(f)  ## comando next????\n",
    "\n",
    "print(encabezado)"
   ]
  },
  {
   "cell_type": "markdown",
   "metadata": {},
   "source": [
    "Organizando los datos en una lista"
   ]
  },
  {
   "cell_type": "code",
<<<<<<< HEAD
   "execution_count": 10,
=======
   "execution_count": 5,
>>>>>>> 9e444d5 (ragy)
   "metadata": {},
   "outputs": [
    {
     "name": "stdout",
     "output_type": "stream",
     "text": [
      "[['GHCND:PEM00084691', 'PISCO', 'INTERNATIONAL', 'PE', '19630303', '-9999', '21.3', '26.1', '16.1'], ['GHCND:PEM00084691', 'PISCO', 'INTERNATIONAL', 'PE', '19630304', '-9999', '21.1', '26.1', '17.2'], ['GHCND:PEM00084691', 'PISCO', 'INTERNATIONAL', 'PE', '19630305', '-9999', '22.7', '27.2', '17.2'], ['GHCND:PEM00084691', 'PISCO', 'INTERNATIONAL', 'PE', '19630306', '-9999', '21.7', '27.2', '17.2'], ['GHCND:PEM00084691', 'PISCO', 'INTERNATIONAL', 'PE', '19630307', '-9999', '22.4', '26.1', '17.8'], ['GHCND:PEM00084691', 'PISCO', 'INTERNATIONAL', 'PE', '19630308', '-9999', '21.3', '26.1', '16.1'], ['GHCND:PEM00084691', 'PISCO', 'INTERNATIONAL', 'PE', '19630309', '-9999', '21.5', '27.2', '17.8'], ['GHCND:PEM00084691', 'PISCO', 'INTERNATIONAL', 'PE', '19630310', '-9999', '23.4', '-9999', '17.2'], ['GHCND:PEM00084691', 'PISCO', 'INTERNATIONAL', 'PE', '19630311', '-9999', '23.2', '28.9', '17.8'], ['GHCND:PEM00084691', 'PISCO', 'INTERNATIONAL', 'PE', '19630312', '-9999', '23.2', '27.8', '17.2']]\n"
     ]
    }
   ],
   "source": [
    "\n",
    "dato = []\n",
    "for line in f:\n",
    "    dato.append(line.split())\n",
    "\n",
    "print(dato[:10])"
   ]
  },
  {
   "cell_type": "markdown",
   "metadata": {},
   "source": [
    "Pasando de una lista a un `DataFrame`"
   ]
  },
  {
   "cell_type": "code",
<<<<<<< HEAD
   "execution_count": 11,
=======
   "execution_count": 6,
>>>>>>> 9e444d5 (ragy)
   "metadata": {},
   "outputs": [
    {
     "ename": "ValueError",
     "evalue": "7 columns passed, passed data had 9 columns",
     "output_type": "error",
     "traceback": [
      "\u001b[0;31m---------------------------------------------------------------------------\u001b[0m",
      "\u001b[0;31mAssertionError\u001b[0m                            Traceback (most recent call last)",
      "File \u001b[0;32m~/miniconda3/envs/geocat/lib/python3.9/site-packages/pandas/core/internals/construction.py:982\u001b[0m, in \u001b[0;36m_finalize_columns_and_data\u001b[0;34m(content, columns, dtype)\u001b[0m\n\u001b[1;32m    981\u001b[0m \u001b[39mtry\u001b[39;00m:\n\u001b[0;32m--> 982\u001b[0m     columns \u001b[39m=\u001b[39m _validate_or_indexify_columns(contents, columns)\n\u001b[1;32m    983\u001b[0m \u001b[39mexcept\u001b[39;00m \u001b[39mAssertionError\u001b[39;00m \u001b[39mas\u001b[39;00m err:\n\u001b[1;32m    984\u001b[0m     \u001b[39m# GH#26429 do not raise user-facing AssertionError\u001b[39;00m\n",
      "File \u001b[0;32m~/miniconda3/envs/geocat/lib/python3.9/site-packages/pandas/core/internals/construction.py:1030\u001b[0m, in \u001b[0;36m_validate_or_indexify_columns\u001b[0;34m(content, columns)\u001b[0m\n\u001b[1;32m   1028\u001b[0m \u001b[39mif\u001b[39;00m \u001b[39mnot\u001b[39;00m is_mi_list \u001b[39mand\u001b[39;00m \u001b[39mlen\u001b[39m(columns) \u001b[39m!=\u001b[39m \u001b[39mlen\u001b[39m(content):  \u001b[39m# pragma: no cover\u001b[39;00m\n\u001b[1;32m   1029\u001b[0m     \u001b[39m# caller's responsibility to check for this...\u001b[39;00m\n\u001b[0;32m-> 1030\u001b[0m     \u001b[39mraise\u001b[39;00m \u001b[39mAssertionError\u001b[39;00m(\n\u001b[1;32m   1031\u001b[0m         \u001b[39mf\u001b[39m\u001b[39m\"\u001b[39m\u001b[39m{\u001b[39;00m\u001b[39mlen\u001b[39m(columns)\u001b[39m}\u001b[39;00m\u001b[39m columns passed, passed data had \u001b[39m\u001b[39m\"\u001b[39m\n\u001b[1;32m   1032\u001b[0m         \u001b[39mf\u001b[39m\u001b[39m\"\u001b[39m\u001b[39m{\u001b[39;00m\u001b[39mlen\u001b[39m(content)\u001b[39m}\u001b[39;00m\u001b[39m columns\u001b[39m\u001b[39m\"\u001b[39m\n\u001b[1;32m   1033\u001b[0m     )\n\u001b[1;32m   1034\u001b[0m \u001b[39melif\u001b[39;00m is_mi_list:\n\u001b[1;32m   1035\u001b[0m \n\u001b[1;32m   1036\u001b[0m     \u001b[39m# check if nested list column, length of each sub-list should be equal\u001b[39;00m\n",
      "\u001b[0;31mAssertionError\u001b[0m: 7 columns passed, passed data had 9 columns",
      "\nThe above exception was the direct cause of the following exception:\n",
      "\u001b[0;31mValueError\u001b[0m                                Traceback (most recent call last)",
<<<<<<< HEAD
      "\u001b[1;32m/home/christian/Documents/python_climatologia/book/dia3/03.Lectura_archivos_especiales.ipynb Cell 10\u001b[0m in \u001b[0;36m<cell line: 1>\u001b[0;34m()\u001b[0m\n\u001b[0;32m----> <a href='vscode-notebook-cell:/home/christian/Documents/python_climatologia/book/dia3/03.Lectura_archivos_especiales.ipynb#X12sZmlsZQ%3D%3D?line=0'>1</a>\u001b[0m df \u001b[39m=\u001b[39m pd\u001b[39m.\u001b[39;49mDataFrame(dato, columns\u001b[39m=\u001b[39;49mencabezado)\n",
=======
      "\u001b[1;32m/home/georgynio/Envs/python_climatologia/book/dia3/03.Lectura_archivos_especiales.ipynb Cell 10\u001b[0m in \u001b[0;36m<cell line: 1>\u001b[0;34m()\u001b[0m\n\u001b[0;32m----> <a href='vscode-notebook-cell:/home/georgynio/Envs/python_climatologia/book/dia3/03.Lectura_archivos_especiales.ipynb#X12sZmlsZQ%3D%3D?line=0'>1</a>\u001b[0m df \u001b[39m=\u001b[39m pd\u001b[39m.\u001b[39;49mDataFrame(dato, columns\u001b[39m=\u001b[39;49mencabezado)\n",
>>>>>>> 9e444d5 (ragy)
      "File \u001b[0;32m~/miniconda3/envs/geocat/lib/python3.9/site-packages/pandas/core/frame.py:721\u001b[0m, in \u001b[0;36mDataFrame.__init__\u001b[0;34m(self, data, index, columns, dtype, copy)\u001b[0m\n\u001b[1;32m    716\u001b[0m     \u001b[39mif\u001b[39;00m columns \u001b[39mis\u001b[39;00m \u001b[39mnot\u001b[39;00m \u001b[39mNone\u001b[39;00m:\n\u001b[1;32m    717\u001b[0m         \u001b[39m# error: Argument 1 to \"ensure_index\" has incompatible type\u001b[39;00m\n\u001b[1;32m    718\u001b[0m         \u001b[39m# \"Collection[Any]\"; expected \"Union[Union[Union[ExtensionArray,\u001b[39;00m\n\u001b[1;32m    719\u001b[0m         \u001b[39m# ndarray], Index, Series], Sequence[Any]]\"\u001b[39;00m\n\u001b[1;32m    720\u001b[0m         columns \u001b[39m=\u001b[39m ensure_index(columns)  \u001b[39m# type: ignore[arg-type]\u001b[39;00m\n\u001b[0;32m--> 721\u001b[0m     arrays, columns, index \u001b[39m=\u001b[39m nested_data_to_arrays(\n\u001b[1;32m    722\u001b[0m         \u001b[39m# error: Argument 3 to \"nested_data_to_arrays\" has incompatible\u001b[39;49;00m\n\u001b[1;32m    723\u001b[0m         \u001b[39m# type \"Optional[Collection[Any]]\"; expected \"Optional[Index]\"\u001b[39;49;00m\n\u001b[1;32m    724\u001b[0m         data,\n\u001b[1;32m    725\u001b[0m         columns,\n\u001b[1;32m    726\u001b[0m         index,  \u001b[39m# type: ignore[arg-type]\u001b[39;49;00m\n\u001b[1;32m    727\u001b[0m         dtype,\n\u001b[1;32m    728\u001b[0m     )\n\u001b[1;32m    729\u001b[0m     mgr \u001b[39m=\u001b[39m arrays_to_mgr(\n\u001b[1;32m    730\u001b[0m         arrays,\n\u001b[1;32m    731\u001b[0m         columns,\n\u001b[0;32m   (...)\u001b[0m\n\u001b[1;32m    734\u001b[0m         typ\u001b[39m=\u001b[39mmanager,\n\u001b[1;32m    735\u001b[0m     )\n\u001b[1;32m    736\u001b[0m \u001b[39melse\u001b[39;00m:\n",
      "File \u001b[0;32m~/miniconda3/envs/geocat/lib/python3.9/site-packages/pandas/core/internals/construction.py:519\u001b[0m, in \u001b[0;36mnested_data_to_arrays\u001b[0;34m(data, columns, index, dtype)\u001b[0m\n\u001b[1;32m    516\u001b[0m \u001b[39mif\u001b[39;00m is_named_tuple(data[\u001b[39m0\u001b[39m]) \u001b[39mand\u001b[39;00m columns \u001b[39mis\u001b[39;00m \u001b[39mNone\u001b[39;00m:\n\u001b[1;32m    517\u001b[0m     columns \u001b[39m=\u001b[39m ensure_index(data[\u001b[39m0\u001b[39m]\u001b[39m.\u001b[39m_fields)\n\u001b[0;32m--> 519\u001b[0m arrays, columns \u001b[39m=\u001b[39m to_arrays(data, columns, dtype\u001b[39m=\u001b[39;49mdtype)\n\u001b[1;32m    520\u001b[0m columns \u001b[39m=\u001b[39m ensure_index(columns)\n\u001b[1;32m    522\u001b[0m \u001b[39mif\u001b[39;00m index \u001b[39mis\u001b[39;00m \u001b[39mNone\u001b[39;00m:\n",
      "File \u001b[0;32m~/miniconda3/envs/geocat/lib/python3.9/site-packages/pandas/core/internals/construction.py:883\u001b[0m, in \u001b[0;36mto_arrays\u001b[0;34m(data, columns, dtype)\u001b[0m\n\u001b[1;32m    880\u001b[0m     data \u001b[39m=\u001b[39m [\u001b[39mtuple\u001b[39m(x) \u001b[39mfor\u001b[39;00m x \u001b[39min\u001b[39;00m data]\n\u001b[1;32m    881\u001b[0m     arr \u001b[39m=\u001b[39m _list_to_arrays(data)\n\u001b[0;32m--> 883\u001b[0m content, columns \u001b[39m=\u001b[39m _finalize_columns_and_data(arr, columns, dtype)\n\u001b[1;32m    884\u001b[0m \u001b[39mreturn\u001b[39;00m content, columns\n",
      "File \u001b[0;32m~/miniconda3/envs/geocat/lib/python3.9/site-packages/pandas/core/internals/construction.py:985\u001b[0m, in \u001b[0;36m_finalize_columns_and_data\u001b[0;34m(content, columns, dtype)\u001b[0m\n\u001b[1;32m    982\u001b[0m     columns \u001b[39m=\u001b[39m _validate_or_indexify_columns(contents, columns)\n\u001b[1;32m    983\u001b[0m \u001b[39mexcept\u001b[39;00m \u001b[39mAssertionError\u001b[39;00m \u001b[39mas\u001b[39;00m err:\n\u001b[1;32m    984\u001b[0m     \u001b[39m# GH#26429 do not raise user-facing AssertionError\u001b[39;00m\n\u001b[0;32m--> 985\u001b[0m     \u001b[39mraise\u001b[39;00m \u001b[39mValueError\u001b[39;00m(err) \u001b[39mfrom\u001b[39;00m \u001b[39merr\u001b[39;00m\n\u001b[1;32m    987\u001b[0m \u001b[39mif\u001b[39;00m \u001b[39mlen\u001b[39m(contents) \u001b[39mand\u001b[39;00m contents[\u001b[39m0\u001b[39m]\u001b[39m.\u001b[39mdtype \u001b[39m==\u001b[39m np\u001b[39m.\u001b[39mobject_:\n\u001b[1;32m    988\u001b[0m     contents \u001b[39m=\u001b[39m _convert_object_array(contents, dtype\u001b[39m=\u001b[39mdtype)\n",
      "\u001b[0;31mValueError\u001b[0m: 7 columns passed, passed data had 9 columns"
     ]
    }
   ],
   "source": [
    "df = pd.DataFrame(dato, columns=encabezado)\n",
    "\n",
    "#que paso?"
   ]
  },
  {
   "cell_type": "code",
<<<<<<< HEAD
   "execution_count": 18,
=======
   "execution_count": 7,
>>>>>>> 9e444d5 (ragy)
   "metadata": {},
   "outputs": [],
   "source": [
    "encabezado.insert(1, 'Station name')\n",
    "encabezado.insert(1, 'Station name')"
   ]
  },
  {
   "cell_type": "code",
<<<<<<< HEAD
   "execution_count": 19,
=======
   "execution_count": 8,
>>>>>>> 9e444d5 (ragy)
   "metadata": {},
   "outputs": [
    {
     "name": "stdout",
     "output_type": "stream",
     "text": [
      "['STATION', 'Station name', 'Station name', 'STATION_NAME', 'DATE', 'PRCP', 'TAVG', 'TMAX', 'TMIN']\n"
     ]
    }
   ],
   "source": [
    "print(encabezado)"
   ]
  },
  {
   "cell_type": "markdown",
   "metadata": {},
   "source": [
    "Ahora que ya tenemos la cantidad de columnas completas, le decimos cual es la forma correcta de dejarlo como un `DataFrame`"
   ]
  },
  {
   "cell_type": "code",
<<<<<<< HEAD
   "execution_count": 20,
=======
   "execution_count": 9,
>>>>>>> 9e444d5 (ragy)
   "metadata": {},
   "outputs": [],
   "source": [
    "df = pd.DataFrame(dato, columns=encabezado)"
   ]
  },
  {
   "cell_type": "markdown",
   "metadata": {},
   "source": [
    "Ahora veamos que pasa con nuestro `DataFrame`"
   ]
  },
  {
   "cell_type": "code",
<<<<<<< HEAD
   "execution_count": 21,
=======
   "execution_count": 10,
>>>>>>> 9e444d5 (ragy)
   "metadata": {},
   "outputs": [
    {
     "name": "stdout",
     "output_type": "stream",
     "text": [
      "                 STATION Station name   Station name STATION_NAME      DATE  \\\n",
<<<<<<< HEAD
      "0      GHCND:PEM00084691        PISCO  INTERNATIONAL           PE  19630303   \n",
      "1      GHCND:PEM00084691        PISCO  INTERNATIONAL           PE  19630304   \n",
      "2      GHCND:PEM00084691        PISCO  INTERNATIONAL           PE  19630305   \n",
      "3      GHCND:PEM00084691        PISCO  INTERNATIONAL           PE  19630306   \n",
      "4      GHCND:PEM00084691        PISCO  INTERNATIONAL           PE  19630307   \n",
      "...                  ...          ...            ...          ...       ...   \n",
      "16680  GHCND:PEM00084691        PISCO  INTERNATIONAL           PE  20211027   \n",
      "16681  GHCND:PEM00084691        PISCO  INTERNATIONAL           PE  20211028   \n",
      "16682  GHCND:PEM00084691        PISCO  INTERNATIONAL           PE  20211029   \n",
      "16683  GHCND:PEM00084691        PISCO  INTERNATIONAL           PE  20211030   \n",
      "16684  GHCND:PEM00084691        PISCO  INTERNATIONAL           PE  20211031   \n",
      "\n",
      "        PRCP  TAVG   TMAX   TMIN  \n",
      "0      -9999  21.3   26.1   16.1  \n",
      "1      -9999  21.1   26.1   17.2  \n",
      "2      -9999  22.7   27.2   17.2  \n",
      "3      -9999  21.7   27.2   17.2  \n",
      "4      -9999  22.4   26.1   17.8  \n",
      "...      ...   ...    ...    ...  \n",
      "16680  -9999  17.1  -9999  -9999  \n",
      "16681  -9999  16.7  -9999   12.9  \n",
      "16682  -9999  17.3  -9999   13.8  \n",
      "16683  -9999  16.9  -9999  -9999  \n",
      "16684  -9999  18.0  -9999   16.9  \n",
      "\n",
      "[16685 rows x 9 columns]\n"
=======
      "0      GHCND:PEM00084691        PISCO  INTERNATIONAL           PE  19630301   \n",
      "1      GHCND:PEM00084691        PISCO  INTERNATIONAL           PE  19630302   \n",
      "2      GHCND:PEM00084691        PISCO  INTERNATIONAL           PE  19630303   \n",
      "3      GHCND:PEM00084691        PISCO  INTERNATIONAL           PE  19630304   \n",
      "4      GHCND:PEM00084691        PISCO  INTERNATIONAL           PE  19630305   \n",
      "...                  ...          ...            ...          ...       ...   \n",
      "16682  GHCND:PEM00084691        PISCO  INTERNATIONAL           PE  20211027   \n",
      "16683  GHCND:PEM00084691        PISCO  INTERNATIONAL           PE  20211028   \n",
      "16684  GHCND:PEM00084691        PISCO  INTERNATIONAL           PE  20211029   \n",
      "16685  GHCND:PEM00084691        PISCO  INTERNATIONAL           PE  20211030   \n",
      "16686  GHCND:PEM00084691        PISCO  INTERNATIONAL           PE  20211031   \n",
      "\n",
      "        PRCP  TAVG   TMAX   TMIN  \n",
      "0      -9999  23.3   27.2  -9999  \n",
      "1      -9999  22.5   27.8   17.2  \n",
      "2      -9999  21.3   26.1   16.1  \n",
      "3      -9999  21.1   26.1   17.2  \n",
      "4      -9999  22.7   27.2   17.2  \n",
      "...      ...   ...    ...    ...  \n",
      "16682  -9999  17.1  -9999  -9999  \n",
      "16683  -9999  16.7  -9999   12.9  \n",
      "16684  -9999  17.3  -9999   13.8  \n",
      "16685  -9999  16.9  -9999  -9999  \n",
      "16686  -9999  18.0  -9999   16.9  \n",
      "\n",
      "[16687 rows x 9 columns]\n"
>>>>>>> 9e444d5 (ragy)
     ]
    }
   ],
   "source": [
    "print(df)\n",
    "# hay algun problema?"
   ]
  },
  {
   "cell_type": "code",
<<<<<<< HEAD
   "execution_count": 22,
=======
   "execution_count": 11,
>>>>>>> 9e444d5 (ragy)
   "metadata": {},
   "outputs": [
    {
     "data": {
      "text/html": [
       "<div>\n",
       "<style scoped>\n",
       "    .dataframe tbody tr th:only-of-type {\n",
       "        vertical-align: middle;\n",
       "    }\n",
       "\n",
       "    .dataframe tbody tr th {\n",
       "        vertical-align: top;\n",
       "    }\n",
       "\n",
       "    .dataframe thead th {\n",
       "        text-align: right;\n",
       "    }\n",
       "</style>\n",
       "<table border=\"1\" class=\"dataframe\">\n",
       "  <thead>\n",
       "    <tr style=\"text-align: right;\">\n",
       "      <th></th>\n",
       "      <th>STATION</th>\n",
       "      <th>Station name</th>\n",
       "      <th>Station name</th>\n",
       "      <th>STATION_NAME</th>\n",
       "      <th>DATE</th>\n",
       "      <th>PRCP</th>\n",
       "      <th>TAVG</th>\n",
       "      <th>TMAX</th>\n",
       "      <th>TMIN</th>\n",
       "    </tr>\n",
       "  </thead>\n",
       "  <tbody>\n",
       "    <tr>\n",
       "      <th>0</th>\n",
       "      <td>GHCND:PEM00084691</td>\n",
       "      <td>PISCO</td>\n",
       "      <td>INTERNATIONAL</td>\n",
       "      <td>PE</td>\n",
<<<<<<< HEAD
=======
       "      <td>19630301</td>\n",
       "      <td>NaN</td>\n",
       "      <td>23.3</td>\n",
       "      <td>27.2</td>\n",
       "      <td>NaN</td>\n",
       "    </tr>\n",
       "    <tr>\n",
       "      <th>1</th>\n",
       "      <td>GHCND:PEM00084691</td>\n",
       "      <td>PISCO</td>\n",
       "      <td>INTERNATIONAL</td>\n",
       "      <td>PE</td>\n",
       "      <td>19630302</td>\n",
       "      <td>NaN</td>\n",
       "      <td>22.5</td>\n",
       "      <td>27.8</td>\n",
       "      <td>17.2</td>\n",
       "    </tr>\n",
       "    <tr>\n",
       "      <th>2</th>\n",
       "      <td>GHCND:PEM00084691</td>\n",
       "      <td>PISCO</td>\n",
       "      <td>INTERNATIONAL</td>\n",
       "      <td>PE</td>\n",
>>>>>>> 9e444d5 (ragy)
       "      <td>19630303</td>\n",
       "      <td>NaN</td>\n",
       "      <td>21.3</td>\n",
       "      <td>26.1</td>\n",
       "      <td>16.1</td>\n",
       "    </tr>\n",
       "    <tr>\n",
<<<<<<< HEAD
       "      <th>1</th>\n",
=======
       "      <th>3</th>\n",
>>>>>>> 9e444d5 (ragy)
       "      <td>GHCND:PEM00084691</td>\n",
       "      <td>PISCO</td>\n",
       "      <td>INTERNATIONAL</td>\n",
       "      <td>PE</td>\n",
       "      <td>19630304</td>\n",
       "      <td>NaN</td>\n",
       "      <td>21.1</td>\n",
       "      <td>26.1</td>\n",
       "      <td>17.2</td>\n",
       "    </tr>\n",
       "    <tr>\n",
<<<<<<< HEAD
       "      <th>2</th>\n",
=======
       "      <th>4</th>\n",
>>>>>>> 9e444d5 (ragy)
       "      <td>GHCND:PEM00084691</td>\n",
       "      <td>PISCO</td>\n",
       "      <td>INTERNATIONAL</td>\n",
       "      <td>PE</td>\n",
       "      <td>19630305</td>\n",
       "      <td>NaN</td>\n",
       "      <td>22.7</td>\n",
       "      <td>27.2</td>\n",
       "      <td>17.2</td>\n",
       "    </tr>\n",
       "    <tr>\n",
<<<<<<< HEAD
       "      <th>3</th>\n",
       "      <td>GHCND:PEM00084691</td>\n",
       "      <td>PISCO</td>\n",
       "      <td>INTERNATIONAL</td>\n",
       "      <td>PE</td>\n",
       "      <td>19630306</td>\n",
       "      <td>NaN</td>\n",
       "      <td>21.7</td>\n",
       "      <td>27.2</td>\n",
       "      <td>17.2</td>\n",
       "    </tr>\n",
       "    <tr>\n",
       "      <th>4</th>\n",
       "      <td>GHCND:PEM00084691</td>\n",
       "      <td>PISCO</td>\n",
       "      <td>INTERNATIONAL</td>\n",
       "      <td>PE</td>\n",
       "      <td>19630307</td>\n",
       "      <td>NaN</td>\n",
       "      <td>22.4</td>\n",
       "      <td>26.1</td>\n",
       "      <td>17.8</td>\n",
       "    </tr>\n",
       "    <tr>\n",
=======
>>>>>>> 9e444d5 (ragy)
       "      <th>...</th>\n",
       "      <td>...</td>\n",
       "      <td>...</td>\n",
       "      <td>...</td>\n",
       "      <td>...</td>\n",
       "      <td>...</td>\n",
       "      <td>...</td>\n",
       "      <td>...</td>\n",
       "      <td>...</td>\n",
       "      <td>...</td>\n",
       "    </tr>\n",
       "    <tr>\n",
<<<<<<< HEAD
       "      <th>16680</th>\n",
=======
       "      <th>16682</th>\n",
>>>>>>> 9e444d5 (ragy)
       "      <td>GHCND:PEM00084691</td>\n",
       "      <td>PISCO</td>\n",
       "      <td>INTERNATIONAL</td>\n",
       "      <td>PE</td>\n",
       "      <td>20211027</td>\n",
       "      <td>NaN</td>\n",
       "      <td>17.1</td>\n",
       "      <td>NaN</td>\n",
       "      <td>NaN</td>\n",
       "    </tr>\n",
       "    <tr>\n",
<<<<<<< HEAD
       "      <th>16681</th>\n",
=======
       "      <th>16683</th>\n",
>>>>>>> 9e444d5 (ragy)
       "      <td>GHCND:PEM00084691</td>\n",
       "      <td>PISCO</td>\n",
       "      <td>INTERNATIONAL</td>\n",
       "      <td>PE</td>\n",
       "      <td>20211028</td>\n",
       "      <td>NaN</td>\n",
       "      <td>16.7</td>\n",
       "      <td>NaN</td>\n",
       "      <td>12.9</td>\n",
       "    </tr>\n",
       "    <tr>\n",
<<<<<<< HEAD
       "      <th>16682</th>\n",
=======
       "      <th>16684</th>\n",
>>>>>>> 9e444d5 (ragy)
       "      <td>GHCND:PEM00084691</td>\n",
       "      <td>PISCO</td>\n",
       "      <td>INTERNATIONAL</td>\n",
       "      <td>PE</td>\n",
       "      <td>20211029</td>\n",
       "      <td>NaN</td>\n",
       "      <td>17.3</td>\n",
       "      <td>NaN</td>\n",
       "      <td>13.8</td>\n",
       "    </tr>\n",
       "    <tr>\n",
<<<<<<< HEAD
       "      <th>16683</th>\n",
=======
       "      <th>16685</th>\n",
>>>>>>> 9e444d5 (ragy)
       "      <td>GHCND:PEM00084691</td>\n",
       "      <td>PISCO</td>\n",
       "      <td>INTERNATIONAL</td>\n",
       "      <td>PE</td>\n",
       "      <td>20211030</td>\n",
       "      <td>NaN</td>\n",
       "      <td>16.9</td>\n",
       "      <td>NaN</td>\n",
       "      <td>NaN</td>\n",
       "    </tr>\n",
       "    <tr>\n",
<<<<<<< HEAD
       "      <th>16684</th>\n",
=======
       "      <th>16686</th>\n",
>>>>>>> 9e444d5 (ragy)
       "      <td>GHCND:PEM00084691</td>\n",
       "      <td>PISCO</td>\n",
       "      <td>INTERNATIONAL</td>\n",
       "      <td>PE</td>\n",
       "      <td>20211031</td>\n",
       "      <td>NaN</td>\n",
       "      <td>18.0</td>\n",
       "      <td>NaN</td>\n",
       "      <td>16.9</td>\n",
       "    </tr>\n",
       "  </tbody>\n",
       "</table>\n",
<<<<<<< HEAD
       "<p>16685 rows × 9 columns</p>\n",
=======
       "<p>16687 rows × 9 columns</p>\n",
>>>>>>> 9e444d5 (ragy)
       "</div>"
      ],
      "text/plain": [
       "                 STATION Station name   Station name STATION_NAME      DATE  \\\n",
<<<<<<< HEAD
       "0      GHCND:PEM00084691        PISCO  INTERNATIONAL           PE  19630303   \n",
       "1      GHCND:PEM00084691        PISCO  INTERNATIONAL           PE  19630304   \n",
       "2      GHCND:PEM00084691        PISCO  INTERNATIONAL           PE  19630305   \n",
       "3      GHCND:PEM00084691        PISCO  INTERNATIONAL           PE  19630306   \n",
       "4      GHCND:PEM00084691        PISCO  INTERNATIONAL           PE  19630307   \n",
       "...                  ...          ...            ...          ...       ...   \n",
       "16680  GHCND:PEM00084691        PISCO  INTERNATIONAL           PE  20211027   \n",
       "16681  GHCND:PEM00084691        PISCO  INTERNATIONAL           PE  20211028   \n",
       "16682  GHCND:PEM00084691        PISCO  INTERNATIONAL           PE  20211029   \n",
       "16683  GHCND:PEM00084691        PISCO  INTERNATIONAL           PE  20211030   \n",
       "16684  GHCND:PEM00084691        PISCO  INTERNATIONAL           PE  20211031   \n",
       "\n",
       "      PRCP  TAVG  TMAX  TMIN  \n",
       "0      NaN  21.3  26.1  16.1  \n",
       "1      NaN  21.1  26.1  17.2  \n",
       "2      NaN  22.7  27.2  17.2  \n",
       "3      NaN  21.7  27.2  17.2  \n",
       "4      NaN  22.4  26.1  17.8  \n",
       "...    ...   ...   ...   ...  \n",
       "16680  NaN  17.1   NaN   NaN  \n",
       "16681  NaN  16.7   NaN  12.9  \n",
       "16682  NaN  17.3   NaN  13.8  \n",
       "16683  NaN  16.9   NaN   NaN  \n",
       "16684  NaN  18.0   NaN  16.9  \n",
       "\n",
       "[16685 rows x 9 columns]"
      ]
     },
     "execution_count": 22,
=======
       "0      GHCND:PEM00084691        PISCO  INTERNATIONAL           PE  19630301   \n",
       "1      GHCND:PEM00084691        PISCO  INTERNATIONAL           PE  19630302   \n",
       "2      GHCND:PEM00084691        PISCO  INTERNATIONAL           PE  19630303   \n",
       "3      GHCND:PEM00084691        PISCO  INTERNATIONAL           PE  19630304   \n",
       "4      GHCND:PEM00084691        PISCO  INTERNATIONAL           PE  19630305   \n",
       "...                  ...          ...            ...          ...       ...   \n",
       "16682  GHCND:PEM00084691        PISCO  INTERNATIONAL           PE  20211027   \n",
       "16683  GHCND:PEM00084691        PISCO  INTERNATIONAL           PE  20211028   \n",
       "16684  GHCND:PEM00084691        PISCO  INTERNATIONAL           PE  20211029   \n",
       "16685  GHCND:PEM00084691        PISCO  INTERNATIONAL           PE  20211030   \n",
       "16686  GHCND:PEM00084691        PISCO  INTERNATIONAL           PE  20211031   \n",
       "\n",
       "      PRCP  TAVG  TMAX  TMIN  \n",
       "0      NaN  23.3  27.2   NaN  \n",
       "1      NaN  22.5  27.8  17.2  \n",
       "2      NaN  21.3  26.1  16.1  \n",
       "3      NaN  21.1  26.1  17.2  \n",
       "4      NaN  22.7  27.2  17.2  \n",
       "...    ...   ...   ...   ...  \n",
       "16682  NaN  17.1   NaN   NaN  \n",
       "16683  NaN  16.7   NaN  12.9  \n",
       "16684  NaN  17.3   NaN  13.8  \n",
       "16685  NaN  16.9   NaN   NaN  \n",
       "16686  NaN  18.0   NaN  16.9  \n",
       "\n",
       "[16687 rows x 9 columns]"
      ]
     },
     "execution_count": 11,
>>>>>>> 9e444d5 (ragy)
     "metadata": {},
     "output_type": "execute_result"
    }
   ],
   "source": [
    "import numpy as np\n",
    "df = df.replace('-9999', np.nan)\n",
    "\n",
    "df"
   ]
  },
  {
   "cell_type": "code",
<<<<<<< HEAD
   "execution_count": 23,
=======
   "execution_count": 12,
>>>>>>> 9e444d5 (ragy)
   "metadata": {},
   "outputs": [
    {
     "data": {
      "text/plain": [
<<<<<<< HEAD
       "'26.1'"
      ]
     },
     "execution_count": 23,
=======
       "'27.2'"
      ]
     },
     "execution_count": 12,
>>>>>>> 9e444d5 (ragy)
     "metadata": {},
     "output_type": "execute_result"
    }
   ],
   "source": [
    "df.TMAX[0]"
   ]
  },
  {
   "cell_type": "markdown",
   "metadata": {},
   "source": [
    "Recuerda cerrar el archivo siempre, porque sino permanece en la memoria."
   ]
  },
  {
   "cell_type": "code",
<<<<<<< HEAD
   "execution_count": 24,
=======
   "execution_count": 13,
>>>>>>> 9e444d5 (ragy)
   "metadata": {},
   "outputs": [],
   "source": [
    "f.close()"
   ]
  },
  {
   "cell_type": "markdown",
   "metadata": {},
   "source": [
    "Ya que vimos como se hace entonces ahora toca hacerlo de forma mas simple"
   ]
  },
  {
   "cell_type": "code",
<<<<<<< HEAD
   "execution_count": 25,
=======
   "execution_count": 14,
>>>>>>> 9e444d5 (ragy)
   "metadata": {},
   "outputs": [],
   "source": [
    "f = open('../../data/3116406.txt', 'r')\n",
    "\n",
    "encabezado = next(f).split()\n",
    "next(f)  ## comando next????\n",
    "dato = []\n",
    "for line in f:\n",
    "    d_line = line.split()\n",
    "    if '-9999' in d_line:\n",
    "        d_line = list(map(lambda x: x.replace('-9999', 'NaN'), d_line))\n",
    "    dato.append(d_line)\n",
    "\n",
    "encabezado.insert(1, 'Station name')\n",
    "encabezado.insert(1, 'Station name')\n",
    "\n",
    "df = pd.DataFrame(dato, columns=encabezado)"
   ]
  },
  {
   "cell_type": "code",
<<<<<<< HEAD
   "execution_count": 26,
=======
   "execution_count": 15,
>>>>>>> 9e444d5 (ragy)
   "metadata": {},
   "outputs": [
    {
     "data": {
      "text/html": [
       "<div>\n",
       "<style scoped>\n",
       "    .dataframe tbody tr th:only-of-type {\n",
       "        vertical-align: middle;\n",
       "    }\n",
       "\n",
       "    .dataframe tbody tr th {\n",
       "        vertical-align: top;\n",
       "    }\n",
       "\n",
       "    .dataframe thead th {\n",
       "        text-align: right;\n",
       "    }\n",
       "</style>\n",
       "<table border=\"1\" class=\"dataframe\">\n",
       "  <thead>\n",
       "    <tr style=\"text-align: right;\">\n",
       "      <th></th>\n",
       "      <th>STATION</th>\n",
       "      <th>Station name</th>\n",
       "      <th>Station name</th>\n",
       "      <th>STATION_NAME</th>\n",
       "      <th>DATE</th>\n",
       "      <th>PRCP</th>\n",
       "      <th>TAVG</th>\n",
       "      <th>TMAX</th>\n",
       "      <th>TMIN</th>\n",
       "    </tr>\n",
       "  </thead>\n",
       "  <tbody>\n",
       "    <tr>\n",
       "      <th>0</th>\n",
       "      <td>GHCND:PEM00084691</td>\n",
       "      <td>PISCO</td>\n",
       "      <td>INTERNATIONAL</td>\n",
       "      <td>PE</td>\n",
       "      <td>19630301</td>\n",
       "      <td>NaN</td>\n",
       "      <td>23.3</td>\n",
       "      <td>27.2</td>\n",
       "      <td>NaN</td>\n",
       "    </tr>\n",
       "    <tr>\n",
       "      <th>1</th>\n",
       "      <td>GHCND:PEM00084691</td>\n",
       "      <td>PISCO</td>\n",
       "      <td>INTERNATIONAL</td>\n",
       "      <td>PE</td>\n",
       "      <td>19630302</td>\n",
       "      <td>NaN</td>\n",
       "      <td>22.5</td>\n",
       "      <td>27.8</td>\n",
       "      <td>17.2</td>\n",
       "    </tr>\n",
       "    <tr>\n",
       "      <th>2</th>\n",
       "      <td>GHCND:PEM00084691</td>\n",
       "      <td>PISCO</td>\n",
       "      <td>INTERNATIONAL</td>\n",
       "      <td>PE</td>\n",
       "      <td>19630303</td>\n",
       "      <td>NaN</td>\n",
       "      <td>21.3</td>\n",
       "      <td>26.1</td>\n",
       "      <td>16.1</td>\n",
       "    </tr>\n",
       "    <tr>\n",
       "      <th>3</th>\n",
       "      <td>GHCND:PEM00084691</td>\n",
       "      <td>PISCO</td>\n",
       "      <td>INTERNATIONAL</td>\n",
       "      <td>PE</td>\n",
       "      <td>19630304</td>\n",
       "      <td>NaN</td>\n",
       "      <td>21.1</td>\n",
       "      <td>26.1</td>\n",
       "      <td>17.2</td>\n",
       "    </tr>\n",
       "    <tr>\n",
       "      <th>4</th>\n",
       "      <td>GHCND:PEM00084691</td>\n",
       "      <td>PISCO</td>\n",
       "      <td>INTERNATIONAL</td>\n",
       "      <td>PE</td>\n",
       "      <td>19630305</td>\n",
       "      <td>NaN</td>\n",
       "      <td>22.7</td>\n",
       "      <td>27.2</td>\n",
       "      <td>17.2</td>\n",
       "    </tr>\n",
       "    <tr>\n",
       "      <th>...</th>\n",
       "      <td>...</td>\n",
       "      <td>...</td>\n",
       "      <td>...</td>\n",
       "      <td>...</td>\n",
       "      <td>...</td>\n",
       "      <td>...</td>\n",
       "      <td>...</td>\n",
       "      <td>...</td>\n",
       "      <td>...</td>\n",
       "    </tr>\n",
       "    <tr>\n",
       "      <th>16682</th>\n",
       "      <td>GHCND:PEM00084691</td>\n",
       "      <td>PISCO</td>\n",
       "      <td>INTERNATIONAL</td>\n",
       "      <td>PE</td>\n",
       "      <td>20211027</td>\n",
       "      <td>NaN</td>\n",
       "      <td>17.1</td>\n",
       "      <td>NaN</td>\n",
       "      <td>NaN</td>\n",
       "    </tr>\n",
       "    <tr>\n",
       "      <th>16683</th>\n",
       "      <td>GHCND:PEM00084691</td>\n",
       "      <td>PISCO</td>\n",
       "      <td>INTERNATIONAL</td>\n",
       "      <td>PE</td>\n",
       "      <td>20211028</td>\n",
       "      <td>NaN</td>\n",
       "      <td>16.7</td>\n",
       "      <td>NaN</td>\n",
       "      <td>12.9</td>\n",
       "    </tr>\n",
       "    <tr>\n",
       "      <th>16684</th>\n",
       "      <td>GHCND:PEM00084691</td>\n",
       "      <td>PISCO</td>\n",
       "      <td>INTERNATIONAL</td>\n",
       "      <td>PE</td>\n",
       "      <td>20211029</td>\n",
       "      <td>NaN</td>\n",
       "      <td>17.3</td>\n",
       "      <td>NaN</td>\n",
       "      <td>13.8</td>\n",
       "    </tr>\n",
       "    <tr>\n",
       "      <th>16685</th>\n",
       "      <td>GHCND:PEM00084691</td>\n",
       "      <td>PISCO</td>\n",
       "      <td>INTERNATIONAL</td>\n",
       "      <td>PE</td>\n",
       "      <td>20211030</td>\n",
       "      <td>NaN</td>\n",
       "      <td>16.9</td>\n",
       "      <td>NaN</td>\n",
       "      <td>NaN</td>\n",
       "    </tr>\n",
       "    <tr>\n",
       "      <th>16686</th>\n",
       "      <td>GHCND:PEM00084691</td>\n",
       "      <td>PISCO</td>\n",
       "      <td>INTERNATIONAL</td>\n",
       "      <td>PE</td>\n",
       "      <td>20211031</td>\n",
       "      <td>NaN</td>\n",
       "      <td>18.0</td>\n",
       "      <td>NaN</td>\n",
       "      <td>16.9</td>\n",
       "    </tr>\n",
       "  </tbody>\n",
       "</table>\n",
       "<p>16687 rows × 9 columns</p>\n",
       "</div>"
      ],
      "text/plain": [
       "                 STATION Station name   Station name STATION_NAME      DATE  \\\n",
       "0      GHCND:PEM00084691        PISCO  INTERNATIONAL           PE  19630301   \n",
       "1      GHCND:PEM00084691        PISCO  INTERNATIONAL           PE  19630302   \n",
       "2      GHCND:PEM00084691        PISCO  INTERNATIONAL           PE  19630303   \n",
       "3      GHCND:PEM00084691        PISCO  INTERNATIONAL           PE  19630304   \n",
       "4      GHCND:PEM00084691        PISCO  INTERNATIONAL           PE  19630305   \n",
       "...                  ...          ...            ...          ...       ...   \n",
       "16682  GHCND:PEM00084691        PISCO  INTERNATIONAL           PE  20211027   \n",
       "16683  GHCND:PEM00084691        PISCO  INTERNATIONAL           PE  20211028   \n",
       "16684  GHCND:PEM00084691        PISCO  INTERNATIONAL           PE  20211029   \n",
       "16685  GHCND:PEM00084691        PISCO  INTERNATIONAL           PE  20211030   \n",
       "16686  GHCND:PEM00084691        PISCO  INTERNATIONAL           PE  20211031   \n",
       "\n",
       "      PRCP  TAVG  TMAX  TMIN  \n",
       "0      NaN  23.3  27.2   NaN  \n",
       "1      NaN  22.5  27.8  17.2  \n",
       "2      NaN  21.3  26.1  16.1  \n",
       "3      NaN  21.1  26.1  17.2  \n",
       "4      NaN  22.7  27.2  17.2  \n",
       "...    ...   ...   ...   ...  \n",
       "16682  NaN  17.1   NaN   NaN  \n",
       "16683  NaN  16.7   NaN  12.9  \n",
       "16684  NaN  17.3   NaN  13.8  \n",
       "16685  NaN  16.9   NaN   NaN  \n",
       "16686  NaN  18.0   NaN  16.9  \n",
       "\n",
       "[16687 rows x 9 columns]"
      ]
     },
<<<<<<< HEAD
     "execution_count": 26,
=======
     "execution_count": 15,
>>>>>>> 9e444d5 (ragy)
     "metadata": {},
     "output_type": "execute_result"
    }
   ],
   "source": [
    "df"
   ]
  },
  {
   "cell_type": "code",
<<<<<<< HEAD
   "execution_count": 39,
=======
   "execution_count": 16,
>>>>>>> 9e444d5 (ragy)
   "metadata": {},
   "outputs": [
    {
     "data": {
      "text/plain": [
       "Index(['STATION', 'Station name', 'Station name', 'STATION_NAME', 'DATE',\n",
       "       'PRCP', 'TAVG', 'TMAX', 'TMIN'],\n",
       "      dtype='object')"
      ]
     },
     "execution_count": 39,
     "metadata": {},
     "output_type": "execute_result"
    }
   ],
   "source": [
    "df.columns"
   ]
  },
  {
   "cell_type": "code",
<<<<<<< HEAD
   "execution_count": 41,
=======
   "execution_count": 17,
>>>>>>> 9e444d5 (ragy)
   "metadata": {},
   "outputs": [
    {
     "data": {
<<<<<<< HEAD
      "text/html": [
       "<div>\n",
       "<style scoped>\n",
       "    .dataframe tbody tr th:only-of-type {\n",
       "        vertical-align: middle;\n",
       "    }\n",
       "\n",
       "    .dataframe tbody tr th {\n",
       "        vertical-align: top;\n",
       "    }\n",
       "\n",
       "    .dataframe thead th {\n",
       "        text-align: right;\n",
       "    }\n",
       "</style>\n",
       "<table border=\"1\" class=\"dataframe\">\n",
       "  <thead>\n",
       "    <tr style=\"text-align: right;\">\n",
       "      <th></th>\n",
       "      <th>DATE</th>\n",
       "      <th>PRCP</th>\n",
       "      <th>TAVG</th>\n",
       "      <th>TMAX</th>\n",
       "      <th>TMIN</th>\n",
       "    </tr>\n",
       "  </thead>\n",
       "  <tbody>\n",
       "    <tr>\n",
       "      <th>0</th>\n",
       "      <td>19630301</td>\n",
       "      <td>NaN</td>\n",
       "      <td>23.3</td>\n",
       "      <td>27.2</td>\n",
       "      <td>NaN</td>\n",
       "    </tr>\n",
       "    <tr>\n",
       "      <th>1</th>\n",
       "      <td>19630302</td>\n",
       "      <td>NaN</td>\n",
       "      <td>22.5</td>\n",
       "      <td>27.8</td>\n",
       "      <td>17.2</td>\n",
       "    </tr>\n",
       "    <tr>\n",
       "      <th>2</th>\n",
       "      <td>19630303</td>\n",
       "      <td>NaN</td>\n",
       "      <td>21.3</td>\n",
       "      <td>26.1</td>\n",
       "      <td>16.1</td>\n",
       "    </tr>\n",
       "    <tr>\n",
       "      <th>3</th>\n",
       "      <td>19630304</td>\n",
       "      <td>NaN</td>\n",
       "      <td>21.1</td>\n",
       "      <td>26.1</td>\n",
       "      <td>17.2</td>\n",
       "    </tr>\n",
       "    <tr>\n",
       "      <th>4</th>\n",
       "      <td>19630305</td>\n",
       "      <td>NaN</td>\n",
       "      <td>22.7</td>\n",
       "      <td>27.2</td>\n",
       "      <td>17.2</td>\n",
       "    </tr>\n",
       "    <tr>\n",
       "      <th>...</th>\n",
       "      <td>...</td>\n",
       "      <td>...</td>\n",
       "      <td>...</td>\n",
       "      <td>...</td>\n",
       "      <td>...</td>\n",
       "    </tr>\n",
       "    <tr>\n",
       "      <th>16682</th>\n",
       "      <td>20211027</td>\n",
       "      <td>NaN</td>\n",
       "      <td>17.1</td>\n",
       "      <td>NaN</td>\n",
       "      <td>NaN</td>\n",
       "    </tr>\n",
       "    <tr>\n",
       "      <th>16683</th>\n",
       "      <td>20211028</td>\n",
       "      <td>NaN</td>\n",
       "      <td>16.7</td>\n",
       "      <td>NaN</td>\n",
       "      <td>12.9</td>\n",
       "    </tr>\n",
       "    <tr>\n",
       "      <th>16684</th>\n",
       "      <td>20211029</td>\n",
       "      <td>NaN</td>\n",
       "      <td>17.3</td>\n",
       "      <td>NaN</td>\n",
       "      <td>13.8</td>\n",
       "    </tr>\n",
       "    <tr>\n",
       "      <th>16685</th>\n",
       "      <td>20211030</td>\n",
       "      <td>NaN</td>\n",
       "      <td>16.9</td>\n",
       "      <td>NaN</td>\n",
       "      <td>NaN</td>\n",
       "    </tr>\n",
       "    <tr>\n",
       "      <th>16686</th>\n",
       "      <td>20211031</td>\n",
       "      <td>NaN</td>\n",
       "      <td>18.0</td>\n",
       "      <td>NaN</td>\n",
       "      <td>16.9</td>\n",
       "    </tr>\n",
       "  </tbody>\n",
       "</table>\n",
       "<p>16687 rows × 5 columns</p>\n",
       "</div>"
      ],
      "text/plain": [
       "           DATE PRCP  TAVG  TMAX  TMIN\n",
       "0      19630301  NaN  23.3  27.2   NaN\n",
       "1      19630302  NaN  22.5  27.8  17.2\n",
       "2      19630303  NaN  21.3  26.1  16.1\n",
       "3      19630304  NaN  21.1  26.1  17.2\n",
       "4      19630305  NaN  22.7  27.2  17.2\n",
       "...         ...  ...   ...   ...   ...\n",
       "16682  20211027  NaN  17.1   NaN   NaN\n",
       "16683  20211028  NaN  16.7   NaN  12.9\n",
       "16684  20211029  NaN  17.3   NaN  13.8\n",
       "16685  20211030  NaN  16.9   NaN   NaN\n",
       "16686  20211031  NaN  18.0   NaN  16.9\n",
       "\n",
       "[16687 rows x 5 columns]"
      ]
     },
     "execution_count": 41,
     "metadata": {},
     "output_type": "execute_result"
=======
      "text/plain": [
       "<AxesSubplot: >"
      ]
     },
     "execution_count": 17,
     "metadata": {},
     "output_type": "execute_result"
    },
    {
     "data": {
      "image/png": "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",
      "text/plain": [
       "<Figure size 432x288 with 1 Axes>"
      ]
     },
     "metadata": {
      "needs_background": "light"
     },
     "output_type": "display_data"
>>>>>>> 9e444d5 (ragy)
    }
   ],
   "source": [
    "df_copy = df[['DATE', 'PRCP','TAVG','TMAX', 'TMIN']].copy()\n",
    "df_copy"
   ]
  },
  {
   "cell_type": "code",
<<<<<<< HEAD
   "execution_count": 43,
=======
   "execution_count": 18,
>>>>>>> 9e444d5 (ragy)
   "metadata": {},
   "outputs": [
    {
     "data": {
<<<<<<< HEAD
      "text/html": [
       "<div>\n",
       "<style scoped>\n",
       "    .dataframe tbody tr th:only-of-type {\n",
       "        vertical-align: middle;\n",
       "    }\n",
       "\n",
       "    .dataframe tbody tr th {\n",
       "        vertical-align: top;\n",
       "    }\n",
       "\n",
       "    .dataframe thead th {\n",
       "        text-align: right;\n",
       "    }\n",
       "</style>\n",
       "<table border=\"1\" class=\"dataframe\">\n",
       "  <thead>\n",
       "    <tr style=\"text-align: right;\">\n",
       "      <th></th>\n",
       "      <th>DATE</th>\n",
       "      <th>PRCP</th>\n",
       "      <th>TAVG</th>\n",
       "      <th>TMAX</th>\n",
       "      <th>TMIN</th>\n",
       "    </tr>\n",
       "  </thead>\n",
       "  <tbody>\n",
       "    <tr>\n",
       "      <th>0</th>\n",
       "      <td>1963-03-01</td>\n",
       "      <td>NaN</td>\n",
       "      <td>23.3</td>\n",
       "      <td>27.2</td>\n",
       "      <td>NaN</td>\n",
       "    </tr>\n",
       "    <tr>\n",
       "      <th>1</th>\n",
       "      <td>1963-03-02</td>\n",
       "      <td>NaN</td>\n",
       "      <td>22.5</td>\n",
       "      <td>27.8</td>\n",
       "      <td>17.2</td>\n",
       "    </tr>\n",
       "    <tr>\n",
       "      <th>2</th>\n",
       "      <td>1963-03-03</td>\n",
       "      <td>NaN</td>\n",
       "      <td>21.3</td>\n",
       "      <td>26.1</td>\n",
       "      <td>16.1</td>\n",
       "    </tr>\n",
       "    <tr>\n",
       "      <th>3</th>\n",
       "      <td>1963-03-04</td>\n",
       "      <td>NaN</td>\n",
       "      <td>21.1</td>\n",
       "      <td>26.1</td>\n",
       "      <td>17.2</td>\n",
       "    </tr>\n",
       "    <tr>\n",
       "      <th>4</th>\n",
       "      <td>1963-03-05</td>\n",
       "      <td>NaN</td>\n",
       "      <td>22.7</td>\n",
       "      <td>27.2</td>\n",
       "      <td>17.2</td>\n",
       "    </tr>\n",
       "    <tr>\n",
       "      <th>...</th>\n",
       "      <td>...</td>\n",
       "      <td>...</td>\n",
       "      <td>...</td>\n",
       "      <td>...</td>\n",
       "      <td>...</td>\n",
       "    </tr>\n",
       "    <tr>\n",
       "      <th>16682</th>\n",
       "      <td>2021-10-27</td>\n",
       "      <td>NaN</td>\n",
       "      <td>17.1</td>\n",
       "      <td>NaN</td>\n",
       "      <td>NaN</td>\n",
       "    </tr>\n",
       "    <tr>\n",
       "      <th>16683</th>\n",
       "      <td>2021-10-28</td>\n",
       "      <td>NaN</td>\n",
       "      <td>16.7</td>\n",
       "      <td>NaN</td>\n",
       "      <td>12.9</td>\n",
       "    </tr>\n",
       "    <tr>\n",
       "      <th>16684</th>\n",
       "      <td>2021-10-29</td>\n",
       "      <td>NaN</td>\n",
       "      <td>17.3</td>\n",
       "      <td>NaN</td>\n",
       "      <td>13.8</td>\n",
       "    </tr>\n",
       "    <tr>\n",
       "      <th>16685</th>\n",
       "      <td>2021-10-30</td>\n",
       "      <td>NaN</td>\n",
       "      <td>16.9</td>\n",
       "      <td>NaN</td>\n",
       "      <td>NaN</td>\n",
       "    </tr>\n",
       "    <tr>\n",
       "      <th>16686</th>\n",
       "      <td>2021-10-31</td>\n",
       "      <td>NaN</td>\n",
       "      <td>18.0</td>\n",
       "      <td>NaN</td>\n",
       "      <td>16.9</td>\n",
       "    </tr>\n",
       "  </tbody>\n",
       "</table>\n",
       "<p>16687 rows × 5 columns</p>\n",
       "</div>"
      ],
      "text/plain": [
       "            DATE  PRCP  TAVG  TMAX  TMIN\n",
       "0     1963-03-01   NaN  23.3  27.2   NaN\n",
       "1     1963-03-02   NaN  22.5  27.8  17.2\n",
       "2     1963-03-03   NaN  21.3  26.1  16.1\n",
       "3     1963-03-04   NaN  21.1  26.1  17.2\n",
       "4     1963-03-05   NaN  22.7  27.2  17.2\n",
       "...          ...   ...   ...   ...   ...\n",
       "16682 2021-10-27   NaN  17.1   NaN   NaN\n",
       "16683 2021-10-28   NaN  16.7   NaN  12.9\n",
       "16684 2021-10-29   NaN  17.3   NaN  13.8\n",
       "16685 2021-10-30   NaN  16.9   NaN   NaN\n",
       "16686 2021-10-31   NaN  18.0   NaN  16.9\n",
       "\n",
       "[16687 rows x 5 columns]"
      ]
     },
     "execution_count": 43,
=======
      "text/plain": [
       "0       1963-03-01\n",
       "1       1963-03-02\n",
       "2       1963-03-03\n",
       "3       1963-03-04\n",
       "4       1963-03-05\n",
       "           ...    \n",
       "16682   2021-10-27\n",
       "16683   2021-10-28\n",
       "16684   2021-10-29\n",
       "16685   2021-10-30\n",
       "16686   2021-10-31\n",
       "Name: DATE, Length: 16687, dtype: datetime64[ns]"
      ]
     },
     "execution_count": 18,
>>>>>>> 9e444d5 (ragy)
     "metadata": {},
     "output_type": "execute_result"
    }
   ],
   "source": [
    "df_copy[['PRCP','TAVG','TMAX', 'TMIN']]= df_copy[['PRCP','TAVG','TMAX', 'TMIN']].astype('float')\n",
    "df_copy['DATE'] = df_copy['DATE'].apply(pd.to_datetime)\n",
    "df_copy"
   ]
  },
  {
   "cell_type": "code",
<<<<<<< HEAD
   "execution_count": 44,
   "metadata": {},
   "outputs": [
    {
     "name": "stdout",
     "output_type": "stream",
     "text": [
      "<class 'pandas.core.frame.DataFrame'>\n",
      "RangeIndex: 16687 entries, 0 to 16686\n",
      "Data columns (total 5 columns):\n",
      " #   Column  Non-Null Count  Dtype         \n",
      "---  ------  --------------  -----         \n",
      " 0   DATE    16687 non-null  datetime64[ns]\n",
      " 1   PRCP    7835 non-null   float64       \n",
      " 2   TAVG    16687 non-null  float64       \n",
      " 3   TMAX    10538 non-null  float64       \n",
      " 4   TMIN    11674 non-null  float64       \n",
      "dtypes: datetime64[ns](1), float64(4)\n",
      "memory usage: 652.0 KB\n"
     ]
    }
   ],
   "source": [
    "df_copy.info()"
   ]
  },
  {
   "cell_type": "code",
   "execution_count": 45,
   "metadata": {},
   "outputs": [
    {
     "data": {
      "text/plain": [
       "[<matplotlib.lines.Line2D at 0x7f0c87975160>]"
      ]
     },
     "execution_count": 45,
=======
   "execution_count": 19,
   "metadata": {},
   "outputs": [
    {
     "data": {
      "text/plain": [
       "[<matplotlib.lines.Line2D at 0x7f96eaf24f40>]"
      ]
     },
     "execution_count": 19,
>>>>>>> 9e444d5 (ragy)
     "metadata": {},
     "output_type": "execute_result"
    },
    {
     "data": {
<<<<<<< HEAD
      "image/png": "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",
      "text/plain": [
       "<Figure size 640x480 with 1 Axes>"
      ]
     },
     "metadata": {},
=======
      "image/png": "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",
      "text/plain": [
       "<Figure size 432x288 with 1 Axes>"
      ]
     },
     "metadata": {
      "needs_background": "light"
     },
>>>>>>> 9e444d5 (ragy)
     "output_type": "display_data"
    }
   ],
   "source": [
    "from matplotlib import pyplot as plt\n",
    "\n",
    "plt.plot(df_copy['TAVG'])"
   ]
  },
  {
   "cell_type": "code",
   "execution_count": 46,
   "metadata": {},
   "outputs": [],
   "source": [
    "df_copy.index = df_copy['DATE']"
   ]
  },
  {
   "cell_type": "code",
   "execution_count": 47,
   "metadata": {},
   "outputs": [
    {
     "data": {
      "text/plain": [
       "[<matplotlib.lines.Line2D at 0x7f0c8794c700>]"
      ]
     },
     "execution_count": 47,
     "metadata": {},
     "output_type": "execute_result"
    },
    {
     "data": {
      "image/png": "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",
      "text/plain": [
       "<Figure size 640x480 with 1 Axes>"
      ]
     },
     "metadata": {},
     "output_type": "display_data"
    }
   ],
   "source": [
    "plt.plot(df_copy['TAVG'])"
   ]
  },
  {
   "cell_type": "code",
   "execution_count": 48,
   "metadata": {},
   "outputs": [
    {
     "data": {
      "text/plain": [
       "[<matplotlib.lines.Line2D at 0x7f0c87582f40>]"
      ]
     },
     "execution_count": 48,
     "metadata": {},
     "output_type": "execute_result"
    },
    {
     "data": {
      "image/png": "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",
      "text/plain": [
       "<Figure size 640x480 with 1 Axes>"
      ]
     },
     "metadata": {},
     "output_type": "display_data"
    }
   ],
   "source": [
    "plt.plot(df_copy['TAVG'].loc['2015':'2020'])"
   ]
  },
  {
   "cell_type": "markdown",
   "metadata": {},
   "source": [
    "## Algo esta mal?"
   ]
  },
  {
   "cell_type": "code",
   "execution_count": 76,
   "metadata": {},
   "outputs": [
    {
     "data": {
      "text/plain": [
       "0        19630301\n",
       "1        19630302\n",
       "2        19630303\n",
       "3        19630304\n",
       "4        19630305\n",
       "           ...   \n",
       "16682    20211027\n",
       "16683    20211028\n",
       "16684    20211029\n",
       "16685    20211030\n",
       "16686    20211031\n",
       "Name: DATE, Length: 16687, dtype: object"
      ]
     },
     "execution_count": 76,
     "metadata": {},
     "output_type": "execute_result"
    }
   ],
   "source": [
    "df['DATE']"
   ]
  },
  {
   "cell_type": "code",
   "execution_count": 55,
   "metadata": {},
   "outputs": [
    {
     "data": {
      "text/plain": [
       "'19630301'"
      ]
     },
     "execution_count": 55,
     "metadata": {},
     "output_type": "execute_result"
    }
   ],
   "source": [
    "df['DATE'][0]"
   ]
  },
  {
   "cell_type": "code",
   "execution_count": 58,
   "metadata": {},
   "outputs": [
    {
     "name": "stdout",
     "output_type": "stream",
     "text": [
      "1963\n",
      "03\n",
      "01\n"
     ]
    }
   ],
   "source": [
    "print(df['DATE'][0][0:4]) # Año\n",
    "print(df['DATE'][0][4:6]) # Mes\n",
    "print(df['DATE'][0][6:8]) # Dia\n"
   ]
  },
  {
   "cell_type": "code",
   "execution_count": 59,
   "metadata": {},
   "outputs": [],
   "source": [
    "import datetime"
   ]
  },
  {
   "cell_type": "code",
   "execution_count": 60,
   "metadata": {},
   "outputs": [
    {
     "data": {
      "text/plain": [
       "datetime.datetime(1963, 3, 1, 0, 0)"
      ]
     },
     "execution_count": 60,
     "metadata": {},
     "output_type": "execute_result"
    }
   ],
   "source": [
    "datetime.datetime(int(df['DATE'][0][0:4]),\n",
    "                  int(df['DATE'][0][4:6]),\n",
    "                  int(df['DATE'][0][6:8]))"
   ]
  },
  {
   "cell_type": "code",
   "execution_count": 62,
   "metadata": {},
   "outputs": [],
   "source": [
    "dt1_list = []\n",
    "for i in range(len(df['DATE'])):\n",
    "    dt1_list.append(datetime.datetime(int(df['DATE'][i][0:4]),\n",
    "                                    int(df['DATE'][i][4:6]),\n",
    "                                    int(df['DATE'][i][6:8])))"
   ]
  },
  {
   "cell_type": "code",
   "execution_count": 64,
   "metadata": {},
   "outputs": [
    {
     "data": {
      "text/plain": [
       "[datetime.datetime(1963, 3, 1, 0, 0),\n",
       " datetime.datetime(1963, 3, 2, 0, 0),\n",
       " datetime.datetime(1963, 3, 3, 0, 0),\n",
       " datetime.datetime(1963, 3, 4, 0, 0),\n",
       " datetime.datetime(1963, 3, 5, 0, 0)]"
      ]
     },
     "execution_count": 64,
     "metadata": {},
     "output_type": "execute_result"
    }
   ],
   "source": [
    "dt1_list[0:5]"
   ]
  },
  {
   "cell_type": "code",
   "execution_count": 66,
   "metadata": {},
   "outputs": [],
   "source": [
    "df_copy_1 = df[['PRCP','TAVG','TMAX', 'TMIN']].copy()\n",
    "df_copy_1[['PRCP','TAVG','TMAX', 'TMIN']]= df_copy_1[['PRCP','TAVG','TMAX', 'TMIN']].astype('float')"
   ]
  },
  {
   "cell_type": "code",
   "execution_count": 67,
   "metadata": {},
   "outputs": [],
   "source": [
    "df_copy_1.index = dt1_list"
   ]
  },
  {
   "cell_type": "code",
   "execution_count": 68,
   "metadata": {},
   "outputs": [
    {
     "name": "stdout",
     "output_type": "stream",
     "text": [
      "<class 'pandas.core.frame.DataFrame'>\n",
      "DatetimeIndex: 16687 entries, 1963-03-01 to 2021-10-31\n",
      "Data columns (total 4 columns):\n",
      " #   Column  Non-Null Count  Dtype  \n",
      "---  ------  --------------  -----  \n",
      " 0   PRCP    7835 non-null   float64\n",
      " 1   TAVG    16687 non-null  float64\n",
      " 2   TMAX    10538 non-null  float64\n",
      " 3   TMIN    11674 non-null  float64\n",
      "dtypes: float64(4)\n",
      "memory usage: 651.8 KB\n"
     ]
    }
   ],
   "source": [
    "df_copy_1.info()"
   ]
  },
  {
   "cell_type": "markdown",
   "metadata": {},
   "source": []
  },
  {
   "cell_type": "code",
   "execution_count": 75,
   "metadata": {},
   "outputs": [
    {
     "data": {
      "text/plain": [
       "<AxesSubplot:>"
      ]
     },
     "execution_count": 75,
     "metadata": {},
     "output_type": "execute_result"
    },
    {
     "data": {
      "image/png": "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",
      "text/plain": [
       "<Figure size 640x480 with 2 Axes>"
      ]
     },
     "metadata": {},
     "output_type": "display_data"
    }
   ],
   "source": [
    "#plt.plot(df_copy['TAVG'].loc['2015':'2020'])\n",
    "fig, (ax1, ax2) = plt.subplots(2, 1)\n",
    "df_copy['TAVG'].loc['2015':'2020'].plot(ax=ax1)\n",
    "df_copy_1['TAVG'].loc['2015':'2020'].plot(ax=ax2)\n"
   ]
  }
 ],
 "metadata": {
  "kernelspec": {
<<<<<<< HEAD
   "display_name": "Python 3.9.13 ('geocat')",
=======
   "display_name": "Python 3.9.12 ('geocat')",
>>>>>>> 9e444d5 (ragy)
   "language": "python",
   "name": "python3"
  },
  "language_info": {
   "codemirror_mode": {
    "name": "ipython",
    "version": 3
   },
   "file_extension": ".py",
   "mimetype": "text/x-python",
   "name": "python",
   "nbconvert_exporter": "python",
   "pygments_lexer": "ipython3",
<<<<<<< HEAD
   "version": "3.9.13"
=======
   "version": "3.9.12"
>>>>>>> 9e444d5 (ragy)
  },
  "orig_nbformat": 4,
  "vscode": {
   "interpreter": {
<<<<<<< HEAD
    "hash": "630d4a47372b80b6b56c14347f9fc9abd0d74e458183a4b5b415ddc75531cad2"
=======
    "hash": "fcf694b962e2583d33974cfd22fd61f91596a2a2cb35a874a7015b54a03d5ead"
>>>>>>> 9e444d5 (ragy)
   }
  }
 },
 "nbformat": 4,
 "nbformat_minor": 2
}
