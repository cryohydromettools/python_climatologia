{
 "cells": [
  {
   "cell_type": "markdown",
   "metadata": {},
   "source": [
    "# Lectura de datos"
   ]
  },
  {
   "cell_type": "markdown",
   "metadata": {},
   "source": [
    "Abriendo el archivo de la forma mas simple posible"
   ]
  },
  {
   "cell_type": "code",
   "execution_count": 28,
   "metadata": {},
   "outputs": [],
   "source": [
    "f = open('../../data/3116406.txt', 'r')\n"
   ]
  },
  {
   "cell_type": "markdown",
   "metadata": {},
   "source": [
    "Antes de continuar vamos a quitarle el encabezado y guardarlo para despues "
   ]
  },
  {
   "cell_type": "code",
   "execution_count": 29,
   "metadata": {},
   "outputs": [
    {
     "name": "stdout",
     "output_type": "stream",
     "text": [
      "['STATION', 'STATION_NAME', 'DATE', 'PRCP', 'TAVG', 'TMAX', 'TMIN']\n"
     ]
    }
   ],
   "source": [
    "encabezado = next(f).split()\n",
    "next(f)  ## comando next????\n",
    "\n",
    "print(encabezado)"
   ]
  },
  {
   "cell_type": "markdown",
   "metadata": {},
   "source": [
    "Organizando los datos en una lista"
   ]
  },
  {
   "cell_type": "code",
   "execution_count": 30,
   "metadata": {},
   "outputs": [
    {
     "name": "stdout",
     "output_type": "stream",
     "text": [
      "[['GHCND:PEM00084691', 'PISCO', 'INTERNATIONAL', 'PE', '19630301', '-9999', '23.3', '27.2', '-9999'], ['GHCND:PEM00084691', 'PISCO', 'INTERNATIONAL', 'PE', '19630302', '-9999', '22.5', '27.8', '17.2'], ['GHCND:PEM00084691', 'PISCO', 'INTERNATIONAL', 'PE', '19630303', '-9999', '21.3', '26.1', '16.1'], ['GHCND:PEM00084691', 'PISCO', 'INTERNATIONAL', 'PE', '19630304', '-9999', '21.1', '26.1', '17.2'], ['GHCND:PEM00084691', 'PISCO', 'INTERNATIONAL', 'PE', '19630305', '-9999', '22.7', '27.2', '17.2'], ['GHCND:PEM00084691', 'PISCO', 'INTERNATIONAL', 'PE', '19630306', '-9999', '21.7', '27.2', '17.2'], ['GHCND:PEM00084691', 'PISCO', 'INTERNATIONAL', 'PE', '19630307', '-9999', '22.4', '26.1', '17.8'], ['GHCND:PEM00084691', 'PISCO', 'INTERNATIONAL', 'PE', '19630308', '-9999', '21.3', '26.1', '16.1'], ['GHCND:PEM00084691', 'PISCO', 'INTERNATIONAL', 'PE', '19630309', '-9999', '21.5', '27.2', '17.8'], ['GHCND:PEM00084691', 'PISCO', 'INTERNATIONAL', 'PE', '19630310', '-9999', '23.4', '-9999', '17.2']]\n"
     ]
    }
   ],
   "source": [
    "\n",
    "dato = []\n",
    "for line in f:\n",
    "    dato.append(line.split())\n",
    "\n",
    "print(dato[:10])"
   ]
  },
  {
   "cell_type": "markdown",
   "metadata": {},
   "source": [
    "Pasando de una lista a un `DataFrame`"
   ]
  },
  {
   "cell_type": "code",
   "execution_count": 31,
   "metadata": {},
   "outputs": [],
   "source": [
    "import pandas as pd"
   ]
  },
  {
   "cell_type": "code",
   "execution_count": 32,
   "metadata": {},
   "outputs": [
    {
     "ename": "ValueError",
     "evalue": "7 columns passed, passed data had 9 columns",
     "output_type": "error",
     "traceback": [
      "\u001b[0;31m---------------------------------------------------------------------------\u001b[0m",
      "\u001b[0;31mAssertionError\u001b[0m                            Traceback (most recent call last)",
      "File \u001b[0;32m~/miniconda3/envs/geocat/lib/python3.9/site-packages/pandas/core/internals/construction.py:982\u001b[0m, in \u001b[0;36m_finalize_columns_and_data\u001b[0;34m(content, columns, dtype)\u001b[0m\n\u001b[1;32m    981\u001b[0m \u001b[39mtry\u001b[39;00m:\n\u001b[0;32m--> 982\u001b[0m     columns \u001b[39m=\u001b[39m _validate_or_indexify_columns(contents, columns)\n\u001b[1;32m    983\u001b[0m \u001b[39mexcept\u001b[39;00m \u001b[39mAssertionError\u001b[39;00m \u001b[39mas\u001b[39;00m err:\n\u001b[1;32m    984\u001b[0m     \u001b[39m# GH#26429 do not raise user-facing AssertionError\u001b[39;00m\n",
      "File \u001b[0;32m~/miniconda3/envs/geocat/lib/python3.9/site-packages/pandas/core/internals/construction.py:1030\u001b[0m, in \u001b[0;36m_validate_or_indexify_columns\u001b[0;34m(content, columns)\u001b[0m\n\u001b[1;32m   1028\u001b[0m \u001b[39mif\u001b[39;00m \u001b[39mnot\u001b[39;00m is_mi_list \u001b[39mand\u001b[39;00m \u001b[39mlen\u001b[39m(columns) \u001b[39m!=\u001b[39m \u001b[39mlen\u001b[39m(content):  \u001b[39m# pragma: no cover\u001b[39;00m\n\u001b[1;32m   1029\u001b[0m     \u001b[39m# caller's responsibility to check for this...\u001b[39;00m\n\u001b[0;32m-> 1030\u001b[0m     \u001b[39mraise\u001b[39;00m \u001b[39mAssertionError\u001b[39;00m(\n\u001b[1;32m   1031\u001b[0m         \u001b[39mf\u001b[39m\u001b[39m\"\u001b[39m\u001b[39m{\u001b[39;00m\u001b[39mlen\u001b[39m(columns)\u001b[39m}\u001b[39;00m\u001b[39m columns passed, passed data had \u001b[39m\u001b[39m\"\u001b[39m\n\u001b[1;32m   1032\u001b[0m         \u001b[39mf\u001b[39m\u001b[39m\"\u001b[39m\u001b[39m{\u001b[39;00m\u001b[39mlen\u001b[39m(content)\u001b[39m}\u001b[39;00m\u001b[39m columns\u001b[39m\u001b[39m\"\u001b[39m\n\u001b[1;32m   1033\u001b[0m     )\n\u001b[1;32m   1034\u001b[0m \u001b[39melif\u001b[39;00m is_mi_list:\n\u001b[1;32m   1035\u001b[0m \n\u001b[1;32m   1036\u001b[0m     \u001b[39m# check if nested list column, length of each sub-list should be equal\u001b[39;00m\n",
      "\u001b[0;31mAssertionError\u001b[0m: 7 columns passed, passed data had 9 columns",
      "\nThe above exception was the direct cause of the following exception:\n",
      "\u001b[0;31mValueError\u001b[0m                                Traceback (most recent call last)",
      "\u001b[1;32m/home/georgynio/Envs/python_climatologia/book/dia3/03.Lectura_archivos_especiales.ipynb Cell 10\u001b[0m in \u001b[0;36m<cell line: 1>\u001b[0;34m()\u001b[0m\n\u001b[0;32m----> <a href='vscode-notebook-cell:/home/georgynio/Envs/python_climatologia/book/dia3/03.Lectura_archivos_especiales.ipynb#X12sZmlsZQ%3D%3D?line=0'>1</a>\u001b[0m df \u001b[39m=\u001b[39m pd\u001b[39m.\u001b[39;49mDataFrame(dato, columns\u001b[39m=\u001b[39;49mencabezado)\n",
      "File \u001b[0;32m~/miniconda3/envs/geocat/lib/python3.9/site-packages/pandas/core/frame.py:721\u001b[0m, in \u001b[0;36mDataFrame.__init__\u001b[0;34m(self, data, index, columns, dtype, copy)\u001b[0m\n\u001b[1;32m    716\u001b[0m     \u001b[39mif\u001b[39;00m columns \u001b[39mis\u001b[39;00m \u001b[39mnot\u001b[39;00m \u001b[39mNone\u001b[39;00m:\n\u001b[1;32m    717\u001b[0m         \u001b[39m# error: Argument 1 to \"ensure_index\" has incompatible type\u001b[39;00m\n\u001b[1;32m    718\u001b[0m         \u001b[39m# \"Collection[Any]\"; expected \"Union[Union[Union[ExtensionArray,\u001b[39;00m\n\u001b[1;32m    719\u001b[0m         \u001b[39m# ndarray], Index, Series], Sequence[Any]]\"\u001b[39;00m\n\u001b[1;32m    720\u001b[0m         columns \u001b[39m=\u001b[39m ensure_index(columns)  \u001b[39m# type: ignore[arg-type]\u001b[39;00m\n\u001b[0;32m--> 721\u001b[0m     arrays, columns, index \u001b[39m=\u001b[39m nested_data_to_arrays(\n\u001b[1;32m    722\u001b[0m         \u001b[39m# error: Argument 3 to \"nested_data_to_arrays\" has incompatible\u001b[39;49;00m\n\u001b[1;32m    723\u001b[0m         \u001b[39m# type \"Optional[Collection[Any]]\"; expected \"Optional[Index]\"\u001b[39;49;00m\n\u001b[1;32m    724\u001b[0m         data,\n\u001b[1;32m    725\u001b[0m         columns,\n\u001b[1;32m    726\u001b[0m         index,  \u001b[39m# type: ignore[arg-type]\u001b[39;49;00m\n\u001b[1;32m    727\u001b[0m         dtype,\n\u001b[1;32m    728\u001b[0m     )\n\u001b[1;32m    729\u001b[0m     mgr \u001b[39m=\u001b[39m arrays_to_mgr(\n\u001b[1;32m    730\u001b[0m         arrays,\n\u001b[1;32m    731\u001b[0m         columns,\n\u001b[0;32m   (...)\u001b[0m\n\u001b[1;32m    734\u001b[0m         typ\u001b[39m=\u001b[39mmanager,\n\u001b[1;32m    735\u001b[0m     )\n\u001b[1;32m    736\u001b[0m \u001b[39melse\u001b[39;00m:\n",
      "File \u001b[0;32m~/miniconda3/envs/geocat/lib/python3.9/site-packages/pandas/core/internals/construction.py:519\u001b[0m, in \u001b[0;36mnested_data_to_arrays\u001b[0;34m(data, columns, index, dtype)\u001b[0m\n\u001b[1;32m    516\u001b[0m \u001b[39mif\u001b[39;00m is_named_tuple(data[\u001b[39m0\u001b[39m]) \u001b[39mand\u001b[39;00m columns \u001b[39mis\u001b[39;00m \u001b[39mNone\u001b[39;00m:\n\u001b[1;32m    517\u001b[0m     columns \u001b[39m=\u001b[39m ensure_index(data[\u001b[39m0\u001b[39m]\u001b[39m.\u001b[39m_fields)\n\u001b[0;32m--> 519\u001b[0m arrays, columns \u001b[39m=\u001b[39m to_arrays(data, columns, dtype\u001b[39m=\u001b[39;49mdtype)\n\u001b[1;32m    520\u001b[0m columns \u001b[39m=\u001b[39m ensure_index(columns)\n\u001b[1;32m    522\u001b[0m \u001b[39mif\u001b[39;00m index \u001b[39mis\u001b[39;00m \u001b[39mNone\u001b[39;00m:\n",
      "File \u001b[0;32m~/miniconda3/envs/geocat/lib/python3.9/site-packages/pandas/core/internals/construction.py:883\u001b[0m, in \u001b[0;36mto_arrays\u001b[0;34m(data, columns, dtype)\u001b[0m\n\u001b[1;32m    880\u001b[0m     data \u001b[39m=\u001b[39m [\u001b[39mtuple\u001b[39m(x) \u001b[39mfor\u001b[39;00m x \u001b[39min\u001b[39;00m data]\n\u001b[1;32m    881\u001b[0m     arr \u001b[39m=\u001b[39m _list_to_arrays(data)\n\u001b[0;32m--> 883\u001b[0m content, columns \u001b[39m=\u001b[39m _finalize_columns_and_data(arr, columns, dtype)\n\u001b[1;32m    884\u001b[0m \u001b[39mreturn\u001b[39;00m content, columns\n",
      "File \u001b[0;32m~/miniconda3/envs/geocat/lib/python3.9/site-packages/pandas/core/internals/construction.py:985\u001b[0m, in \u001b[0;36m_finalize_columns_and_data\u001b[0;34m(content, columns, dtype)\u001b[0m\n\u001b[1;32m    982\u001b[0m     columns \u001b[39m=\u001b[39m _validate_or_indexify_columns(contents, columns)\n\u001b[1;32m    983\u001b[0m \u001b[39mexcept\u001b[39;00m \u001b[39mAssertionError\u001b[39;00m \u001b[39mas\u001b[39;00m err:\n\u001b[1;32m    984\u001b[0m     \u001b[39m# GH#26429 do not raise user-facing AssertionError\u001b[39;00m\n\u001b[0;32m--> 985\u001b[0m     \u001b[39mraise\u001b[39;00m \u001b[39mValueError\u001b[39;00m(err) \u001b[39mfrom\u001b[39;00m \u001b[39merr\u001b[39;00m\n\u001b[1;32m    987\u001b[0m \u001b[39mif\u001b[39;00m \u001b[39mlen\u001b[39m(contents) \u001b[39mand\u001b[39;00m contents[\u001b[39m0\u001b[39m]\u001b[39m.\u001b[39mdtype \u001b[39m==\u001b[39m np\u001b[39m.\u001b[39mobject_:\n\u001b[1;32m    988\u001b[0m     contents \u001b[39m=\u001b[39m _convert_object_array(contents, dtype\u001b[39m=\u001b[39mdtype)\n",
      "\u001b[0;31mValueError\u001b[0m: 7 columns passed, passed data had 9 columns"
     ]
    }
   ],
   "source": [
    "df = pd.DataFrame(dato, columns=encabezado)\n",
    "\n",
    "#que paso?"
   ]
  },
  {
   "cell_type": "markdown",
   "metadata": {},
   "source": [
    "Nuestro problema es el número de colmnas, entonces tenemos que verificar la cantidad de elementos en cada lista que esta dentro de nuestra variable `dato`."
   ]
  },
  {
   "cell_type": "code",
   "execution_count": 6,
   "metadata": {},
   "outputs": [
    {
     "data": {
      "text/plain": [
       "['GHCND:PEM00084691',\n",
       " 'PISCO',\n",
       " 'INTERNATIONAL',\n",
       " 'PE',\n",
       " '19630301',\n",
       " '-9999',\n",
       " '23.3',\n",
       " '27.2',\n",
       " '-9999']"
      ]
     },
     "execution_count": 6,
     "metadata": {},
     "output_type": "execute_result"
    }
   ],
   "source": [
    "dato[0]"
   ]
  },
  {
   "cell_type": "markdown",
   "metadata": {},
   "source": [
    "Veamos que es lo que tenemos en nuestro encabezado"
   ]
  },
  {
   "cell_type": "code",
   "execution_count": 7,
   "metadata": {},
   "outputs": [
    {
     "data": {
      "text/plain": [
       "['STATION', 'STATION_NAME', 'DATE', 'PRCP', 'TAVG', 'TMAX', 'TMIN']"
      ]
     },
     "execution_count": 7,
     "metadata": {},
     "output_type": "execute_result"
    }
   ],
   "source": [
    "encabezado"
   ]
  },
  {
   "cell_type": "code",
   "execution_count": 8,
   "metadata": {},
   "outputs": [],
   "source": [
    "encabezado.insert(1, 'Station name')\n",
    "encabezado.insert(1, 'Station name')"
   ]
  },
  {
   "cell_type": "code",
   "execution_count": 9,
   "metadata": {},
   "outputs": [
    {
     "name": "stdout",
     "output_type": "stream",
     "text": [
      "['STATION', 'Station name', 'Station name', 'STATION_NAME', 'DATE', 'PRCP', 'TAVG', 'TMAX', 'TMIN']\n"
     ]
    }
   ],
   "source": [
    "# verificando lo que tenemos ahora\n",
    "print(encabezado)"
   ]
  },
  {
   "cell_type": "markdown",
   "metadata": {},
   "source": [
    "Ahora que ya tenemos la cantidad de columnas completas, le decimos cual es la forma correcta de dejarlo como un `DataFrame`"
   ]
  },
  {
   "cell_type": "code",
   "execution_count": 10,
   "metadata": {},
   "outputs": [],
   "source": [
    "df = pd.DataFrame(dato, columns=encabezado)"
   ]
  },
  {
   "cell_type": "markdown",
   "metadata": {},
   "source": [
    "Ahora veamos que pasa con nuestro `DataFrame`"
   ]
  },
  {
   "cell_type": "code",
   "execution_count": 11,
   "metadata": {},
   "outputs": [
    {
     "name": "stdout",
     "output_type": "stream",
     "text": [
      "             STATION Station name   Station name STATION_NAME      DATE  \\\n",
      "0  GHCND:PEM00084691        PISCO  INTERNATIONAL           PE  19630301   \n",
      "1  GHCND:PEM00084691        PISCO  INTERNATIONAL           PE  19630302   \n",
      "2  GHCND:PEM00084691        PISCO  INTERNATIONAL           PE  19630303   \n",
      "3  GHCND:PEM00084691        PISCO  INTERNATIONAL           PE  19630304   \n",
      "4  GHCND:PEM00084691        PISCO  INTERNATIONAL           PE  19630305   \n",
      "\n",
      "    PRCP  TAVG  TMAX   TMIN  \n",
      "0  -9999  23.3  27.2  -9999  \n",
      "1  -9999  22.5  27.8   17.2  \n",
      "2  -9999  21.3  26.1   16.1  \n",
      "3  -9999  21.1  26.1   17.2  \n",
      "4  -9999  22.7  27.2   17.2  \n"
     ]
    }
   ],
   "source": [
    "print(df.head())\n",
    "# hay algun problema?"
   ]
  },
  {
   "cell_type": "code",
   "execution_count": 12,
   "metadata": {},
   "outputs": [
    {
     "data": {
      "text/html": [
       "<div>\n",
       "<style scoped>\n",
       "    .dataframe tbody tr th:only-of-type {\n",
       "        vertical-align: middle;\n",
       "    }\n",
       "\n",
       "    .dataframe tbody tr th {\n",
       "        vertical-align: top;\n",
       "    }\n",
       "\n",
       "    .dataframe thead th {\n",
       "        text-align: right;\n",
       "    }\n",
       "</style>\n",
       "<table border=\"1\" class=\"dataframe\">\n",
       "  <thead>\n",
       "    <tr style=\"text-align: right;\">\n",
       "      <th></th>\n",
       "      <th>STATION</th>\n",
       "      <th>Station name</th>\n",
       "      <th>Station name</th>\n",
       "      <th>STATION_NAME</th>\n",
       "      <th>DATE</th>\n",
       "      <th>PRCP</th>\n",
       "      <th>TAVG</th>\n",
       "      <th>TMAX</th>\n",
       "      <th>TMIN</th>\n",
       "    </tr>\n",
       "  </thead>\n",
       "  <tbody>\n",
       "    <tr>\n",
       "      <th>0</th>\n",
       "      <td>GHCND:PEM00084691</td>\n",
       "      <td>PISCO</td>\n",
       "      <td>INTERNATIONAL</td>\n",
       "      <td>PE</td>\n",
       "      <td>19630301</td>\n",
       "      <td>NaN</td>\n",
       "      <td>23.3</td>\n",
       "      <td>27.2</td>\n",
       "      <td>NaN</td>\n",
       "    </tr>\n",
       "    <tr>\n",
       "      <th>1</th>\n",
       "      <td>GHCND:PEM00084691</td>\n",
       "      <td>PISCO</td>\n",
       "      <td>INTERNATIONAL</td>\n",
       "      <td>PE</td>\n",
       "      <td>19630302</td>\n",
       "      <td>NaN</td>\n",
       "      <td>22.5</td>\n",
       "      <td>27.8</td>\n",
       "      <td>17.2</td>\n",
       "    </tr>\n",
       "    <tr>\n",
       "      <th>2</th>\n",
       "      <td>GHCND:PEM00084691</td>\n",
       "      <td>PISCO</td>\n",
       "      <td>INTERNATIONAL</td>\n",
       "      <td>PE</td>\n",
       "      <td>19630303</td>\n",
       "      <td>NaN</td>\n",
       "      <td>21.3</td>\n",
       "      <td>26.1</td>\n",
       "      <td>16.1</td>\n",
       "    </tr>\n",
       "    <tr>\n",
       "      <th>3</th>\n",
       "      <td>GHCND:PEM00084691</td>\n",
       "      <td>PISCO</td>\n",
       "      <td>INTERNATIONAL</td>\n",
       "      <td>PE</td>\n",
       "      <td>19630304</td>\n",
       "      <td>NaN</td>\n",
       "      <td>21.1</td>\n",
       "      <td>26.1</td>\n",
       "      <td>17.2</td>\n",
       "    </tr>\n",
       "    <tr>\n",
       "      <th>4</th>\n",
       "      <td>GHCND:PEM00084691</td>\n",
       "      <td>PISCO</td>\n",
       "      <td>INTERNATIONAL</td>\n",
       "      <td>PE</td>\n",
       "      <td>19630305</td>\n",
       "      <td>NaN</td>\n",
       "      <td>22.7</td>\n",
       "      <td>27.2</td>\n",
       "      <td>17.2</td>\n",
       "    </tr>\n",
       "    <tr>\n",
       "      <th>...</th>\n",
       "      <td>...</td>\n",
       "      <td>...</td>\n",
       "      <td>...</td>\n",
       "      <td>...</td>\n",
       "      <td>...</td>\n",
       "      <td>...</td>\n",
       "      <td>...</td>\n",
       "      <td>...</td>\n",
       "      <td>...</td>\n",
       "    </tr>\n",
       "    <tr>\n",
       "      <th>16682</th>\n",
       "      <td>GHCND:PEM00084691</td>\n",
       "      <td>PISCO</td>\n",
       "      <td>INTERNATIONAL</td>\n",
       "      <td>PE</td>\n",
       "      <td>20211027</td>\n",
       "      <td>NaN</td>\n",
       "      <td>17.1</td>\n",
       "      <td>NaN</td>\n",
       "      <td>NaN</td>\n",
       "    </tr>\n",
       "    <tr>\n",
       "      <th>16683</th>\n",
       "      <td>GHCND:PEM00084691</td>\n",
       "      <td>PISCO</td>\n",
       "      <td>INTERNATIONAL</td>\n",
       "      <td>PE</td>\n",
       "      <td>20211028</td>\n",
       "      <td>NaN</td>\n",
       "      <td>16.7</td>\n",
       "      <td>NaN</td>\n",
       "      <td>12.9</td>\n",
       "    </tr>\n",
       "    <tr>\n",
       "      <th>16684</th>\n",
       "      <td>GHCND:PEM00084691</td>\n",
       "      <td>PISCO</td>\n",
       "      <td>INTERNATIONAL</td>\n",
       "      <td>PE</td>\n",
       "      <td>20211029</td>\n",
       "      <td>NaN</td>\n",
       "      <td>17.3</td>\n",
       "      <td>NaN</td>\n",
       "      <td>13.8</td>\n",
       "    </tr>\n",
       "    <tr>\n",
       "      <th>16685</th>\n",
       "      <td>GHCND:PEM00084691</td>\n",
       "      <td>PISCO</td>\n",
       "      <td>INTERNATIONAL</td>\n",
       "      <td>PE</td>\n",
       "      <td>20211030</td>\n",
       "      <td>NaN</td>\n",
       "      <td>16.9</td>\n",
       "      <td>NaN</td>\n",
       "      <td>NaN</td>\n",
       "    </tr>\n",
       "    <tr>\n",
       "      <th>16686</th>\n",
       "      <td>GHCND:PEM00084691</td>\n",
       "      <td>PISCO</td>\n",
       "      <td>INTERNATIONAL</td>\n",
       "      <td>PE</td>\n",
       "      <td>20211031</td>\n",
       "      <td>NaN</td>\n",
       "      <td>18.0</td>\n",
       "      <td>NaN</td>\n",
       "      <td>16.9</td>\n",
       "    </tr>\n",
       "  </tbody>\n",
       "</table>\n",
       "<p>16687 rows × 9 columns</p>\n",
       "</div>"
      ],
      "text/plain": [
       "                 STATION Station name   Station name STATION_NAME      DATE  \\\n",
       "0      GHCND:PEM00084691        PISCO  INTERNATIONAL           PE  19630301   \n",
       "1      GHCND:PEM00084691        PISCO  INTERNATIONAL           PE  19630302   \n",
       "2      GHCND:PEM00084691        PISCO  INTERNATIONAL           PE  19630303   \n",
       "3      GHCND:PEM00084691        PISCO  INTERNATIONAL           PE  19630304   \n",
       "4      GHCND:PEM00084691        PISCO  INTERNATIONAL           PE  19630305   \n",
       "...                  ...          ...            ...          ...       ...   \n",
       "16682  GHCND:PEM00084691        PISCO  INTERNATIONAL           PE  20211027   \n",
       "16683  GHCND:PEM00084691        PISCO  INTERNATIONAL           PE  20211028   \n",
       "16684  GHCND:PEM00084691        PISCO  INTERNATIONAL           PE  20211029   \n",
       "16685  GHCND:PEM00084691        PISCO  INTERNATIONAL           PE  20211030   \n",
       "16686  GHCND:PEM00084691        PISCO  INTERNATIONAL           PE  20211031   \n",
       "\n",
       "      PRCP  TAVG  TMAX  TMIN  \n",
       "0      NaN  23.3  27.2   NaN  \n",
       "1      NaN  22.5  27.8  17.2  \n",
       "2      NaN  21.3  26.1  16.1  \n",
       "3      NaN  21.1  26.1  17.2  \n",
       "4      NaN  22.7  27.2  17.2  \n",
       "...    ...   ...   ...   ...  \n",
       "16682  NaN  17.1   NaN   NaN  \n",
       "16683  NaN  16.7   NaN  12.9  \n",
       "16684  NaN  17.3   NaN  13.8  \n",
       "16685  NaN  16.9   NaN   NaN  \n",
       "16686  NaN  18.0   NaN  16.9  \n",
       "\n",
       "[16687 rows x 9 columns]"
      ]
     },
     "execution_count": 12,
     "metadata": {},
     "output_type": "execute_result"
    }
   ],
   "source": [
    "import numpy as np\n",
    "df = df.replace('-9999', np.nan)\n",
    "\n",
    "df"
   ]
  },
  {
   "cell_type": "code",
   "execution_count": 13,
   "metadata": {},
   "outputs": [
    {
     "data": {
      "text/plain": [
       "'27.2'"
      ]
     },
     "execution_count": 13,
     "metadata": {},
     "output_type": "execute_result"
    }
   ],
   "source": [
    "df.TMAX[0]"
   ]
  },
  {
   "cell_type": "code",
   "execution_count": 14,
   "metadata": {},
   "outputs": [
    {
     "data": {
      "text/plain": [
       "<AxesSubplot: >"
      ]
     },
     "execution_count": 14,
     "metadata": {},
     "output_type": "execute_result"
    },
    {
     "data": {
      "image/png": "[encoded data removed]",
      "text/plain": [
       "<Figure size 432x288 with 1 Axes>"
      ]
     },
     "metadata": {
      "needs_background": "light"
     },
     "output_type": "display_data"
    }
   ],
   "source": [
    "df.TMAX.astype('float').plot()"
   ]
  },
  {
   "cell_type": "markdown",
   "metadata": {},
   "source": [
    "Recuerda cerrar el archivo siempre, porque sino permanece en la memoria."
   ]
  },
  {
   "cell_type": "code",
   "execution_count": 15,
   "metadata": {},
   "outputs": [],
   "source": [
    "f.close()"
   ]
  },
  {
   "cell_type": "markdown",
   "metadata": {},
   "source": [
    "Ya que vimos como se hace entonces ahora hagamoslo de forma mas simple"
   ]
  },
  {
   "cell_type": "code",
   "execution_count": 16,
   "metadata": {},
   "outputs": [],
   "source": [
    "f = open('../../data/3116406.txt', 'r')\n",
    "\n",
    "encabezado = next(f).split()\n",
    "next(f)  ## comando next????\n",
    "dato = []\n",
    "for line in f:\n",
    "    d_line = line.split()\n",
    "    if '-9999' in d_line:\n",
    "        d_line = list(map(lambda x: x.replace('-9999', 'NaN'), d_line))\n",
    "    dato.append(d_line)\n",
    "\n",
    "f.close() # no se olviden de cerrar el archivo\n",
    "\n",
    "encabezado.insert(1, 'Station name')\n",
    "encabezado.insert(1, 'Station name')\n",
    "\n",
    "df = pd.DataFrame(dato, columns=encabezado)"
   ]
  },
  {
   "cell_type": "code",
   "execution_count": 17,
   "metadata": {},
   "outputs": [
    {
     "data": {
      "text/html": [
       "<div>\n",
       "<style scoped>\n",
       "    .dataframe tbody tr th:only-of-type {\n",
       "        vertical-align: middle;\n",
       "    }\n",
       "\n",
       "    .dataframe tbody tr th {\n",
       "        vertical-align: top;\n",
       "    }\n",
       "\n",
       "    .dataframe thead th {\n",
       "        text-align: right;\n",
       "    }\n",
       "</style>\n",
       "<table border=\"1\" class=\"dataframe\">\n",
       "  <thead>\n",
       "    <tr style=\"text-align: right;\">\n",
       "      <th></th>\n",
       "      <th>STATION</th>\n",
       "      <th>Station name</th>\n",
       "      <th>Station name</th>\n",
       "      <th>STATION_NAME</th>\n",
       "      <th>DATE</th>\n",
       "      <th>PRCP</th>\n",
       "      <th>TAVG</th>\n",
       "      <th>TMAX</th>\n",
       "      <th>TMIN</th>\n",
       "    </tr>\n",
       "  </thead>\n",
       "  <tbody>\n",
       "    <tr>\n",
       "      <th>0</th>\n",
       "      <td>GHCND:PEM00084691</td>\n",
       "      <td>PISCO</td>\n",
       "      <td>INTERNATIONAL</td>\n",
       "      <td>PE</td>\n",
       "      <td>19630301</td>\n",
       "      <td>NaN</td>\n",
       "      <td>23.3</td>\n",
       "      <td>27.2</td>\n",
       "      <td>NaN</td>\n",
       "    </tr>\n",
       "    <tr>\n",
       "      <th>1</th>\n",
       "      <td>GHCND:PEM00084691</td>\n",
       "      <td>PISCO</td>\n",
       "      <td>INTERNATIONAL</td>\n",
       "      <td>PE</td>\n",
       "      <td>19630302</td>\n",
       "      <td>NaN</td>\n",
       "      <td>22.5</td>\n",
       "      <td>27.8</td>\n",
       "      <td>17.2</td>\n",
       "    </tr>\n",
       "    <tr>\n",
       "      <th>2</th>\n",
       "      <td>GHCND:PEM00084691</td>\n",
       "      <td>PISCO</td>\n",
       "      <td>INTERNATIONAL</td>\n",
       "      <td>PE</td>\n",
       "      <td>19630303</td>\n",
       "      <td>NaN</td>\n",
       "      <td>21.3</td>\n",
       "      <td>26.1</td>\n",
       "      <td>16.1</td>\n",
       "    </tr>\n",
       "    <tr>\n",
       "      <th>3</th>\n",
       "      <td>GHCND:PEM00084691</td>\n",
       "      <td>PISCO</td>\n",
       "      <td>INTERNATIONAL</td>\n",
       "      <td>PE</td>\n",
       "      <td>19630304</td>\n",
       "      <td>NaN</td>\n",
       "      <td>21.1</td>\n",
       "      <td>26.1</td>\n",
       "      <td>17.2</td>\n",
       "    </tr>\n",
       "    <tr>\n",
       "      <th>4</th>\n",
       "      <td>GHCND:PEM00084691</td>\n",
       "      <td>PISCO</td>\n",
       "      <td>INTERNATIONAL</td>\n",
       "      <td>PE</td>\n",
       "      <td>19630305</td>\n",
       "      <td>NaN</td>\n",
       "      <td>22.7</td>\n",
       "      <td>27.2</td>\n",
       "      <td>17.2</td>\n",
       "    </tr>\n",
       "    <tr>\n",
       "      <th>...</th>\n",
       "      <td>...</td>\n",
       "      <td>...</td>\n",
       "      <td>...</td>\n",
       "      <td>...</td>\n",
       "      <td>...</td>\n",
       "      <td>...</td>\n",
       "      <td>...</td>\n",
       "      <td>...</td>\n",
       "      <td>...</td>\n",
       "    </tr>\n",
       "    <tr>\n",
       "      <th>16682</th>\n",
       "      <td>GHCND:PEM00084691</td>\n",
       "      <td>PISCO</td>\n",
       "      <td>INTERNATIONAL</td>\n",
       "      <td>PE</td>\n",
       "      <td>20211027</td>\n",
       "      <td>NaN</td>\n",
       "      <td>17.1</td>\n",
       "      <td>NaN</td>\n",
       "      <td>NaN</td>\n",
       "    </tr>\n",
       "    <tr>\n",
       "      <th>16683</th>\n",
       "      <td>GHCND:PEM00084691</td>\n",
       "      <td>PISCO</td>\n",
       "      <td>INTERNATIONAL</td>\n",
       "      <td>PE</td>\n",
       "      <td>20211028</td>\n",
       "      <td>NaN</td>\n",
       "      <td>16.7</td>\n",
       "      <td>NaN</td>\n",
       "      <td>12.9</td>\n",
       "    </tr>\n",
       "    <tr>\n",
       "      <th>16684</th>\n",
       "      <td>GHCND:PEM00084691</td>\n",
       "      <td>PISCO</td>\n",
       "      <td>INTERNATIONAL</td>\n",
       "      <td>PE</td>\n",
       "      <td>20211029</td>\n",
       "      <td>NaN</td>\n",
       "      <td>17.3</td>\n",
       "      <td>NaN</td>\n",
       "      <td>13.8</td>\n",
       "    </tr>\n",
       "    <tr>\n",
       "      <th>16685</th>\n",
       "      <td>GHCND:PEM00084691</td>\n",
       "      <td>PISCO</td>\n",
       "      <td>INTERNATIONAL</td>\n",
       "      <td>PE</td>\n",
       "      <td>20211030</td>\n",
       "      <td>NaN</td>\n",
       "      <td>16.9</td>\n",
       "      <td>NaN</td>\n",
       "      <td>NaN</td>\n",
       "    </tr>\n",
       "    <tr>\n",
       "      <th>16686</th>\n",
       "      <td>GHCND:PEM00084691</td>\n",
       "      <td>PISCO</td>\n",
       "      <td>INTERNATIONAL</td>\n",
       "      <td>PE</td>\n",
       "      <td>20211031</td>\n",
       "      <td>NaN</td>\n",
       "      <td>18.0</td>\n",
       "      <td>NaN</td>\n",
       "      <td>16.9</td>\n",
       "    </tr>\n",
       "  </tbody>\n",
       "</table>\n",
       "<p>16687 rows × 9 columns</p>\n",
       "</div>"
      ],
      "text/plain": [
       "                 STATION Station name   Station name STATION_NAME      DATE  \\\n",
       "0      GHCND:PEM00084691        PISCO  INTERNATIONAL           PE  19630301   \n",
       "1      GHCND:PEM00084691        PISCO  INTERNATIONAL           PE  19630302   \n",
       "2      GHCND:PEM00084691        PISCO  INTERNATIONAL           PE  19630303   \n",
       "3      GHCND:PEM00084691        PISCO  INTERNATIONAL           PE  19630304   \n",
       "4      GHCND:PEM00084691        PISCO  INTERNATIONAL           PE  19630305   \n",
       "...                  ...          ...            ...          ...       ...   \n",
       "16682  GHCND:PEM00084691        PISCO  INTERNATIONAL           PE  20211027   \n",
       "16683  GHCND:PEM00084691        PISCO  INTERNATIONAL           PE  20211028   \n",
       "16684  GHCND:PEM00084691        PISCO  INTERNATIONAL           PE  20211029   \n",
       "16685  GHCND:PEM00084691        PISCO  INTERNATIONAL           PE  20211030   \n",
       "16686  GHCND:PEM00084691        PISCO  INTERNATIONAL           PE  20211031   \n",
       "\n",
       "      PRCP  TAVG  TMAX  TMIN  \n",
       "0      NaN  23.3  27.2   NaN  \n",
       "1      NaN  22.5  27.8  17.2  \n",
       "2      NaN  21.3  26.1  16.1  \n",
       "3      NaN  21.1  26.1  17.2  \n",
       "4      NaN  22.7  27.2  17.2  \n",
       "...    ...   ...   ...   ...  \n",
       "16682  NaN  17.1   NaN   NaN  \n",
       "16683  NaN  16.7   NaN  12.9  \n",
       "16684  NaN  17.3   NaN  13.8  \n",
       "16685  NaN  16.9   NaN   NaN  \n",
       "16686  NaN  18.0   NaN  16.9  \n",
       "\n",
       "[16687 rows x 9 columns]"
      ]
     },
     "execution_count": 17,
     "metadata": {},
     "output_type": "execute_result"
    }
   ],
   "source": [
    "df"
   ]
  },
  {
   "cell_type": "code",
   "execution_count": 18,
   "metadata": {},
   "outputs": [],
   "source": [
    "df.index = df.DATE.apply(pd.to_datetime)\n",
    "tmax = df.TMAX.astype('float')"
   ]
  },
  {
   "cell_type": "code",
   "execution_count": 19,
   "metadata": {},
   "outputs": [
    {
     "data": {
      "text/html": [
       "<div>\n",
       "<style scoped>\n",
       "    .dataframe tbody tr th:only-of-type {\n",
       "        vertical-align: middle;\n",
       "    }\n",
       "\n",
       "    .dataframe tbody tr th {\n",
       "        vertical-align: top;\n",
       "    }\n",
       "\n",
       "    .dataframe thead th {\n",
       "        text-align: right;\n",
       "    }\n",
       "</style>\n",
       "<table border=\"1\" class=\"dataframe\">\n",
       "  <thead>\n",
       "    <tr style=\"text-align: right;\">\n",
       "      <th></th>\n",
       "      <th>STATION</th>\n",
       "      <th>Station name</th>\n",
       "      <th>Station name</th>\n",
       "      <th>STATION_NAME</th>\n",
       "      <th>DATE</th>\n",
       "      <th>PRCP</th>\n",
       "      <th>TAVG</th>\n",
       "      <th>TMAX</th>\n",
       "      <th>TMIN</th>\n",
       "    </tr>\n",
       "    <tr>\n",
       "      <th>DATE</th>\n",
       "      <th></th>\n",
       "      <th></th>\n",
       "      <th></th>\n",
       "      <th></th>\n",
       "      <th></th>\n",
       "      <th></th>\n",
       "      <th></th>\n",
       "      <th></th>\n",
       "      <th></th>\n",
       "    </tr>\n",
       "  </thead>\n",
       "  <tbody>\n",
       "    <tr>\n",
       "      <th>1963-03-01</th>\n",
       "      <td>GHCND:PEM00084691</td>\n",
       "      <td>PISCO</td>\n",
       "      <td>INTERNATIONAL</td>\n",
       "      <td>PE</td>\n",
       "      <td>19630301</td>\n",
       "      <td>NaN</td>\n",
       "      <td>23.3</td>\n",
       "      <td>27.2</td>\n",
       "      <td>NaN</td>\n",
       "    </tr>\n",
       "    <tr>\n",
       "      <th>1963-03-02</th>\n",
       "      <td>GHCND:PEM00084691</td>\n",
       "      <td>PISCO</td>\n",
       "      <td>INTERNATIONAL</td>\n",
       "      <td>PE</td>\n",
       "      <td>19630302</td>\n",
       "      <td>NaN</td>\n",
       "      <td>22.5</td>\n",
       "      <td>27.8</td>\n",
       "      <td>17.2</td>\n",
       "    </tr>\n",
       "    <tr>\n",
       "      <th>1963-03-03</th>\n",
       "      <td>GHCND:PEM00084691</td>\n",
       "      <td>PISCO</td>\n",
       "      <td>INTERNATIONAL</td>\n",
       "      <td>PE</td>\n",
       "      <td>19630303</td>\n",
       "      <td>NaN</td>\n",
       "      <td>21.3</td>\n",
       "      <td>26.1</td>\n",
       "      <td>16.1</td>\n",
       "    </tr>\n",
       "    <tr>\n",
       "      <th>1963-03-04</th>\n",
       "      <td>GHCND:PEM00084691</td>\n",
       "      <td>PISCO</td>\n",
       "      <td>INTERNATIONAL</td>\n",
       "      <td>PE</td>\n",
       "      <td>19630304</td>\n",
       "      <td>NaN</td>\n",
       "      <td>21.1</td>\n",
       "      <td>26.1</td>\n",
       "      <td>17.2</td>\n",
       "    </tr>\n",
       "    <tr>\n",
       "      <th>1963-03-05</th>\n",
       "      <td>GHCND:PEM00084691</td>\n",
       "      <td>PISCO</td>\n",
       "      <td>INTERNATIONAL</td>\n",
       "      <td>PE</td>\n",
       "      <td>19630305</td>\n",
       "      <td>NaN</td>\n",
       "      <td>22.7</td>\n",
       "      <td>27.2</td>\n",
       "      <td>17.2</td>\n",
       "    </tr>\n",
       "  </tbody>\n",
       "</table>\n",
       "</div>"
      ],
      "text/plain": [
       "                      STATION Station name   Station name STATION_NAME  \\\n",
       "DATE                                                                     \n",
       "1963-03-01  GHCND:PEM00084691        PISCO  INTERNATIONAL           PE   \n",
       "1963-03-02  GHCND:PEM00084691        PISCO  INTERNATIONAL           PE   \n",
       "1963-03-03  GHCND:PEM00084691        PISCO  INTERNATIONAL           PE   \n",
       "1963-03-04  GHCND:PEM00084691        PISCO  INTERNATIONAL           PE   \n",
       "1963-03-05  GHCND:PEM00084691        PISCO  INTERNATIONAL           PE   \n",
       "\n",
       "                DATE PRCP  TAVG  TMAX  TMIN  \n",
       "DATE                                         \n",
       "1963-03-01  19630301  NaN  23.3  27.2   NaN  \n",
       "1963-03-02  19630302  NaN  22.5  27.8  17.2  \n",
       "1963-03-03  19630303  NaN  21.3  26.1  16.1  \n",
       "1963-03-04  19630304  NaN  21.1  26.1  17.2  \n",
       "1963-03-05  19630305  NaN  22.7  27.2  17.2  "
      ]
     },
     "execution_count": 19,
     "metadata": {},
     "output_type": "execute_result"
    }
   ],
   "source": [
    "df.head()"
   ]
  },
  {
   "cell_type": "code",
   "execution_count": 20,
   "metadata": {},
   "outputs": [
    {
     "name": "stdout",
     "output_type": "stream",
     "text": [
      "<class 'pandas.core.frame.DataFrame'>\n",
      "DatetimeIndex: 16687 entries, 1963-03-01 to 2021-10-31\n",
      "Data columns (total 9 columns):\n",
      " #   Column        Non-Null Count  Dtype \n",
      "---  ------        --------------  ----- \n",
      " 0   STATION       16687 non-null  object\n",
      " 1   Station name  16687 non-null  object\n",
      " 2   Station name  16687 non-null  object\n",
      " 3   STATION_NAME  16687 non-null  object\n",
      " 4   DATE          16687 non-null  object\n",
      " 5   PRCP          16687 non-null  object\n",
      " 6   TAVG          16687 non-null  object\n",
      " 7   TMAX          16687 non-null  object\n",
      " 8   TMIN          16687 non-null  object\n",
      "dtypes: object(9)\n",
      "memory usage: 1.3+ MB\n"
     ]
    }
   ],
   "source": [
    "df.info()\n"
   ]
  },
  {
   "cell_type": "code",
   "execution_count": 21,
   "metadata": {},
   "outputs": [
    {
     "data": {
      "text/plain": [
       "<AxesSubplot: xlabel='DATE'>"
      ]
     },
     "execution_count": 21,
     "metadata": {},
     "output_type": "execute_result"
    },
    {
     "data": {
      "image/png": "[encoded data removed]",
      "text/plain": [
       "<Figure size 432x288 with 1 Axes>"
      ]
     },
     "metadata": {
      "needs_background": "light"
     },
     "output_type": "display_data"
    }
   ],
   "source": [
    "tmax.plot()"
   ]
  },
  {
   "cell_type": "code",
   "execution_count": 22,
   "metadata": {},
   "outputs": [
    {
     "data": {
      "text/plain": [
       "[<matplotlib.lines.Line2D at 0x7f47d4b3adf0>]"
      ]
     },
     "execution_count": 22,
     "metadata": {},
     "output_type": "execute_result"
    },
    {
     "data": {
      "image/png": "[encoded data removed]",
      "text/plain": [
       "<Figure size 432x288 with 1 Axes>"
      ]
     },
     "metadata": {
      "needs_background": "light"
     },
     "output_type": "display_data"
    }
   ],
   "source": [
    "from matplotlib import pyplot as plt\n",
    "\n",
    "plt.plot(tmax)"
   ]
  },
  {
   "cell_type": "markdown",
   "metadata": {},
   "source": [
    "## Pandas llegando a la ayuda!"
   ]
  },
  {
   "cell_type": "code",
   "execution_count": 23,
   "metadata": {},
   "outputs": [
    {
     "data": {
      "text/html": [
       "<div>\n",
       "<style scoped>\n",
       "    .dataframe tbody tr th:only-of-type {\n",
       "        vertical-align: middle;\n",
       "    }\n",
       "\n",
       "    .dataframe tbody tr th {\n",
       "        vertical-align: top;\n",
       "    }\n",
       "\n",
       "    .dataframe thead th {\n",
       "        text-align: right;\n",
       "    }\n",
       "</style>\n",
       "<table border=\"1\" class=\"dataframe\">\n",
       "  <thead>\n",
       "    <tr style=\"text-align: right;\">\n",
       "      <th></th>\n",
       "      <th>0</th>\n",
       "      <th>1</th>\n",
       "      <th>2</th>\n",
       "      <th>3</th>\n",
       "      <th>4</th>\n",
       "      <th>5</th>\n",
       "      <th>6</th>\n",
       "      <th>7</th>\n",
       "      <th>8</th>\n",
       "    </tr>\n",
       "  </thead>\n",
       "  <tbody>\n",
       "    <tr>\n",
       "      <th>0</th>\n",
       "      <td>GHCND:PEM00084691</td>\n",
       "      <td>PISCO</td>\n",
       "      <td>INTERNATIONAL</td>\n",
       "      <td>PE</td>\n",
       "      <td>19630301</td>\n",
       "      <td>NaN</td>\n",
       "      <td>23.3</td>\n",
       "      <td>27.2</td>\n",
       "      <td>NaN</td>\n",
       "    </tr>\n",
       "    <tr>\n",
       "      <th>1</th>\n",
       "      <td>GHCND:PEM00084691</td>\n",
       "      <td>PISCO</td>\n",
       "      <td>INTERNATIONAL</td>\n",
       "      <td>PE</td>\n",
       "      <td>19630302</td>\n",
       "      <td>NaN</td>\n",
       "      <td>22.5</td>\n",
       "      <td>27.8</td>\n",
       "      <td>17.2</td>\n",
       "    </tr>\n",
       "    <tr>\n",
       "      <th>2</th>\n",
       "      <td>GHCND:PEM00084691</td>\n",
       "      <td>PISCO</td>\n",
       "      <td>INTERNATIONAL</td>\n",
       "      <td>PE</td>\n",
       "      <td>19630303</td>\n",
       "      <td>NaN</td>\n",
       "      <td>21.3</td>\n",
       "      <td>26.1</td>\n",
       "      <td>16.1</td>\n",
       "    </tr>\n",
       "    <tr>\n",
       "      <th>3</th>\n",
       "      <td>GHCND:PEM00084691</td>\n",
       "      <td>PISCO</td>\n",
       "      <td>INTERNATIONAL</td>\n",
       "      <td>PE</td>\n",
       "      <td>19630304</td>\n",
       "      <td>NaN</td>\n",
       "      <td>21.1</td>\n",
       "      <td>26.1</td>\n",
       "      <td>17.2</td>\n",
       "    </tr>\n",
       "    <tr>\n",
       "      <th>4</th>\n",
       "      <td>GHCND:PEM00084691</td>\n",
       "      <td>PISCO</td>\n",
       "      <td>INTERNATIONAL</td>\n",
       "      <td>PE</td>\n",
       "      <td>19630305</td>\n",
       "      <td>NaN</td>\n",
       "      <td>22.7</td>\n",
       "      <td>27.2</td>\n",
       "      <td>17.2</td>\n",
       "    </tr>\n",
       "  </tbody>\n",
       "</table>\n",
       "</div>"
      ],
      "text/plain": [
       "                   0      1              2   3         4   5     6     7     8\n",
       "0  GHCND:PEM00084691  PISCO  INTERNATIONAL  PE  19630301 NaN  23.3  27.2   NaN\n",
       "1  GHCND:PEM00084691  PISCO  INTERNATIONAL  PE  19630302 NaN  22.5  27.8  17.2\n",
       "2  GHCND:PEM00084691  PISCO  INTERNATIONAL  PE  19630303 NaN  21.3  26.1  16.1\n",
       "3  GHCND:PEM00084691  PISCO  INTERNATIONAL  PE  19630304 NaN  21.1  26.1  17.2\n",
       "4  GHCND:PEM00084691  PISCO  INTERNATIONAL  PE  19630305 NaN  22.7  27.2  17.2"
      ]
     },
     "execution_count": 23,
     "metadata": {},
     "output_type": "execute_result"
    }
   ],
   "source": [
    "df  = pd.read_fwf('../../data/3116406.txt', skiprows=2, \n",
    "                  header=None, na_values='-9999')\n",
    "df.head()"
   ]
  },
  {
   "cell_type": "markdown",
   "metadata": {},
   "source": [
    "Debido a que le pedimos al `pandas` a abrir olvidando el encabezado tenemos que reasignar los nombres de columnas."
   ]
  },
  {
   "cell_type": "code",
   "execution_count": 24,
   "metadata": {},
   "outputs": [
    {
     "data": {
      "text/html": [
       "<div>\n",
       "<style scoped>\n",
       "    .dataframe tbody tr th:only-of-type {\n",
       "        vertical-align: middle;\n",
       "    }\n",
       "\n",
       "    .dataframe tbody tr th {\n",
       "        vertical-align: top;\n",
       "    }\n",
       "\n",
       "    .dataframe thead th {\n",
       "        text-align: right;\n",
       "    }\n",
       "</style>\n",
       "<table border=\"1\" class=\"dataframe\">\n",
       "  <thead>\n",
       "    <tr style=\"text-align: right;\">\n",
       "      <th></th>\n",
       "      <th>STATION</th>\n",
       "      <th>CITY</th>\n",
       "      <th>INTER</th>\n",
       "      <th>COUNTRY</th>\n",
       "      <th>DATE</th>\n",
       "      <th>PRCP</th>\n",
       "      <th>TAVG</th>\n",
       "      <th>TMAX</th>\n",
       "      <th>TMIN</th>\n",
       "    </tr>\n",
       "    <tr>\n",
       "      <th>DATE</th>\n",
       "      <th></th>\n",
       "      <th></th>\n",
       "      <th></th>\n",
       "      <th></th>\n",
       "      <th></th>\n",
       "      <th></th>\n",
       "      <th></th>\n",
       "      <th></th>\n",
       "      <th></th>\n",
       "    </tr>\n",
       "  </thead>\n",
       "  <tbody>\n",
       "    <tr>\n",
       "      <th>1963-03-01</th>\n",
       "      <td>GHCND:PEM00084691</td>\n",
       "      <td>PISCO</td>\n",
       "      <td>INTERNATIONAL</td>\n",
       "      <td>PE</td>\n",
       "      <td>19630301</td>\n",
       "      <td>NaN</td>\n",
       "      <td>23.3</td>\n",
       "      <td>27.2</td>\n",
       "      <td>NaN</td>\n",
       "    </tr>\n",
       "    <tr>\n",
       "      <th>1963-03-02</th>\n",
       "      <td>GHCND:PEM00084691</td>\n",
       "      <td>PISCO</td>\n",
       "      <td>INTERNATIONAL</td>\n",
       "      <td>PE</td>\n",
       "      <td>19630302</td>\n",
       "      <td>NaN</td>\n",
       "      <td>22.5</td>\n",
       "      <td>27.8</td>\n",
       "      <td>17.2</td>\n",
       "    </tr>\n",
       "    <tr>\n",
       "      <th>1963-03-03</th>\n",
       "      <td>GHCND:PEM00084691</td>\n",
       "      <td>PISCO</td>\n",
       "      <td>INTERNATIONAL</td>\n",
       "      <td>PE</td>\n",
       "      <td>19630303</td>\n",
       "      <td>NaN</td>\n",
       "      <td>21.3</td>\n",
       "      <td>26.1</td>\n",
       "      <td>16.1</td>\n",
       "    </tr>\n",
       "    <tr>\n",
       "      <th>1963-03-04</th>\n",
       "      <td>GHCND:PEM00084691</td>\n",
       "      <td>PISCO</td>\n",
       "      <td>INTERNATIONAL</td>\n",
       "      <td>PE</td>\n",
       "      <td>19630304</td>\n",
       "      <td>NaN</td>\n",
       "      <td>21.1</td>\n",
       "      <td>26.1</td>\n",
       "      <td>17.2</td>\n",
       "    </tr>\n",
       "    <tr>\n",
       "      <th>1963-03-05</th>\n",
       "      <td>GHCND:PEM00084691</td>\n",
       "      <td>PISCO</td>\n",
       "      <td>INTERNATIONAL</td>\n",
       "      <td>PE</td>\n",
       "      <td>19630305</td>\n",
       "      <td>NaN</td>\n",
       "      <td>22.7</td>\n",
       "      <td>27.2</td>\n",
       "      <td>17.2</td>\n",
       "    </tr>\n",
       "  </tbody>\n",
       "</table>\n",
       "</div>"
      ],
      "text/plain": [
       "                      STATION   CITY          INTER COUNTRY      DATE  PRCP  \\\n",
       "DATE                                                                          \n",
       "1963-03-01  GHCND:PEM00084691  PISCO  INTERNATIONAL      PE  19630301   NaN   \n",
       "1963-03-02  GHCND:PEM00084691  PISCO  INTERNATIONAL      PE  19630302   NaN   \n",
       "1963-03-03  GHCND:PEM00084691  PISCO  INTERNATIONAL      PE  19630303   NaN   \n",
       "1963-03-04  GHCND:PEM00084691  PISCO  INTERNATIONAL      PE  19630304   NaN   \n",
       "1963-03-05  GHCND:PEM00084691  PISCO  INTERNATIONAL      PE  19630305   NaN   \n",
       "\n",
       "            TAVG  TMAX  TMIN  \n",
       "DATE                          \n",
       "1963-03-01  23.3  27.2   NaN  \n",
       "1963-03-02  22.5  27.8  17.2  \n",
       "1963-03-03  21.3  26.1  16.1  \n",
       "1963-03-04  21.1  26.1  17.2  \n",
       "1963-03-05  22.7  27.2  17.2  "
      ]
     },
     "execution_count": 24,
     "metadata": {},
     "output_type": "execute_result"
    }
   ],
   "source": [
    "df.columns =['STATION', 'CITY', 'INTER', 'COUNTRY', 'DATE', 'PRCP',\n",
    "             'TAVG', 'TMAX', 'TMIN']\n",
    "df.index = pd.to_datetime(df['DATE'], format=\"%Y%m%d\")\n",
    "df.head()"
   ]
  },
  {
   "cell_type": "code",
   "execution_count": 25,
   "metadata": {},
   "outputs": [
    {
     "data": {
      "text/plain": [
       "17.2"
      ]
     },
     "execution_count": 25,
     "metadata": {},
     "output_type": "execute_result"
    }
   ],
   "source": [
    "df.TMIN[1]"
   ]
  },
  {
   "cell_type": "code",
   "execution_count": 26,
   "metadata": {},
   "outputs": [
    {
     "data": {
      "text/plain": [
       "<AxesSubplot: xlabel='DATE'>"
      ]
     },
     "execution_count": 26,
     "metadata": {},
     "output_type": "execute_result"
    },
    {
     "data": {
      "image/png": "[encoded data removed]",
      "text/plain": [
       "<Figure size 432x288 with 1 Axes>"
      ]
     },
     "metadata": {
      "needs_background": "light"
     },
     "output_type": "display_data"
    }
   ],
   "source": [
    "df.TMIN.plot()"
   ]
  },
  {
   "cell_type": "code",
   "execution_count": null,
   "metadata": {},
   "outputs": [],
   "source": []
  },
  {
   "cell_type": "markdown",
   "metadata": {},
   "source": [
    "## Retornar al [indice](./../indice.md)"
   ]
  }
 ],
 "metadata": {
  "kernelspec": {
   "display_name": "Python 3.9.12 ('geocat')",
   "language": "python",
   "name": "python3"
  },
  "language_info": {
   "codemirror_mode": {
    "name": "ipython",
    "version": 3
   },
   "file_extension": ".py",
   "mimetype": "text/x-python",
   "name": "python",
   "nbconvert_exporter": "python",
   "pygments_lexer": "ipython3",
   "version": "3.9.12"
  },
  "orig_nbformat": 4,
  "vscode": {
   "interpreter": {
    "hash": "fcf694b962e2583d33974cfd22fd61f91596a2a2cb35a874a7015b54a03d5ead"
   }
  }
 },
 "nbformat": 4,
 "nbformat_minor": 2
}
