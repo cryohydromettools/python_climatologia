{
 "cells": [
  {
   "cell_type": "markdown",
   "metadata": {},
   "source": [
    "# Lectura de datos"
   ]
  },
  {
   "cell_type": "markdown",
   "metadata": {},
   "source": [
    "Abriendo el archivo de la forma mas simple posible"
   ]
  },
  {
   "cell_type": "code",
   "execution_count": 1,
   "metadata": {},
   "outputs": [
    {
     "data": {
      "text/html": [
       "<div>\n",
       "<style scoped>\n",
       "    .dataframe tbody tr th:only-of-type {\n",
       "        vertical-align: middle;\n",
       "    }\n",
       "\n",
       "    .dataframe tbody tr th {\n",
       "        vertical-align: top;\n",
       "    }\n",
       "\n",
       "    .dataframe thead th {\n",
       "        text-align: right;\n",
       "    }\n",
       "</style>\n",
       "<table border=\"1\" class=\"dataframe\">\n",
       "  <thead>\n",
       "    <tr style=\"text-align: right;\">\n",
       "      <th></th>\n",
       "      <th>STATION           STATION_NAME                                       DATE     PRCP     TAVG     TMAX     TMIN</th>\n",
       "    </tr>\n",
       "  </thead>\n",
       "  <tbody>\n",
       "    <tr>\n",
       "      <th>0</th>\n",
       "      <td>----------------- ----------------------------...</td>\n",
       "    </tr>\n",
       "    <tr>\n",
       "      <th>1</th>\n",
       "      <td>GHCND:PEM00084691                             ...</td>\n",
       "    </tr>\n",
       "    <tr>\n",
       "      <th>2</th>\n",
       "      <td>GHCND:PEM00084691                             ...</td>\n",
       "    </tr>\n",
       "    <tr>\n",
       "      <th>3</th>\n",
       "      <td>GHCND:PEM00084691                             ...</td>\n",
       "    </tr>\n",
       "    <tr>\n",
       "      <th>4</th>\n",
       "      <td>GHCND:PEM00084691                             ...</td>\n",
       "    </tr>\n",
       "  </tbody>\n",
       "</table>\n",
       "</div>"
      ],
      "text/plain": [
       "  STATION           STATION_NAME                                       DATE     PRCP     TAVG     TMAX     TMIN     \n",
       "0  ----------------- ----------------------------...                                                                \n",
       "1  GHCND:PEM00084691                             ...                                                                \n",
       "2  GHCND:PEM00084691                             ...                                                                \n",
       "3  GHCND:PEM00084691                             ...                                                                \n",
       "4  GHCND:PEM00084691                             ...                                                                "
      ]
     },
     "execution_count": 1,
     "metadata": {},
     "output_type": "execute_result"
    }
   ],
   "source": [
    "import pandas as pd\n",
    "\n",
    "data_1 = pd.read_csv('../../data/3116406.txt')\n",
    "data_1.head()\n"
   ]
  },
  {
   "cell_type": "code",
   "execution_count": 2,
   "metadata": {},
   "outputs": [
    {
     "data": {
      "text/plain": [
       "<_io.TextIOWrapper name='../../data/3116406.txt' mode='r' encoding='UTF-8'>"
      ]
     },
     "execution_count": 2,
     "metadata": {},
     "output_type": "execute_result"
    }
   ],
   "source": [
    "f = open('../../data/3116406.txt', 'r')\n",
    "f\n"
   ]
  },
  {
   "cell_type": "markdown",
   "metadata": {},
   "source": [
    "Antes de continuar vamos a quitarle el encabezado y guardarlo para despues "
   ]
  },
  {
   "cell_type": "code",
   "execution_count": 3,
   "metadata": {},
   "outputs": [
    {
     "name": "stdout",
     "output_type": "stream",
     "text": [
      "['STATION', 'STATION_NAME', 'DATE', 'PRCP', 'TAVG', 'TMAX', 'TMIN']\n"
     ]
    }
   ],
   "source": [
    "encabezado = next(f).split()\n",
    "\n",
    "next(f)  ## comando next????\n",
    "\n",
    "print(encabezado)\n"
   ]
  },
  {
   "cell_type": "code",
   "execution_count": 4,
   "metadata": {},
   "outputs": [
    {
     "data": {
      "text/plain": [
       "<_io.TextIOWrapper name='../../data/3116406.txt' mode='r' encoding='UTF-8'>"
      ]
     },
     "execution_count": 4,
     "metadata": {},
     "output_type": "execute_result"
    }
   ],
   "source": [
    "f"
   ]
  },
  {
   "cell_type": "markdown",
   "metadata": {},
   "source": [
    "Organizando los datos en una lista"
   ]
  },
  {
   "cell_type": "code",
   "execution_count": 5,
   "metadata": {},
   "outputs": [
    {
     "name": "stdout",
     "output_type": "stream",
     "text": [
      "['GHCND:PEM00084691', 'PISCO', 'INTERNATIONAL', 'PE', '19630301', '-9999', '23.3', '27.2', '-9999']\n",
      "['GHCND:PEM00084691', 'PISCO', 'INTERNATIONAL', 'PE', '19630302', '-9999', '22.5', '27.8', '17.2']\n",
      "['GHCND:PEM00084691', 'PISCO', 'INTERNATIONAL', 'PE', '19630303', '-9999', '21.3', '26.1', '16.1']\n",
      "['GHCND:PEM00084691', 'PISCO', 'INTERNATIONAL', 'PE', '19630304', '-9999', '21.1', '26.1', '17.2']\n",
      "['GHCND:PEM00084691', 'PISCO', 'INTERNATIONAL', 'PE', '19630305', '-9999', '22.7', '27.2', '17.2']\n",
      "['GHCND:PEM00084691', 'PISCO', 'INTERNATIONAL', 'PE', '19630306', '-9999', '21.7', '27.2', '17.2']\n",
      "['GHCND:PEM00084691', 'PISCO', 'INTERNATIONAL', 'PE', '19630307', '-9999', '22.4', '26.1', '17.8']\n",
      "['GHCND:PEM00084691', 'PISCO', 'INTERNATIONAL', 'PE', '19630308', '-9999', '21.3', '26.1', '16.1']\n",
      "['GHCND:PEM00084691', 'PISCO', 'INTERNATIONAL', 'PE', '19630309', '-9999', '21.5', '27.2', '17.8']\n",
      "['GHCND:PEM00084691', 'PISCO', 'INTERNATIONAL', 'PE', '19630310', '-9999', '23.4', '-9999', '17.2']\n"
     ]
    }
   ],
   "source": [
    "#definimos la lista de destino\n",
    "dato = []\n",
    "\n",
    "# lectura del archivo linea por linea\n",
    "for line in f:\n",
    "    dato.append(line.split())\n",
    "\n",
    "for i in dato[:10]:\n",
    "    print(i)\n"
   ]
  },
  {
   "cell_type": "markdown",
   "metadata": {},
   "source": [
    "Pasando de una lista a un `DataFrame`"
   ]
  },
  {
   "cell_type": "code",
   "execution_count": 6,
   "metadata": {},
   "outputs": [],
   "source": [
    "import pandas as pd"
   ]
  },
  {
   "cell_type": "code",
   "execution_count": 7,
   "metadata": {},
   "outputs": [
    {
     "ename": "ValueError",
     "evalue": "7 columns passed, passed data had 9 columns",
     "output_type": "error",
     "traceback": [
      "\u001b[0;31m---------------------------------------------------------------------------\u001b[0m",
      "\u001b[0;31mAssertionError\u001b[0m                            Traceback (most recent call last)",
      "File \u001b[0;32m~/miniconda3/envs/geocat/lib/python3.9/site-packages/pandas/core/internals/construction.py:969\u001b[0m, in \u001b[0;36m_finalize_columns_and_data\u001b[0;34m(content, columns, dtype)\u001b[0m\n\u001b[1;32m    968\u001b[0m \u001b[39mtry\u001b[39;00m:\n\u001b[0;32m--> 969\u001b[0m     columns \u001b[39m=\u001b[39m _validate_or_indexify_columns(contents, columns)\n\u001b[1;32m    970\u001b[0m \u001b[39mexcept\u001b[39;00m \u001b[39mAssertionError\u001b[39;00m \u001b[39mas\u001b[39;00m err:\n\u001b[1;32m    971\u001b[0m     \u001b[39m# GH#26429 do not raise user-facing AssertionError\u001b[39;00m\n",
      "File \u001b[0;32m~/miniconda3/envs/geocat/lib/python3.9/site-packages/pandas/core/internals/construction.py:1017\u001b[0m, in \u001b[0;36m_validate_or_indexify_columns\u001b[0;34m(content, columns)\u001b[0m\n\u001b[1;32m   1015\u001b[0m \u001b[39mif\u001b[39;00m \u001b[39mnot\u001b[39;00m is_mi_list \u001b[39mand\u001b[39;00m \u001b[39mlen\u001b[39m(columns) \u001b[39m!=\u001b[39m \u001b[39mlen\u001b[39m(content):  \u001b[39m# pragma: no cover\u001b[39;00m\n\u001b[1;32m   1016\u001b[0m     \u001b[39m# caller's responsibility to check for this...\u001b[39;00m\n\u001b[0;32m-> 1017\u001b[0m     \u001b[39mraise\u001b[39;00m \u001b[39mAssertionError\u001b[39;00m(\n\u001b[1;32m   1018\u001b[0m         \u001b[39mf\u001b[39m\u001b[39m\"\u001b[39m\u001b[39m{\u001b[39;00m\u001b[39mlen\u001b[39m(columns)\u001b[39m}\u001b[39;00m\u001b[39m columns passed, passed data had \u001b[39m\u001b[39m\"\u001b[39m\n\u001b[1;32m   1019\u001b[0m         \u001b[39mf\u001b[39m\u001b[39m\"\u001b[39m\u001b[39m{\u001b[39;00m\u001b[39mlen\u001b[39m(content)\u001b[39m}\u001b[39;00m\u001b[39m columns\u001b[39m\u001b[39m\"\u001b[39m\n\u001b[1;32m   1020\u001b[0m     )\n\u001b[1;32m   1021\u001b[0m \u001b[39melif\u001b[39;00m is_mi_list:\n\u001b[1;32m   1022\u001b[0m \n\u001b[1;32m   1023\u001b[0m     \u001b[39m# check if nested list column, length of each sub-list should be equal\u001b[39;00m\n",
      "\u001b[0;31mAssertionError\u001b[0m: 7 columns passed, passed data had 9 columns",
      "\nThe above exception was the direct cause of the following exception:\n",
      "\u001b[0;31mValueError\u001b[0m                                Traceback (most recent call last)",
      "Cell \u001b[0;32mIn [7], line 1\u001b[0m\n\u001b[0;32m----> 1\u001b[0m df \u001b[39m=\u001b[39m pd\u001b[39m.\u001b[39;49mDataFrame(dato, columns\u001b[39m=\u001b[39;49mencabezado)\n",
      "File \u001b[0;32m~/miniconda3/envs/geocat/lib/python3.9/site-packages/pandas/core/frame.py:744\u001b[0m, in \u001b[0;36mDataFrame.__init__\u001b[0;34m(self, data, index, columns, dtype, copy)\u001b[0m\n\u001b[1;32m    742\u001b[0m     \u001b[39mif\u001b[39;00m columns \u001b[39mis\u001b[39;00m \u001b[39mnot\u001b[39;00m \u001b[39mNone\u001b[39;00m:\n\u001b[1;32m    743\u001b[0m         columns \u001b[39m=\u001b[39m ensure_index(columns)\n\u001b[0;32m--> 744\u001b[0m     arrays, columns, index \u001b[39m=\u001b[39m nested_data_to_arrays(\n\u001b[1;32m    745\u001b[0m         \u001b[39m# error: Argument 3 to \"nested_data_to_arrays\" has incompatible\u001b[39;49;00m\n\u001b[1;32m    746\u001b[0m         \u001b[39m# type \"Optional[Collection[Any]]\"; expected \"Optional[Index]\"\u001b[39;49;00m\n\u001b[1;32m    747\u001b[0m         data,\n\u001b[1;32m    748\u001b[0m         columns,\n\u001b[1;32m    749\u001b[0m         index,  \u001b[39m# type: ignore[arg-type]\u001b[39;49;00m\n\u001b[1;32m    750\u001b[0m         dtype,\n\u001b[1;32m    751\u001b[0m     )\n\u001b[1;32m    752\u001b[0m     mgr \u001b[39m=\u001b[39m arrays_to_mgr(\n\u001b[1;32m    753\u001b[0m         arrays,\n\u001b[1;32m    754\u001b[0m         columns,\n\u001b[0;32m   (...)\u001b[0m\n\u001b[1;32m    757\u001b[0m         typ\u001b[39m=\u001b[39mmanager,\n\u001b[1;32m    758\u001b[0m     )\n\u001b[1;32m    759\u001b[0m \u001b[39melse\u001b[39;00m:\n",
      "File \u001b[0;32m~/miniconda3/envs/geocat/lib/python3.9/site-packages/pandas/core/internals/construction.py:510\u001b[0m, in \u001b[0;36mnested_data_to_arrays\u001b[0;34m(data, columns, index, dtype)\u001b[0m\n\u001b[1;32m    507\u001b[0m \u001b[39mif\u001b[39;00m is_named_tuple(data[\u001b[39m0\u001b[39m]) \u001b[39mand\u001b[39;00m columns \u001b[39mis\u001b[39;00m \u001b[39mNone\u001b[39;00m:\n\u001b[1;32m    508\u001b[0m     columns \u001b[39m=\u001b[39m ensure_index(data[\u001b[39m0\u001b[39m]\u001b[39m.\u001b[39m_fields)\n\u001b[0;32m--> 510\u001b[0m arrays, columns \u001b[39m=\u001b[39m to_arrays(data, columns, dtype\u001b[39m=\u001b[39;49mdtype)\n\u001b[1;32m    511\u001b[0m columns \u001b[39m=\u001b[39m ensure_index(columns)\n\u001b[1;32m    513\u001b[0m \u001b[39mif\u001b[39;00m index \u001b[39mis\u001b[39;00m \u001b[39mNone\u001b[39;00m:\n",
      "File \u001b[0;32m~/miniconda3/envs/geocat/lib/python3.9/site-packages/pandas/core/internals/construction.py:875\u001b[0m, in \u001b[0;36mto_arrays\u001b[0;34m(data, columns, dtype)\u001b[0m\n\u001b[1;32m    872\u001b[0m     data \u001b[39m=\u001b[39m [\u001b[39mtuple\u001b[39m(x) \u001b[39mfor\u001b[39;00m x \u001b[39min\u001b[39;00m data]\n\u001b[1;32m    873\u001b[0m     arr \u001b[39m=\u001b[39m _list_to_arrays(data)\n\u001b[0;32m--> 875\u001b[0m content, columns \u001b[39m=\u001b[39m _finalize_columns_and_data(arr, columns, dtype)\n\u001b[1;32m    876\u001b[0m \u001b[39mreturn\u001b[39;00m content, columns\n",
      "File \u001b[0;32m~/miniconda3/envs/geocat/lib/python3.9/site-packages/pandas/core/internals/construction.py:972\u001b[0m, in \u001b[0;36m_finalize_columns_and_data\u001b[0;34m(content, columns, dtype)\u001b[0m\n\u001b[1;32m    969\u001b[0m     columns \u001b[39m=\u001b[39m _validate_or_indexify_columns(contents, columns)\n\u001b[1;32m    970\u001b[0m \u001b[39mexcept\u001b[39;00m \u001b[39mAssertionError\u001b[39;00m \u001b[39mas\u001b[39;00m err:\n\u001b[1;32m    971\u001b[0m     \u001b[39m# GH#26429 do not raise user-facing AssertionError\u001b[39;00m\n\u001b[0;32m--> 972\u001b[0m     \u001b[39mraise\u001b[39;00m \u001b[39mValueError\u001b[39;00m(err) \u001b[39mfrom\u001b[39;00m \u001b[39merr\u001b[39;00m\n\u001b[1;32m    974\u001b[0m \u001b[39mif\u001b[39;00m \u001b[39mlen\u001b[39m(contents) \u001b[39mand\u001b[39;00m contents[\u001b[39m0\u001b[39m]\u001b[39m.\u001b[39mdtype \u001b[39m==\u001b[39m np\u001b[39m.\u001b[39mobject_:\n\u001b[1;32m    975\u001b[0m     contents \u001b[39m=\u001b[39m _convert_object_array(contents, dtype\u001b[39m=\u001b[39mdtype)\n",
      "\u001b[0;31mValueError\u001b[0m: 7 columns passed, passed data had 9 columns"
     ]
    }
   ],
   "source": [
    "df = pd.DataFrame(dato, columns=encabezado)\n",
    "\n",
    "#que paso?"
   ]
  },
  {
   "cell_type": "markdown",
   "metadata": {},
   "source": [
    "Nuestro problema es el número de colmnas, entonces tenemos que verificar la cantidad de elementos en cada lista que esta dentro de nuestra variable `dato`."
   ]
  },
  {
   "cell_type": "code",
   "execution_count": 8,
   "metadata": {},
   "outputs": [
    {
     "data": {
      "text/plain": [
       "['GHCND:PEM00084691',\n",
       " 'PISCO',\n",
       " 'INTERNATIONAL',\n",
       " 'PE',\n",
       " '19630301',\n",
       " '-9999',\n",
       " '23.3',\n",
       " '27.2',\n",
       " '-9999']"
      ]
     },
     "execution_count": 8,
     "metadata": {},
     "output_type": "execute_result"
    }
   ],
   "source": [
    "dato[0]"
   ]
  },
  {
   "cell_type": "markdown",
   "metadata": {},
   "source": [
    "Veamos que es lo que tenemos en nuestro encabezado"
   ]
  },
  {
   "cell_type": "code",
   "execution_count": 9,
   "metadata": {},
   "outputs": [
    {
     "data": {
      "text/plain": [
       "['STATION', 'STATION_NAME', 'DATE', 'PRCP', 'TAVG', 'TMAX', 'TMIN']"
      ]
     },
     "execution_count": 9,
     "metadata": {},
     "output_type": "execute_result"
    }
   ],
   "source": [
    "encabezado"
   ]
  },
  {
   "cell_type": "code",
   "execution_count": 10,
   "metadata": {},
   "outputs": [],
   "source": [
    "encabezado.insert(1, 'Station name')\n",
    "encabezado.insert(1, 'Station name')"
   ]
  },
  {
   "cell_type": "code",
   "execution_count": 11,
   "metadata": {},
   "outputs": [
    {
     "name": "stdout",
     "output_type": "stream",
     "text": [
      "['STATION', 'Station name', 'Station name', 'STATION_NAME', 'DATE', 'PRCP', 'TAVG', 'TMAX', 'TMIN']\n"
     ]
    }
   ],
   "source": [
    "# verificando lo que tenemos ahora\n",
    "print(encabezado)"
   ]
  },
  {
   "cell_type": "markdown",
   "metadata": {},
   "source": [
    "Ahora que ya tenemos la cantidad de columnas completas, le decimos cual es la forma correcta de dejarlo como un `DataFrame`"
   ]
  },
  {
   "cell_type": "code",
   "execution_count": 12,
   "metadata": {},
   "outputs": [],
   "source": [
    "df = pd.DataFrame(dato, columns=encabezado)"
   ]
  },
  {
   "cell_type": "markdown",
   "metadata": {},
   "source": [
    "Ahora veamos que pasa con nuestro `DataFrame`"
   ]
  },
  {
   "cell_type": "code",
   "execution_count": 13,
   "metadata": {},
   "outputs": [
    {
     "name": "stdout",
     "output_type": "stream",
     "text": [
      "             STATION Station name   Station name STATION_NAME      DATE  \\\n",
      "0  GHCND:PEM00084691        PISCO  INTERNATIONAL           PE  19630301   \n",
      "1  GHCND:PEM00084691        PISCO  INTERNATIONAL           PE  19630302   \n",
      "2  GHCND:PEM00084691        PISCO  INTERNATIONAL           PE  19630303   \n",
      "3  GHCND:PEM00084691        PISCO  INTERNATIONAL           PE  19630304   \n",
      "4  GHCND:PEM00084691        PISCO  INTERNATIONAL           PE  19630305   \n",
      "\n",
      "    PRCP  TAVG  TMAX   TMIN  \n",
      "0  -9999  23.3  27.2  -9999  \n",
      "1  -9999  22.5  27.8   17.2  \n",
      "2  -9999  21.3  26.1   16.1  \n",
      "3  -9999  21.1  26.1   17.2  \n",
      "4  -9999  22.7  27.2   17.2  \n"
     ]
    }
   ],
   "source": [
    "print(df.head())\n",
    "# hay algun problema?"
   ]
  },
  {
   "cell_type": "code",
   "execution_count": 14,
   "metadata": {},
   "outputs": [
    {
     "data": {
      "text/html": [
       "<div>\n",
       "<style scoped>\n",
       "    .dataframe tbody tr th:only-of-type {\n",
       "        vertical-align: middle;\n",
       "    }\n",
       "\n",
       "    .dataframe tbody tr th {\n",
       "        vertical-align: top;\n",
       "    }\n",
       "\n",
       "    .dataframe thead th {\n",
       "        text-align: right;\n",
       "    }\n",
       "</style>\n",
       "<table border=\"1\" class=\"dataframe\">\n",
       "  <thead>\n",
       "    <tr style=\"text-align: right;\">\n",
       "      <th></th>\n",
       "      <th>STATION</th>\n",
       "      <th>Station name</th>\n",
       "      <th>Station name</th>\n",
       "      <th>STATION_NAME</th>\n",
       "      <th>DATE</th>\n",
       "      <th>PRCP</th>\n",
       "      <th>TAVG</th>\n",
       "      <th>TMAX</th>\n",
       "      <th>TMIN</th>\n",
       "    </tr>\n",
       "  </thead>\n",
       "  <tbody>\n",
       "    <tr>\n",
       "      <th>0</th>\n",
       "      <td>GHCND:PEM00084691</td>\n",
       "      <td>PISCO</td>\n",
       "      <td>INTERNATIONAL</td>\n",
       "      <td>PE</td>\n",
       "      <td>19630301</td>\n",
       "      <td>NaN</td>\n",
       "      <td>23.3</td>\n",
       "      <td>27.2</td>\n",
       "      <td>NaN</td>\n",
       "    </tr>\n",
       "    <tr>\n",
       "      <th>1</th>\n",
       "      <td>GHCND:PEM00084691</td>\n",
       "      <td>PISCO</td>\n",
       "      <td>INTERNATIONAL</td>\n",
       "      <td>PE</td>\n",
       "      <td>19630302</td>\n",
       "      <td>NaN</td>\n",
       "      <td>22.5</td>\n",
       "      <td>27.8</td>\n",
       "      <td>17.2</td>\n",
       "    </tr>\n",
       "    <tr>\n",
       "      <th>2</th>\n",
       "      <td>GHCND:PEM00084691</td>\n",
       "      <td>PISCO</td>\n",
       "      <td>INTERNATIONAL</td>\n",
       "      <td>PE</td>\n",
       "      <td>19630303</td>\n",
       "      <td>NaN</td>\n",
       "      <td>21.3</td>\n",
       "      <td>26.1</td>\n",
       "      <td>16.1</td>\n",
       "    </tr>\n",
       "    <tr>\n",
       "      <th>3</th>\n",
       "      <td>GHCND:PEM00084691</td>\n",
       "      <td>PISCO</td>\n",
       "      <td>INTERNATIONAL</td>\n",
       "      <td>PE</td>\n",
       "      <td>19630304</td>\n",
       "      <td>NaN</td>\n",
       "      <td>21.1</td>\n",
       "      <td>26.1</td>\n",
       "      <td>17.2</td>\n",
       "    </tr>\n",
       "    <tr>\n",
       "      <th>4</th>\n",
       "      <td>GHCND:PEM00084691</td>\n",
       "      <td>PISCO</td>\n",
       "      <td>INTERNATIONAL</td>\n",
       "      <td>PE</td>\n",
       "      <td>19630305</td>\n",
       "      <td>NaN</td>\n",
       "      <td>22.7</td>\n",
       "      <td>27.2</td>\n",
       "      <td>17.2</td>\n",
       "    </tr>\n",
       "    <tr>\n",
       "      <th>...</th>\n",
       "      <td>...</td>\n",
       "      <td>...</td>\n",
       "      <td>...</td>\n",
       "      <td>...</td>\n",
       "      <td>...</td>\n",
       "      <td>...</td>\n",
       "      <td>...</td>\n",
       "      <td>...</td>\n",
       "      <td>...</td>\n",
       "    </tr>\n",
       "    <tr>\n",
       "      <th>16682</th>\n",
       "      <td>GHCND:PEM00084691</td>\n",
       "      <td>PISCO</td>\n",
       "      <td>INTERNATIONAL</td>\n",
       "      <td>PE</td>\n",
       "      <td>20211027</td>\n",
       "      <td>NaN</td>\n",
       "      <td>17.1</td>\n",
       "      <td>NaN</td>\n",
       "      <td>NaN</td>\n",
       "    </tr>\n",
       "    <tr>\n",
       "      <th>16683</th>\n",
       "      <td>GHCND:PEM00084691</td>\n",
       "      <td>PISCO</td>\n",
       "      <td>INTERNATIONAL</td>\n",
       "      <td>PE</td>\n",
       "      <td>20211028</td>\n",
       "      <td>NaN</td>\n",
       "      <td>16.7</td>\n",
       "      <td>NaN</td>\n",
       "      <td>12.9</td>\n",
       "    </tr>\n",
       "    <tr>\n",
       "      <th>16684</th>\n",
       "      <td>GHCND:PEM00084691</td>\n",
       "      <td>PISCO</td>\n",
       "      <td>INTERNATIONAL</td>\n",
       "      <td>PE</td>\n",
       "      <td>20211029</td>\n",
       "      <td>NaN</td>\n",
       "      <td>17.3</td>\n",
       "      <td>NaN</td>\n",
       "      <td>13.8</td>\n",
       "    </tr>\n",
       "    <tr>\n",
       "      <th>16685</th>\n",
       "      <td>GHCND:PEM00084691</td>\n",
       "      <td>PISCO</td>\n",
       "      <td>INTERNATIONAL</td>\n",
       "      <td>PE</td>\n",
       "      <td>20211030</td>\n",
       "      <td>NaN</td>\n",
       "      <td>16.9</td>\n",
       "      <td>NaN</td>\n",
       "      <td>NaN</td>\n",
       "    </tr>\n",
       "    <tr>\n",
       "      <th>16686</th>\n",
       "      <td>GHCND:PEM00084691</td>\n",
       "      <td>PISCO</td>\n",
       "      <td>INTERNATIONAL</td>\n",
       "      <td>PE</td>\n",
       "      <td>20211031</td>\n",
       "      <td>NaN</td>\n",
       "      <td>18.0</td>\n",
       "      <td>NaN</td>\n",
       "      <td>16.9</td>\n",
       "    </tr>\n",
       "  </tbody>\n",
       "</table>\n",
       "<p>16687 rows × 9 columns</p>\n",
       "</div>"
      ],
      "text/plain": [
       "                 STATION Station name   Station name STATION_NAME      DATE  \\\n",
       "0      GHCND:PEM00084691        PISCO  INTERNATIONAL           PE  19630301   \n",
       "1      GHCND:PEM00084691        PISCO  INTERNATIONAL           PE  19630302   \n",
       "2      GHCND:PEM00084691        PISCO  INTERNATIONAL           PE  19630303   \n",
       "3      GHCND:PEM00084691        PISCO  INTERNATIONAL           PE  19630304   \n",
       "4      GHCND:PEM00084691        PISCO  INTERNATIONAL           PE  19630305   \n",
       "...                  ...          ...            ...          ...       ...   \n",
       "16682  GHCND:PEM00084691        PISCO  INTERNATIONAL           PE  20211027   \n",
       "16683  GHCND:PEM00084691        PISCO  INTERNATIONAL           PE  20211028   \n",
       "16684  GHCND:PEM00084691        PISCO  INTERNATIONAL           PE  20211029   \n",
       "16685  GHCND:PEM00084691        PISCO  INTERNATIONAL           PE  20211030   \n",
       "16686  GHCND:PEM00084691        PISCO  INTERNATIONAL           PE  20211031   \n",
       "\n",
       "      PRCP  TAVG  TMAX  TMIN  \n",
       "0      NaN  23.3  27.2   NaN  \n",
       "1      NaN  22.5  27.8  17.2  \n",
       "2      NaN  21.3  26.1  16.1  \n",
       "3      NaN  21.1  26.1  17.2  \n",
       "4      NaN  22.7  27.2  17.2  \n",
       "...    ...   ...   ...   ...  \n",
       "16682  NaN  17.1   NaN   NaN  \n",
       "16683  NaN  16.7   NaN  12.9  \n",
       "16684  NaN  17.3   NaN  13.8  \n",
       "16685  NaN  16.9   NaN   NaN  \n",
       "16686  NaN  18.0   NaN  16.9  \n",
       "\n",
       "[16687 rows x 9 columns]"
      ]
     },
     "execution_count": 14,
     "metadata": {},
     "output_type": "execute_result"
    }
   ],
   "source": [
    "import numpy as np\n",
    "df = df.replace('-9999', np.nan)\n",
    "\n",
    "df"
   ]
  },
  {
   "cell_type": "code",
   "execution_count": 15,
   "metadata": {},
   "outputs": [
    {
     "ename": "TypeError",
     "evalue": "no numeric data to plot",
     "output_type": "error",
     "traceback": [
      "\u001b[0;31m---------------------------------------------------------------------------\u001b[0m",
      "\u001b[0;31mTypeError\u001b[0m                                 Traceback (most recent call last)",
      "Cell \u001b[0;32mIn [15], line 2\u001b[0m\n\u001b[1;32m      1\u001b[0m \u001b[39mtype\u001b[39m(df\u001b[39m.\u001b[39mTMAX[\u001b[39m0\u001b[39m])\n\u001b[0;32m----> 2\u001b[0m df\u001b[39m.\u001b[39;49mTMAX\u001b[39m.\u001b[39;49mplot()\n",
      "File \u001b[0;32m~/miniconda3/envs/geocat/lib/python3.9/site-packages/pandas/plotting/_core.py:1000\u001b[0m, in \u001b[0;36mPlotAccessor.__call__\u001b[0;34m(self, *args, **kwargs)\u001b[0m\n\u001b[1;32m    997\u001b[0m             label_name \u001b[39m=\u001b[39m label_kw \u001b[39mor\u001b[39;00m data\u001b[39m.\u001b[39mcolumns\n\u001b[1;32m    998\u001b[0m             data\u001b[39m.\u001b[39mcolumns \u001b[39m=\u001b[39m label_name\n\u001b[0;32m-> 1000\u001b[0m \u001b[39mreturn\u001b[39;00m plot_backend\u001b[39m.\u001b[39;49mplot(data, kind\u001b[39m=\u001b[39;49mkind, \u001b[39m*\u001b[39;49m\u001b[39m*\u001b[39;49mkwargs)\n",
      "File \u001b[0;32m~/miniconda3/envs/geocat/lib/python3.9/site-packages/pandas/plotting/_matplotlib/__init__.py:71\u001b[0m, in \u001b[0;36mplot\u001b[0;34m(data, kind, **kwargs)\u001b[0m\n\u001b[1;32m     69\u001b[0m         kwargs[\u001b[39m\"\u001b[39m\u001b[39max\u001b[39m\u001b[39m\"\u001b[39m] \u001b[39m=\u001b[39m \u001b[39mgetattr\u001b[39m(ax, \u001b[39m\"\u001b[39m\u001b[39mleft_ax\u001b[39m\u001b[39m\"\u001b[39m, ax)\n\u001b[1;32m     70\u001b[0m plot_obj \u001b[39m=\u001b[39m PLOT_CLASSES[kind](data, \u001b[39m*\u001b[39m\u001b[39m*\u001b[39mkwargs)\n\u001b[0;32m---> 71\u001b[0m plot_obj\u001b[39m.\u001b[39;49mgenerate()\n\u001b[1;32m     72\u001b[0m plot_obj\u001b[39m.\u001b[39mdraw()\n\u001b[1;32m     73\u001b[0m \u001b[39mreturn\u001b[39;00m plot_obj\u001b[39m.\u001b[39mresult\n",
      "File \u001b[0;32m~/miniconda3/envs/geocat/lib/python3.9/site-packages/pandas/plotting/_matplotlib/core.py:450\u001b[0m, in \u001b[0;36mMPLPlot.generate\u001b[0;34m(self)\u001b[0m\n\u001b[1;32m    448\u001b[0m \u001b[39mdef\u001b[39;00m \u001b[39mgenerate\u001b[39m(\u001b[39mself\u001b[39m) \u001b[39m-\u001b[39m\u001b[39m>\u001b[39m \u001b[39mNone\u001b[39;00m:\n\u001b[1;32m    449\u001b[0m     \u001b[39mself\u001b[39m\u001b[39m.\u001b[39m_args_adjust()\n\u001b[0;32m--> 450\u001b[0m     \u001b[39mself\u001b[39;49m\u001b[39m.\u001b[39;49m_compute_plot_data()\n\u001b[1;32m    451\u001b[0m     \u001b[39mself\u001b[39m\u001b[39m.\u001b[39m_setup_subplots()\n\u001b[1;32m    452\u001b[0m     \u001b[39mself\u001b[39m\u001b[39m.\u001b[39m_make_plot()\n",
      "File \u001b[0;32m~/miniconda3/envs/geocat/lib/python3.9/site-packages/pandas/plotting/_matplotlib/core.py:635\u001b[0m, in \u001b[0;36mMPLPlot._compute_plot_data\u001b[0;34m(self)\u001b[0m\n\u001b[1;32m    633\u001b[0m \u001b[39m# no non-numeric frames or series allowed\u001b[39;00m\n\u001b[1;32m    634\u001b[0m \u001b[39mif\u001b[39;00m is_empty:\n\u001b[0;32m--> 635\u001b[0m     \u001b[39mraise\u001b[39;00m \u001b[39mTypeError\u001b[39;00m(\u001b[39m\"\u001b[39m\u001b[39mno numeric data to plot\u001b[39m\u001b[39m\"\u001b[39m)\n\u001b[1;32m    637\u001b[0m \u001b[39mself\u001b[39m\u001b[39m.\u001b[39mdata \u001b[39m=\u001b[39m numeric_data\u001b[39m.\u001b[39mapply(\u001b[39mself\u001b[39m\u001b[39m.\u001b[39m_convert_to_ndarray)\n",
      "\u001b[0;31mTypeError\u001b[0m: no numeric data to plot"
     ]
    }
   ],
   "source": [
    "type(df.TMAX[0])\n",
    "df.TMAX.plot()"
   ]
  },
  {
   "cell_type": "code",
   "execution_count": 16,
   "metadata": {},
   "outputs": [
    {
     "data": {
      "text/plain": [
       "<AxesSubplot: >"
      ]
     },
     "execution_count": 16,
     "metadata": {},
     "output_type": "execute_result"
    },
    {
     "data": {
      "image/png": "[encoded data removed]",
      "text/plain": [
       "<Figure size 640x480 with 1 Axes>"
      ]
     },
     "metadata": {},
     "output_type": "display_data"
    }
   ],
   "source": [
    "df.TMAX.astype('float').plot()"
   ]
  },
  {
   "cell_type": "markdown",
   "metadata": {},
   "source": [
    "Recuerda cerrar el archivo siempre, porque sino permanece en la memoria."
   ]
  },
  {
   "cell_type": "code",
   "execution_count": 17,
   "metadata": {},
   "outputs": [],
   "source": [
    "f.close()"
   ]
  },
  {
   "cell_type": "markdown",
   "metadata": {},
   "source": [
    "Ya que vimos como se hace entonces ahora hagamoslo de forma mas simple"
   ]
  },
  {
   "cell_type": "code",
   "execution_count": 18,
   "metadata": {},
   "outputs": [],
   "source": [
    "f = open('../../data/3116406.txt', 'r')\n",
    "\n",
    "encabezado = next(f).split()\n",
    "next(f)  ## comando next????\n",
    "dato = []\n",
    "for line in f:\n",
    "    d_line = line.split()\n",
    "    if '-9999' in d_line:\n",
    "        # reemplazar los -999 con la funciona lambda\n",
    "        d_line = list(map(lambda x: x.replace('-9999', 'NaN'), d_line))\n",
    "    dato.append(d_line)\n",
    "\n",
    "f.close() # no se olviden de cerrar el archivo\n",
    "\n",
    "encabezado.insert(1, 'Station name')\n",
    "encabezado.insert(1, 'Station name')\n",
    "\n",
    "df = pd.DataFrame(dato, columns=encabezado)"
   ]
  },
  {
   "cell_type": "code",
   "execution_count": 19,
   "metadata": {},
   "outputs": [
    {
     "data": {
      "text/html": [
       "<div>\n",
       "<style scoped>\n",
       "    .dataframe tbody tr th:only-of-type {\n",
       "        vertical-align: middle;\n",
       "    }\n",
       "\n",
       "    .dataframe tbody tr th {\n",
       "        vertical-align: top;\n",
       "    }\n",
       "\n",
       "    .dataframe thead th {\n",
       "        text-align: right;\n",
       "    }\n",
       "</style>\n",
       "<table border=\"1\" class=\"dataframe\">\n",
       "  <thead>\n",
       "    <tr style=\"text-align: right;\">\n",
       "      <th></th>\n",
       "      <th>STATION</th>\n",
       "      <th>Station name</th>\n",
       "      <th>Station name</th>\n",
       "      <th>STATION_NAME</th>\n",
       "      <th>DATE</th>\n",
       "      <th>PRCP</th>\n",
       "      <th>TAVG</th>\n",
       "      <th>TMAX</th>\n",
       "      <th>TMIN</th>\n",
       "    </tr>\n",
       "  </thead>\n",
       "  <tbody>\n",
       "    <tr>\n",
       "      <th>0</th>\n",
       "      <td>GHCND:PEM00084691</td>\n",
       "      <td>PISCO</td>\n",
       "      <td>INTERNATIONAL</td>\n",
       "      <td>PE</td>\n",
       "      <td>19630301</td>\n",
       "      <td>NaN</td>\n",
       "      <td>23.3</td>\n",
       "      <td>27.2</td>\n",
       "      <td>NaN</td>\n",
       "    </tr>\n",
       "    <tr>\n",
       "      <th>1</th>\n",
       "      <td>GHCND:PEM00084691</td>\n",
       "      <td>PISCO</td>\n",
       "      <td>INTERNATIONAL</td>\n",
       "      <td>PE</td>\n",
       "      <td>19630302</td>\n",
       "      <td>NaN</td>\n",
       "      <td>22.5</td>\n",
       "      <td>27.8</td>\n",
       "      <td>17.2</td>\n",
       "    </tr>\n",
       "    <tr>\n",
       "      <th>2</th>\n",
       "      <td>GHCND:PEM00084691</td>\n",
       "      <td>PISCO</td>\n",
       "      <td>INTERNATIONAL</td>\n",
       "      <td>PE</td>\n",
       "      <td>19630303</td>\n",
       "      <td>NaN</td>\n",
       "      <td>21.3</td>\n",
       "      <td>26.1</td>\n",
       "      <td>16.1</td>\n",
       "    </tr>\n",
       "    <tr>\n",
       "      <th>3</th>\n",
       "      <td>GHCND:PEM00084691</td>\n",
       "      <td>PISCO</td>\n",
       "      <td>INTERNATIONAL</td>\n",
       "      <td>PE</td>\n",
       "      <td>19630304</td>\n",
       "      <td>NaN</td>\n",
       "      <td>21.1</td>\n",
       "      <td>26.1</td>\n",
       "      <td>17.2</td>\n",
       "    </tr>\n",
       "    <tr>\n",
       "      <th>4</th>\n",
       "      <td>GHCND:PEM00084691</td>\n",
       "      <td>PISCO</td>\n",
       "      <td>INTERNATIONAL</td>\n",
       "      <td>PE</td>\n",
       "      <td>19630305</td>\n",
       "      <td>NaN</td>\n",
       "      <td>22.7</td>\n",
       "      <td>27.2</td>\n",
       "      <td>17.2</td>\n",
       "    </tr>\n",
       "    <tr>\n",
       "      <th>...</th>\n",
       "      <td>...</td>\n",
       "      <td>...</td>\n",
       "      <td>...</td>\n",
       "      <td>...</td>\n",
       "      <td>...</td>\n",
       "      <td>...</td>\n",
       "      <td>...</td>\n",
       "      <td>...</td>\n",
       "      <td>...</td>\n",
       "    </tr>\n",
       "    <tr>\n",
       "      <th>16682</th>\n",
       "      <td>GHCND:PEM00084691</td>\n",
       "      <td>PISCO</td>\n",
       "      <td>INTERNATIONAL</td>\n",
       "      <td>PE</td>\n",
       "      <td>20211027</td>\n",
       "      <td>NaN</td>\n",
       "      <td>17.1</td>\n",
       "      <td>NaN</td>\n",
       "      <td>NaN</td>\n",
       "    </tr>\n",
       "    <tr>\n",
       "      <th>16683</th>\n",
       "      <td>GHCND:PEM00084691</td>\n",
       "      <td>PISCO</td>\n",
       "      <td>INTERNATIONAL</td>\n",
       "      <td>PE</td>\n",
       "      <td>20211028</td>\n",
       "      <td>NaN</td>\n",
       "      <td>16.7</td>\n",
       "      <td>NaN</td>\n",
       "      <td>12.9</td>\n",
       "    </tr>\n",
       "    <tr>\n",
       "      <th>16684</th>\n",
       "      <td>GHCND:PEM00084691</td>\n",
       "      <td>PISCO</td>\n",
       "      <td>INTERNATIONAL</td>\n",
       "      <td>PE</td>\n",
       "      <td>20211029</td>\n",
       "      <td>NaN</td>\n",
       "      <td>17.3</td>\n",
       "      <td>NaN</td>\n",
       "      <td>13.8</td>\n",
       "    </tr>\n",
       "    <tr>\n",
       "      <th>16685</th>\n",
       "      <td>GHCND:PEM00084691</td>\n",
       "      <td>PISCO</td>\n",
       "      <td>INTERNATIONAL</td>\n",
       "      <td>PE</td>\n",
       "      <td>20211030</td>\n",
       "      <td>NaN</td>\n",
       "      <td>16.9</td>\n",
       "      <td>NaN</td>\n",
       "      <td>NaN</td>\n",
       "    </tr>\n",
       "    <tr>\n",
       "      <th>16686</th>\n",
       "      <td>GHCND:PEM00084691</td>\n",
       "      <td>PISCO</td>\n",
       "      <td>INTERNATIONAL</td>\n",
       "      <td>PE</td>\n",
       "      <td>20211031</td>\n",
       "      <td>NaN</td>\n",
       "      <td>18.0</td>\n",
       "      <td>NaN</td>\n",
       "      <td>16.9</td>\n",
       "    </tr>\n",
       "  </tbody>\n",
       "</table>\n",
       "<p>16687 rows × 9 columns</p>\n",
       "</div>"
      ],
      "text/plain": [
       "                 STATION Station name   Station name STATION_NAME      DATE  \\\n",
       "0      GHCND:PEM00084691        PISCO  INTERNATIONAL           PE  19630301   \n",
       "1      GHCND:PEM00084691        PISCO  INTERNATIONAL           PE  19630302   \n",
       "2      GHCND:PEM00084691        PISCO  INTERNATIONAL           PE  19630303   \n",
       "3      GHCND:PEM00084691        PISCO  INTERNATIONAL           PE  19630304   \n",
       "4      GHCND:PEM00084691        PISCO  INTERNATIONAL           PE  19630305   \n",
       "...                  ...          ...            ...          ...       ...   \n",
       "16682  GHCND:PEM00084691        PISCO  INTERNATIONAL           PE  20211027   \n",
       "16683  GHCND:PEM00084691        PISCO  INTERNATIONAL           PE  20211028   \n",
       "16684  GHCND:PEM00084691        PISCO  INTERNATIONAL           PE  20211029   \n",
       "16685  GHCND:PEM00084691        PISCO  INTERNATIONAL           PE  20211030   \n",
       "16686  GHCND:PEM00084691        PISCO  INTERNATIONAL           PE  20211031   \n",
       "\n",
       "      PRCP  TAVG  TMAX  TMIN  \n",
       "0      NaN  23.3  27.2   NaN  \n",
       "1      NaN  22.5  27.8  17.2  \n",
       "2      NaN  21.3  26.1  16.1  \n",
       "3      NaN  21.1  26.1  17.2  \n",
       "4      NaN  22.7  27.2  17.2  \n",
       "...    ...   ...   ...   ...  \n",
       "16682  NaN  17.1   NaN   NaN  \n",
       "16683  NaN  16.7   NaN  12.9  \n",
       "16684  NaN  17.3   NaN  13.8  \n",
       "16685  NaN  16.9   NaN   NaN  \n",
       "16686  NaN  18.0   NaN  16.9  \n",
       "\n",
       "[16687 rows x 9 columns]"
      ]
     },
     "execution_count": 19,
     "metadata": {},
     "output_type": "execute_result"
    }
   ],
   "source": [
    "df"
   ]
  },
  {
   "cell_type": "code",
   "execution_count": 20,
   "metadata": {},
   "outputs": [],
   "source": [
    "df.index = df.DATE.apply(pd.to_datetime)\n",
    "tmax = df.TMAX.astype('float')"
   ]
  },
  {
   "cell_type": "code",
   "execution_count": 21,
   "metadata": {},
   "outputs": [
    {
     "data": {
      "text/html": [
       "<div>\n",
       "<style scoped>\n",
       "    .dataframe tbody tr th:only-of-type {\n",
       "        vertical-align: middle;\n",
       "    }\n",
       "\n",
       "    .dataframe tbody tr th {\n",
       "        vertical-align: top;\n",
       "    }\n",
       "\n",
       "    .dataframe thead th {\n",
       "        text-align: right;\n",
       "    }\n",
       "</style>\n",
       "<table border=\"1\" class=\"dataframe\">\n",
       "  <thead>\n",
       "    <tr style=\"text-align: right;\">\n",
       "      <th></th>\n",
       "      <th>STATION</th>\n",
       "      <th>Station name</th>\n",
       "      <th>Station name</th>\n",
       "      <th>STATION_NAME</th>\n",
       "      <th>DATE</th>\n",
       "      <th>PRCP</th>\n",
       "      <th>TAVG</th>\n",
       "      <th>TMAX</th>\n",
       "      <th>TMIN</th>\n",
       "    </tr>\n",
       "    <tr>\n",
       "      <th>DATE</th>\n",
       "      <th></th>\n",
       "      <th></th>\n",
       "      <th></th>\n",
       "      <th></th>\n",
       "      <th></th>\n",
       "      <th></th>\n",
       "      <th></th>\n",
       "      <th></th>\n",
       "      <th></th>\n",
       "    </tr>\n",
       "  </thead>\n",
       "  <tbody>\n",
       "    <tr>\n",
       "      <th>1963-03-01</th>\n",
       "      <td>GHCND:PEM00084691</td>\n",
       "      <td>PISCO</td>\n",
       "      <td>INTERNATIONAL</td>\n",
       "      <td>PE</td>\n",
       "      <td>19630301</td>\n",
       "      <td>NaN</td>\n",
       "      <td>23.3</td>\n",
       "      <td>27.2</td>\n",
       "      <td>NaN</td>\n",
       "    </tr>\n",
       "    <tr>\n",
       "      <th>1963-03-02</th>\n",
       "      <td>GHCND:PEM00084691</td>\n",
       "      <td>PISCO</td>\n",
       "      <td>INTERNATIONAL</td>\n",
       "      <td>PE</td>\n",
       "      <td>19630302</td>\n",
       "      <td>NaN</td>\n",
       "      <td>22.5</td>\n",
       "      <td>27.8</td>\n",
       "      <td>17.2</td>\n",
       "    </tr>\n",
       "    <tr>\n",
       "      <th>1963-03-03</th>\n",
       "      <td>GHCND:PEM00084691</td>\n",
       "      <td>PISCO</td>\n",
       "      <td>INTERNATIONAL</td>\n",
       "      <td>PE</td>\n",
       "      <td>19630303</td>\n",
       "      <td>NaN</td>\n",
       "      <td>21.3</td>\n",
       "      <td>26.1</td>\n",
       "      <td>16.1</td>\n",
       "    </tr>\n",
       "    <tr>\n",
       "      <th>1963-03-04</th>\n",
       "      <td>GHCND:PEM00084691</td>\n",
       "      <td>PISCO</td>\n",
       "      <td>INTERNATIONAL</td>\n",
       "      <td>PE</td>\n",
       "      <td>19630304</td>\n",
       "      <td>NaN</td>\n",
       "      <td>21.1</td>\n",
       "      <td>26.1</td>\n",
       "      <td>17.2</td>\n",
       "    </tr>\n",
       "    <tr>\n",
       "      <th>1963-03-05</th>\n",
       "      <td>GHCND:PEM00084691</td>\n",
       "      <td>PISCO</td>\n",
       "      <td>INTERNATIONAL</td>\n",
       "      <td>PE</td>\n",
       "      <td>19630305</td>\n",
       "      <td>NaN</td>\n",
       "      <td>22.7</td>\n",
       "      <td>27.2</td>\n",
       "      <td>17.2</td>\n",
       "    </tr>\n",
       "  </tbody>\n",
       "</table>\n",
       "</div>"
      ],
      "text/plain": [
       "                      STATION Station name   Station name STATION_NAME  \\\n",
       "DATE                                                                     \n",
       "1963-03-01  GHCND:PEM00084691        PISCO  INTERNATIONAL           PE   \n",
       "1963-03-02  GHCND:PEM00084691        PISCO  INTERNATIONAL           PE   \n",
       "1963-03-03  GHCND:PEM00084691        PISCO  INTERNATIONAL           PE   \n",
       "1963-03-04  GHCND:PEM00084691        PISCO  INTERNATIONAL           PE   \n",
       "1963-03-05  GHCND:PEM00084691        PISCO  INTERNATIONAL           PE   \n",
       "\n",
       "                DATE PRCP  TAVG  TMAX  TMIN  \n",
       "DATE                                         \n",
       "1963-03-01  19630301  NaN  23.3  27.2   NaN  \n",
       "1963-03-02  19630302  NaN  22.5  27.8  17.2  \n",
       "1963-03-03  19630303  NaN  21.3  26.1  16.1  \n",
       "1963-03-04  19630304  NaN  21.1  26.1  17.2  \n",
       "1963-03-05  19630305  NaN  22.7  27.2  17.2  "
      ]
     },
     "execution_count": 21,
     "metadata": {},
     "output_type": "execute_result"
    }
   ],
   "source": [
    "df.head()"
   ]
  },
  {
   "cell_type": "code",
   "execution_count": 22,
   "metadata": {},
   "outputs": [
    {
     "name": "stdout",
     "output_type": "stream",
     "text": [
      "<class 'pandas.core.frame.DataFrame'>\n",
      "DatetimeIndex: 16687 entries, 1963-03-01 to 2021-10-31\n",
      "Data columns (total 9 columns):\n",
      " #   Column        Non-Null Count  Dtype \n",
      "---  ------        --------------  ----- \n",
      " 0   STATION       16687 non-null  object\n",
      " 1   Station name  16687 non-null  object\n",
      " 2   Station name  16687 non-null  object\n",
      " 3   STATION_NAME  16687 non-null  object\n",
      " 4   DATE          16687 non-null  object\n",
      " 5   PRCP          16687 non-null  object\n",
      " 6   TAVG          16687 non-null  object\n",
      " 7   TMAX          16687 non-null  object\n",
      " 8   TMIN          16687 non-null  object\n",
      "dtypes: object(9)\n",
      "memory usage: 1.3+ MB\n"
     ]
    }
   ],
   "source": [
    "df.info()\n"
   ]
  },
  {
   "cell_type": "code",
   "execution_count": 23,
   "metadata": {},
   "outputs": [
    {
     "data": {
      "text/plain": [
       "<AxesSubplot: xlabel='DATE'>"
      ]
     },
     "execution_count": 23,
     "metadata": {},
     "output_type": "execute_result"
    },
    {
     "data": {
      "image/png": "[encoded data removed]",
      "text/plain": [
       "<Figure size 640x480 with 1 Axes>"
      ]
     },
     "metadata": {},
     "output_type": "display_data"
    }
   ],
   "source": [
    "tmax.plot()"
   ]
  },
  {
   "cell_type": "code",
   "execution_count": 24,
   "metadata": {},
   "outputs": [
    {
     "data": {
      "text/plain": [
       "[<matplotlib.lines.Line2D at 0x7f484cfc1fa0>]"
      ]
     },
     "execution_count": 24,
     "metadata": {},
     "output_type": "execute_result"
    },
    {
     "data": {
      "image/png": "[encoded data removed]",
      "text/plain": [
       "<Figure size 640x480 with 1 Axes>"
      ]
     },
     "metadata": {},
     "output_type": "display_data"
    }
   ],
   "source": [
    "from matplotlib import pyplot as plt\n",
    "\n",
    "plt.plot(tmax)"
   ]
  },
  {
   "cell_type": "markdown",
   "metadata": {},
   "source": [
    "## Pandas llegando a la ayuda!"
   ]
  },
  {
   "cell_type": "code",
   "execution_count": 25,
   "metadata": {},
   "outputs": [
    {
     "name": "stdout",
     "output_type": "stream",
     "text": [
      "<class 'pandas.core.frame.DataFrame'>\n",
      "RangeIndex: 16688 entries, 0 to 16687\n",
      "Data columns (total 7 columns):\n",
      " #   Column        Non-Null Count  Dtype \n",
      "---  ------        --------------  ----- \n",
      " 0   STATION       16688 non-null  object\n",
      " 1   STATION_NAME  16688 non-null  object\n",
      " 2   DATE          16688 non-null  object\n",
      " 3   PRCP          16688 non-null  object\n",
      " 4   TAVG          16688 non-null  object\n",
      " 5   TMAX          16688 non-null  object\n",
      " 6   TMIN          16688 non-null  object\n",
      "dtypes: object(7)\n",
      "memory usage: 912.8+ KB\n"
     ]
    }
   ],
   "source": [
    "df_0 = pd.read_fwf('../../data/3116406.txt')\n",
    "df_0.info()"
   ]
  },
  {
   "cell_type": "code",
   "execution_count": 26,
   "metadata": {},
   "outputs": [
    {
     "data": {
      "text/html": [
       "<div>\n",
       "<style scoped>\n",
       "    .dataframe tbody tr th:only-of-type {\n",
       "        vertical-align: middle;\n",
       "    }\n",
       "\n",
       "    .dataframe tbody tr th {\n",
       "        vertical-align: top;\n",
       "    }\n",
       "\n",
       "    .dataframe thead th {\n",
       "        text-align: right;\n",
       "    }\n",
       "</style>\n",
       "<table border=\"1\" class=\"dataframe\">\n",
       "  <thead>\n",
       "    <tr style=\"text-align: right;\">\n",
       "      <th></th>\n",
       "      <th>0</th>\n",
       "      <th>1</th>\n",
       "      <th>2</th>\n",
       "      <th>3</th>\n",
       "      <th>4</th>\n",
       "      <th>5</th>\n",
       "      <th>6</th>\n",
       "      <th>7</th>\n",
       "      <th>8</th>\n",
       "    </tr>\n",
       "  </thead>\n",
       "  <tbody>\n",
       "    <tr>\n",
       "      <th>0</th>\n",
       "      <td>GHCND:PEM00084691</td>\n",
       "      <td>PISCO</td>\n",
       "      <td>INTERNATIONAL</td>\n",
       "      <td>PE</td>\n",
       "      <td>19630301</td>\n",
       "      <td>NaN</td>\n",
       "      <td>23.3</td>\n",
       "      <td>27.2</td>\n",
       "      <td>NaN</td>\n",
       "    </tr>\n",
       "    <tr>\n",
       "      <th>1</th>\n",
       "      <td>GHCND:PEM00084691</td>\n",
       "      <td>PISCO</td>\n",
       "      <td>INTERNATIONAL</td>\n",
       "      <td>PE</td>\n",
       "      <td>19630302</td>\n",
       "      <td>NaN</td>\n",
       "      <td>22.5</td>\n",
       "      <td>27.8</td>\n",
       "      <td>17.2</td>\n",
       "    </tr>\n",
       "    <tr>\n",
       "      <th>2</th>\n",
       "      <td>GHCND:PEM00084691</td>\n",
       "      <td>PISCO</td>\n",
       "      <td>INTERNATIONAL</td>\n",
       "      <td>PE</td>\n",
       "      <td>19630303</td>\n",
       "      <td>NaN</td>\n",
       "      <td>21.3</td>\n",
       "      <td>26.1</td>\n",
       "      <td>16.1</td>\n",
       "    </tr>\n",
       "    <tr>\n",
       "      <th>3</th>\n",
       "      <td>GHCND:PEM00084691</td>\n",
       "      <td>PISCO</td>\n",
       "      <td>INTERNATIONAL</td>\n",
       "      <td>PE</td>\n",
       "      <td>19630304</td>\n",
       "      <td>NaN</td>\n",
       "      <td>21.1</td>\n",
       "      <td>26.1</td>\n",
       "      <td>17.2</td>\n",
       "    </tr>\n",
       "    <tr>\n",
       "      <th>4</th>\n",
       "      <td>GHCND:PEM00084691</td>\n",
       "      <td>PISCO</td>\n",
       "      <td>INTERNATIONAL</td>\n",
       "      <td>PE</td>\n",
       "      <td>19630305</td>\n",
       "      <td>NaN</td>\n",
       "      <td>22.7</td>\n",
       "      <td>27.2</td>\n",
       "      <td>17.2</td>\n",
       "    </tr>\n",
       "  </tbody>\n",
       "</table>\n",
       "</div>"
      ],
      "text/plain": [
       "                   0      1              2   3         4   5     6     7     8\n",
       "0  GHCND:PEM00084691  PISCO  INTERNATIONAL  PE  19630301 NaN  23.3  27.2   NaN\n",
       "1  GHCND:PEM00084691  PISCO  INTERNATIONAL  PE  19630302 NaN  22.5  27.8  17.2\n",
       "2  GHCND:PEM00084691  PISCO  INTERNATIONAL  PE  19630303 NaN  21.3  26.1  16.1\n",
       "3  GHCND:PEM00084691  PISCO  INTERNATIONAL  PE  19630304 NaN  21.1  26.1  17.2\n",
       "4  GHCND:PEM00084691  PISCO  INTERNATIONAL  PE  19630305 NaN  22.7  27.2  17.2"
      ]
     },
     "execution_count": 26,
     "metadata": {},
     "output_type": "execute_result"
    }
   ],
   "source": [
    "df  = pd.read_fwf('../../data/3116406.txt', skiprows=2, \n",
    "                  header=None, na_values='-9999')\n",
    "df.head()"
   ]
  },
  {
   "cell_type": "markdown",
   "metadata": {},
   "source": [
    "Debido a que le pedimos al `pandas` a abrir olvidando el encabezado tenemos que reasignar los nombres de columnas."
   ]
  },
  {
   "cell_type": "code",
   "execution_count": 27,
   "metadata": {},
   "outputs": [
    {
     "data": {
      "text/html": [
       "<div>\n",
       "<style scoped>\n",
       "    .dataframe tbody tr th:only-of-type {\n",
       "        vertical-align: middle;\n",
       "    }\n",
       "\n",
       "    .dataframe tbody tr th {\n",
       "        vertical-align: top;\n",
       "    }\n",
       "\n",
       "    .dataframe thead th {\n",
       "        text-align: right;\n",
       "    }\n",
       "</style>\n",
       "<table border=\"1\" class=\"dataframe\">\n",
       "  <thead>\n",
       "    <tr style=\"text-align: right;\">\n",
       "      <th></th>\n",
       "      <th>STATION</th>\n",
       "      <th>CITY</th>\n",
       "      <th>INTER</th>\n",
       "      <th>COUNTRY</th>\n",
       "      <th>DATE</th>\n",
       "      <th>PRCP</th>\n",
       "      <th>TAVG</th>\n",
       "      <th>TMAX</th>\n",
       "      <th>TMIN</th>\n",
       "    </tr>\n",
       "    <tr>\n",
       "      <th>DATE</th>\n",
       "      <th></th>\n",
       "      <th></th>\n",
       "      <th></th>\n",
       "      <th></th>\n",
       "      <th></th>\n",
       "      <th></th>\n",
       "      <th></th>\n",
       "      <th></th>\n",
       "      <th></th>\n",
       "    </tr>\n",
       "  </thead>\n",
       "  <tbody>\n",
       "    <tr>\n",
       "      <th>1963-03-01</th>\n",
       "      <td>GHCND:PEM00084691</td>\n",
       "      <td>PISCO</td>\n",
       "      <td>INTERNATIONAL</td>\n",
       "      <td>PE</td>\n",
       "      <td>19630301</td>\n",
       "      <td>NaN</td>\n",
       "      <td>23.3</td>\n",
       "      <td>27.2</td>\n",
       "      <td>NaN</td>\n",
       "    </tr>\n",
       "    <tr>\n",
       "      <th>1963-03-02</th>\n",
       "      <td>GHCND:PEM00084691</td>\n",
       "      <td>PISCO</td>\n",
       "      <td>INTERNATIONAL</td>\n",
       "      <td>PE</td>\n",
       "      <td>19630302</td>\n",
       "      <td>NaN</td>\n",
       "      <td>22.5</td>\n",
       "      <td>27.8</td>\n",
       "      <td>17.2</td>\n",
       "    </tr>\n",
       "    <tr>\n",
       "      <th>1963-03-03</th>\n",
       "      <td>GHCND:PEM00084691</td>\n",
       "      <td>PISCO</td>\n",
       "      <td>INTERNATIONAL</td>\n",
       "      <td>PE</td>\n",
       "      <td>19630303</td>\n",
       "      <td>NaN</td>\n",
       "      <td>21.3</td>\n",
       "      <td>26.1</td>\n",
       "      <td>16.1</td>\n",
       "    </tr>\n",
       "    <tr>\n",
       "      <th>1963-03-04</th>\n",
       "      <td>GHCND:PEM00084691</td>\n",
       "      <td>PISCO</td>\n",
       "      <td>INTERNATIONAL</td>\n",
       "      <td>PE</td>\n",
       "      <td>19630304</td>\n",
       "      <td>NaN</td>\n",
       "      <td>21.1</td>\n",
       "      <td>26.1</td>\n",
       "      <td>17.2</td>\n",
       "    </tr>\n",
       "    <tr>\n",
       "      <th>1963-03-05</th>\n",
       "      <td>GHCND:PEM00084691</td>\n",
       "      <td>PISCO</td>\n",
       "      <td>INTERNATIONAL</td>\n",
       "      <td>PE</td>\n",
       "      <td>19630305</td>\n",
       "      <td>NaN</td>\n",
       "      <td>22.7</td>\n",
       "      <td>27.2</td>\n",
       "      <td>17.2</td>\n",
       "    </tr>\n",
       "  </tbody>\n",
       "</table>\n",
       "</div>"
      ],
      "text/plain": [
       "                      STATION   CITY          INTER COUNTRY      DATE  PRCP  \\\n",
       "DATE                                                                          \n",
       "1963-03-01  GHCND:PEM00084691  PISCO  INTERNATIONAL      PE  19630301   NaN   \n",
       "1963-03-02  GHCND:PEM00084691  PISCO  INTERNATIONAL      PE  19630302   NaN   \n",
       "1963-03-03  GHCND:PEM00084691  PISCO  INTERNATIONAL      PE  19630303   NaN   \n",
       "1963-03-04  GHCND:PEM00084691  PISCO  INTERNATIONAL      PE  19630304   NaN   \n",
       "1963-03-05  GHCND:PEM00084691  PISCO  INTERNATIONAL      PE  19630305   NaN   \n",
       "\n",
       "            TAVG  TMAX  TMIN  \n",
       "DATE                          \n",
       "1963-03-01  23.3  27.2   NaN  \n",
       "1963-03-02  22.5  27.8  17.2  \n",
       "1963-03-03  21.3  26.1  16.1  \n",
       "1963-03-04  21.1  26.1  17.2  \n",
       "1963-03-05  22.7  27.2  17.2  "
      ]
     },
     "execution_count": 27,
     "metadata": {},
     "output_type": "execute_result"
    }
   ],
   "source": [
    "df.columns =['STATION', 'CITY', 'INTER', 'COUNTRY', 'DATE', 'PRCP',\n",
    "             'TAVG', 'TMAX', 'TMIN']\n",
    "df.index = pd.to_datetime(df['DATE'], format=\"%Y%m%d\")\n",
    "df.head()"
   ]
  },
  {
   "cell_type": "code",
   "execution_count": 28,
   "metadata": {},
   "outputs": [
    {
     "data": {
      "text/plain": [
       "17.2"
      ]
     },
     "execution_count": 28,
     "metadata": {},
     "output_type": "execute_result"
    }
   ],
   "source": [
    "df.TMIN[1]"
   ]
  },
  {
   "cell_type": "code",
   "execution_count": 29,
   "metadata": {},
   "outputs": [
    {
     "data": {
      "text/plain": [
       "<AxesSubplot: xlabel='DATE'>"
      ]
     },
     "execution_count": 29,
     "metadata": {},
     "output_type": "execute_result"
    },
    {
     "data": {
      "image/png": "[encoded data removed]",
      "text/plain": [
       "<Figure size 640x480 with 1 Axes>"
      ]
     },
     "metadata": {},
     "output_type": "display_data"
    }
   ],
   "source": [
    "df.TMIN.plot()"
   ]
  },
  {
   "cell_type": "code",
   "execution_count": null,
   "metadata": {},
   "outputs": [],
   "source": []
  },
  {
   "cell_type": "markdown",
   "metadata": {},
   "source": [
    "## Retornar al [indice](./../indice.md)"
   ]
  }
 ],
 "metadata": {
  "kernelspec": {
   "display_name": "Python 3.9.12 ('geocat')",
   "language": "python",
   "name": "python3"
  },
  "language_info": {
   "codemirror_mode": {
    "name": "ipython",
    "version": 3
   },
   "file_extension": ".py",
   "mimetype": "text/x-python",
   "name": "python",
   "nbconvert_exporter": "python",
   "pygments_lexer": "ipython3",
   "version": "3.9.12"
  },
  "orig_nbformat": 4,
  "vscode": {
   "interpreter": {
    "hash": "fcf694b962e2583d33974cfd22fd61f91596a2a2cb35a874a7015b54a03d5ead"
   }
  }
 },
 "nbformat": 4,
 "nbformat_minor": 2
}
