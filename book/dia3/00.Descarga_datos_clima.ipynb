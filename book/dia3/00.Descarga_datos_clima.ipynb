{
 "cells": [
  {
   "cell_type": "markdown",
   "metadata": {},
   "source": [
    "# Descarga de datos"
   ]
  },
  {
   "cell_type": "markdown",
   "metadata": {},
   "source": [
    "Podemos descargar datos climaticos de diferentes fuentes. Por ejemplo:\n",
    "\n",
    "* [NOAA](https://www.ncdc.noaa.gov/cdo-web/datatools/findstation)\n",
    "* [SENAMHI](https://www.senamhi.gob.pe/?p=descarga-datos-hidrometeorologicos)\n",
    "* [CORDEX](https://cordex.org/domains/cordex-region-south-america-cordex/)"
   ]
  },
  {
   "cell_type": "markdown",
   "metadata": {},
   "source": [
    "## [NOAA](https://www.ncdc.noaa.gov/cdo-web/datatools/findstation)\n",
    "\n",
    "La NOAA disponibilizo un registros de datos climaticos de estaciones de observación que se pueden descargar ingresando la ubicación deseada, el conjunto de datos, el rango de datos y la categoría de datos. La ubicación se puede especificar como ciudad, condado, estado, país o código postal.\n",
    "\n",
    "<img src=\"./img/NOAA.png\" width=\"550\"> <br>"
   ]
  },
  {
   "cell_type": "markdown",
   "metadata": {},
   "source": [
    "## [SENAMHI](https://www.senamhi.gob.pe/?p=descarga-datos-hidrometeorologicos)\n",
    "\n",
    "El SENAMHI ofrece una plataforma para descarga de datos climáticos para varias estaciones del Perú. Debemos entrar a la plataforma y para descargar los datos debemos registrarnos.\n",
    "\n",
    "<img src=\"./img/senamhi.png\" width=\"550\"> <br>"
   ]
  },
  {
   "cell_type": "markdown",
   "metadata": {},
   "source": [
    "## [CORDEX](https://cordex.org/domains/cordex-region-south-america-cordex/)\n",
    "\n",
    "CORDEX ofrece datos climáticos regionales. Estos datos son proyecciones futuras de algunos indicadores climaticos. Deberá crear una cuenta para poder descrgar datos desde CORDEX.\n",
    "\n",
    "<img src=\"./img/cordex.png\" width=\"550\"> <br>"
   ]
  }
 ],
 "metadata": {
  "kernelspec": {
   "display_name": "Python 3.8.10 64-bit",
   "language": "python",
   "name": "python3"
  },
  "language_info": {
   "name": "python",
   "version": "3.8.10"
  },
  "orig_nbformat": 4,
  "vscode": {
   "interpreter": {
    "hash": "916dbcbb3f70747c44a77c7bcd40155683ae19c65e1c03b4aa3499c5328201f1"
   }
  }
 },
 "nbformat": 4,
 "nbformat_minor": 2
}
