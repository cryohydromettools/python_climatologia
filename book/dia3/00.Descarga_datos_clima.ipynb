{
 "cells": [
  {
   "cell_type": "markdown",
   "metadata": {},
   "source": [
    "# Descarga de datos"
   ]
  },
  {
   "cell_type": "markdown",
   "metadata": {},
   "source": [
    "Podemos descargar datos climaticos de diferentes fuentes. Por ejemplo:\n",
    "\n",
    "* [NOAA](https://www.ncdc.noaa.gov/cdo-web/datatools/findstation)\n",
    "* [SENAMHI](https://www.senamhi.gob.pe/?p=descarga-datos-hidrometeorologicos)"
   ]
  },
  {
   "cell_type": "markdown",
   "metadata": {},
   "source": [
    "## [NOAA](https://www.ncdc.noaa.gov/cdo-web/datatools/findstation)\n",
    "\n",
    "La NOAA disponibilizo un registros meteorológicos de las estaciones de observación que se pueden descargar ingresando la ubicación deseada, el conjunto de datos, el rango de datos y la categoría de datos. La ubicación se puede especificar como ciudad, condado, estado, país o código postal.\n",
    "\n",
    "<img src=\"./img/NOAA.png\" width=\"550\"> <br>"
   ]
  },
  {
   "cell_type": "markdown",
   "metadata": {},
   "source": [
    "## [SENAMHI](https://www.senamhi.gob.pe/?p=descarga-datos-hidrometeorologicos)\n",
    "\n",
    "El SENAMHI ofrece una plataforma para descarga de datos climáticos para varias estaciones del Perú. Debemos entrar a la plataforma y para descargar los datos debemos registrarnos.\n",
    "\n",
    "<img src=\"./img/senamhi.png\" width=\"550\"> <br>"
   ]
  }
 ],
 "metadata": {
  "kernelspec": {
   "display_name": "Python 3.10.6 64-bit",
   "language": "python",
   "name": "python3"
  },
  "language_info": {
   "name": "python",
   "version": "3.10.6"
  },
  "orig_nbformat": 4,
  "vscode": {
   "interpreter": {
    "hash": "e7370f93d1d0cde622a1f8e1c04877d8463912d04d973331ad4851f04de6915a"
   }
  }
 },
 "nbformat": 4,
 "nbformat_minor": 2
}
