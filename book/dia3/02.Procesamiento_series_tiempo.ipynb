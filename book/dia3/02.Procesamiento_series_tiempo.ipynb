{
 "cells": [
  {
   "cell_type": "markdown",
   "metadata": {},
   "source": [
    "## Datos\n",
    "\n",
    "Los datos que vamos a trabajar fueron descargados desde el [SENAMHI](https://www.senamhi.gob.pe/?p=descarga-datos-hidrometeorologicos) para la estación del Ñaña cerca de Lima."
   ]
  },
  {
   "cell_type": "markdown",
   "metadata": {},
   "source": [
    "## Importar librerias"
   ]
  },
  {
   "cell_type": "code",
   "execution_count": 69,
   "metadata": {},
   "outputs": [],
   "source": [
    "import pandas as pd"
   ]
  },
  {
   "cell_type": "markdown",
   "metadata": {},
   "source": [
    "## Leer archivo"
   ]
  },
  {
   "cell_type": "code",
   "execution_count": 70,
   "metadata": {},
   "outputs": [
    {
     "data": {
      "text/html": [
       "<div>\n",
       "<style scoped>\n",
       "    .dataframe tbody tr th:only-of-type {\n",
       "        vertical-align: middle;\n",
       "    }\n",
       "\n",
       "    .dataframe tbody tr th {\n",
       "        vertical-align: top;\n",
       "    }\n",
       "\n",
       "    .dataframe thead th {\n",
       "        text-align: right;\n",
       "    }\n",
       "</style>\n",
       "<table border=\"1\" class=\"dataframe\">\n",
       "  <thead>\n",
       "    <tr style=\"text-align: right;\">\n",
       "      <th></th>\n",
       "      <th>STATION</th>\n",
       "      <th>NAME</th>\n",
       "      <th>DATE</th>\n",
       "      <th>PRCP</th>\n",
       "      <th>TAVG</th>\n",
       "      <th>TMAX</th>\n",
       "      <th>TMIN</th>\n",
       "    </tr>\n",
       "  </thead>\n",
       "  <tbody>\n",
       "    <tr>\n",
       "      <th>0</th>\n",
       "      <td>PEM00084691</td>\n",
       "      <td>PISCO INTERNATIONAL, PE</td>\n",
       "      <td>1963-03-01</td>\n",
       "      <td>NaN</td>\n",
       "      <td>23.3</td>\n",
       "      <td>27.2</td>\n",
       "      <td>NaN</td>\n",
       "    </tr>\n",
       "    <tr>\n",
       "      <th>1</th>\n",
       "      <td>PEM00084691</td>\n",
       "      <td>PISCO INTERNATIONAL, PE</td>\n",
       "      <td>1963-03-02</td>\n",
       "      <td>NaN</td>\n",
       "      <td>22.5</td>\n",
       "      <td>27.8</td>\n",
       "      <td>17.2</td>\n",
       "    </tr>\n",
       "    <tr>\n",
       "      <th>2</th>\n",
       "      <td>PEM00084691</td>\n",
       "      <td>PISCO INTERNATIONAL, PE</td>\n",
       "      <td>1963-03-03</td>\n",
       "      <td>NaN</td>\n",
       "      <td>21.3</td>\n",
       "      <td>26.1</td>\n",
       "      <td>16.1</td>\n",
       "    </tr>\n",
       "    <tr>\n",
       "      <th>3</th>\n",
       "      <td>PEM00084691</td>\n",
       "      <td>PISCO INTERNATIONAL, PE</td>\n",
       "      <td>1963-03-04</td>\n",
       "      <td>NaN</td>\n",
       "      <td>21.1</td>\n",
       "      <td>26.1</td>\n",
       "      <td>17.2</td>\n",
       "    </tr>\n",
       "    <tr>\n",
       "      <th>4</th>\n",
       "      <td>PEM00084691</td>\n",
       "      <td>PISCO INTERNATIONAL, PE</td>\n",
       "      <td>1963-03-05</td>\n",
       "      <td>NaN</td>\n",
       "      <td>22.7</td>\n",
       "      <td>27.2</td>\n",
       "      <td>17.2</td>\n",
       "    </tr>\n",
       "    <tr>\n",
       "      <th>...</th>\n",
       "      <td>...</td>\n",
       "      <td>...</td>\n",
       "      <td>...</td>\n",
       "      <td>...</td>\n",
       "      <td>...</td>\n",
       "      <td>...</td>\n",
       "      <td>...</td>\n",
       "    </tr>\n",
       "    <tr>\n",
       "      <th>20186</th>\n",
       "      <td>PEM00084691</td>\n",
       "      <td>PISCO INTERNATIONAL, PE</td>\n",
       "      <td>2022-10-11</td>\n",
       "      <td>NaN</td>\n",
       "      <td>16.8</td>\n",
       "      <td>NaN</td>\n",
       "      <td>13.8</td>\n",
       "    </tr>\n",
       "    <tr>\n",
       "      <th>20187</th>\n",
       "      <td>PEM00084691</td>\n",
       "      <td>PISCO INTERNATIONAL, PE</td>\n",
       "      <td>2022-10-12</td>\n",
       "      <td>NaN</td>\n",
       "      <td>16.1</td>\n",
       "      <td>21.5</td>\n",
       "      <td>11.6</td>\n",
       "    </tr>\n",
       "    <tr>\n",
       "      <th>20188</th>\n",
       "      <td>PEM00084691</td>\n",
       "      <td>PISCO INTERNATIONAL, PE</td>\n",
       "      <td>2022-10-13</td>\n",
       "      <td>NaN</td>\n",
       "      <td>15.3</td>\n",
       "      <td>NaN</td>\n",
       "      <td>12.3</td>\n",
       "    </tr>\n",
       "    <tr>\n",
       "      <th>20189</th>\n",
       "      <td>PEM00084691</td>\n",
       "      <td>PISCO INTERNATIONAL, PE</td>\n",
       "      <td>2022-10-14</td>\n",
       "      <td>NaN</td>\n",
       "      <td>16.9</td>\n",
       "      <td>NaN</td>\n",
       "      <td>15.0</td>\n",
       "    </tr>\n",
       "    <tr>\n",
       "      <th>20190</th>\n",
       "      <td>PEM00084691</td>\n",
       "      <td>PISCO INTERNATIONAL, PE</td>\n",
       "      <td>2022-10-15</td>\n",
       "      <td>NaN</td>\n",
       "      <td>15.7</td>\n",
       "      <td>NaN</td>\n",
       "      <td>11.5</td>\n",
       "    </tr>\n",
       "  </tbody>\n",
       "</table>\n",
       "<p>20191 rows × 7 columns</p>\n",
       "</div>"
      ],
      "text/plain": [
       "           STATION                     NAME        DATE  PRCP  TAVG  TMAX  \\\n",
       "0      PEM00084691  PISCO INTERNATIONAL, PE  1963-03-01   NaN  23.3  27.2   \n",
       "1      PEM00084691  PISCO INTERNATIONAL, PE  1963-03-02   NaN  22.5  27.8   \n",
       "2      PEM00084691  PISCO INTERNATIONAL, PE  1963-03-03   NaN  21.3  26.1   \n",
       "3      PEM00084691  PISCO INTERNATIONAL, PE  1963-03-04   NaN  21.1  26.1   \n",
       "4      PEM00084691  PISCO INTERNATIONAL, PE  1963-03-05   NaN  22.7  27.2   \n",
       "...            ...                      ...         ...   ...   ...   ...   \n",
       "20186  PEM00084691  PISCO INTERNATIONAL, PE  2022-10-11   NaN  16.8   NaN   \n",
       "20187  PEM00084691  PISCO INTERNATIONAL, PE  2022-10-12   NaN  16.1  21.5   \n",
       "20188  PEM00084691  PISCO INTERNATIONAL, PE  2022-10-13   NaN  15.3   NaN   \n",
       "20189  PEM00084691  PISCO INTERNATIONAL, PE  2022-10-14   NaN  16.9   NaN   \n",
       "20190  PEM00084691  PISCO INTERNATIONAL, PE  2022-10-15   NaN  15.7   NaN   \n",
       "\n",
       "       TMIN  \n",
       "0       NaN  \n",
       "1      17.2  \n",
       "2      16.1  \n",
       "3      17.2  \n",
       "4      17.2  \n",
       "...     ...  \n",
       "20186  13.8  \n",
       "20187  11.6  \n",
       "20188  12.3  \n",
       "20189  15.0  \n",
       "20190  11.5  \n",
       "\n",
       "[20191 rows x 7 columns]"
      ]
     },
     "execution_count": 70,
     "metadata": {},
     "output_type": "execute_result"
    }
   ],
   "source": [
    "data = pd.read_csv('../../data/3117033.csv')\n",
    "data"
   ]
  },
  {
   "cell_type": "markdown",
   "metadata": {},
   "source": [
    "Podemos ver el formato de cada columna."
   ]
  },
  {
   "cell_type": "code",
   "execution_count": 71,
   "metadata": {},
   "outputs": [
    {
     "name": "stdout",
     "output_type": "stream",
     "text": [
      "<class 'pandas.core.frame.DataFrame'>\n",
      "RangeIndex: 20191 entries, 0 to 20190\n",
      "Data columns (total 7 columns):\n",
      " #   Column   Non-Null Count  Dtype  \n",
      "---  ------   --------------  -----  \n",
      " 0   STATION  20191 non-null  object \n",
      " 1   NAME     20191 non-null  object \n",
      " 2   DATE     20191 non-null  object \n",
      " 3   PRCP     9306 non-null   float64\n",
      " 4   TAVG     20191 non-null  float64\n",
      " 5   TMAX     12710 non-null  float64\n",
      " 6   TMIN     14201 non-null  float64\n",
      "dtypes: float64(4), object(3)\n",
      "memory usage: 1.1+ MB\n"
     ]
    }
   ],
   "source": [
    "data.info()"
   ]
  },
  {
   "cell_type": "markdown",
   "metadata": {},
   "source": [
    "Vamos a convertir la colunma **`DATE`** en formato fecha."
   ]
  },
  {
   "cell_type": "code",
   "execution_count": 72,
   "metadata": {},
   "outputs": [
    {
     "name": "stdout",
     "output_type": "stream",
     "text": [
      "<class 'pandas.core.frame.DataFrame'>\n",
      "RangeIndex: 20191 entries, 0 to 20190\n",
      "Data columns (total 7 columns):\n",
      " #   Column   Non-Null Count  Dtype         \n",
      "---  ------   --------------  -----         \n",
      " 0   STATION  20191 non-null  object        \n",
      " 1   NAME     20191 non-null  object        \n",
      " 2   DATE     20191 non-null  datetime64[ns]\n",
      " 3   PRCP     9306 non-null   float64       \n",
      " 4   TAVG     20191 non-null  float64       \n",
      " 5   TMAX     12710 non-null  float64       \n",
      " 6   TMIN     14201 non-null  float64       \n",
      "dtypes: datetime64[ns](1), float64(4), object(2)\n",
      "memory usage: 1.1+ MB\n"
     ]
    }
   ],
   "source": [
    "data['DATE'] = pd.to_datetime(data['DATE'])\n",
    "data.info()"
   ]
  },
  {
   "cell_type": "markdown",
   "metadata": {},
   "source": [
    "Ahora vamos a declarar el index con la columna **`DATA`**"
   ]
  },
  {
   "cell_type": "code",
   "execution_count": 73,
   "metadata": {},
   "outputs": [
    {
     "data": {
      "text/html": [
       "<div>\n",
       "<style scoped>\n",
       "    .dataframe tbody tr th:only-of-type {\n",
       "        vertical-align: middle;\n",
       "    }\n",
       "\n",
       "    .dataframe tbody tr th {\n",
       "        vertical-align: top;\n",
       "    }\n",
       "\n",
       "    .dataframe thead th {\n",
       "        text-align: right;\n",
       "    }\n",
       "</style>\n",
       "<table border=\"1\" class=\"dataframe\">\n",
       "  <thead>\n",
       "    <tr style=\"text-align: right;\">\n",
       "      <th></th>\n",
       "      <th>STATION</th>\n",
       "      <th>NAME</th>\n",
       "      <th>DATE</th>\n",
       "      <th>PRCP</th>\n",
       "      <th>TAVG</th>\n",
       "      <th>TMAX</th>\n",
       "      <th>TMIN</th>\n",
       "    </tr>\n",
       "    <tr>\n",
       "      <th>DATE</th>\n",
       "      <th></th>\n",
       "      <th></th>\n",
       "      <th></th>\n",
       "      <th></th>\n",
       "      <th></th>\n",
       "      <th></th>\n",
       "      <th></th>\n",
       "    </tr>\n",
       "  </thead>\n",
       "  <tbody>\n",
       "    <tr>\n",
       "      <th>1963-03-01</th>\n",
       "      <td>PEM00084691</td>\n",
       "      <td>PISCO INTERNATIONAL, PE</td>\n",
       "      <td>1963-03-01</td>\n",
       "      <td>NaN</td>\n",
       "      <td>23.3</td>\n",
       "      <td>27.2</td>\n",
       "      <td>NaN</td>\n",
       "    </tr>\n",
       "    <tr>\n",
       "      <th>1963-03-02</th>\n",
       "      <td>PEM00084691</td>\n",
       "      <td>PISCO INTERNATIONAL, PE</td>\n",
       "      <td>1963-03-02</td>\n",
       "      <td>NaN</td>\n",
       "      <td>22.5</td>\n",
       "      <td>27.8</td>\n",
       "      <td>17.2</td>\n",
       "    </tr>\n",
       "    <tr>\n",
       "      <th>1963-03-03</th>\n",
       "      <td>PEM00084691</td>\n",
       "      <td>PISCO INTERNATIONAL, PE</td>\n",
       "      <td>1963-03-03</td>\n",
       "      <td>NaN</td>\n",
       "      <td>21.3</td>\n",
       "      <td>26.1</td>\n",
       "      <td>16.1</td>\n",
       "    </tr>\n",
       "    <tr>\n",
       "      <th>1963-03-04</th>\n",
       "      <td>PEM00084691</td>\n",
       "      <td>PISCO INTERNATIONAL, PE</td>\n",
       "      <td>1963-03-04</td>\n",
       "      <td>NaN</td>\n",
       "      <td>21.1</td>\n",
       "      <td>26.1</td>\n",
       "      <td>17.2</td>\n",
       "    </tr>\n",
       "    <tr>\n",
       "      <th>1963-03-05</th>\n",
       "      <td>PEM00084691</td>\n",
       "      <td>PISCO INTERNATIONAL, PE</td>\n",
       "      <td>1963-03-05</td>\n",
       "      <td>NaN</td>\n",
       "      <td>22.7</td>\n",
       "      <td>27.2</td>\n",
       "      <td>17.2</td>\n",
       "    </tr>\n",
       "    <tr>\n",
       "      <th>...</th>\n",
       "      <td>...</td>\n",
       "      <td>...</td>\n",
       "      <td>...</td>\n",
       "      <td>...</td>\n",
       "      <td>...</td>\n",
       "      <td>...</td>\n",
       "      <td>...</td>\n",
       "    </tr>\n",
       "    <tr>\n",
       "      <th>2022-10-11</th>\n",
       "      <td>PEM00084691</td>\n",
       "      <td>PISCO INTERNATIONAL, PE</td>\n",
       "      <td>2022-10-11</td>\n",
       "      <td>NaN</td>\n",
       "      <td>16.8</td>\n",
       "      <td>NaN</td>\n",
       "      <td>13.8</td>\n",
       "    </tr>\n",
       "    <tr>\n",
       "      <th>2022-10-12</th>\n",
       "      <td>PEM00084691</td>\n",
       "      <td>PISCO INTERNATIONAL, PE</td>\n",
       "      <td>2022-10-12</td>\n",
       "      <td>NaN</td>\n",
       "      <td>16.1</td>\n",
       "      <td>21.5</td>\n",
       "      <td>11.6</td>\n",
       "    </tr>\n",
       "    <tr>\n",
       "      <th>2022-10-13</th>\n",
       "      <td>PEM00084691</td>\n",
       "      <td>PISCO INTERNATIONAL, PE</td>\n",
       "      <td>2022-10-13</td>\n",
       "      <td>NaN</td>\n",
       "      <td>15.3</td>\n",
       "      <td>NaN</td>\n",
       "      <td>12.3</td>\n",
       "    </tr>\n",
       "    <tr>\n",
       "      <th>2022-10-14</th>\n",
       "      <td>PEM00084691</td>\n",
       "      <td>PISCO INTERNATIONAL, PE</td>\n",
       "      <td>2022-10-14</td>\n",
       "      <td>NaN</td>\n",
       "      <td>16.9</td>\n",
       "      <td>NaN</td>\n",
       "      <td>15.0</td>\n",
       "    </tr>\n",
       "    <tr>\n",
       "      <th>2022-10-15</th>\n",
       "      <td>PEM00084691</td>\n",
       "      <td>PISCO INTERNATIONAL, PE</td>\n",
       "      <td>2022-10-15</td>\n",
       "      <td>NaN</td>\n",
       "      <td>15.7</td>\n",
       "      <td>NaN</td>\n",
       "      <td>11.5</td>\n",
       "    </tr>\n",
       "  </tbody>\n",
       "</table>\n",
       "<p>20191 rows × 7 columns</p>\n",
       "</div>"
      ],
      "text/plain": [
       "                STATION                     NAME       DATE  PRCP  TAVG  TMAX  \\\n",
       "DATE                                                                            \n",
       "1963-03-01  PEM00084691  PISCO INTERNATIONAL, PE 1963-03-01   NaN  23.3  27.2   \n",
       "1963-03-02  PEM00084691  PISCO INTERNATIONAL, PE 1963-03-02   NaN  22.5  27.8   \n",
       "1963-03-03  PEM00084691  PISCO INTERNATIONAL, PE 1963-03-03   NaN  21.3  26.1   \n",
       "1963-03-04  PEM00084691  PISCO INTERNATIONAL, PE 1963-03-04   NaN  21.1  26.1   \n",
       "1963-03-05  PEM00084691  PISCO INTERNATIONAL, PE 1963-03-05   NaN  22.7  27.2   \n",
       "...                 ...                      ...        ...   ...   ...   ...   \n",
       "2022-10-11  PEM00084691  PISCO INTERNATIONAL, PE 2022-10-11   NaN  16.8   NaN   \n",
       "2022-10-12  PEM00084691  PISCO INTERNATIONAL, PE 2022-10-12   NaN  16.1  21.5   \n",
       "2022-10-13  PEM00084691  PISCO INTERNATIONAL, PE 2022-10-13   NaN  15.3   NaN   \n",
       "2022-10-14  PEM00084691  PISCO INTERNATIONAL, PE 2022-10-14   NaN  16.9   NaN   \n",
       "2022-10-15  PEM00084691  PISCO INTERNATIONAL, PE 2022-10-15   NaN  15.7   NaN   \n",
       "\n",
       "            TMIN  \n",
       "DATE              \n",
       "1963-03-01   NaN  \n",
       "1963-03-02  17.2  \n",
       "1963-03-03  16.1  \n",
       "1963-03-04  17.2  \n",
       "1963-03-05  17.2  \n",
       "...          ...  \n",
       "2022-10-11  13.8  \n",
       "2022-10-12  11.6  \n",
       "2022-10-13  12.3  \n",
       "2022-10-14  15.0  \n",
       "2022-10-15  11.5  \n",
       "\n",
       "[20191 rows x 7 columns]"
      ]
     },
     "execution_count": 73,
     "metadata": {},
     "output_type": "execute_result"
    }
   ],
   "source": [
    "data.index = data['DATE']\n",
    "data"
   ]
  },
  {
   "cell_type": "markdown",
   "metadata": {},
   "source": [
    "Ahora podemos hacer una figura para visualizar nuestros datos."
   ]
  },
  {
   "cell_type": "code",
   "execution_count": 74,
   "metadata": {},
   "outputs": [
    {
     "data": {
      "text/plain": [
       "<AxesSubplot:xlabel='DATE'>"
      ]
     },
     "execution_count": 74,
     "metadata": {},
     "output_type": "execute_result"
    },
    {
     "data": {
      "image/png": "[encoded data removed]",
      "text/plain": [
       "<Figure size 432x288 with 1 Axes>"
      ]
     },
     "metadata": {
      "needs_background": "light"
     },
     "output_type": "display_data"
    }
   ],
   "source": [
    "data['TAVG'].plot()"
   ]
  }
 ],
 "metadata": {
  "kernelspec": {
   "display_name": "Python 3.8.10 64-bit",
   "language": "python",
   "name": "python3"
  },
  "language_info": {
   "codemirror_mode": {
    "name": "ipython",
    "version": 3
   },
   "file_extension": ".py",
   "mimetype": "text/x-python",
   "name": "python",
   "nbconvert_exporter": "python",
   "pygments_lexer": "ipython3",
   "version": "3.8.10"
  },
  "orig_nbformat": 4,
  "vscode": {
   "interpreter": {
    "hash": "916dbcbb3f70747c44a77c7bcd40155683ae19c65e1c03b4aa3499c5328201f1"
   }
  }
 },
 "nbformat": 4,
 "nbformat_minor": 2
}
