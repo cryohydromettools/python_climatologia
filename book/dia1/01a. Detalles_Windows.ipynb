{
 "cells": [
  {
   "cell_type": "markdown",
   "metadata": {},
   "source": [
    "# Para usuarios Windows: la diferencia entre command prompt, miniforge prompt y python intérprete"
   ]
  },
  {
   "cell_type": "markdown",
   "metadata": {},
   "source": [
    "Muchos de ustedes han abierto un prompt (un terminal) por primera vez en esta clase. Cuando era niño y mis padres compraron nuestra primera computadora, abrir una terminal era muy normal e incluso ¡necesitaba para jugar!\n",
    "\n",
    "**No hay nada que temer**. Usará el indicador con mucha frecuencia, pero no lo necesitará para nada más que iniciar python, jupyterlab o cualquier otra herramienta de python de su elección.\n",
    "\n",
    "El command prompt (o `cmd.exe`)\n",
    "\n",
    "Lo encontrará escribiendo cmd en la barra de búsqueda de Windows:\n",
    "\n",
    "<img src=\"../img/cmd.png\" width=\"400\"> <br>\n",
    "\n",
    "En el command prompt, puedes hacer muchas cosas, pero lo único que realmente necesitarás es **navegar** a la carpeta que elijas. El nombre de la carpeta actualmente activa siempre se indica al comienzo de la línea de comando.\n",
    "\n",
    "Solo se necesitan unos pocos comandos para esta curso:\n",
    "\n",
    "- `help`: ver la lista de comandos disponibles\n",
    "- `dir`: enumera los directorios (carpetas) en la ubicación actual\n",
    "- `cd FolderName`: navegue a la carpeta FolderName\n",
    "- `cd ..`: navega una carpeta hacia arriba\n",
    "- `TAB`: solicite al símbolo del sistema que complete el nombre por usted. Por ejemplo, si es perezoso y escribe solo dos letras de la carpeta deseada, escribir `TAB` podría completarlo por usted.\n",
    "- `exit`: sale del indicador (también puede simplemente cerrar la ventana)\n",
    "\n",
    "¡Eso es todo! La razón por la que necesita poder navegar a una carpeta específica se explicará en la próxima lección.\n",
    "\n"
   ]
  }
 ],
 "metadata": {
  "kernelspec": {
   "display_name": "DL_SMB",
   "language": "python",
   "name": "dl_smb"
  },
  "language_info": {
   "codemirror_mode": {
    "name": "ipython",
    "version": 3
   },
   "file_extension": ".py",
   "mimetype": "text/x-python",
   "name": "python",
   "nbconvert_exporter": "python",
   "pygments_lexer": "ipython3",
   "version": "3.10.5"
  }
 },
 "nbformat": 4,
 "nbformat_minor": 4
}
