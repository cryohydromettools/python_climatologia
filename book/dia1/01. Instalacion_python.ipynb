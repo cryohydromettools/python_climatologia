{
 "cells": [
  {
   "cell_type": "markdown",
   "metadata": {},
   "source": [
<<<<<<< HEAD
    "# Instalar Python en su computadora"
=======
    "# Instalación de Python\n",
    "\n",
    "Por la naturaleza de nuestro curso no utilizaremos el Python la forma tradicional, sino que haremos uso de un ambiente virtual para mejorar el rendimiento de las bibliotecas que utilizaremos. De acuerdo con la documentación de [GeoCAT](https://geocat.ucar.edu/pages/software.html) es recomendado el uso del [miniconda](https://docs.conda.io/en/latest/miniconda.html), pues este sería la version `light` del [anaconda](https://www.anaconda.com/products/distribution).\n",
    "\n",
    "Para lo cual presentaremos un paso a paso de la instalación de este software en los sistemas operativos:\n",
    "- Windows\n",
    "- Linux"
   ]
  },
  {
   "cell_type": "markdown",
   "metadata": {},
   "source": [
    "## Instalación en Windows\n"
   ]
  },
  {
   "cell_type": "markdown",
   "metadata": {},
   "source": [
    "## Instalación en Linux\n"
>>>>>>> 518a86e7a43b4778d02cc499c06993d55e9c1d9a
   ]
  },
  {
   "cell_type": "markdown",
   "metadata": {},
   "source": [
    "<img src=\"https://www.python.org/static/community_logos/python-logo.png\" align=\"left\"> Este capítulo contiene algunas instrucciones acerca de como instalar Python en su computadora personal.\n",
    "\n",
    "Hay muchas formas de instalar Python en su computadora (y aunque la mayoría de ellas funcionan, algunas son menos prácticas que otras para aplicaciones científicas). A menos que sepa lo que está haciendo (es decir, ha estado haciendo esto antes), siga estas instrucciones exactamente.\n"
   ]
  },
  {
   "cell_type": "markdown",
   "metadata": {},
   "source": [
    "## Instalar Miniconda"
   ]
  },
  {
   "cell_type": "markdown",
   "metadata": {},
   "source": [
    "### En Windows"
   ]
  }
 ],
 "metadata": {
  "kernelspec": {
   "display_name": "DL_SMB",
   "language": "python",
   "name": "dl_smb"
  },
  "language_info": {
   "codemirror_mode": {
    "name": "ipython",
    "version": 3
   },
   "file_extension": ".py",
   "mimetype": "text/x-python",
   "name": "python",
   "nbconvert_exporter": "python",
   "pygments_lexer": "ipython3",
   "version": "3.10.5"
  }
 },
 "nbformat": 4,
 "nbformat_minor": 4
}
