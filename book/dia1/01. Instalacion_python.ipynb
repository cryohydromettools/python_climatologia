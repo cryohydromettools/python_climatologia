{
 "cells": [
  {
   "cell_type": "markdown",
   "metadata": {},
   "source": [
<<<<<<< HEAD
    "# Instalar Python en su computadora"
   ]
  },
  {
   "cell_type": "markdown",
   "metadata": {},
   "source": [
    "<img src=\"https://www.python.org/static/community_logos/python-logo.png\" align=\"left\"> Este capítulo contiene algunas instrucciones acerca de como instalar Python en su computadora personal.\n",
=======
    "# Instalación de Python\n",
>>>>>>> d29358fe588e1c997ec64b5849bbcbeb61313297
    "\n",
    "Hay muchas formas de instalar Python en su computadora (y aunque la mayoría de ellas funcionan, algunas son menos prácticas que otras para aplicaciones científicas). A menos que sepa lo que está haciendo (es decir, ha estado haciendo esto antes), siga estas instrucciones exactamente.\n"
   ]
  },
  {
   "cell_type": "markdown",
   "metadata": {},
   "source": [
    "## Instalar Miniconda"
   ]
  },
  {
   "cell_type": "markdown",
   "metadata": {},
   "source": [
    "## Descargar Miniconda3\n",
    "\n",
    "Podemos descargar miniconda3 haciendo clic en el siguiente [enlace](https://docs.conda.io/en/latest/miniconda.html). Encontraremos los ejecutables para Windows, macOS y Linux. Verás una ventana con los siguientes enlaces: \n",
    "\n",
    "<img src=\"../img/miniconda_links.png\" width=\"600\"> <br>"
   ]
  },
  {
   "cell_type": "markdown",
   "metadata": {},
   "source": [
    "### En Windows"
   ]
  },
  {
   "cell_type": "markdown",
   "metadata": {},
   "source": [
<<<<<<< HEAD
    "Una vez que hayas descargado miniconda3, nos dirigimos a la carpeta de descarga de nuestra computadora y presionamos `abrir`. En seguida debe aparecer una ventana de instalación.\n",
    "\n",
    "<img src=\"../img/conda1.png\" width=\"350\"> <br>"
=======

    "## Instalación en Linux\n",
    "\n",
    "Si deseas instalar el ambiente virtual con alguna version de Python3 específica, accesa a la pagina web de este: https://docs.conda.io/en/latest/miniconda.html\n",
    "\n",
    "Si estas interesado eninstalar la ultima version estable:\n",
    "1. Abre el terminal de linux\n",
    "\n",
    "2. Entra la carpeta Downloads/Descargas\n",
    "```bash\n",
    "@user: cd ~/Downloads\n",
    "```\n",
    "> Recuerda no copiar el `@user: `, pues es solo una simbologia utilizada para representar que estamos accesando en modo de usuario comun en el terminal de linux.\n",
    "\n",
    "3. Pega el siguiente comando en el terminal:\n",
    "```bash\n",
    "wget https://repo.anaconda.com/miniconda/Miniconda3-latest-Linux-x86_64.sh\n",
    "``` \n",
    "\n",
    "\n",
    "4. Ejecuta el comando:\n",
    "```bash\n",
    "@user: ~/Downloads$ bash Miniconda3-latest-Linux-x86_64.sh \n",
    "\n",
    "Welcome to Miniconda3 py39_4.12.0\n",
    "\n",
    "In order to continue the installation process, please review the license\n",
    "agreement.\n",
    "Please, press ENTER to continue\n",
    ">>> \n",
    "\n",
    "```\n",
    "\n",
    "5. Presiona ENTER\n",
    "\n",
    "6. En este punto debes ir hasta el final del archivo presionando la `tecla para abajo` (&darr;)\n",
    "\n",
    "7. Aparece un nuevo mensaje:\n",
    "\n",
    "```bash\n",
    "\n",
    "...\n",
    "\n",
    "Anaconda has self-classified this software as Export Commodity Control Number (E\n",
    "CCN) EAR99, which includes mass market information security software using or pe\n",
    "rforming cryptographic functions with asymmetric algorithms. No license is requi\n",
    "red for export of this software to non-embargoed countries.\n",
    "\n",
    "The Intel Math Kernel Library contained in Miniconda is classified by Intel as E\n",
    "CCN 5D992.c with no license required for export to non-embargoed countries.\n",
    "\n",
    "The following packages listed on https://www.anaconda.com/cryptography are inclu\n",
    "ded in the Repository accessible through Miniconda that relate to cryptography.\n",
    "\n",
    "Last updated March 21, 2022\n",
    "\n",
    "Do you accept the license terms? [yes|no]\n",
    "[no] >>>  \n",
    "```\n",
    "\n",
    "8. Escribe `yes`\n",
    "\n",
    "9. Retornara un mensaje pidiendo el nuevo local de instlacion:\n",
    "\n",
    "```bash\n",
    "Miniconda3 will now be installed into this location:\n",
    "/home/georgynio/miniconda3\n",
    "\n",
    "  - Press ENTER to confirm the location\n",
    "  - Press CTRL-C to abort the installation\n",
    "  - Or specify a different location below\n",
    "\n",
    "[/home/\"Nombre del usuario\"/miniconda3] >>> \n",
    "```\n",
    "\n",
    "> En este punto es recomendable no modificar el local de instalación, pero de ser necesario informe el nuevo local de instalación.\n",
    "\n",
    "10. Presiona enter, este instalará algunos recursos necesarios.\n",
    "\n",
    "11. Aparecerá una nueva pregunta, `desea instalar el inicializador de Miniconda3`, escriba `yes`\n",
    "\n",
    "```bash\n",
    "\n",
    "...\n",
    "installation finished.\n",
    "Do you wish the installer to initialize Miniconda3\n",
    "by running conda init? [yes|no]\n",
    "[no] >>> \n",
    "\n",
    "```\n",
    "12. Finalmente aparece un mensaje confirmando que su instalacion fue correcta y un aviso de si desea permanecer con el `base` del anaconda como forma inicialización.\n",
    "\n",
    "```bash\n",
    "No action taken.\n",
    "If you'd prefer that conda's base environment not be activated on startup, \n",
    "   set the auto_activate_base parameter to false: \n",
    "\n",
    "conda config --set auto_activate_base false\n",
    "\n",
    "Thank you for installing Miniconda3!\n",
    "```\n",
    "\n",
    "13. Para actualizar debes actualizar tu bashrc:\n",
    "\n",
    "```bash\n",
    "@user: source ~/.bashrc\n",
    "```",
>>>>>>> d29358fe588e1c997ec64b5849bbcbeb61313297
   ]
  },
  {
   "cell_type": "markdown",
   "metadata": {},
   "source": [
    "Ahora hacemos clic en  `Next`. Debe aparecer la siguiente ventana.\n",
    "\n",
    "<img src=\"../img/conda2.png\" width=\"350\"> <br>\n"
   ]
  },
  {
   "cell_type": "markdown",
   "metadata": {},

   "outputs": [],
   "source": []
  },
  {
   "cell_type": "markdown",
   "metadata": {},
   "source": [
    "## Retorno al [índice](./../indice.md)"

   "source": [
    "Ahora hacemos clic en `I Agree`. Luego aparecerá la siguiente ventana.\n",
    "\n",
    "<img src=\"../img/conda3.png\" width=\"350\"> <br>\n",
    "\n",
    "Aqui devemos selecionar **Just Me**."
   ]
  },
  {
   "cell_type": "markdown",
   "metadata": {},

   "source": [
    "Ahora hacemos clic en **Next** y aparecerá la siguiente ventana.\n",
    "\n",
    "<img src=\"../img/conda4.png\" width=\"350\"> <br>\n",
    "\n",
    "En esta parte nos indica dónde se instalará miniconda3. Si queremos podemos cambiar de directorio. En mi caso lo dejaré así como esta. "
   ]
  },
  {
   "cell_type": "markdown",
   "metadata": {},
   "source": [
    "Luego hacemos clic en **Install**. Antes, en esta ventana debemos desmarcar la opción **Add Minicinda3 to my PATH environment variable**.\n",
    "\n",
    "<img src=\"../img/conda5.png\" width=\"350\"> <br>\n",
    "\n",
    "Una vez que hayamos desmarcado esta opción. Hacemos clic en **Install**. Ahora miniconda se esta instalado."
   ]
  },
  {
   "cell_type": "markdown",
   "metadata": {},
   "source": [
    "Una vez que termine la instalación hacemos clic en **Next**. Aparecerá la siguiente ventana y hacemos clic en **Finish**.\n",
    "\n",
    "<img src=\"../img/conda6.png\" width=\"350\"> <br>\n",
    "\n",
    "**Listo Miniconda está instalado!!!**"
   ]
  },
  {
   "cell_type": "markdown",
   "metadata": {},
   "source": [
    "### Configurar el entorno de variables "
   ]
<<<<<<< HEAD
  },
  {
   "cell_type": "markdown",
   "metadata": {},
   "source": [
    "Antes de iniciar Miniconda debemos configurar nuestro entorno de variables. Esto es muy importante, en caso tengamos instalados diferentes versiones de Python podría dar problemas más adelante.\n",
    "\n",
    "Primero localizamos donde se instaló Miniconda. En mi caso se instaló dentro del usuario. En la mayoría seguramente estará en el usuario también.\n",
    "\n",
    "Primero localizamos donde se instaló Miniconda. En mi caso se instaló dentro del usuario. En la mayoría seguramente estará en el usuario también. Una vez que hayamos localizado la carpeta de anaconda nos dirigimos a la carpeta **Scripts**\n",
    "\n",
    "Por ejemplo en mi computadora está en este directorio.\n",
    "\n",
    "<img src=\"../img/miniconda3.png\" width=\"550\"> <br>\n",
    "\n",
    "Ahora copiamos el camino de directorio. Por ejemplo, en mi computadora: **C:\\Users\\IGP\\miniconda3\\Scripts**"
   ]
  },
  {
   "cell_type": "markdown",
   "metadata": {},
   "source": [
    "Ahora nos dirigimos al inicio de nuestro sistema operativo y escribimos **variable**. Debe aparecer la siguiente aplicación:\n",
    "<img src=\"../img/variables_win.png\" width=\"550\"> <br>\n",
    "\n",
    "Hacemos clic en **Editar las variables de entorno de sistema**"
   ]
  },
  {
   "cell_type": "markdown",
   "metadata": {},
   "source": [
    "La siguiente ventana se abrirá. \n",
    "\n",
    "<img src=\"../img/variables_win1.png\" width=\"550\"> <br>\n",
    "\n",
    "Luego nos dirigimos a **variables del ambiente**"
   ]
  },
  {
   "cell_type": "markdown",
   "metadata": {},
   "source": [
    "La siguiente ventana se abrirá. \n",
    "\n",
    "<img src=\"../img/variables_win2.png\" width=\"550\"> <br>\n",
    "\n",
    "Luego seleccionamos **Path** dentro de **Variables del Sistema** y hacemos clic en **Editar**"
   ]
  },
  {
   "cell_type": "markdown",
   "metadata": {},
   "source": []
  },
  {
   "cell_type": "markdown",
   "metadata": {},
   "source": []
  },
  {
   "cell_type": "markdown",
   "metadata": {},
   "source": []
  },
  {
   "cell_type": "markdown",
   "metadata": {},
   "source": []
  },
  {
   "cell_type": "markdown",
   "metadata": {},
   "source": []
=======

>>>>>>> d29358fe588e1c997ec64b5849bbcbeb61313297
  }
 ],
 "metadata": {
  "kernelspec": {
   "display_name": "Python 3.9.15 64-bit",
   "language": "python",
   "name": "python3"
  },
  "language_info": {
   "codemirror_mode": {
    "name": "ipython",
    "version": 3
   },
   "file_extension": ".py",
   "mimetype": "text/x-python",
   "name": "python",
   "nbconvert_exporter": "python",
   "pygments_lexer": "ipython3",
   "version": "3.9.15"
  },
  "vscode": {
   "interpreter": {
    "hash": "f9f85f796d01129d0dd105a088854619f454435301f6ffec2fea96ecbd9be4ac"
   }
  }
 },
 "nbformat": 4,
 "nbformat_minor": 4
}
