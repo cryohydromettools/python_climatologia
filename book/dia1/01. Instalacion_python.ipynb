{
 "cells": [
  {
   "cell_type": "markdown",
   "metadata": {},
   "source": [
    "# Instalación de Python\n",
    "\n",
    "Por la naturaleza de nuestro curso no utilizaremos el Python la forma tradicional, sino que haremos uso de un ambiente virtual para mejorar el rendimiento de las bibliotecas que utilizaremos. De acuerdo con la documentación de [GeoCAT](https://geocat.ucar.edu/pages/software.html) es recomendado el uso del [miniconda](https://docs.conda.io/en/latest/miniconda.html), pues este sería la version `light` del [anaconda](https://www.anaconda.com/products/distribution).\n",
    "\n",
    "Para lo cual presentaremos un paso a paso de la instalación de este software en los sistemas operativos:\n",
    "- Windows\n",
    "- Linux"
   ]
  },
  {
   "cell_type": "markdown",
   "metadata": {},
   "source": [
    "## Instalación en Windows\n"
   ]
  },
  {
   "cell_type": "markdown",
   "metadata": {},
   "source": [
    "## Instalación en Linux\n",
    "\n",
    "wget https://repo.anaconda.com/miniconda/Miniconda3-latest-Linux-x86_64.sh"
   ]
  },
  {
   "cell_type": "code",
   "execution_count": null,
   "metadata": {},
   "outputs": [],
   "source": []
  }
 ],
 "metadata": {
  "kernelspec": {
   "display_name": "Python 3.9.15 64-bit",
   "language": "python",
   "name": "python3"
  },
  "language_info": {
   "codemirror_mode": {
    "name": "ipython",
    "version": 3
   },
   "file_extension": ".py",
   "mimetype": "text/x-python",
   "name": "python",
   "nbconvert_exporter": "python",
   "pygments_lexer": "ipython3",
   "version": "3.9.15"
  },
  "vscode": {
   "interpreter": {
    "hash": "f9f85f796d01129d0dd105a088854619f454435301f6ffec2fea96ecbd9be4ac"
   }
  }
 },
 "nbformat": 4,
 "nbformat_minor": 4
}
