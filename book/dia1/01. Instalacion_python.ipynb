{
 "cells": [
  {
   "cell_type": "markdown",
   "metadata": {},
   "source": [
    "# Instalación de Python\n",
    "\n",
    "Por la naturaleza de nuestro curso no utilizaremos el Python la forma tradicional, sino que haremos uso de un ambiente virtual para mejorar el rendimiento de las bibliotecas que utilizaremos. De acuerdo con la documentación de [GeoCAT](https://geocat.ucar.edu/pages/software.html) es recomendado el uso del [miniconda](https://docs.conda.io/en/latest/miniconda.html), pues este sería la version `light` del [anaconda](https://www.anaconda.com/products/distribution).\n",
    "\n",
    "Para lo cual presentaremos un paso a paso de la instalación de este software en los sistemas operativos:\n",
    "- Windows\n",
    "- Linux"
   ]
  },
  {
   "cell_type": "markdown",
   "metadata": {},
   "source": [
    "## Instalación en Windows\n"
   ]
  },
  {
   "cell_type": "markdown",
   "metadata": {},
   "source": [
    "## Instalación en Linux\n",
    "\n",
    "Si deseas instalar el ambiente virtual con alguna version de Python3 específica, accesa a la pagina web de este: https://docs.conda.io/en/latest/miniconda.html\n",
    "\n",
    "Si estas interesado eninstalar la ultima version estable:\n",
    "1. Abre el terminal de linux\n",
    "\n",
    "2. Entra la carpeta Downloads/Descargas\n",
    "```bash\n",
    "@user: cd ~/Downloads\n",
    "```\n",
    "> Recuerda no copiar el `@user: `, pues es solo una simbologia utilizada para representar que estamos accesando en modo de usuario comun en el terminal de linux.\n",
    "\n",
    "3. Pega el siguiente comando en el terminal:\n",
    "```bash\n",
    "wget https://repo.anaconda.com/miniconda/Miniconda3-latest-Linux-x86_64.sh\n",
    "``` \n",
    "\n",
    "\n",
    "4. Ejecuta el comando:\n",
    "```bash\n",
    "@user: ~/Downloads$ bash Miniconda3-latest-Linux-x86_64.sh \n",
    "\n",
    "Welcome to Miniconda3 py39_4.12.0\n",
    "\n",
    "In order to continue the installation process, please review the license\n",
    "agreement.\n",
    "Please, press ENTER to continue\n",
    ">>> \n",
    "\n",
    "```\n",
    "\n",
    "5. Presiona ENTER\n",
    "\n",
    "6. En este punto debes ir hasta el final del archivo presionando la `tecla para abajo` (&darr;)\n",
    "\n",
    "7. Aparece un nuevo mensaje:\n",
    "\n",
    "```bash\n",
    "\n",
    "...\n",
    "\n",
    "Anaconda has self-classified this software as Export Commodity Control Number (E\n",
    "CCN) EAR99, which includes mass market information security software using or pe\n",
    "rforming cryptographic functions with asymmetric algorithms. No license is requi\n",
    "red for export of this software to non-embargoed countries.\n",
    "\n",
    "The Intel Math Kernel Library contained in Miniconda is classified by Intel as E\n",
    "CCN 5D992.c with no license required for export to non-embargoed countries.\n",
    "\n",
    "The following packages listed on https://www.anaconda.com/cryptography are inclu\n",
    "ded in the Repository accessible through Miniconda that relate to cryptography.\n",
    "\n",
    "Last updated March 21, 2022\n",
    "\n",
    "Do you accept the license terms? [yes|no]\n",
    "[no] >>>  \n",
    "```\n",
    "8. Escribe `yes`\n",
    "\n",
    "9. Retornara un mensaje pidiendo el nuevo local de instlacion:\n",
    "\n",
    "```bash\n",
    "Miniconda3 will now be installed into this location:\n",
    "/home/georgynio/miniconda3\n",
    "\n",
    "  - Press ENTER to confirm the location\n",
    "  - Press CTRL-C to abort the installation\n",
    "  - Or specify a different location below\n",
    "\n",
    "[/home/\"Nombre del usuario\"/miniconda3] >>> \n",
    "```\n",
    "\n",
    "> En este punto es recomendable no modificar el local de instalación, pero de ser necesario informe el nuevo local de instalación.\n",
    "\n",
    "10. Presiona enter, este instalará algunos recursos necesarios.\n",
    "\n",
    "11. Aparecerá una nueva pregunta, `desea instalar el inicializador de Miniconda3`, escriba `yes`\n",
    "\n",
    "```bash\n",
    "\n",
    "...\n",
    "installation finished.\n",
    "Do you wish the installer to initialize Miniconda3\n",
    "by running conda init? [yes|no]\n",
    "[no] >>> \n",
    "\n",
    "```\n",
    "12. Finalmente aparece un mensaje confirmando que su instalacion fue correcta y un aviso de si desea permanecer con el `base` del anaconda como forma inicialización.\n",
    "\n",
    "```bash\n",
    "No action taken.\n",
    "If you'd prefer that conda's base environment not be activated on startup, \n",
    "   set the auto_activate_base parameter to false: \n",
    "\n",
    "conda config --set auto_activate_base false\n",
    "\n",
    "Thank you for installing Miniconda3!\n",
    "```\n",
    "\n",
    "13. Para actualizar debes actualizar tu bashrc:\n",
    "\n",
    "```bash\n",
    "@user: source ~/.bashrc\n",
    "```"
   ]
  },
  {
   "cell_type": "code",
   "execution_count": null,
   "metadata": {},
   "outputs": [],
   "source": []
  },
  {
   "cell_type": "markdown",
   "metadata": {},
   "source": [
    "## Retorno al [índice](./../indice.md)"
   ]
  },
  {
   "cell_type": "markdown",
   "metadata": {},
   "source": []
  }
 ],
 "metadata": {
  "kernelspec": {
   "display_name": "Python 3.9.15 64-bit",
   "language": "python",
   "name": "python3"
  },
  "language_info": {
   "codemirror_mode": {
    "name": "ipython",
    "version": 3
   },
   "file_extension": ".py",
   "mimetype": "text/x-python",
   "name": "python",
   "nbconvert_exporter": "python",
   "pygments_lexer": "ipython3",
   "version": "3.9.15"
  },
  "vscode": {
   "interpreter": {
    "hash": "f9f85f796d01129d0dd105a088854619f454435301f6ffec2fea96ecbd9be4ac"
   }
  }
 },
 "nbformat": 4,
 "nbformat_minor": 4
}
