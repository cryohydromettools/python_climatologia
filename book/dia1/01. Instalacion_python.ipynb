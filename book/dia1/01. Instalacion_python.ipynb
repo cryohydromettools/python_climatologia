{
 "cells": [
  {
   "cell_type": "markdown",
   "metadata": {},
   "source": [
    "# Instalación de Python\n",
    "\n",
    "Por la naturaleza de nuestro curso no utilizaremos el Python la forma tradicional, sino que haremos uso de un ambiente virtual para mejorar el rendimiento de las bibliotecas que utilizaremos. De acuerdo con la documentación de [GeoCAT](https://geocat.ucar.edu/pages/software.html) es recomendado el uso del [miniconda](https://docs.conda.io/en/latest/miniconda.html), pues este sería la version `light` del [anaconda](https://www.anaconda.com/products/distribution).\n",
    "\n",
    "Para lo cual presentaremos un paso a paso de la instalación de este software en los sistemas operativos:\n",
    "- Windows\n",
    "- Linux"
   ]
  },
  {
   "cell_type": "markdown",
   "metadata": {},
   "source": [
    "## Instalación en Windows\n"
   ]
  },
  {
   "cell_type": "markdown",
   "metadata": {},
   "source": [
    "## Instalación en Linux\n"
   ]
  },
  {
   "cell_type": "code",
   "execution_count": null,
   "metadata": {},
   "outputs": [],
   "source": []
  }
 ],
 "metadata": {
  "kernelspec": {
   "display_name": "DL_SMB",
   "language": "python",
   "name": "dl_smb"
  },
  "language_info": {
   "codemirror_mode": {
    "name": "ipython",
    "version": 3
   },
   "file_extension": ".py",
   "mimetype": "text/x-python",
   "name": "python",
   "nbconvert_exporter": "python",
   "pygments_lexer": "ipython3",
   "version": "3.10.5"
  }
 },
 "nbformat": 4,
 "nbformat_minor": 4
}
