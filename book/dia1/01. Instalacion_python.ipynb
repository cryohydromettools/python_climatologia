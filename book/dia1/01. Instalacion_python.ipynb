{
 "cells": [
  {
   "cell_type": "markdown",
   "metadata": {},
   "source": [
    "# Instalar Python en su computadora"
   ]
  },
  {
   "cell_type": "markdown",
   "metadata": {},
   "source": [
    "<img src=\"https://www.python.org/static/community_logos/python-logo.png\" align=\"left\"> Este capítulo contiene algunas instrucciones acerca de como instalar Python en su computadora personal.\n",
    "\n",
    "Hay muchas formas de instalar Python en su computadora (y aunque la mayoría de ellas funcionan, algunas son menos prácticas que otras para aplicaciones científicas). A menos que sepa lo que está haciendo (es decir, ha estado haciendo esto antes), siga estas instrucciones exactamente.\n"
   ]
  },
  {
   "cell_type": "markdown",
   "metadata": {},
   "source": [
    "## Instalar Miniconda"
   ]
  },
  {
   "cell_type": "markdown",
   "metadata": {},
   "source": [
    "## Descargar Miniconda3\n",
    "\n",
    "Podemos descargar miniconda3 haciendo clic en el siguiente [enlace](https://docs.conda.io/en/latest/miniconda.html). Encontraremos los ejecutables para Windows, macOS y Linux. Verás una ventana con los siguientes enlaces: \n",
    "\n",
    "<img src=\"../img/miniconda_links.png\" width=\"600\"> <br>"
   ]
  },
  {
   "cell_type": "markdown",
   "metadata": {},
   "source": [
    "### En Windows"
   ]
  },
  {
   "cell_type": "markdown",
   "metadata": {},
   "source": [
    "Una vez que hayas descargado miniconda3, nos dirigimos a la carpeta de descarga de nuestra computadora y presionamos `abrir`. En seguida debe aparecer una ventana de instalación.\n",
    "\n",
    "<img src=\"../img/conda1.png\" width=\"350\"> <br>"
   ]
  },
  {
   "cell_type": "markdown",
   "metadata": {},
   "source": [
    "Ahora hacemos clic en  `Next`. Debe aparecer la siguiente ventana.\n",
    "\n",
    "<img src=\"../img/conda2.png\" width=\"350\"> <br>\n"
   ]
  },
  {
   "cell_type": "markdown",
   "metadata": {},
   "source": [
    "Ahora hacemos clic en `I Agree`. Luego aparecerá la siguiente ventana.\n",
    "\n",
    "<img src=\"../img/conda3.png\" width=\"350\"> <br>\n",
    "\n",
    "Aqui devemos selecionar **Just Me**."
   ]
  },
  {
   "cell_type": "markdown",
   "metadata": {},
   "source": [
    "Ahora hacemos clic en **Next** y aparecerá la siguiente ventana.\n",
    "\n",
    "<img src=\"../img/conda4.png\" width=\"350\"> <br>\n",
    "\n",
    "En esta parte nos indica dónde se instalará miniconda3. Si queremos podemos cambiar de directorio. En mi caso lo dejaré así como esta. "
   ]
  },
  {
   "cell_type": "markdown",
   "metadata": {},
   "source": [
    "Luego hacemos clic en **Install**. Antes, en esta ventana debemos desmarcar la opción **Add Minicinda3 to my PATH environment variable**.\n",
    "\n",
    "<img src=\"../img/conda5.png\" width=\"350\"> <br>\n",
    "\n",
    "Una vez que hayamos desmarcado esta opción. Hacemos clic en **Install**. Ahora miniconda se esta instalado."
   ]
  },
  {
   "cell_type": "markdown",
   "metadata": {},
   "source": [
    "Una vez que termine la instalación hacemos clic en **Next**. Aparecerá la siguiente ventana y hacemos clic en **Finish**.\n",
    "\n",
    "<img src=\"../img/conda6.png\" width=\"350\"> <br>\n",
    "\n",
    "**Listo Miniconda está instalado!!!**"
   ]
  },
  {
   "cell_type": "markdown",
   "metadata": {},
   "source": [
    "### Configurar el entorno de variables "
   ]
  },
  {
   "cell_type": "markdown",
   "metadata": {},
   "source": [
    "Antes de iniciar Miniconda debemos configurar nuestro entorno de variables. Esto es muy importante, en caso tengamos instalados diferentes versiones de Python podría dar problemas más adelante.\n",
    "\n",
    "Primero localizamos donde se instaló Miniconda. En mi caso se instaló dentro del usuario. En la mayoría seguramente estará en el usuario también.\n",
    "\n",
    "Primero localizamos donde se instaló Miniconda. En mi caso se instaló dentro del usuario. En la mayoría seguramente estará en el usuario también. Una vez que hayamos localizado la carpeta de anaconda nos dirigimos a la carpeta **Scripts**\n",
    "\n",
    "Por ejemplo en mi computadora está en este directorio.\n",
    "\n",
    "<img src=\"../img/miniconda3.png\" width=\"550\"> <br>\n",
    "\n",
    "Ahora copiamos el camino de directorio. Por ejemplo, en mi computadora: **C:\\Users\\IGP\\miniconda3\\Scripts**"
   ]
  },
  {
   "cell_type": "markdown",
   "metadata": {},
   "source": [
    "Ahora nos dirigimos al inicio de nuestro sistema operativo y escribimos **variable**. Debe aparecer la siguiente aplicación:\n",
    "<img src=\"../img/variables_win.png\" width=\"550\"> <br>\n",
    "\n",
    "Hacemos clic en **Editar las variables de entorno de sistema**"
   ]
  },
  {
   "cell_type": "markdown",
   "metadata": {},
   "source": [
    "La siguiente ventana se abrirá. \n",
    "\n",
    "<img src=\"../img/variables_win1.png\" width=\"550\"> <br>\n",
    "\n",
    "Luego nos dirigimos a **variables del ambiente**"
   ]
  },
  {
   "cell_type": "markdown",
   "metadata": {},
   "source": [
    "La siguiente ventana se abrirá. \n",
    "\n",
    "<img src=\"../img/variables_win2.png\" width=\"550\"> <br>\n",
    "\n",
    "Luego seleccionamos **Path** dentro de **Variables del Sistema** y hacemos clic en **Editar**"
   ]
  },
  {
   "cell_type": "markdown",
   "metadata": {},
   "source": []
  },
  {
   "cell_type": "markdown",
   "metadata": {},
   "source": []
  },
  {
   "cell_type": "markdown",
   "metadata": {},
   "source": []
  },
  {
   "cell_type": "markdown",
   "metadata": {},
   "source": []
  },
  {
   "cell_type": "markdown",
   "metadata": {},
   "source": []
  }
 ],
 "metadata": {
  "kernelspec": {
   "display_name": "DL_SMB",
   "language": "python",
   "name": "dl_smb"
  },
  "language_info": {
   "codemirror_mode": {
    "name": "ipython",
    "version": 3
   },
   "file_extension": ".py",
   "mimetype": "text/x-python",
   "name": "python",
   "nbconvert_exporter": "python",
   "pygments_lexer": "ipython3",
   "version": "3.10.5"
  }
 },
 "nbformat": 4,
 "nbformat_minor": 4
}
